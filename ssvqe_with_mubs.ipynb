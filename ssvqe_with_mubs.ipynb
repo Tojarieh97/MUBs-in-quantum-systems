{
 "cells": [
  {
   "cell_type": "markdown",
   "id": "f821c88b",
   "metadata": {},
   "source": [
    "The SSVQE uses a simple technique to find the excited energy states. Using the appropriate ansatz, VQE transforms the basis state into the ground state. All quantum computing transformations are unitary. Unitary transformations maintains the angles between vectors, so orthogonal states before transformations remains as orthognal states after transformation. So, SSVQE transforms |0⋯0⟩ to the ground state, and another orthogonal basis state |0⋯1⟩ to the first excited state and so on. This method bypasses the need for a \"swap test\" which is necessary to measure the inner product between the states to check orthogonality. Bypassing the swap test means that the quantum circuit can constructed with lower number of SWAP gates resulting in a shallower efficent quantum circuit. Hence, the overall computational time and total error becomes lower. So, SSVQEs are advantageous for the current NISQ devices."
   ]
  },
  {
   "cell_type": "code",
   "execution_count": 1,
   "id": "b32d25fe-b659-467c-886b-a41ba231c98c",
   "metadata": {},
   "outputs": [],
   "source": [
    "QUBITS_NUM = 2\n",
    "N = 2**QUBITS_NUM"
   ]
  },
  {
   "cell_type": "markdown",
   "id": "67f79969",
   "metadata": {},
   "source": [
    "# Imports"
   ]
  },
  {
   "cell_type": "code",
   "execution_count": 2,
   "id": "c2241ad9",
   "metadata": {},
   "outputs": [],
   "source": [
    "from qiskit.circuit.library.standard_gates import RXGate, RZGate, CXGate, CZGate, SGate, HGate\n",
    "from qiskit import QuantumCircuit, ClassicalRegister, QuantumRegister\n",
    "from typing import Dict, Tuple, List\n",
    "import matplotlib\n",
    "from qiskit import assemble, Aer\n",
    "from qiskit import IBMQ\n",
    "from qiskit import *\n",
    "from qiskit.visualization import plot_histogram\n",
    "import math\n",
    "import numpy as np\n",
    "from numpy import linalg as LA\n",
    "from qiskit.opflow import X, Z, I, H, Y\n",
    "from qiskit.algorithms.optimizers import L_BFGS_B\n",
    "from qiskit.quantum_info import Pauli\n",
    "from scipy.optimize import minimize"
   ]
  },
  {
   "cell_type": "markdown",
   "id": "abce62f7",
   "metadata": {},
   "source": [
    "# Setting the BFGS optimazer and Backend"
   ]
  },
  {
   "cell_type": "code",
   "execution_count": 3,
   "id": "06dd27e3",
   "metadata": {},
   "outputs": [],
   "source": [
    "bfgs_optimizer = L_BFGS_B(maxiter=60)\n",
    "\n",
    "simulator_backend = Aer.get_backend('qasm_simulator') "
   ]
  },
  {
   "cell_type": "markdown",
   "id": "27aae9d8",
   "metadata": {},
   "source": [
    "# Implement the ansatz"
   ]
  },
  {
   "cell_type": "code",
   "execution_count": 4,
   "id": "bd367934",
   "metadata": {},
   "outputs": [],
   "source": [
    "def anzats_circ1(thetas, D2, in_state):\n",
    "    qr = QuantumRegister(4, name=\"q\")\n",
    "    qc = QuantumCircuit(qr)\n",
    "    qc.initialize(in_state)\n",
    "        \n",
    "    for d in range(D2):\n",
    "        qc.append(RXGate(thetas[0]), [qr[0]])\n",
    "        qc.append(RXGate(thetas[1]), [qr[1]])\n",
    "        qc.append(RXGate(thetas[2]), [qr[2]])\n",
    "        qc.append(RXGate(thetas[3]), [qr[3]])\n",
    "        \n",
    "        qc.append(RZGate(thetas[4]), [qr[0]])\n",
    "        qc.append(RZGate(thetas[5]), [qr[1]])\n",
    "        qc.append(RZGate(thetas[6]), [qr[2]])\n",
    "        qc.append(RZGate(thetas[7]), [qr[3]])\n",
    "        \n",
    "        qc.append(CZGate(), [qr[0], qr[1]])\n",
    "        qc.append(CZGate(), [qr[1], qr[2]])\n",
    "        qc.append(CZGate(), [qr[2], qr[3]])\n",
    "        qc.barrier(qr)\n",
    "    \n",
    "    qc.append(RXGate(thetas[0]), [qr[0]])\n",
    "    qc.append(RXGate(thetas[1]), [qr[1]])\n",
    "    qc.append(RXGate(thetas[2]), [qr[2]])\n",
    "    qc.append(RXGate(thetas[3]), [qr[3]])\n",
    "\n",
    "    qc.append(RZGate(thetas[4]), [qr[0]])\n",
    "    qc.append(RZGate(thetas[5]), [qr[1]])\n",
    "    qc.append(RZGate(thetas[6]), [qr[2]])\n",
    "    qc.append(RZGate(thetas[7]), [qr[3]])\n",
    "       \n",
    "    return qc\n",
    "\n",
    "def anzats_circ1_uninitialized(thetas, D2):\n",
    "    qr = QuantumRegister(4, name=\"q\")\n",
    "    qc = QuantumCircuit(qr)\n",
    "        \n",
    "    for d in range(D2):\n",
    "        qc.append(RXGate(thetas[0]), [qr[0]])\n",
    "        qc.append(RXGate(thetas[1]), [qr[1]])\n",
    "        qc.append(RXGate(thetas[2]), [qr[2]])\n",
    "        qc.append(RXGate(thetas[3]), [qr[3]])\n",
    "        \n",
    "        qc.append(RZGate(thetas[4]), [qr[0]])\n",
    "        qc.append(RZGate(thetas[5]), [qr[1]])\n",
    "        qc.append(RZGate(thetas[6]), [qr[2]])\n",
    "        qc.append(RZGate(thetas[7]), [qr[3]])\n",
    "        \n",
    "        qc.append(CZGate(), [qr[0], qr[1]])\n",
    "        qc.append(CZGate(), [qr[1], qr[2]])\n",
    "        qc.append(CZGate(), [qr[2], qr[3]])\n",
    "        qc.barrier(qr)\n",
    "    \n",
    "    qc.append(RXGate(thetas[0]), [qr[0]])\n",
    "    qc.append(RXGate(thetas[1]), [qr[1]])\n",
    "    qc.append(RXGate(thetas[2]), [qr[2]])\n",
    "    qc.append(RXGate(thetas[3]), [qr[3]])\n",
    "\n",
    "    qc.append(RZGate(thetas[4]), [qr[0]])\n",
    "    qc.append(RZGate(thetas[5]), [qr[1]])\n",
    "    qc.append(RZGate(thetas[6]), [qr[2]])\n",
    "    qc.append(RZGate(thetas[7]), [qr[3]])\n",
    "    \n",
    "    \n",
    "    return qc\n",
    "\n",
    "def anzats_circ2(phis, D1, in_state):\n",
    "    qr = QuantumRegister(4, name=\"q\")\n",
    "    cr = ClassicalRegister(4)\n",
    "    qc = QuantumCircuit(qr, cr)\n",
    "    qc.initialize(in_state)\n",
    "    \n",
    "    for d in range(D1):\n",
    "        qc.append(RXGate(phis[0]), [qr[2]])\n",
    "        qc.append(RXGate(phis[1]), [qr[3]])\n",
    "        \n",
    "        qc.append(RZGate(phis[2]), [qr[2]])\n",
    "        qc.append(RZGate(phis[3]), [qr[3]])\n",
    "        \n",
    "        qc.append(CZGate(), [qr[2], qr[3]])\n",
    "        qc.barrier(qr)\n",
    "    return qc"
   ]
  },
  {
   "cell_type": "markdown",
   "id": "bd3e7426",
   "metadata": {},
   "source": [
    "# Choose basis from MUB (d=4) after tensor product"
   ]
  },
  {
   "cell_type": "code",
   "execution_count": 5,
   "id": "c0ab6dce",
   "metadata": {},
   "outputs": [],
   "source": [
    "from typing import List\n",
    "\n",
    "class MUB:\n",
    "    def __init__(self, name: str, color: str, basis_vectors):\n",
    "        self.name = name\n",
    "        self.color = color\n",
    "        self.basis_vectors = basis_vectors\n",
    "        self.results = []\n",
    "        \n",
    "    def add_result(self, result:int):\n",
    "        self.results.append(result)\n",
    "        \n",
    "    def restart_results(self):\n",
    "        self.results = []"
   ]
  },
  {
   "cell_type": "code",
   "execution_count": 6,
   "id": "03812892-0b3c-4718-919e-80011cafff88",
   "metadata": {},
   "outputs": [],
   "source": [
    "M0_vectors = np.identity(N)\n",
    "\n",
    "M1_vectors = [np.vectorize(complex)([0.5,0.5,0.5,0.5]),\n",
    "      np.vectorize(complex)([0.5,0.5,-0.5,-0.5]),\n",
    "      np.vectorize(complex)([0.5,-0.5,-0.5,0.5]),\n",
    "      np.vectorize(complex)([0.5,-0.5,0.5,-0.5])]\n",
    "\n",
    "M2_vectors = [np.vectorize(complex)([0.5,0.5,0,0],[0,0,-0.5,-0.5]),\n",
    "      np.vectorize(complex)([0.5,-0.5,0,0],[0,0,0.5,0.5]),\n",
    "      np.vectorize(complex)([0.5,0.5,0,0],[0,0,0.5,-0.5]),\n",
    "      np.vectorize(complex)([0.5,0.5,0,0],[0,0,-0.5,0.5])]\n",
    "\n",
    "M3_vectors = [np.vectorize(complex)([0.5,0,0,-0.5],[0,-0.5,-0.5,-0]),\n",
    "      np.vectorize(complex)([0.5,0,0,0.5],[0,-0.5,0.5,0]),\n",
    "      np.vectorize(complex)([0.5,0,0,-0.5],[0,0.5,0.5,0]),\n",
    "      np.vectorize(complex)([0.5,0,0,0.5],[0,0.5,-0.5,0])]\n",
    "\n",
    "M4_vectors = [np.vectorize(complex)([0.5,0,-0.5,0],[0,-0.5,0,-0.5]),\n",
    "      np.vectorize(complex)([0.5,0,0.5,0],[0,-0.5,0,0.5]),\n",
    "      np.vectorize(complex)([0.5,0,-0.5,0],[0,0.5,0,0.5]),\n",
    "      np.vectorize(complex)([0.5,0,0.5,0],[0,0.5,0,-0.5])]"
   ]
  },
  {
   "cell_type": "code",
   "execution_count": 7,
   "id": "f4821836-607a-4535-9fef-351dffc7d536",
   "metadata": {},
   "outputs": [],
   "source": [
    "M0 = MUB(name='M0', color='b', basis_vectors=M0_vectors)\n",
    "M1 = MUB(name='M1', color='c', basis_vectors=M1_vectors)\n",
    "M2 = MUB(name='M2', color='y', basis_vectors=M2_vectors)\n",
    "M3 = MUB(name='M3', color='m', basis_vectors=M3_vectors)\n",
    "M4 = MUB(name='M4', color='r', basis_vectors=M4_vectors)\n",
    "\n",
    "mubs_d_4 = [M0, M1, M2, M3, M4]"
   ]
  },
  {
   "cell_type": "code",
   "execution_count": 8,
   "id": "ef075078-8354-47ca-8c82-f72e56987643",
   "metadata": {},
   "outputs": [],
   "source": [
    "v_00 = np.vectorize(complex)([1,0,0,0])"
   ]
  },
  {
   "cell_type": "code",
   "execution_count": 9,
   "id": "ab17e61a-f5a7-4bbf-9ebc-7588d1de85ca",
   "metadata": {},
   "outputs": [],
   "source": [
    "def extend_each_vector_with_00_tensor_product():\n",
    "    new_mubs = []\n",
    "    for mub_basis in mubs_d_4:\n",
    "        mub_basis = [np.kron(v_00, vector) for vector in mub_basis.basis_vectors]\n",
    "        new_mubs.append(mub_basis)\n",
    "        \n",
    "    return new_mubs\n",
    "        \n",
    "mubs_d_4_extened = extend_each_vector_with_00_tensor_product()"
   ]
  },
  {
   "cell_type": "code",
   "execution_count": 10,
   "id": "5a269193-156a-4b5c-9ac8-bd448b022cd3",
   "metadata": {},
   "outputs": [
    {
     "data": {
      "text/plain": [
       "[[array([1.+0.j, 0.+0.j, 0.+0.j, 0.+0.j, 0.+0.j, 0.+0.j, 0.+0.j, 0.+0.j,\n",
       "         0.+0.j, 0.+0.j, 0.+0.j, 0.+0.j, 0.+0.j, 0.+0.j, 0.+0.j, 0.+0.j]),\n",
       "  array([0.+0.j, 1.+0.j, 0.+0.j, 0.+0.j, 0.+0.j, 0.+0.j, 0.+0.j, 0.+0.j,\n",
       "         0.+0.j, 0.+0.j, 0.+0.j, 0.+0.j, 0.+0.j, 0.+0.j, 0.+0.j, 0.+0.j]),\n",
       "  array([0.+0.j, 0.+0.j, 1.+0.j, 0.+0.j, 0.+0.j, 0.+0.j, 0.+0.j, 0.+0.j,\n",
       "         0.+0.j, 0.+0.j, 0.+0.j, 0.+0.j, 0.+0.j, 0.+0.j, 0.+0.j, 0.+0.j]),\n",
       "  array([0.+0.j, 0.+0.j, 0.+0.j, 1.+0.j, 0.+0.j, 0.+0.j, 0.+0.j, 0.+0.j,\n",
       "         0.+0.j, 0.+0.j, 0.+0.j, 0.+0.j, 0.+0.j, 0.+0.j, 0.+0.j, 0.+0.j])],\n",
       " [array([0.5+0.j, 0.5+0.j, 0.5+0.j, 0.5+0.j, 0. +0.j, 0. +0.j, 0. +0.j,\n",
       "         0. +0.j, 0. +0.j, 0. +0.j, 0. +0.j, 0. +0.j, 0. +0.j, 0. +0.j,\n",
       "         0. +0.j, 0. +0.j]),\n",
       "  array([ 0.5+0.j,  0.5+0.j, -0.5+0.j, -0.5+0.j,  0. +0.j,  0. +0.j,\n",
       "         -0. +0.j, -0. +0.j,  0. +0.j,  0. +0.j, -0. +0.j, -0. +0.j,\n",
       "          0. +0.j,  0. +0.j, -0. +0.j, -0. +0.j]),\n",
       "  array([ 0.5+0.j, -0.5+0.j, -0.5+0.j,  0.5+0.j,  0. +0.j, -0. +0.j,\n",
       "         -0. +0.j,  0. +0.j,  0. +0.j, -0. +0.j, -0. +0.j,  0. +0.j,\n",
       "          0. +0.j, -0. +0.j, -0. +0.j,  0. +0.j]),\n",
       "  array([ 0.5+0.j, -0.5+0.j,  0.5+0.j, -0.5+0.j,  0. +0.j, -0. +0.j,\n",
       "          0. +0.j, -0. +0.j,  0. +0.j, -0. +0.j,  0. +0.j, -0. +0.j,\n",
       "          0. +0.j, -0. +0.j,  0. +0.j, -0. +0.j])],\n",
       " [array([0.5+0.j , 0.5+0.j , 0. -0.5j, 0. -0.5j, 0. +0.j , 0. +0.j ,\n",
       "         0. +0.j , 0. +0.j , 0. +0.j , 0. +0.j , 0. +0.j , 0. +0.j ,\n",
       "         0. +0.j , 0. +0.j , 0. +0.j , 0. +0.j ]),\n",
       "  array([ 0.5+0.j , -0.5+0.j ,  0. +0.5j,  0. +0.5j,  0. +0.j , -0. +0.j ,\n",
       "          0. +0.j ,  0. +0.j ,  0. +0.j , -0. +0.j ,  0. +0.j ,  0. +0.j ,\n",
       "          0. +0.j , -0. +0.j ,  0. +0.j ,  0. +0.j ]),\n",
       "  array([0.5+0.j , 0.5+0.j , 0. +0.5j, 0. -0.5j, 0. +0.j , 0. +0.j ,\n",
       "         0. +0.j , 0. +0.j , 0. +0.j , 0. +0.j , 0. +0.j , 0. +0.j ,\n",
       "         0. +0.j , 0. +0.j , 0. +0.j , 0. +0.j ]),\n",
       "  array([0.5+0.j , 0.5+0.j , 0. -0.5j, 0. +0.5j, 0. +0.j , 0. +0.j ,\n",
       "         0. +0.j , 0. +0.j , 0. +0.j , 0. +0.j , 0. +0.j , 0. +0.j ,\n",
       "         0. +0.j , 0. +0.j , 0. +0.j , 0. +0.j ])],\n",
       " [array([ 0.5+0.j ,  0. -0.5j,  0. -0.5j, -0.5+0.j ,  0. +0.j ,  0. +0.j ,\n",
       "          0. +0.j , -0. +0.j ,  0. +0.j ,  0. +0.j ,  0. +0.j , -0. +0.j ,\n",
       "          0. +0.j ,  0. +0.j ,  0. +0.j , -0. +0.j ]),\n",
       "  array([0.5+0.j , 0. -0.5j, 0. +0.5j, 0.5+0.j , 0. +0.j , 0. +0.j ,\n",
       "         0. +0.j , 0. +0.j , 0. +0.j , 0. +0.j , 0. +0.j , 0. +0.j ,\n",
       "         0. +0.j , 0. +0.j , 0. +0.j , 0. +0.j ]),\n",
       "  array([ 0.5+0.j ,  0. +0.5j,  0. +0.5j, -0.5+0.j ,  0. +0.j ,  0. +0.j ,\n",
       "          0. +0.j , -0. +0.j ,  0. +0.j ,  0. +0.j ,  0. +0.j , -0. +0.j ,\n",
       "          0. +0.j ,  0. +0.j ,  0. +0.j , -0. +0.j ]),\n",
       "  array([0.5+0.j , 0. +0.5j, 0. -0.5j, 0.5+0.j , 0. +0.j , 0. +0.j ,\n",
       "         0. +0.j , 0. +0.j , 0. +0.j , 0. +0.j , 0. +0.j , 0. +0.j ,\n",
       "         0. +0.j , 0. +0.j , 0. +0.j , 0. +0.j ])],\n",
       " [array([ 0.5+0.j ,  0. -0.5j, -0.5+0.j ,  0. -0.5j,  0. +0.j ,  0. +0.j ,\n",
       "         -0. +0.j ,  0. +0.j ,  0. +0.j ,  0. +0.j , -0. +0.j ,  0. +0.j ,\n",
       "          0. +0.j ,  0. +0.j , -0. +0.j ,  0. +0.j ]),\n",
       "  array([0.5+0.j , 0. -0.5j, 0.5+0.j , 0. +0.5j, 0. +0.j , 0. +0.j ,\n",
       "         0. +0.j , 0. +0.j , 0. +0.j , 0. +0.j , 0. +0.j , 0. +0.j ,\n",
       "         0. +0.j , 0. +0.j , 0. +0.j , 0. +0.j ]),\n",
       "  array([ 0.5+0.j ,  0. +0.5j, -0.5+0.j ,  0. +0.5j,  0. +0.j ,  0. +0.j ,\n",
       "         -0. +0.j ,  0. +0.j ,  0. +0.j ,  0. +0.j , -0. +0.j ,  0. +0.j ,\n",
       "          0. +0.j ,  0. +0.j , -0. +0.j ,  0. +0.j ]),\n",
       "  array([0.5+0.j , 0. +0.5j, 0.5+0.j , 0. -0.5j, 0. +0.j , 0. +0.j ,\n",
       "         0. +0.j , 0. +0.j , 0. +0.j , 0. +0.j , 0. +0.j , 0. +0.j ,\n",
       "         0. +0.j , 0. +0.j , 0. +0.j , 0. +0.j ])]]"
      ]
     },
     "execution_count": 10,
     "metadata": {},
     "output_type": "execute_result"
    }
   ],
   "source": [
    "mubs_d_4_extened"
   ]
  },
  {
   "cell_type": "markdown",
   "id": "1838cc2b",
   "metadata": {},
   "source": [
    "# Generating the hamiltonians"
   ]
  },
  {
   "cell_type": "code",
   "execution_count": 11,
   "id": "2808b131",
   "metadata": {},
   "outputs": [],
   "source": [
    "from qiskit.opflow import X, Z, Y, I, H, S\n",
    "\n",
    "H2_molecule_Hamiltonian =   -0.8105479805373279 * (I^I^I^I) \\\n",
    "                            + 0.1721839326191554 * (I^I^I^Z) \\\n",
    "                            - 0.22575349222402372 * (I^I^Z^I) \\\n",
    "                            + 0.17218393261915543 * (I^Z^I^I) \\\n",
    "                            - 0.2257534922240237 * (Z^I^I^I) \\\n",
    "                            + 0.12091263261776627 * (I^I^Z^Z) \\\n",
    "                            + 0.16892753870087907 * (I^Z^I^Z) \\\n",
    "                            + 0.045232799946057826 * (Y^Y^Y^Y) \\\n",
    "                            + 0.045232799946057826 * (X^X^Y^Y) \\\n",
    "                            + 0.045232799946057826 * (Y^Y^X^X) \\\n",
    "                            + 0.045232799946057826 * (X^X^X^X) \\\n",
    "                            + 0.1661454325638241 * (Z^I^I^Z) \\\n",
    "                            + 0.1661454325638241 * (I^Z^Z^I) \\\n",
    "                            + 0.17464343068300453 * (Z^I^Z^I) \\\n",
    "                            + 0.12091263261776627 * (Z^Z^I^I)\n",
    "\n",
    "LiH_molecule_hamiltonian =  -7.49894690201071*(I^I^I^I) + \\\n",
    "                            -0.0029329964409502266*(X^X^Y^Y) + \\\n",
    "                            0.0029329964409502266*(X^Y^Y^X) + \\\n",
    "                            0.01291078027311749*(X^Z^X^I) + \\\n",
    "                            -0.0013743761078958677*(X^Z^X^Z) + \\\n",
    "                            0.011536413200774975*(X^I^X^I) + \\\n",
    "                            0.0029329964409502266*(Y^X^X^Y) + \\\n",
    "                            -0.0029329964409502266*(Y^Y^X^X) + \\\n",
    "                            0.01291078027311749*(Y^Z^Y^I) + \\\n",
    "                            -0.0013743761078958677*(Y^Z^Y^Z) + \\\n",
    "                            0.011536413200774975*(Y^I^Y^I) + \\\n",
    "                            0.16199475388004184*(Z^I^I^I) + \\\n",
    "                            0.011536413200774975*(Z^X^Z^X) + \\\n",
    "                            0.011536413200774975*(Z^Y^Z^Y) + \\\n",
    "                            0.12444770133137588*(Z^Z^I^I) + \\\n",
    "                            0.054130445793298836*(Z^I^Z^I) + \\\n",
    "                            0.05706344223424907*(Z^I^I^Z) + \\\n",
    "                            0.012910780273117487*(I^X^Z^X) + \\\n",
    "                            -0.0013743761078958677*(I^X^I^X) + \\\n",
    "                            0.012910780273117487*(I^Y^Z^Y) + \\\n",
    "                            -0.0013743761078958677*(I^Y^I^Y) + \\\n",
    "                            0.16199475388004186*(I^Z^I^I) + \\\n",
    "                            0.05706344223424907*(I^Z^Z^I) + \\\n",
    "                            0.054130445793298836*(I^Z^I^Z) + \\\n",
    "                            -0.013243698330265966*(I^I^Z^I) + \\\n",
    "                            0.08479609543670981*(I^I^Z^Z) + \\\n",
    "                            -0.013243698330265952*(I^I^I^Z)\n",
    "\n",
    "transverse_ising_4_qubits = 0.0 * (I^I^I^I) \\\n",
    "    + 0.8398088405253477 * (X^I^I^I) \\\n",
    "    + 0.7989496312070936 * (I^X^I^I) \\\n",
    "    + 0.38189710487113193 * (Z^Z^I^I) \\\n",
    "    + 0.057753122422666725 * (I^I^X^I) \\\n",
    "    + 0.5633292636970458 * (Z^I^Z^I) \\\n",
    "    + 0.3152740621483513 * (I^Z^Z^I) \\\n",
    "    + 0.07209487981989715 * (I^I^I^X) \\\n",
    "    + 0.17892334004292654 * (Z^I^I^Z) \\\n",
    "    + 0.2273896497668042 * (I^Z^I^Z) \\\n",
    "    + 0.09762902934216211 * (I^I^Z^Z)"
   ]
  },
  {
   "cell_type": "markdown",
   "id": "54473110",
   "metadata": {},
   "source": [
    "# Expectation Value "
   ]
  },
  {
   "cell_type": "markdown",
   "id": "00646bc6",
   "metadata": {},
   "source": [
    "### convert hamiltonian to pauli strings"
   ]
  },
  {
   "cell_type": "code",
   "execution_count": 12,
   "id": "083e5185",
   "metadata": {},
   "outputs": [],
   "source": [
    "reducing_to_pauli_z_dict = {\n",
    "    Pauli('I'): Pauli('I'),\n",
    "    Pauli('Z'): Pauli('Z'),\n",
    "    Pauli('X'): Pauli('Z'),\n",
    "    Pauli('Y'): Pauli('Z')\n",
    "} "
   ]
  },
  {
   "cell_type": "code",
   "execution_count": 13,
   "id": "269c3463",
   "metadata": {},
   "outputs": [],
   "source": [
    "def transfrom_hamiltonian_into_pauli_string(hamiltonian):\n",
    "    pauli_operators = hamiltonian.to_pauli_op().settings['oplist']\n",
    "    pauli_strings = list(map(lambda pauli_operator: pauli_operator.primitive, pauli_operators))\n",
    "    pauli_coeffs = list(map(lambda pauli_operator: pauli_operator.coeff, pauli_operators))\n",
    "    return (pauli_strings, pauli_coeffs)\n",
    "\n",
    "def reduce_pauli_matrixes_into_sigma_z(pauli_string):\n",
    "    for matrix_index in range(QUBITS_NUM):\n",
    "        pauli_matrix = pauli_string[matrix_index]\n",
    "        pauli_string[matrix_index].insert(reducing_to_pauli_z_dict[pauli_matrix])\n",
    "    \n",
    "    return pauli_string\n",
    "\n",
    "def get_z_reduction_for_pauli_string(qc, pauli_string):\n",
    "    qr = QuantumRegister(4, name=\"q\")\n",
    "    exdend_qc = QuantumCircuit(qr)\n",
    "    pauli_string = str(pauli_string)\n",
    "    for qubit_index, pauli_matrix in enumerate(pauli_string):\n",
    "        if pauli_matrix == \"X\":\n",
    "            exdend_qc.append(HGate(), [qr[qubit_index]])\n",
    "        elif pauli_matrix == \"Y\":\n",
    "            exdend_qc.append(HGate(), [qr[qubit_index]])\n",
    "            exdend_qc.append(SGate(), [qr[qubit_index]])\n",
    "    qc = qc.compose(exdend_qc)\n",
    "    return qc"
   ]
  },
  {
   "cell_type": "markdown",
   "id": "e487b303",
   "metadata": {},
   "source": [
    "### probabilities distribution"
   ]
  },
  {
   "cell_type": "code",
   "execution_count": 14,
   "id": "909477de",
   "metadata": {},
   "outputs": [],
   "source": [
    "def get_probability_distribution(counts: Dict) -> Dict:\n",
    "    proba_distribution = {state: (count / NUM_SHOTS) for state, count in counts.items()}\n",
    "    return proba_distribution\n",
    "\n",
    "def calculate_probabilities_of_measurments_in_computational_basis(quantum_state_circuit) -> Dict:\n",
    "    quantum_state_circuit.measure_all()\n",
    "    \n",
    "    transpiled_quantum_state_circuit = transpile(quantum_state_circuit, BACKEND) \n",
    "#     Qobj = assemble(transpiled_quantum_state_circuit)\n",
    "    result = BACKEND.run(transpiled_quantum_state_circuit).result()\n",
    "    counts = result.get_counts(transpiled_quantum_state_circuit)\n",
    "    \n",
    "    return get_probability_distribution(counts)"
   ]
  },
  {
   "cell_type": "markdown",
   "id": "5a33ecb2",
   "metadata": {},
   "source": [
    "### Expectation value from probabilities"
   ]
  },
  {
   "cell_type": "code",
   "execution_count": 15,
   "id": "296e0b87",
   "metadata": {},
   "outputs": [],
   "source": [
    "def sort_probas_dict_by_qubits_string_keys(proba_distribution: Dict) -> Dict:\n",
    "    return dict(sorted(proba_distribution.items()))\n",
    "\n",
    "def reset_power_of_minus_1(power_of_minus_1):\n",
    "    power_of_minus_1 = 0\n",
    "    return power_of_minus_1\n",
    "\n",
    "def calculate_expectation_value_of_pauli_string_by_measurments_probas(pauli_string, probas_distribution):\n",
    "    pauli_string_expectation_value = 0\n",
    "    power_of_minus_1 = 0\n",
    "    \n",
    "    sorted_probas_distribuition = sort_probas_dict_by_qubits_string_keys(probas_distribution)\n",
    "    for qubits_string, proba in sorted_probas_distribuition.items():\n",
    "        for string_index in range(QUBITS_NUM):\n",
    "            if(str(qubits_string[string_index])==\"1\" and str(pauli_string[string_index])==\"Z\"):\n",
    "                power_of_minus_1 += 1\n",
    "            \n",
    "        pauli_string_expectation_value += pow(-1, power_of_minus_1)*proba\n",
    "        power_of_minus_1 = reset_power_of_minus_1(power_of_minus_1)\n",
    "        \n",
    "    return pauli_string_expectation_value\n",
    "\n",
    "def get_expectation_value(pauli_string, probas_distribution):\n",
    "        return calculate_expectation_value_of_pauli_string_by_measurments_probas(\n",
    "                                                                                pauli_string, probas_distribution)\n",
    "    "
   ]
  },
  {
   "cell_type": "markdown",
   "id": "9d983a0a",
   "metadata": {},
   "source": [
    "# Calculating the first target function"
   ]
  },
  {
   "cell_type": "code",
   "execution_count": 16,
   "id": "7636debd",
   "metadata": {},
   "outputs": [],
   "source": [
    "def calc_target_func1(thetas, basis, D2, Ham):\n",
    "    target_func = 0\n",
    "    pauli_strings, pauli_coeffs = transfrom_hamiltonian_into_pauli_string(Ham)\n",
    "    \n",
    "    for j in basis:\n",
    "        total_expectation_value = 0\n",
    "        for pauli_index, pauli_string in enumerate(pauli_strings):\n",
    "            qc = anzats_circ1(thetas, D2, j)\n",
    "            qc = get_z_reduction_for_pauli_string(qc, pauli_string)\n",
    "            probas_distribution = calculate_probabilities_of_measurments_in_computational_basis(qc)\n",
    "            total_expectation_value += pauli_coeffs[pauli_index] * get_expectation_value(pauli_string, probas_distribution)\n",
    "        \n",
    "        target_func += total_expectation_value\n",
    "        \n",
    "    return target_func\n",
    "\n",
    "def objective_func1(thetas):\n",
    "    target_func = calc_target_func1(thetas, basis, D2, Ham)\n",
    "    return target_func"
   ]
  },
  {
   "cell_type": "markdown",
   "id": "b4ae62a3",
   "metadata": {},
   "source": [
    "# Calculating the second target function"
   ]
  },
  {
   "cell_type": "code",
   "execution_count": 17,
   "id": "efca27a0",
   "metadata": {},
   "outputs": [],
   "source": [
    "def calc_target_func2(thetas_opt, phis, in_state, D1, D2, Ham):\n",
    "    target_func = 0\n",
    "\n",
    "    qc2 = anzats_circ2(phis, D1, in_state)\n",
    "    qc1 = anzats_circ1_uninitialized(thetas_opt, D2)\n",
    "   \n",
    "    pauli_strings, pauli_coeffs = transfrom_hamiltonian_into_pauli_string(Ham)\n",
    "    \n",
    "    total_expectation_value = 0\n",
    "    for pauli_index, pauli_string in enumerate(pauli_strings):\n",
    "        qc = qc2.compose(qc1)\n",
    "        qc = get_z_reduction_for_pauli_string(qc, pauli_string)\n",
    "        probas_distribution = calculate_probabilities_of_measurments_in_computational_basis(qc)\n",
    "        total_expectation_value += pauli_coeffs[pauli_index] * get_expectation_value(pauli_string, probas_distribution)\n",
    "            \n",
    "    target_func += total_expectation_value\n",
    "        \n",
    "    return target_func\n",
    "\n",
    "def objective_func2(phis):\n",
    "    in_state = basis[i]\n",
    "    target_func2 = calc_target_func2(thetas_opt, phis, in_state, D1, D2, Ham)\n",
    "    approximated_energies.append(target_func2)\n",
    "    print(target_func2)\n",
    "    return target_func2\n",
    "\n",
    "def objective_func2_neg(phis):\n",
    "    return -1*objective_func2(phis)"
   ]
  },
  {
   "cell_type": "markdown",
   "id": "3488978a",
   "metadata": {},
   "source": [
    "# Calculate the difference between the algorithm result and actual result"
   ]
  },
  {
   "cell_type": "code",
   "execution_count": 18,
   "id": "d3d872b1",
   "metadata": {},
   "outputs": [],
   "source": [
    "from numpy import linalg as LA\n",
    "\n",
    "def get_approximation_error(exact_eigenvalue, approximated_eigenvalue):\n",
    "    return abs(abs(exact_eigenvalue)-abs(approximated_eigenvalue))/abs(exact_eigenvalue)"
   ]
  },
  {
   "cell_type": "code",
   "execution_count": 19,
   "id": "07394ad4",
   "metadata": {},
   "outputs": [],
   "source": [
    "def get_k_exact_eigenvalue_of_hamiltonian(hamiltonian, k):\n",
    "    eigen_values = LA.eig(hamiltonian.to_matrix())[0]\n",
    "    print(sorted(eigen_values, reverse=True))\n",
    "    \n",
    "    return sorted(eigen_values,reverse=True)[k]"
   ]
  },
  {
   "cell_type": "code",
   "execution_count": 20,
   "id": "8227a626",
   "metadata": {},
   "outputs": [],
   "source": [
    "def compare_exact_and_approximated_eigenvalue(hamiltonian, approximated_eigenvalue):\n",
    "    exact_eigenvalue = get_k_exact_eigenvalue_of_hamiltonian(hamiltonian, k)\n",
    "    print(\"Exact Eigenvalue:\")\n",
    "    print(exact_eigenvalue)\n",
    "    print(\"Approximated K Eigenvalues:\")\n",
    "    print(approximated_eigenvalue)\n",
    "\n",
    "    print(\"Approximation Error\")\n",
    "    print(get_approximation_error(exact_eigenvalue, approximated_eigenvalue))"
   ]
  },
  {
   "cell_type": "code",
   "execution_count": 21,
   "id": "6cfef650",
   "metadata": {},
   "outputs": [],
   "source": [
    "def calc_diff_from_actual_result(hamiltonian, algorithm_result):\n",
    "    matrix = hamiltonian.to_matrix()\n",
    "    eigen_values, eigen_vectors = LA.eig(matrix)\n",
    "    eigen_values.sort()\n",
    "    actual_result = eigen_values[k]\n",
    "    print(\"The actual k'th energy is:\")\n",
    "    print(actual_result)\n",
    "    diff = algorithm_result - actual_result\n",
    "    print(\"The differnce between the actual value and the algorithm result is:\")\n",
    "    print(diff)"
   ]
  },
  {
   "cell_type": "code",
   "execution_count": 22,
   "id": "0246a56d",
   "metadata": {},
   "outputs": [],
   "source": [
    "import matplotlib.pyplot as plt\n",
    "\n",
    "def plot_convergence_of_optimization_process(approximated_energies, exact_eigenvalue, margin):\n",
    "    plt.title(\"convergence of optimization process to the exact eigenvalue\")\n",
    "    plt.margins(0, margin)\n",
    "    plt.plot(approximated_energies[:100])\n",
    "    plt.axhline(y = exact_eigenvalue, color = 'r', linestyle = '-')\n",
    "    plt.grid()\n",
    "    plt.xlabel(\"# of iterations\")\n",
    "    plt.ylabel(\"Energy\")\n",
    "    \n",
    "def plot_fidelity():\n",
    "    plt.plot(LiH_approximated_energies)\n",
    "    plt.xlabel(\"# of iterations\")\n",
    "    plt.ylabel(\"Energy\")"
   ]
  },
  {
   "cell_type": "markdown",
   "id": "312eee35",
   "metadata": {},
   "source": [
    "# Implementing SSVQE"
   ]
  },
  {
   "cell_type": "code",
   "execution_count": 23,
   "id": "c2e480b7",
   "metadata": {},
   "outputs": [],
   "source": [
    "def SSVQE(qubits_num, k, d1, d2):  \n",
    "    global QUBITS_NUM\n",
    "    QUBITS_NUM = qubits_num\n",
    "      \n",
    "    global n\n",
    "    n = 2 ** QUBITS_NUM\n",
    "    \n",
    "    global basis\n",
    "    basis = mubs_d_4_extened[3]\n",
    "    \n",
    "    global D1, D2\n",
    "    D1 = d1\n",
    "    D2 = d2\n",
    "    \n",
    "    print(\"The Hamiltonian running SSVQE on is:\")\n",
    "    print(Ham)\n",
    "\n",
    "    global thetas_opt\n",
    "    optimizer_result_1 = minimize(objective_func1,x0=np.zeros(8),method=\"COBYLA\")\n",
    "    # point, value, nfev = bfgs_optimizer.optimize(8,objective_func1,initial_point=np.zeros(8))\n",
    "    \n",
    "    thetas_opt = optimizer_result_1.x\n",
    "    global i\n",
    "    i = np.random.randint(0,k)\n",
    "    \n",
    "    optimizer_result_2 = minimize(objective_func2_neg,x0=np.array([1,1,1,1]),method=\"COBYLA\")\n",
    "    # point, value, nfev = bfgs_optimizer.optimize(4, objective_func2_neg, initial_point=np.array([1, 1, 1, 1]))\n",
    "    \n",
    "    base_energy = optimizer_result_2.fun\n",
    "    print(\"The SSVQE result for the k'th energy of the Hamiltonian given is:\")\n",
    "    print(base_energy)\n",
    "    compare_exact_and_approximated_eigenvalue(Ham, base_energy)"
   ]
  },
  {
   "cell_type": "markdown",
   "id": "46dd1eef",
   "metadata": {},
   "source": [
    "# SSVQE With H2 Molecule Hamiltonian"
   ]
  },
  {
   "cell_type": "code",
   "execution_count": null,
   "id": "b96a66a9",
   "metadata": {
    "tags": []
   },
   "outputs": [
    {
     "name": "stdout",
     "output_type": "stream",
     "text": [
      "The Hamiltonian running SSVQE on is:\n",
      "-0.8105479805373279 * IIII\n",
      "+ 0.1721839326191554 * IIIZ\n",
      "- 0.22575349222402372 * IIZI\n",
      "+ 0.17218393261915543 * IZII\n",
      "- 0.2257534922240237 * ZIII\n",
      "+ 0.12091263261776627 * IIZZ\n",
      "+ 0.16892753870087907 * IZIZ\n",
      "+ 0.045232799946057826 * YYYY\n",
      "+ 0.045232799946057826 * XXYY\n",
      "+ 0.045232799946057826 * YYXX\n",
      "+ 0.045232799946057826 * XXXX\n",
      "+ 0.1661454325638241 * ZIIZ\n",
      "+ 0.1661454325638241 * IZZI\n",
      "+ 0.17464343068300453 * ZIZI\n",
      "+ 0.12091263261776627 * ZZII\n"
     ]
    }
   ],
   "source": [
    "#Backend number of shots\n",
    "NUM_SHOTS = 1024\n",
    "BACKEND = simulator_backend\n",
    "\n",
    "qubits_num = 4\n",
    "k = 3\n",
    "d1 = 2\n",
    "d2 = 6\n",
    "Ham = H2_molecule_Hamiltonian\n",
    "approximated_energies= []\n",
    "\n",
    "SSVQE(qubits_num, k, d1, d2)\n",
    "plot_convergence_of_optimization_process(approximated_energies, exact_eigenvalue=-0.353325104107155, margin=1)"
   ]
  },
  {
   "cell_type": "markdown",
   "id": "d865e3fd",
   "metadata": {},
   "source": [
    "# SSVQE With LiH Molecule Hamiltonian"
   ]
  },
  {
   "cell_type": "code",
   "execution_count": null,
   "id": "84e6d647",
   "metadata": {
    "tags": []
   },
   "outputs": [],
   "source": [
    "#Backend number of shots\n",
    "NUM_SHOTS = 1024\n",
    "BACKEND = simulator_backend\n",
    "\n",
    "qubits_num = 4\n",
    "k = 3\n",
    "d1 = 2\n",
    "d2 = 6\n",
    "Ham = LiH_molecule_hamiltonian\n",
    "approximated_energies=[]\n",
    "\n",
    "SSVQE(qubits_num, k, d1, d2)\n",
    "plot_convergence_of_optimization_process(approximated_energies, exact_eigenvalue=-7.151525481896562, margin=1)"
   ]
  },
  {
   "cell_type": "markdown",
   "id": "647657e3",
   "metadata": {},
   "source": [
    "# SSVQE With Ising Model Hamiltonian"
   ]
  },
  {
   "cell_type": "code",
   "execution_count": null,
   "id": "239049ad",
   "metadata": {},
   "outputs": [],
   "source": [
    "#Backend number of shots\n",
    "NUM_SHOTS = 1024\n",
    "BACKEND = simulator_backend\n",
    "\n",
    "qubits_num = 4\n",
    "k = 3\n",
    "d1 = 2\n",
    "d2 = 6\n",
    "Ham = transverse_ising_4_qubits\n",
    "approximated_energies = []\n",
    "\n",
    "SSVQE(qubits_num, k, d1, d2)\n",
    "plot_convergence_of_optimization_process(approximated_energies, exact_eigenvalue=1.6816520928402046, margin=1)"
   ]
  }
 ],
 "metadata": {
  "kernelspec": {
   "display_name": "Qiskitenv",
   "language": "python",
   "name": "qiskitenv"
  },
  "language_info": {
   "codemirror_mode": {
    "name": "ipython",
    "version": 3
   },
   "file_extension": ".py",
   "mimetype": "text/x-python",
   "name": "python",
   "nbconvert_exporter": "python",
   "pygments_lexer": "ipython3",
   "version": "3.8.13"
  }
 },
 "nbformat": 4,
 "nbformat_minor": 5
}
