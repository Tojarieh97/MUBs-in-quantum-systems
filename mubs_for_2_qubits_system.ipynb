{
 "cells": [
  {
   "cell_type": "code",
   "execution_count": 1,
   "id": "8af1ac33",
   "metadata": {},
   "outputs": [],
   "source": [
    "from qiskit.opflow import X, Y, Z, I, PauliOp, PauliSumOp\n",
    "from qsymm.linalg import simult_diag\n",
    "import numpy as np\n",
    "from bqskit.compiler import Compiler\n",
    "from bqskit.compiler import CompilationTask"
   ]
  },
  {
   "cell_type": "code",
   "execution_count": 5,
   "id": "bc30991a",
   "metadata": {},
   "outputs": [],
   "source": [
    "tbl_2_302 = [ [Z^I, I^Z, Z^Z],\n",
    "        [X^I, I^Y, X^Y],\n",
    "        [Y^I, I^X, Y^X],\n",
    "        [Y^Y, Z^X, Z^X],\n",
    "        [X^X, Y^Z, Z^Y]]"
   ]
  },
  {
   "cell_type": "code",
   "execution_count": 2,
   "id": "fa01779b",
   "metadata": {},
   "outputs": [],
   "source": [
    "def mats_to_mub_circ(mats_row: np.ndarray, nqubits: int):\n",
    "    mub_uni = np.hstack(simult_diag(mats_row))\n",
    "    task = CompilationTask.synthesize(mub_uni)\n",
    "    with Compiler() as compiler:\n",
    "        synth_qc = compiler.compile(task)\n",
    "    return mub_uni, synth_qc.to('qasm')"
   ]
  },
  {
   "cell_type": "code",
   "execution_count": 7,
   "id": "e20c0952",
   "metadata": {},
   "outputs": [
    {
     "name": "stdout",
     "output_type": "stream",
     "text": [
      "----------RESULTS FOR 2-QUBIT MUBS (3,0,2)--------------\n"
     ]
    },
    {
     "ename": "RuntimeError",
     "evalue": "Failed to start dask scheduler",
     "output_type": "error",
     "traceback": [
      "\u001b[1;31m---------------------------------------------------------------------------\u001b[0m",
      "\u001b[1;31mUnsupportedOperation\u001b[0m                      Traceback (most recent call last)",
      "File \u001b[1;32m~\\anaconda3\\envs\\Mubsenv\\lib\\site-packages\\bqskit\\compiler\\compiler.py:160\u001b[0m, in \u001b[0;36mstart_dask_cluster\u001b[1;34m()\u001b[0m\n\u001b[0;32m    159\u001b[0m dashboard \u001b[38;5;241m=\u001b[39m \u001b[38;5;124m'\u001b[39m\u001b[38;5;124m--dashboard\u001b[39m\u001b[38;5;124m'\u001b[39m \u001b[38;5;28;01mif\u001b[39;00m Compiler\u001b[38;5;241m.\u001b[39m_dashboard \u001b[38;5;28;01melse\u001b[39;00m \u001b[38;5;124m'\u001b[39m\u001b[38;5;124m--no-dashboard\u001b[39m\u001b[38;5;124m'\u001b[39m\n\u001b[1;32m--> 160\u001b[0m scheduler_proc \u001b[38;5;241m=\u001b[39m \u001b[43mPopen\u001b[49m\u001b[43m(\u001b[49m\n\u001b[0;32m    161\u001b[0m \u001b[43m    \u001b[49m\u001b[43m[\u001b[49m\n\u001b[0;32m    162\u001b[0m \u001b[43m        \u001b[49m\u001b[38;5;124;43m'\u001b[39;49m\u001b[38;5;124;43mdask-scheduler\u001b[39;49m\u001b[38;5;124;43m'\u001b[39;49m\u001b[43m,\u001b[49m\n\u001b[0;32m    163\u001b[0m \u001b[43m        \u001b[49m\u001b[38;5;124;43m'\u001b[39;49m\u001b[38;5;124;43m--host\u001b[39;49m\u001b[38;5;124;43m'\u001b[39;49m\u001b[43m,\u001b[49m\u001b[43m \u001b[49m\u001b[38;5;124;43m'\u001b[39;49m\u001b[38;5;124;43mlocalhost\u001b[39;49m\u001b[38;5;124;43m'\u001b[39;49m\u001b[43m,\u001b[49m\n\u001b[0;32m    164\u001b[0m \u001b[43m        \u001b[49m\u001b[38;5;124;43m'\u001b[39;49m\u001b[38;5;124;43m--port\u001b[39;49m\u001b[38;5;124;43m'\u001b[39;49m\u001b[43m,\u001b[49m\u001b[43m \u001b[49m\u001b[38;5;124;43m'\u001b[39;49m\u001b[38;5;124;43m8786\u001b[39;49m\u001b[38;5;124;43m'\u001b[39;49m\u001b[43m,\u001b[49m\n\u001b[0;32m    165\u001b[0m \u001b[43m        \u001b[49m\u001b[43mdashboard\u001b[49m\u001b[43m,\u001b[49m\n\u001b[0;32m    166\u001b[0m \u001b[43m    \u001b[49m\u001b[43m]\u001b[49m\u001b[43m,\u001b[49m\n\u001b[0;32m    167\u001b[0m \u001b[43m    \u001b[49m\u001b[43mbufsize\u001b[49m\u001b[38;5;241;43m=\u001b[39;49m\u001b[38;5;241;43m1\u001b[39;49m\u001b[43m,\u001b[49m\n\u001b[0;32m    168\u001b[0m \u001b[43m    \u001b[49m\u001b[43muniversal_newlines\u001b[49m\u001b[38;5;241;43m=\u001b[39;49m\u001b[38;5;28;43;01mTrue\u001b[39;49;00m\u001b[43m,\u001b[49m\n\u001b[0;32m    169\u001b[0m \u001b[43m    \u001b[49m\u001b[43mstdout\u001b[49m\u001b[38;5;241;43m=\u001b[39;49m\u001b[43msys\u001b[49m\u001b[38;5;241;43m.\u001b[39;49m\u001b[43mstdout\u001b[49m\u001b[43m,\u001b[49m\n\u001b[0;32m    170\u001b[0m \u001b[43m    \u001b[49m\u001b[43mstderr\u001b[49m\u001b[38;5;241;43m=\u001b[39;49m\u001b[43mPIPE\u001b[49m\u001b[43m,\u001b[49m\n\u001b[0;32m    171\u001b[0m \u001b[43m\u001b[49m\u001b[43m)\u001b[49m\n\u001b[0;32m    172\u001b[0m \u001b[38;5;28;01mfor\u001b[39;00m line \u001b[38;5;129;01min\u001b[39;00m \u001b[38;5;28miter\u001b[39m(scheduler_proc\u001b[38;5;241m.\u001b[39mstderr\u001b[38;5;241m.\u001b[39mreadline, \u001b[38;5;124m'\u001b[39m\u001b[38;5;124m'\u001b[39m):\n",
      "File \u001b[1;32m~\\anaconda3\\envs\\Mubsenv\\lib\\subprocess.py:808\u001b[0m, in \u001b[0;36mPopen.__init__\u001b[1;34m(self, args, bufsize, executable, stdin, stdout, stderr, preexec_fn, close_fds, shell, cwd, env, universal_newlines, startupinfo, creationflags, restore_signals, start_new_session, pass_fds, encoding, errors, text)\u001b[0m\n\u001b[0;32m    791\u001b[0m \u001b[38;5;66;03m# Input and output objects. The general principle is like\u001b[39;00m\n\u001b[0;32m    792\u001b[0m \u001b[38;5;66;03m# this:\u001b[39;00m\n\u001b[0;32m    793\u001b[0m \u001b[38;5;66;03m#\u001b[39;00m\n\u001b[1;32m   (...)\u001b[0m\n\u001b[0;32m    803\u001b[0m \u001b[38;5;66;03m# are -1 when not using PIPEs. The child objects are -1\u001b[39;00m\n\u001b[0;32m    804\u001b[0m \u001b[38;5;66;03m# when not redirecting.\u001b[39;00m\n\u001b[0;32m    806\u001b[0m (p2cread, p2cwrite,\n\u001b[0;32m    807\u001b[0m  c2pread, c2pwrite,\n\u001b[1;32m--> 808\u001b[0m  errread, errwrite) \u001b[38;5;241m=\u001b[39m \u001b[38;5;28;43mself\u001b[39;49m\u001b[38;5;241;43m.\u001b[39;49m\u001b[43m_get_handles\u001b[49m\u001b[43m(\u001b[49m\u001b[43mstdin\u001b[49m\u001b[43m,\u001b[49m\u001b[43m \u001b[49m\u001b[43mstdout\u001b[49m\u001b[43m,\u001b[49m\u001b[43m \u001b[49m\u001b[43mstderr\u001b[49m\u001b[43m)\u001b[49m\n\u001b[0;32m    810\u001b[0m \u001b[38;5;66;03m# We wrap OS handles *before* launching the child, otherwise a\u001b[39;00m\n\u001b[0;32m    811\u001b[0m \u001b[38;5;66;03m# quickly terminating child could make our fds unwrappable\u001b[39;00m\n\u001b[0;32m    812\u001b[0m \u001b[38;5;66;03m# (see #8458).\u001b[39;00m\n",
      "File \u001b[1;32m~\\anaconda3\\envs\\Mubsenv\\lib\\subprocess.py:1178\u001b[0m, in \u001b[0;36mPopen._get_handles\u001b[1;34m(self, stdin, stdout, stderr)\u001b[0m\n\u001b[0;32m   1176\u001b[0m \u001b[38;5;28;01melse\u001b[39;00m:\n\u001b[0;32m   1177\u001b[0m     \u001b[38;5;66;03m# Assuming file-like object\u001b[39;00m\n\u001b[1;32m-> 1178\u001b[0m     c2pwrite \u001b[38;5;241m=\u001b[39m msvcrt\u001b[38;5;241m.\u001b[39mget_osfhandle(\u001b[43mstdout\u001b[49m\u001b[38;5;241;43m.\u001b[39;49m\u001b[43mfileno\u001b[49m\u001b[43m(\u001b[49m\u001b[43m)\u001b[49m)\n\u001b[0;32m   1179\u001b[0m c2pwrite \u001b[38;5;241m=\u001b[39m \u001b[38;5;28mself\u001b[39m\u001b[38;5;241m.\u001b[39m_make_inheritable(c2pwrite)\n",
      "File \u001b[1;32m~\\anaconda3\\envs\\Mubsenv\\lib\\site-packages\\ipykernel\\iostream.py:310\u001b[0m, in \u001b[0;36mOutStream.fileno\u001b[1;34m(self)\u001b[0m\n\u001b[0;32m    309\u001b[0m \u001b[38;5;28;01melse\u001b[39;00m:\n\u001b[1;32m--> 310\u001b[0m     \u001b[38;5;28;01mraise\u001b[39;00m io\u001b[38;5;241m.\u001b[39mUnsupportedOperation(\u001b[38;5;124m\"\u001b[39m\u001b[38;5;124mfileno\u001b[39m\u001b[38;5;124m\"\u001b[39m)\n",
      "\u001b[1;31mUnsupportedOperation\u001b[0m: fileno",
      "\nThe above exception was the direct cause of the following exception:\n",
      "\u001b[1;31mRuntimeError\u001b[0m                              Traceback (most recent call last)",
      "Cell \u001b[1;32mIn [7], line 3\u001b[0m\n\u001b[0;32m      1\u001b[0m \u001b[38;5;28mprint\u001b[39m(\u001b[38;5;124m'\u001b[39m\u001b[38;5;124m----------RESULTS FOR 2-QUBIT MUBS (3,0,2)--------------\u001b[39m\u001b[38;5;124m'\u001b[39m)\n\u001b[0;32m      2\u001b[0m \u001b[38;5;28;01mfor\u001b[39;00m i, row \u001b[38;5;129;01min\u001b[39;00m \u001b[38;5;28menumerate\u001b[39m(tbl_2_302):\n\u001b[1;32m----> 3\u001b[0m     res \u001b[38;5;241m=\u001b[39m \u001b[43mmats_to_mub_circ\u001b[49m\u001b[43m(\u001b[49m\u001b[38;5;28;43mlist\u001b[39;49m\u001b[43m(\u001b[49m\u001b[38;5;28;43mmap\u001b[39;49m\u001b[43m(\u001b[49m\u001b[38;5;28;43;01mlambda\u001b[39;49;00m\u001b[43m \u001b[49m\u001b[43mp\u001b[49m\u001b[43m:\u001b[49m\u001b[43m \u001b[49m\u001b[43mp\u001b[49m\u001b[38;5;241;43m.\u001b[39;49m\u001b[43mto_matrix\u001b[49m\u001b[43m(\u001b[49m\u001b[43m)\u001b[49m\u001b[43m,\u001b[49m\u001b[43m \u001b[49m\u001b[43mrow\u001b[49m\u001b[43m)\u001b[49m\u001b[43m)\u001b[49m\u001b[43m,\u001b[49m\u001b[43m \u001b[49m\u001b[38;5;241;43m2\u001b[39;49m\u001b[43m)\u001b[49m\n\u001b[0;32m      4\u001b[0m     \u001b[38;5;28mprint\u001b[39m(\u001b[38;5;124mf\u001b[39m\u001b[38;5;124m'\u001b[39m\u001b[38;5;124mresult for row \u001b[39m\u001b[38;5;132;01m{\u001b[39;00mi\u001b[38;5;241m+\u001b[39m\u001b[38;5;241m1\u001b[39m\u001b[38;5;132;01m}\u001b[39;00m\u001b[38;5;124m:\u001b[39m\u001b[38;5;124m'\u001b[39m)\n\u001b[0;32m      5\u001b[0m     \u001b[38;5;28mprint\u001b[39m(res[\u001b[38;5;241m0\u001b[39m])\n",
      "Cell \u001b[1;32mIn [3], line 4\u001b[0m, in \u001b[0;36mmats_to_mub_circ\u001b[1;34m(mats_row, nqubits)\u001b[0m\n\u001b[0;32m      2\u001b[0m mub_uni \u001b[38;5;241m=\u001b[39m np\u001b[38;5;241m.\u001b[39mhstack(simult_diag(mats_row))\n\u001b[0;32m      3\u001b[0m task \u001b[38;5;241m=\u001b[39m CompilationTask\u001b[38;5;241m.\u001b[39msynthesize(mub_uni)\n\u001b[1;32m----> 4\u001b[0m \u001b[38;5;28;01mwith\u001b[39;00m \u001b[43mCompiler\u001b[49m\u001b[43m(\u001b[49m\u001b[43m)\u001b[49m \u001b[38;5;28;01mas\u001b[39;00m compiler:\n\u001b[0;32m      5\u001b[0m     synth_qc \u001b[38;5;241m=\u001b[39m compiler\u001b[38;5;241m.\u001b[39mcompile(task)\n\u001b[0;32m      6\u001b[0m \u001b[38;5;28;01mreturn\u001b[39;00m mub_uni, synth_qc\u001b[38;5;241m.\u001b[39mto(\u001b[38;5;124m'\u001b[39m\u001b[38;5;124mqasm\u001b[39m\u001b[38;5;124m'\u001b[39m)\n",
      "File \u001b[1;32m~\\anaconda3\\envs\\Mubsenv\\lib\\site-packages\\bqskit\\compiler\\compiler.py:72\u001b[0m, in \u001b[0;36mCompiler.__init__\u001b[1;34m(self, *args, **kwargs)\u001b[0m\n\u001b[0;32m     70\u001b[0m \u001b[38;5;28mself\u001b[39m\u001b[38;5;241m.\u001b[39mmanaged \u001b[38;5;241m=\u001b[39m \u001b[38;5;28mlen\u001b[39m(args) \u001b[38;5;241m==\u001b[39m \u001b[38;5;241m0\u001b[39m \u001b[38;5;129;01mand\u001b[39;00m \u001b[38;5;28mlen\u001b[39m(kwargs) \u001b[38;5;241m==\u001b[39m \u001b[38;5;241m0\u001b[39m\n\u001b[0;32m     71\u001b[0m \u001b[38;5;28;01mif\u001b[39;00m \u001b[38;5;28mself\u001b[39m\u001b[38;5;241m.\u001b[39mmanaged:\n\u001b[1;32m---> 72\u001b[0m     \u001b[38;5;28mself\u001b[39m\u001b[38;5;241m.\u001b[39mprocesses \u001b[38;5;241m=\u001b[39m \u001b[43mstart_dask_cluster\u001b[49m\u001b[43m(\u001b[49m\u001b[43m)\u001b[49m\n\u001b[0;32m     73\u001b[0m     \u001b[38;5;28mself\u001b[39m\u001b[38;5;241m.\u001b[39mclient \u001b[38;5;241m=\u001b[39m Client(\u001b[38;5;124m'\u001b[39m\u001b[38;5;124mlocalhost:8786\u001b[39m\u001b[38;5;124m'\u001b[39m)\n\u001b[0;32m     74\u001b[0m \u001b[38;5;28;01melse\u001b[39;00m:\n",
      "File \u001b[1;32m~\\anaconda3\\envs\\Mubsenv\\lib\\site-packages\\bqskit\\compiler\\compiler.py:177\u001b[0m, in \u001b[0;36mstart_dask_cluster\u001b[1;34m()\u001b[0m\n\u001b[0;32m    175\u001b[0m     scheduler_proc\u001b[38;5;241m.\u001b[39mstderr\u001b[38;5;241m.\u001b[39mclose()\n\u001b[0;32m    176\u001b[0m \u001b[38;5;28;01mexcept\u001b[39;00m \u001b[38;5;167;01mException\u001b[39;00m \u001b[38;5;28;01mas\u001b[39;00m e:\n\u001b[1;32m--> 177\u001b[0m     \u001b[38;5;28;01mraise\u001b[39;00m \u001b[38;5;167;01mRuntimeError\u001b[39;00m(\u001b[38;5;124m'\u001b[39m\u001b[38;5;124mFailed to start dask scheduler\u001b[39m\u001b[38;5;124m'\u001b[39m) \u001b[38;5;28;01mfrom\u001b[39;00m \u001b[38;5;21;01me\u001b[39;00m\n\u001b[0;32m    179\u001b[0m \u001b[38;5;66;03m# Start dask workers in another process\u001b[39;00m\n\u001b[0;32m    180\u001b[0m \u001b[38;5;28;01mtry\u001b[39;00m:\n",
      "\u001b[1;31mRuntimeError\u001b[0m: Failed to start dask scheduler"
     ]
    }
   ],
   "source": [
    "print('----------RESULTS FOR 2-QUBIT MUBS (3,0,2)--------------')\n",
    "for i, row in enumerate(tbl_2_302):\n",
    "    res = mats_to_mub_circ(list(map(lambda p: p.to_matrix(), row)), 2)\n",
    "    print(f'result for row {i+1}:')\n",
    "    print(res[0])\n",
    "    print(res[1])"
   ]
  },
  {
   "cell_type": "code",
   "execution_count": null,
   "id": "7abcfb71",
   "metadata": {},
   "outputs": [],
   "source": []
  }
 ],
 "metadata": {
  "kernelspec": {
   "display_name": "Python (Mubsenv)",
   "language": "python",
   "name": "mubsenv"
  },
  "language_info": {
   "codemirror_mode": {
    "name": "ipython",
    "version": 3
   },
   "file_extension": ".py",
   "mimetype": "text/x-python",
   "name": "python",
   "nbconvert_exporter": "python",
   "pygments_lexer": "ipython3",
   "version": "3.8.15"
  }
 },
 "nbformat": 4,
 "nbformat_minor": 5
}
