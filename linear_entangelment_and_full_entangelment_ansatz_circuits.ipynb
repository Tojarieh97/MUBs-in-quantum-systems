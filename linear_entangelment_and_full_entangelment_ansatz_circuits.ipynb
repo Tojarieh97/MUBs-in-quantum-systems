{
 "cells": [
  {
   "cell_type": "code",
   "execution_count": 1,
   "id": "1ab129c5",
   "metadata": {},
   "outputs": [],
   "source": [
    "%load_ext autoreload\n",
    "%autoreload 2"
   ]
  },
  {
   "cell_type": "code",
   "execution_count": 2,
   "id": "7df1bd0f",
   "metadata": {},
   "outputs": [],
   "source": [
    "from qiskit.circuit.library.standard_gates import RXGate, RZGate, RYGate, CXGate, CZGate, SGate, HGate\n",
    "from qiskit import QuantumCircuit, ClassicalRegister, QuantumRegister\n",
    "\n",
    "import numpy as np"
   ]
  },
  {
   "cell_type": "code",
   "execution_count": 3,
   "id": "30dc72a4",
   "metadata": {},
   "outputs": [],
   "source": [
    "def get_linear_entangelment_ansatz(num_of_qubits, thetas, input_state, circuit_depth=3):\n",
    "    quantum_register = QuantumRegister(num_of_qubits, name=\"qubit\")\n",
    "    quantum_circuit = QuantumCircuit(quantum_register)\n",
    "    quantum_circuit.initialize(input_state)\n",
    "\n",
    "    for iteration in range(circuit_depth):\n",
    "        for qubit_index in range(num_of_qubits):\n",
    "            RY_theta_index = iteration*2*num_of_qubits + qubit_index\n",
    "            RZ_theta_index = RY_theta_index + num_of_qubits\n",
    "            \n",
    "            quantum_circuit.append(RYGate(thetas[RY_theta_index]), [quantum_register[qubit_index]])\n",
    "            quantum_circuit.append(RZGate(thetas[RZ_theta_index]), [quantum_register[qubit_index]])\n",
    "            \n",
    "        for qubit_index in range(num_of_qubits - 1):\n",
    "            quantum_circuit.append(CXGate(), [quantum_register[qubit_index], quantum_register[qubit_index + 1]])\n",
    "\n",
    "    for qubit_index in range(num_of_qubits):\n",
    "            RY_theta_index = 2*num_of_qubits*circuit_depth + qubit_index\n",
    "            RZ_theta_index = RY_theta_index + num_of_qubits\n",
    "            quantum_circuit.append(RYGate(thetas[RY_theta_index]), [quantum_register[qubit_index]])\n",
    "            quantum_circuit.append(RZGate(thetas[RZ_theta_index]), [quantum_register[qubit_index]])\n",
    "\n",
    "    return quantum_circuit"
   ]
  },
  {
   "cell_type": "code",
   "execution_count": 4,
   "id": "8e40efc3",
   "metadata": {},
   "outputs": [],
   "source": [
    "def get_full_entangelment_ansatz(num_of_qubits, thetas, input_state, circuit_depth=3):\n",
    "    quantum_register = QuantumRegister(num_of_qubits, name=\"qubit\")\n",
    "    quantum_circuit = QuantumCircuit(quantum_register)\n",
    "    quantum_circuit.initialize(input_state)\n",
    "\n",
    "    for iteration in range(circuit_depth):\n",
    "        for qubit_index in range(num_of_qubits):\n",
    "            RY_theta_index = iteration*2*num_of_qubits + qubit_index\n",
    "            RZ_theta_index = RY_theta_index + num_of_qubits\n",
    "            \n",
    "            quantum_circuit.append(RYGate(thetas[RY_theta_index]), [quantum_register[qubit_index]])\n",
    "            quantum_circuit.append(RZGate(thetas[RZ_theta_index]), [quantum_register[qubit_index]])\n",
    "        for qubit_index in range(num_of_qubits - 1):\n",
    "            for target_qubit_index in range(qubit_index + 1, num_of_qubits):\n",
    "                quantum_circuit.append(CXGate(), [quantum_register[qubit_index], quantum_register[target_qubit_index]])\n",
    "\n",
    "    for qubit_index in range(num_of_qubits):\n",
    "            RY_theta_index = 2*num_of_qubits*circuit_depth + qubit_index\n",
    "            RZ_theta_index = RY_theta_index + num_of_qubits\n",
    "            \n",
    "            quantum_circuit.append(RYGate(thetas[RY_theta_index]), [quantum_register[qubit_index]])\n",
    "            quantum_circuit.append(RZGate(thetas[RZ_theta_index]), [quantum_register[qubit_index]])\n",
    "\n",
    "    return quantum_circuit"
   ]
  },
  {
   "cell_type": "markdown",
   "id": "57b537b7",
   "metadata": {},
   "source": [
    "## Linear entangelment ansatz"
   ]
  },
  {
   "cell_type": "code",
   "execution_count": 5,
   "id": "702b6973",
   "metadata": {},
   "outputs": [
    {
     "name": "stdout",
     "output_type": "stream",
     "text": [
      "         ┌────────────────┐┌────────────┐ ┌─────────┐       ┌────────────┐»\n",
      "qubit_0: ┤0               ├┤ Ry(224.73) ├─┤ Rz(203) ├────■──┤ Ry(23.197) ├»\n",
      "         │                │├───────────┬┘┌┴─────────┴─┐┌─┴─┐└────────────┘»\n",
      "qubit_1: ┤1               ├┤ Ry(324.1) ├─┤ Rz(173.94) ├┤ X ├──────■───────»\n",
      "         │  Initialize(3) │├───────────┴┐├────────────┤└───┘    ┌─┴─┐     »\n",
      "qubit_2: ┤2               ├┤ Ry(122.99) ├┤ Rz(207.45) ├─────────┤ X ├─────»\n",
      "         │                │├───────────┬┘├────────────┤         └───┘     »\n",
      "qubit_3: ┤3               ├┤ Ry(24.76) ├─┤ Rz(279.09) ├───────────────────»\n",
      "         └────────────────┘└───────────┘ └────────────┘                   »\n",
      "«         ┌────────────┐                            ┌────────────┐»\n",
      "«qubit_0: ┤ Rz(118.29) ├────────────────────■───────┤ Ry(111.57) ├»\n",
      "«         ├───────────┬┘┌────────────┐    ┌─┴─┐     └────────────┘»\n",
      "«qubit_1: ┤ Ry(205.1) ├─┤ Rz(318.52) ├────┤ X ├───────────■───────»\n",
      "«         └───────────┘ ├────────────┤┌───┴───┴────┐    ┌─┴─┐     »\n",
      "«qubit_2: ──────■───────┤ Ry(306.91) ├┤ Rz(199.94) ├────┤ X ├─────»\n",
      "«             ┌─┴─┐     ├────────────┤├────────────┤    └───┘     »\n",
      "«qubit_3: ────┤ X ├─────┤ Ry(359.08) ├┤ Rz(286.16) ├──────────────»\n",
      "«             └───┘     └────────────┘└────────────┘              »\n",
      "«         ┌────────────┐                            ┌────────────┐»\n",
      "«qubit_0: ┤ Rz(134.67) ├────────────────────■───────┤ Ry(359.27) ├»\n",
      "«         ├────────────┤┌────────────┐    ┌─┴─┐     └────────────┘»\n",
      "«qubit_1: ┤ Ry(331.84) ├┤ Rz(103.23) ├────┤ X ├───────────■───────»\n",
      "«         └────────────┘├────────────┤┌───┴───┴───┐     ┌─┴─┐     »\n",
      "«qubit_2: ──────■───────┤ Ry(242.54) ├┤ Rz(118.2) ├─────┤ X ├─────»\n",
      "«             ┌─┴─┐     ├────────────┤├───────────┴┐    └───┘     »\n",
      "«qubit_3: ────┤ X ├─────┤ Ry(299.22) ├┤ Rz(151.72) ├──────────────»\n",
      "«             └───┘     └────────────┘└────────────┘              »\n",
      "«         ┌────────────┐                            \n",
      "«qubit_0: ┤ Rz(31.456) ├────────────────────────────\n",
      "«         ├────────────┤┌────────────┐              \n",
      "«qubit_1: ┤ Ry(257.84) ├┤ Rz(21.426) ├──────────────\n",
      "«         └────────────┘├────────────┤┌────────────┐\n",
      "«qubit_2: ──────■───────┤ Ry(57.445) ├┤ Rz(165.55) ├\n",
      "«             ┌─┴─┐     ├────────────┤├────────────┤\n",
      "«qubit_3: ────┤ X ├─────┤ Ry(44.049) ├┤ Rz(163.29) ├\n",
      "«             └───┘     └────────────┘└────────────┘\n"
     ]
    }
   ],
   "source": [
    "initial_thetas = np.random.uniform(low=0, high=360, size=32)\n",
    "initial_eigenvector = np.identity(16)[0]\n",
    "print(get_linear_entangelment_ansatz(4, initial_thetas, 3))"
   ]
  },
  {
   "cell_type": "code",
   "execution_count": 6,
   "id": "0ae0050c",
   "metadata": {},
   "outputs": [
    {
     "name": "stdout",
     "output_type": "stream",
     "text": [
      "         ┌────────────────┐ ┌────────────┐ ┌────────────┐     ┌────────────┐»\n",
      "qubit_0: ┤0               ├─┤ Ry(4.7365) ├─┤ Rz(2.6133) ├──■──┤ Ry(3.0644) ├»\n",
      "         │                │┌┴────────────┤┌┴────────────┤┌─┴─┐└────────────┘»\n",
      "qubit_1: ┤1 Initialize(3) ├┤ Ry(0.37922) ├┤ Rz(0.97179) ├┤ X ├──────■───────»\n",
      "         │                │└┬────────────┤└┬────────────┤└───┘    ┌─┴─┐     »\n",
      "qubit_2: ┤2               ├─┤ Ry(4.7539) ├─┤ Rz(2.6994) ├─────────┤ X ├─────»\n",
      "         └────────────────┘ └────────────┘ └────────────┘         └───┘     »\n",
      "«         ┌────────────┐                   ┌────────────┐┌────────────┐»\n",
      "«qubit_0: ┤ Rz(5.7441) ├────────────────■──┤ Ry(4.0801) ├┤ Rz(3.0293) ├»\n",
      "«         ├────────────┤┌────────────┐┌─┴─┐└────────────┘├────────────┤»\n",
      "«qubit_1: ┤ Ry(4.2136) ├┤ Rz(3.5615) ├┤ X ├──────■───────┤ Ry(5.7047) ├»\n",
      "«         ├────────────┤├────────────┤└───┘    ┌─┴─┐     ├────────────┤»\n",
      "«qubit_2: ┤ Ry(3.9104) ├┤ Rz(5.2879) ├─────────┤ X ├─────┤ Ry(5.2453) ├»\n",
      "«         └────────────┘└────────────┘         └───┘     └────────────┘»\n",
      "«                            ┌─────────────┐┌─────────────┐              \n",
      "«qubit_0: ────────────────■──┤ Ry(0.31981) ├┤ Rz(0.28885) ├──────────────\n",
      "«         ┌────────────┐┌─┴─┐└─────────────┘└┬────────────┤┌────────────┐\n",
      "«qubit_1: ┤ Rz(5.0546) ├┤ X ├───────■────────┤ Ry(0.5237) ├┤ Rz(4.2873) ├\n",
      "«         ├────────────┤└───┘     ┌─┴─┐      ├────────────┤├────────────┤\n",
      "«qubit_2: ┤ Rz(4.5824) ├──────────┤ X ├──────┤ Ry(1.8158) ├┤ Rz(1.9601) ├\n",
      "«         └────────────┘          └───┘      └────────────┘└────────────┘\n"
     ]
    }
   ],
   "source": [
    "initial_thetas = np.random.uniform(low=0, high=2*np.pi, size=24)\n",
    "initial_eigenvector = np.identity(8)[0]\n",
    "print(get_linear_entangelment_ansatz(3, initial_thetas, 3))"
   ]
  },
  {
   "cell_type": "code",
   "execution_count": 7,
   "id": "bbf16cfc",
   "metadata": {},
   "outputs": [
    {
     "name": "stdout",
     "output_type": "stream",
     "text": [
      "         ┌────────────────┐ ┌────────────┐┌────────────┐     ┌─────────────┐»\n",
      "qubit_0: ┤0               ├─┤ Ry(3.2007) ├┤ Rz(6.2109) ├──■──┤ Ry(0.98935) ├»\n",
      "         │  Initialize(3) │┌┴────────────┤├────────────┤┌─┴─┐└┬────────────┤»\n",
      "qubit_1: ┤1               ├┤ Ry(0.47116) ├┤ Rz(1.4293) ├┤ X ├─┤ Ry(2.1767) ├»\n",
      "         └────────────────┘└─────────────┘└────────────┘└───┘ └────────────┘»\n",
      "«         ┌────────────┐     ┌────────────┐ ┌────────────┐     ┌────────────┐»\n",
      "«qubit_0: ┤ Rz(2.3647) ├──■──┤ Ry(6.1192) ├─┤ Rz(4.7531) ├──■──┤ Ry(4.3212) ├»\n",
      "«         ├────────────┤┌─┴─┐├────────────┤┌┴────────────┤┌─┴─┐├────────────┤»\n",
      "«qubit_1: ┤ Rz(1.7455) ├┤ X ├┤ Ry(1.9402) ├┤ Rz(0.15783) ├┤ X ├┤ Ry(6.0535) ├»\n",
      "«         └────────────┘└───┘└────────────┘└─────────────┘└───┘└────────────┘»\n",
      "«          ┌────────────┐\n",
      "«qubit_0: ─┤ Rz(1.6645) ├\n",
      "«         ┌┴────────────┤\n",
      "«qubit_1: ┤ Rz(0.42372) ├\n",
      "«         └─────────────┘\n"
     ]
    }
   ],
   "source": [
    "initial_thetas = np.random.uniform(low=0, high=2*np.pi, size=16)\n",
    "initial_eigenvector = np.identity(4)[0]\n",
    "print(get_linear_entangelment_ansatz(2, initial_thetas, 3))"
   ]
  },
  {
   "cell_type": "markdown",
   "id": "4cea9905",
   "metadata": {},
   "source": [
    "## Full entangelment ansatz"
   ]
  },
  {
   "cell_type": "code",
   "execution_count": 8,
   "id": "f96a2f3b",
   "metadata": {},
   "outputs": [
    {
     "name": "stdout",
     "output_type": "stream",
     "text": [
      "         ┌────────────────┐ ┌────────────┐┌────────────┐               »\n",
      "qubit_0: ┤0               ├─┤ Ry(4.7757) ├┤ Rz(5.5463) ├──■────■────■──»\n",
      "         │                │ ├────────────┤├────────────┤┌─┴─┐  │    │  »\n",
      "qubit_1: ┤1               ├─┤ Ry(4.8503) ├┤ Rz(0.7906) ├┤ X ├──┼────┼──»\n",
      "         │  Initialize(3) │┌┴────────────┤├───────────┬┘└───┘┌─┴─┐  │  »\n",
      "qubit_2: ┤2               ├┤ Ry(0.96564) ├┤ Rz(1.683) ├──────┤ X ├──┼──»\n",
      "         │                │└┬────────────┤├───────────┤      └───┘┌─┴─┐»\n",
      "qubit_3: ┤3               ├─┤ Ry(1.5927) ├┤ Rz(1.551) ├───────────┤ X ├»\n",
      "         └────────────────┘ └────────────┘└───────────┘           └───┘»\n",
      "«         ┌────────────┐┌─────────────┐                             »\n",
      "«qubit_0: ┤ Ry(2.6514) ├┤ Rz(0.86981) ├─────────────────────────────»\n",
      "«         └────────────┘└─────────────┘┌────────────┐┌─────────────┐»\n",
      "«qubit_1: ──────■──────────────■───────┤ Ry(5.7825) ├┤ Rz(0.87181) ├»\n",
      "«             ┌─┴─┐            │       └────────────┘└┬────────────┤»\n",
      "«qubit_2: ────┤ X ├────────────┼─────────────■────────┤ Ry(3.1491) ├»\n",
      "«             └───┘          ┌─┴─┐         ┌─┴─┐      ├────────────┤»\n",
      "«qubit_3: ───────────────────┤ X ├─────────┤ X ├──────┤ Ry(5.7398) ├»\n",
      "«                            └───┘         └───┘      └────────────┘»\n",
      "«                                  ┌────────────┐┌────────────┐              »\n",
      "«qubit_0: ───────■─────────■────■──┤ Ry(5.2526) ├┤ Rz(2.0469) ├──────────────»\n",
      "«              ┌─┴─┐       │    │  └────────────┘└────────────┘┌────────────┐»\n",
      "«qubit_1: ─────┤ X ├───────┼────┼────────■─────────────■───────┤ Ry(6.2046) ├»\n",
      "«         ┌────┴───┴────┐┌─┴─┐  │      ┌─┴─┐           │       └────────────┘»\n",
      "«qubit_2: ┤ Rz(0.63857) ├┤ X ├──┼──────┤ X ├───────────┼─────────────■───────»\n",
      "«         └┬────────────┤└───┘┌─┴─┐    └───┘         ┌─┴─┐         ┌─┴─┐     »\n",
      "«qubit_3: ─┤ Rz(3.2903) ├─────┤ X ├──────────────────┤ X ├─────────┤ X ├─────»\n",
      "«          └────────────┘     └───┘                  └───┘         └───┘     »\n",
      "«                                                ┌───────────┐┌────────────┐»\n",
      "«qubit_0: ─────────────────────■─────────■────■──┤ Ry(2.638) ├┤ Rz(4.1107) ├»\n",
      "«         ┌─────────────┐    ┌─┴─┐       │    │  └───────────┘└────────────┘»\n",
      "«qubit_1: ┤ Rz(0.36205) ├────┤ X ├───────┼────┼────────■────────────■───────»\n",
      "«         └┬────────────┤┌───┴───┴────┐┌─┴─┐  │      ┌─┴─┐          │       »\n",
      "«qubit_2: ─┤ Ry(1.4789) ├┤ Rz(3.4335) ├┤ X ├──┼──────┤ X ├──────────┼───────»\n",
      "«          ├────────────┤├────────────┤└───┘┌─┴─┐    └───┘        ┌─┴─┐     »\n",
      "«qubit_3: ─┤ Ry(1.4685) ├┤ Rz(2.3717) ├─────┤ X ├─────────────────┤ X ├─────»\n",
      "«          └────────────┘└────────────┘     └───┘                 └───┘     »\n",
      "«                                                   \n",
      "«qubit_0: ──────────────────────────────────────────\n",
      "«         ┌────────────┐┌────────────┐              \n",
      "«qubit_1: ┤ Ry(2.1445) ├┤ Rz(5.2287) ├──────────────\n",
      "«         └────────────┘├────────────┤┌────────────┐\n",
      "«qubit_2: ──────■───────┤ Ry(5.4448) ├┤ Rz(3.7511) ├\n",
      "«             ┌─┴─┐     ├───────────┬┘├────────────┤\n",
      "«qubit_3: ────┤ X ├─────┤ Ry(5.207) ├─┤ Rz(2.9452) ├\n",
      "«             └───┘     └───────────┘ └────────────┘\n"
     ]
    }
   ],
   "source": [
    "initial_thetas = np.random.uniform(low=0, high=2*np.pi, size=32)\n",
    "initial_eigenvector = np.identity(16)[0]\n",
    "print(get_full_entangelment_ansatz(4, initial_thetas, 3))"
   ]
  },
  {
   "cell_type": "code",
   "execution_count": 9,
   "id": "846a93ea",
   "metadata": {},
   "outputs": [
    {
     "name": "stdout",
     "output_type": "stream",
     "text": [
      "         ┌────────────────┐┌─────────────┐┌────────────┐          »\n",
      "qubit_0: ┤0               ├┤ Ry(0.38159) ├┤ Rz(0.2804) ├──■────■──»\n",
      "         │                │└┬────────────┤├────────────┤┌─┴─┐  │  »\n",
      "qubit_1: ┤1 Initialize(3) ├─┤ Ry(3.8785) ├┤ Rz(5.0571) ├┤ X ├──┼──»\n",
      "         │                │ ├───────────┬┘├────────────┤└───┘┌─┴─┐»\n",
      "qubit_2: ┤2               ├─┤ Ry(3.393) ├─┤ Rz(3.5364) ├─────┤ X ├»\n",
      "         └────────────────┘ └───────────┘ └────────────┘     └───┘»\n",
      "«         ┌────────────┐ ┌────────────┐                         ┌────────────┐»\n",
      "«qubit_0: ┤ Ry(1.5353) ├─┤ Rz(5.5166) ├─────────────────■────■──┤ Ry(1.2206) ├»\n",
      "«         └────────────┘┌┴────────────┤┌─────────────┐┌─┴─┐  │  └────────────┘»\n",
      "«qubit_1: ──────■───────┤ Ry(0.78391) ├┤ Rz(0.71301) ├┤ X ├──┼────────■───────»\n",
      "«             ┌─┴─┐     └┬───────────┬┘├─────────────┤└───┘┌─┴─┐    ┌─┴─┐     »\n",
      "«qubit_2: ────┤ X ├──────┤ Ry(4.806) ├─┤ Rz(0.48249) ├─────┤ X ├────┤ X ├─────»\n",
      "«             └───┘      └───────────┘ └─────────────┘     └───┘    └───┘     »\n",
      "«          ┌────────────┐                         ┌────────────┐┌────────────┐»\n",
      "«qubit_0: ─┤ Rz(2.3495) ├─────────────────■────■──┤ Ry(3.0384) ├┤ Rz(5.3841) ├»\n",
      "«         ┌┴────────────┤┌─────────────┐┌─┴─┐  │  └────────────┘├────────────┤»\n",
      "«qubit_1: ┤ Ry(0.22274) ├┤ Rz(0.61315) ├┤ X ├──┼────────■───────┤ Ry(2.7676) ├»\n",
      "«         └┬────────────┤└┬────────────┤└───┘┌─┴─┐    ┌─┴─┐     ├────────────┤»\n",
      "«qubit_2: ─┤ Ry(4.3132) ├─┤ Rz(1.4372) ├─────┤ X ├────┤ X ├─────┤ Ry(3.7898) ├»\n",
      "«          └────────────┘ └────────────┘     └───┘    └───┘     └────────────┘»\n",
      "«                       \n",
      "«qubit_0: ──────────────\n",
      "«         ┌────────────┐\n",
      "«qubit_1: ┤ Rz(5.3751) ├\n",
      "«         ├────────────┤\n",
      "«qubit_2: ┤ Rz(5.4746) ├\n",
      "«         └────────────┘\n"
     ]
    }
   ],
   "source": [
    "initial_thetas = np.random.uniform(low=0, high=2*np.pi, size=24)\n",
    "initial_eigenvector = np.identity(8)[0]\n",
    "print(get_full_entangelment_ansatz(3, initial_thetas, 3))"
   ]
  },
  {
   "cell_type": "code",
   "execution_count": 10,
   "id": "0defef4c",
   "metadata": {},
   "outputs": [
    {
     "name": "stdout",
     "output_type": "stream",
     "text": [
      "         ┌────────────────┐┌────────────┐┌─────────────┐     ┌────────────┐»\n",
      "qubit_0: ┤0               ├┤ Ry(3.0783) ├┤ Rz(0.25354) ├──■──┤ Ry(5.1894) ├»\n",
      "         │  Initialize(3) │├────────────┤└┬────────────┤┌─┴─┐├────────────┤»\n",
      "qubit_1: ┤1               ├┤ Ry(4.4499) ├─┤ Rz(2.4406) ├┤ X ├┤ Ry(4.7037) ├»\n",
      "         └────────────────┘└────────────┘ └────────────┘└───┘└────────────┘»\n",
      "«         ┌─────────────┐     ┌────────────┐ ┌────────────┐     ┌────────────┐»\n",
      "«qubit_0: ┤ Rz(0.87777) ├──■──┤ Ry(4.5983) ├─┤ Rz(1.4957) ├──■──┤ Ry(3.6191) ├»\n",
      "«         └┬────────────┤┌─┴─┐├────────────┤┌┴────────────┤┌─┴─┐├────────────┤»\n",
      "«qubit_1: ─┤ Rz(3.0728) ├┤ X ├┤ Ry(6.0018) ├┤ Rz(0.73668) ├┤ X ├┤ Ry(5.7226) ├»\n",
      "«          └────────────┘└───┘└────────────┘└─────────────┘└───┘└────────────┘»\n",
      "«         ┌───────────┐ \n",
      "«qubit_0: ┤ Rz(2.313) ├─\n",
      "«         ├───────────┴┐\n",
      "«qubit_1: ┤ Rz(5.6642) ├\n",
      "«         └────────────┘\n"
     ]
    }
   ],
   "source": [
    "initial_thetas = np.random.uniform(low=0, high=2*np.pi, size=16)\n",
    "initial_eigenvector = np.identity(4)[0]\n",
    "print(get_full_entangelment_ansatz(2, initial_thetas, 3))"
   ]
  },
  {
   "cell_type": "code",
   "execution_count": null,
   "id": "1362e1e3",
   "metadata": {},
   "outputs": [],
   "source": []
  }
 ],
 "metadata": {
  "kernelspec": {
   "display_name": "Qiskitenv",
   "language": "python",
   "name": "qiskitenv"
  },
  "language_info": {
   "codemirror_mode": {
    "name": "ipython",
    "version": 3
   },
   "file_extension": ".py",
   "mimetype": "text/x-python",
   "name": "python",
   "nbconvert_exporter": "python",
   "pygments_lexer": "ipython3",
   "version": "3.8.13"
  }
 },
 "nbformat": 4,
 "nbformat_minor": 5
}
