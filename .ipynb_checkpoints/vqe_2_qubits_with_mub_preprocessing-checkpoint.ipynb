{
 "cells": [
  {
   "cell_type": "code",
   "execution_count": 171,
   "id": "213d256a",
   "metadata": {},
   "outputs": [
    {
     "name": "stdout",
     "output_type": "stream",
     "text": [
      "The autoreload extension is already loaded. To reload it, use:\n",
      "  %reload_ext autoreload\n"
     ]
    }
   ],
   "source": [
    "%load_ext autoreload\n",
    "%autoreload 2"
   ]
  },
  {
   "cell_type": "markdown",
   "id": "c4c77734",
   "metadata": {},
   "source": [
    "### Basic Imports"
   ]
  },
  {
   "cell_type": "code",
   "execution_count": 172,
   "id": "9431f6b7",
   "metadata": {},
   "outputs": [],
   "source": [
    "import nbimporter\n",
    "from typing import Dict, Tuple, List\n",
    "import numpy as np\n",
    "from tqdm import tqdm"
   ]
  },
  {
   "cell_type": "markdown",
   "id": "4ff98362",
   "metadata": {},
   "source": [
    "### Env Vars"
   ]
  },
  {
   "cell_type": "code",
   "execution_count": 173,
   "id": "9c7250c3",
   "metadata": {},
   "outputs": [],
   "source": [
    "QUBITS_NUM = 2 \n",
    "N = 2**QUBITS_NUM\n",
    "\n",
    "NUM_SHOTS = 1024\n",
    "\n",
    "CIRCUIT_DEPTH = 3\n",
    "PARAMS_NUM = 2*QUBITS_NUM*(CIRCUIT_DEPTH+1)\n",
    "\n",
    "initial_quantum_state = np.identity(N)[0]"
   ]
  },
  {
   "cell_type": "markdown",
   "id": "6dcb0625",
   "metadata": {},
   "source": [
    "### Simulator Backend"
   ]
  },
  {
   "cell_type": "code",
   "execution_count": 174,
   "id": "8e287170",
   "metadata": {},
   "outputs": [],
   "source": [
    "from qiskit import Aer\n",
    "from qiskit.utils import QuantumInstance, algorithm_globals\n",
    "\n",
    "seed = 50\n",
    "algorithm_globals.random_seed = seed\n",
    "\n",
    "simulator_backend = Aer.get_backend('qasm_simulator')"
   ]
  },
  {
   "cell_type": "markdown",
   "id": "5cc189d2",
   "metadata": {},
   "source": [
    "### Optimizer"
   ]
  },
  {
   "cell_type": "code",
   "execution_count": 175,
   "id": "aea5f838",
   "metadata": {},
   "outputs": [],
   "source": [
    "from scipy.optimize import minimize"
   ]
  },
  {
   "cell_type": "markdown",
   "id": "6681d9cf",
   "metadata": {},
   "source": [
    "### Ansatz State"
   ]
  },
  {
   "cell_type": "code",
   "execution_count": 176,
   "id": "ed679eb5",
   "metadata": {},
   "outputs": [],
   "source": [
    "from linear_entangelment_and_full_entangelment_ansatz_circuits import *"
   ]
  },
  {
   "cell_type": "code",
   "execution_count": 177,
   "id": "9ebdb4f8",
   "metadata": {},
   "outputs": [],
   "source": [
    "def get_ansatz_state(thetas, input_state, ansatz_entangelment=\"full\"):\n",
    "    if ansatz_entangelment==\"full\":\n",
    "        return get_full_entangelment_ansatz(QUBITS_NUM, thetas, input_state)\n",
    "    if ansatz_entangelment==\"linear\":\n",
    "        return get_linear_entangelment_ansatz(QUBITS_NUM, thetas, input_state)"
   ]
  },
  {
   "cell_type": "markdown",
   "id": "21777faa",
   "metadata": {},
   "source": [
    "## Expectation Value"
   ]
  },
  {
   "cell_type": "markdown",
   "id": "d320f1b6",
   "metadata": {},
   "source": [
    "### convert hamiltonian to pauli strings"
   ]
  },
  {
   "cell_type": "code",
   "execution_count": 178,
   "id": "56435355",
   "metadata": {},
   "outputs": [],
   "source": [
    "def transfrom_hamiltonian_into_pauli_strings(hamiltonian) -> List:\n",
    "    pauli_operators = hamiltonian.to_pauli_op().settings['oplist']\n",
    "    pauli_coeffs = list(map(lambda pauli_operator: pauli_operator.coeff, pauli_operators))\n",
    "    pauli_strings = list(map(lambda pauli_operator: pauli_operator.primitive, pauli_operators))\n",
    "    return pauli_coeffs, pauli_strings"
   ]
  },
  {
   "cell_type": "markdown",
   "id": "de5f75c3",
   "metadata": {},
   "source": [
    "### pauli string reduction to sigma_z's"
   ]
  },
  {
   "cell_type": "code",
   "execution_count": 179,
   "id": "347de6bb",
   "metadata": {},
   "outputs": [],
   "source": [
    "from qiskit.circuit.library.standard_gates import HGate, SGate\n",
    "from qiskit import QuantumCircuit, ClassicalRegister, QuantumRegister"
   ]
  },
  {
   "cell_type": "code",
   "execution_count": 180,
   "id": "dbbe79ef",
   "metadata": {},
   "outputs": [],
   "source": [
    "reducing_to_pauli_z_mapping = {\n",
    "    'I': 'I',\n",
    "    'Z': 'Z',\n",
    "    'X': 'Z',\n",
    "    'Y': 'Z'\n",
    "} "
   ]
  },
  {
   "cell_type": "code",
   "execution_count": 181,
   "id": "6f94927f",
   "metadata": {},
   "outputs": [],
   "source": [
    "def reduce_pauli_matrixes_into_sigma_z(pauli_string) -> str:\n",
    "    reduced_pauli_string = \"\"\n",
    "    for matrix_index in range(QUBITS_NUM):\n",
    "        pauli_matrix = str(pauli_string[matrix_index])\n",
    "        reduced_pauli_matrix = reducing_to_pauli_z_mapping[pauli_matrix]\n",
    "        reduced_pauli_string = reduced_pauli_matrix + reduced_pauli_string\n",
    "    \n",
    "    return reduced_pauli_string"
   ]
  },
  {
   "cell_type": "code",
   "execution_count": 182,
   "id": "e6f0562f",
   "metadata": {},
   "outputs": [],
   "source": [
    "def add_layer_of_gates_for_reducing_paulis_to_sigma_z(pauli_string, quantum_circuit):\n",
    "    quantum_registers = QuantumRegister(QUBITS_NUM, name=\"qubit\")\n",
    "    additional_circuit_layer = QuantumCircuit(quantum_registers)\n",
    "    \n",
    "    for quantum_register_index, pauli_matrix in enumerate(pauli_string):\n",
    "        if pauli_matrix == \"X\":\n",
    "            additional_circuit_layer.append(HGate(), [quantum_registers[quantum_register_index]])\n",
    "        if pauli_string == \"Y\":\n",
    "            additional_circuit_layer.append(HGate(), [quantum_registers[quantum_register_index]])\n",
    "            additional_circuit_layer.append(SGate(), [quantum_registers[quantum_register_index]])\n",
    "                \n",
    "    extended_quantum_circuit = quantum_circuit.compose(additional_circuit_layer)\n",
    "    return extended_quantum_circuit"
   ]
  },
  {
   "cell_type": "markdown",
   "id": "ce83fae9",
   "metadata": {},
   "source": [
    "### probabilities distribution"
   ]
  },
  {
   "cell_type": "code",
   "execution_count": 183,
   "id": "84e65e31",
   "metadata": {},
   "outputs": [],
   "source": [
    "def get_probability_distribution(counts: Dict) -> Dict:\n",
    "    proba_distribution = {state: (count / NUM_SHOTS) for state, count in counts.items()}\n",
    "    return proba_distribution\n",
    "\n",
    "def calculate_probabilities_of_measurments_in_computational_basis(quantum_state_circuit) -> Dict:\n",
    "    quantum_state_circuit.measure_all()\n",
    "    \n",
    "    transpiled_quantum_state_circuit = transpile(quantum_state_circuit, simulator_backend) \n",
    "    Qobj = assemble(transpiled_quantum_state_circuit)\n",
    "    result = simulator_backend.run(Qobj).result()\n",
    "    counts = result.get_counts(quantum_state_circuit)\n",
    "    \n",
    "    return get_probability_distribution(counts)"
   ]
  },
  {
   "cell_type": "markdown",
   "id": "b9286e5d",
   "metadata": {},
   "source": [
    "### Expectation value from probabilities"
   ]
  },
  {
   "cell_type": "code",
   "execution_count": 184,
   "id": "38a72356",
   "metadata": {},
   "outputs": [],
   "source": [
    "def sort_probas_dict_by_qubits_string_keys(proba_distribution: Dict) -> Dict:\n",
    "    return dict(sorted(proba_distribution.items()))\n",
    "\n",
    "def reset_power_of_minus_1(power_of_minus_1):\n",
    "    power_of_minus_1 = 0\n",
    "    return power_of_minus_1\n",
    "\n",
    "def convert_pauli_string_into_str(pauli_string) -> str:\n",
    "    return str(pauli_string)\n",
    "\n",
    "def calculate_expectation_value_of_pauli_string_by_measurments_probas(pauli_string, ansatz_circuit):\n",
    "    pauli_string_expectation_value = 0\n",
    "    power_of_minus_1 = 0\n",
    "    \n",
    "    pauli_string_str = convert_pauli_string_into_str(pauli_string)\n",
    "    extended_ansatz_circuit = add_layer_of_gates_for_reducing_paulis_to_sigma_z(pauli_string_str, ansatz_circuit)\n",
    "    probas_distribution = calculate_probabilities_of_measurments_in_computational_basis(extended_ansatz_circuit)\n",
    "    \n",
    "    reduced_pauli_string = reduce_pauli_matrixes_into_sigma_z(pauli_string)\n",
    "    sorted_probas_distribuition = sort_probas_dict_by_qubits_string_keys(probas_distribution)\n",
    "    for qubits_string, proba in sorted_probas_distribuition.items():\n",
    "        for string_index in range(QUBITS_NUM):\n",
    "            if(str(qubits_string[string_index])==\"1\" and str(reduced_pauli_string[string_index])==\"Z\"):\n",
    "                power_of_minus_1 += 1\n",
    "            \n",
    "        pauli_string_expectation_value += pow(-1, power_of_minus_1)*proba\n",
    "        power_of_minus_1 = reset_power_of_minus_1(power_of_minus_1)\n",
    "        \n",
    "    return pauli_string_expectation_value"
   ]
  },
  {
   "cell_type": "code",
   "execution_count": 185,
   "id": "c263be2b",
   "metadata": {},
   "outputs": [],
   "source": [
    "def get_expectation_value(ansatz_circuit, pauli_coeffs, pauli_strings):\n",
    "    total_expection_value = 0\n",
    "    \n",
    "    for pauli_coeff, pauli_string in tqdm(zip(pauli_coeffs, pauli_strings)):\n",
    "        total_expection_value += pauli_coeff*calculate_expectation_value_of_pauli_string_by_measurments_probas(\n",
    "                                                                                    pauli_string, ansatz_circuit)\n",
    "    \n",
    "    return total_expection_value"
   ]
  },
  {
   "cell_type": "markdown",
   "id": "a79fc302",
   "metadata": {},
   "source": [
    "## Objective Function"
   ]
  },
  {
   "cell_type": "code",
   "execution_count": 186,
   "id": "e3f4d330",
   "metadata": {},
   "outputs": [],
   "source": [
    "from qiskit import assemble, transpile\n",
    "import random\n",
    "\n",
    "def cost_function(thetas, hamiltonian, initial_eigenvector):    \n",
    "    pauli_coeffs, pauli_strings = transfrom_hamiltonian_into_pauli_strings(hamiltonian)\n",
    "    ansatz_state = get_ansatz_state(thetas, initial_eigenvector)\n",
    "        \n",
    "    L = get_expectation_value(ansatz_state, pauli_coeffs, pauli_strings)\n",
    "    insert_approximated_energy_to_list_of_all_approximated_energies(L)\n",
    "        \n",
    "    return L"
   ]
  },
  {
   "cell_type": "markdown",
   "id": "e8ac20b3",
   "metadata": {},
   "source": [
    "## Optimization"
   ]
  },
  {
   "cell_type": "code",
   "execution_count": 187,
   "id": "9b2663d2",
   "metadata": {},
   "outputs": [],
   "source": [
    "def get_optimal_thetas_of_ansatz_circuit_for_hamiltonian(hamiltonian, initial_eigenvector):\n",
    "    initial_thetas = np.random.uniform(low=0, high=2*np.pi, size=PARAMS_NUM)\n",
    "    optimizer_result = minimize(cost_function,\n",
    "                                x0=initial_thetas,\n",
    "                                args=(hamiltonian, initial_eigenvector),\n",
    "                                method=\"COBYLA\",\n",
    "                                options={\"maxiter\":NUM_ITERATIONS,\n",
    "                                        \"disp\": True})\n",
    "    optimal_thetas = optimizer_result.x\n",
    "    \n",
    "    return optimal_thetas"
   ]
  },
  {
   "cell_type": "code",
   "execution_count": 188,
   "id": "80c13445",
   "metadata": {},
   "outputs": [],
   "source": [
    "def get_approximated_eigenvalue_of_hamiltonian(hamiltonian, initial_eigenvector):    \n",
    "    optimal_thetas = get_optimal_thetas_of_ansatz_circuit_for_hamiltonian(hamiltonian, initial_eigenvector)\n",
    "    optimal_ansatz_state = get_ansatz_state(optimal_thetas, initial_eigenvector)\n",
    "    \n",
    "    pauli_coeffs, pauli_strings = transfrom_hamiltonian_into_pauli_strings(hamiltonian)\n",
    "    approximated_eigenvalue = get_expectation_value(optimal_ansatz_state, pauli_coeffs, pauli_strings)\n",
    "\n",
    "    return approximated_eigenvalue"
   ]
  },
  {
   "cell_type": "markdown",
   "id": "7b410988",
   "metadata": {},
   "source": [
    "## Comparsion"
   ]
  },
  {
   "cell_type": "code",
   "execution_count": 189,
   "id": "6cbe0758",
   "metadata": {},
   "outputs": [],
   "source": [
    "from numpy import linalg as LA\n",
    "\n",
    "def get_approximation_error(exact_eigenvalue, approximated_eigenvalue):\n",
    "    return abs(abs(exact_eigenvalue)-abs(approximated_eigenvalue))/abs(exact_eigenvalue)"
   ]
  },
  {
   "cell_type": "code",
   "execution_count": 190,
   "id": "28b63147",
   "metadata": {},
   "outputs": [],
   "source": [
    "def get_minimum_exact_eigenvalue_of_hamiltonian(hamiltonian):\n",
    "    eigen_values = LA.eigvals(hamiltonian.to_matrix())\n",
    "    \n",
    "    return min(sorted(eigen_values))"
   ]
  },
  {
   "cell_type": "code",
   "execution_count": 191,
   "id": "529a29d1",
   "metadata": {},
   "outputs": [],
   "source": [
    "def compare_exact_and_approximated_eigenvalue(hamiltonian, approximated_eigenvalue):\n",
    "    exact_eigenvalue = get_minimum_exact_eigenvalue_of_hamiltonian(hamiltonian)\n",
    "    print(\"Exact Eigenvalue:\")\n",
    "    print(exact_eigenvalue)\n",
    "    print(\"\\nApproximated Eigenvalue:\")\n",
    "    print(approximated_eigenvalue)\n",
    "\n",
    "    print(\"\\nApproximation Error\")\n",
    "    print(get_approximation_error(exact_eigenvalue, approximated_eigenvalue))\n",
    "    \n",
    "    plot_convergence_of_optimization_process(exact_eigenvalue, margin=3)"
   ]
  },
  {
   "cell_type": "markdown",
   "id": "c1452964",
   "metadata": {},
   "source": [
    "## Visualization"
   ]
  },
  {
   "cell_type": "code",
   "execution_count": 192,
   "id": "75c3e505",
   "metadata": {},
   "outputs": [],
   "source": [
    "approximated_energies = []"
   ]
  },
  {
   "cell_type": "code",
   "execution_count": 193,
   "id": "5c4331c6",
   "metadata": {},
   "outputs": [],
   "source": [
    "def insert_approximated_energy_to_list_of_all_approximated_energies(energy):\n",
    "    approximated_energies.append(energy)"
   ]
  },
  {
   "cell_type": "code",
   "execution_count": 194,
   "id": "26026bbb",
   "metadata": {},
   "outputs": [],
   "source": [
    "import matplotlib.pyplot as plt\n",
    "\n",
    "def plot_convergence_of_optimization_process(exact_eigenvalue, margin):\n",
    "    plt.title(\"convergence of optimization process to the exact eigenvalue\")\n",
    "    plt.margins(0, margin)\n",
    "    plt.plot(approximated_energies[-NUM_ITERATIONS:])\n",
    "    plt.axhline(y = exact_eigenvalue, color = 'r', linestyle = '-')\n",
    "    plt.grid()\n",
    "    plt.xlabel(\"# of iterations\")\n",
    "    plt.ylabel(\"Energy\")\n",
    "    \n",
    "def plot_fidelity():\n",
    "    plt.plot(LiH_approximated_energies)\n",
    "    plt.xlabel(\"# of iterations\")\n",
    "    plt.ylabel(\"Energy\")"
   ]
  },
  {
   "cell_type": "markdown",
   "id": "68892c33",
   "metadata": {},
   "source": [
    "## Transverse Ising Model 2 qubits"
   ]
  },
  {
   "cell_type": "code",
   "execution_count": 195,
   "id": "d8a0c4e6",
   "metadata": {},
   "outputs": [],
   "source": [
    "from qiskit.opflow import X, Z, I"
   ]
  },
  {
   "cell_type": "code",
   "execution_count": 196,
   "id": "58136107",
   "metadata": {},
   "outputs": [],
   "source": [
    "transverse_ising_2_qubits = 0.13755727363376802 * (I^X) \\\n",
    "                            + 0.43305656297810435 * (X^I) \\\n",
    "                            + 0.8538597608997253 * (Z^Z)"
   ]
  },
  {
   "cell_type": "code",
   "execution_count": 197,
   "id": "c06487da",
   "metadata": {},
   "outputs": [
    {
     "name": "stderr",
     "output_type": "stream",
     "text": [
      "3it [00:00, 17.81it/s]\n",
      "3it [00:00, 10.50it/s]\n",
      "3it [00:00, 17.96it/s]\n",
      "3it [00:00, 20.16it/s]\n",
      "3it [00:00, 16.94it/s]\n",
      "3it [00:00, 13.70it/s]\n",
      "3it [00:00, 20.41it/s]\n",
      "3it [00:00, 17.86it/s]\n",
      "3it [00:00, 11.67it/s]\n",
      "3it [00:00, 13.09it/s]\n",
      "3it [00:00, 19.23it/s]\n",
      "3it [00:00, 19.48it/s]\n",
      "3it [00:00, 13.62it/s]\n",
      "3it [00:00, 14.66it/s]\n",
      "3it [00:00, 17.54it/s]\n",
      "3it [00:00, 18.42it/s]\n",
      "3it [00:00, 10.93it/s]\n",
      "3it [00:00, 18.61it/s]\n",
      "3it [00:00, 18.84it/s]\n",
      "3it [00:00, 18.19it/s]\n",
      "3it [00:00, 12.27it/s]\n",
      "3it [00:00, 19.23it/s]\n",
      "3it [00:00, 19.23it/s]\n",
      "3it [00:00, 13.01it/s]\n",
      "3it [00:00, 15.00it/s]\n",
      "3it [00:00, 20.51it/s]\n",
      "3it [00:00, 15.81it/s]\n",
      "3it [00:00, 10.57it/s]\n",
      "3it [00:00, 19.64it/s]\n",
      "3it [00:00, 19.52it/s]\n",
      "3it [00:00, 14.70it/s]\n",
      "3it [00:00, 14.58it/s]\n",
      "3it [00:00, 18.07it/s]\n",
      "3it [00:00, 18.91it/s]\n",
      "3it [00:00, 10.60it/s]\n",
      "3it [00:00, 19.11it/s]\n",
      "3it [00:00, 18.81it/s]\n",
      "3it [00:00, 15.15it/s]\n",
      "3it [00:00, 17.61it/s]\n",
      "3it [00:00, 19.55it/s]\n",
      "3it [00:00, 19.99it/s]\n",
      "3it [00:00, 11.52it/s]\n",
      "3it [00:00, 18.05it/s]\n",
      "3it [00:00, 16.98it/s]\n",
      "3it [00:00, 17.34it/s]\n",
      "3it [00:00, 11.08it/s]\n",
      "3it [00:00, 19.67it/s]\n",
      "3it [00:00, 21.05it/s]\n",
      "3it [00:00, 14.49it/s]\n",
      "3it [00:00, 14.66it/s]\n",
      "3it [00:00, 19.42it/s]"
     ]
    },
    {
     "name": "stdout",
     "output_type": "stream",
     "text": [
      "CPU times: total: 8.62 s\n",
      "Wall time: 10 s\n"
     ]
    },
    {
     "name": "stderr",
     "output_type": "stream",
     "text": [
      "\n"
     ]
    }
   ],
   "source": [
    "%%time\n",
    "TI_approximated_eigenvalue = get_approximated_eigenvalue_of_hamiltonian(transverse_ising_2_qubits, initial_quantum_state)"
   ]
  },
  {
   "cell_type": "code",
   "execution_count": 198,
   "id": "65ad38bc",
   "metadata": {},
   "outputs": [
    {
     "name": "stdout",
     "output_type": "stream",
     "text": [
      "Exact Eigenvalue:\n",
      "(-1.0269745088446245+0j)\n",
      "\n",
      "Approximated Eigenvalue:\n",
      "-0.960049627267689\n",
      "\n",
      "Approximation Error\n",
      "0.0651670328723425\n"
     ]
    },
    {
     "data": {
      "image/png": "[encoded data removed]",
      "text/plain": [
       "<Figure size 432x288 with 1 Axes>"
      ]
     },
     "metadata": {
      "needs_background": "light"
     },
     "output_type": "display_data"
    }
   ],
   "source": [
    "compare_exact_and_approximated_eigenvalue(transverse_ising_2_qubits, TI_approximated_eigenvalue)"
   ]
  },
  {
   "cell_type": "markdown",
   "id": "e9cf7ccb",
   "metadata": {},
   "source": [
    "## H2 Molecule 2 qubits"
   ]
  },
  {
   "cell_type": "code",
   "execution_count": 199,
   "id": "2909cd68",
   "metadata": {},
   "outputs": [],
   "source": [
    "from qiskit.opflow import X, Z, I\n",
    "\n",
    "H2_molecule_Hamiltonian_2_qubits = -0.5053051899926562*(I^I) + \\\n",
    "                            -0.3277380754984016*(Z^I) + \\\n",
    "                            0.15567463610622564*(Z^Z) + \\\n",
    "                            -0.3277380754984016*(I^Z)"
   ]
  },
  {
   "cell_type": "code",
   "execution_count": 200,
   "id": "c027435b",
   "metadata": {},
   "outputs": [
    {
     "name": "stderr",
     "output_type": "stream",
     "text": [
      "4it [00:00, 12.20it/s]\n",
      "4it [00:00, 18.92it/s]\n",
      "4it [00:00, 20.12it/s]\n",
      "4it [00:00, 13.33it/s]\n",
      "4it [00:00, 19.09it/s]\n",
      "4it [00:00, 20.30it/s]\n",
      "4it [00:00, 14.43it/s]\n",
      "4it [00:00, 18.73it/s]\n",
      "4it [00:00, 14.73it/s]\n",
      "4it [00:00, 13.46it/s]\n",
      "4it [00:00, 20.46it/s]\n",
      "4it [00:00, 16.10it/s]\n",
      "4it [00:00, 14.44it/s]\n",
      "4it [00:00, 19.90it/s]\n",
      "4it [00:00, 15.67it/s]\n",
      "4it [00:00, 14.21it/s]\n",
      "4it [00:00, 16.95it/s]\n",
      "4it [00:00,  9.78it/s]\n",
      "4it [00:00, 16.61it/s]\n",
      "4it [00:00,  9.68it/s]\n",
      "4it [00:00, 15.69it/s]\n",
      "4it [00:00, 16.54it/s]\n",
      "4it [00:00, 16.78it/s]\n",
      "4it [00:00, 18.83it/s]\n",
      "4it [00:00, 11.66it/s]\n",
      "4it [00:00, 18.56it/s]\n",
      "4it [00:00, 19.15it/s]\n",
      "4it [00:00, 11.65it/s]\n",
      "4it [00:00, 19.72it/s]\n",
      "4it [00:00, 15.46it/s]\n",
      "4it [00:00, 12.15it/s]\n",
      "4it [00:00, 17.17it/s]\n",
      "4it [00:00, 12.63it/s]\n",
      "4it [00:00, 17.13it/s]\n",
      "4it [00:00, 19.23it/s]\n",
      "4it [00:00, 12.52it/s]\n",
      "4it [00:00, 18.72it/s]\n",
      "4it [00:00, 20.28it/s]\n",
      "4it [00:00, 14.72it/s]\n",
      "4it [00:00, 14.61it/s]\n",
      "4it [00:00, 17.58it/s]\n",
      "4it [00:00, 12.85it/s]\n",
      "4it [00:00, 16.60it/s]\n",
      "4it [00:00, 17.35it/s]\n",
      "4it [00:00, 13.37it/s]\n",
      "4it [00:00, 18.55it/s]\n",
      "4it [00:00, 11.00it/s]\n",
      "4it [00:00, 17.32it/s]\n",
      "4it [00:00, 18.43it/s]\n",
      "4it [00:00, 10.04it/s]\n",
      "4it [00:00, 18.91it/s]"
     ]
    },
    {
     "name": "stdout",
     "output_type": "stream",
     "text": [
      "CPU times: total: 11.4 s\n",
      "Wall time: 13.8 s\n"
     ]
    },
    {
     "name": "stderr",
     "output_type": "stream",
     "text": [
      "\n"
     ]
    }
   ],
   "source": [
    "%%time\n",
    "H2_approximated_eigenvalue = get_approximated_eigenvalue_of_hamiltonian(H2_molecule_Hamiltonian_2_qubits, initial_quantum_state)"
   ]
  },
  {
   "cell_type": "code",
   "execution_count": 201,
   "id": "d45ad4e5",
   "metadata": {},
   "outputs": [
    {
     "name": "stdout",
     "output_type": "stream",
     "text": [
      "Exact Eigenvalue:\n",
      "(-1.0051067048832336+0j)\n",
      "\n",
      "Approximated Eigenvalue:\n",
      "-0.9894879075429033\n",
      "\n",
      "Approximation Error\n",
      "0.015539441996006605\n"
     ]
    },
    {
     "data": {
      "image/png": "[encoded data removed]",
      "text/plain": [
       "<Figure size 432x288 with 1 Axes>"
      ]
     },
     "metadata": {
      "needs_background": "light"
     },
     "output_type": "display_data"
    }
   ],
   "source": [
    "compare_exact_and_approximated_eigenvalue(H2_molecule_Hamiltonian_2_qubits, H2_approximated_eigenvalue)"
   ]
  },
  {
   "cell_type": "code",
   "execution_count": null,
   "id": "f59e51ae",
   "metadata": {},
   "outputs": [],
   "source": []
  }
 ],
 "metadata": {
  "kernelspec": {
   "display_name": "Qiskitenv",
   "language": "python",
   "name": "qiskitenv"
  },
  "language_info": {
   "codemirror_mode": {
    "name": "ipython",
    "version": 3
   },
   "file_extension": ".py",
   "mimetype": "text/x-python",
   "name": "python",
   "nbconvert_exporter": "python",
   "pygments_lexer": "ipython3",
   "version": "3.8.13"
  }
 },
 "nbformat": 4,
 "nbformat_minor": 5
}
