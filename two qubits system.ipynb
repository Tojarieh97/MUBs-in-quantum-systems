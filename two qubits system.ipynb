{
 "cells": [
  {
   "cell_type": "code",
   "execution_count": 2,
   "id": "95da44d9",
   "metadata": {},
   "outputs": [],
   "source": [
    "from qiskit.circuit.library.standard_gates import RXGate, RZGate, RYGate, CXGate, CZGate, SGate, HGate\n",
    "from qiskit import QuantumCircuit, ClassicalRegister, QuantumRegister\n",
    "\n",
    "import numpy as np"
   ]
  },
  {
   "cell_type": "code",
   "execution_count": 3,
   "id": "02604014",
   "metadata": {},
   "outputs": [],
   "source": [
    "from qiskit import Aer\n",
    "from qiskit.utils import QuantumInstance, algorithm_globals\n",
    "\n",
    "seed = 50\n",
    "algorithm_globals.random_seed = seed\n",
    "\n",
    "simulator_backend = Aer.get_backend('qasm_simulator')"
   ]
  },
  {
   "cell_type": "code",
   "execution_count": 4,
   "id": "46af3fe0",
   "metadata": {},
   "outputs": [],
   "source": [
    "def get_linear_entangelment_ansatz(num_of_qubits, thetas, input_state, circuit_depth=3):\n",
    "    quantum_register = QuantumRegister(num_of_qubits, name=\"qubit\")\n",
    "    quantum_circuit = QuantumCircuit(quantum_register)\n",
    "    quantum_circuit.initialize(input_state)\n",
    "\n",
    "    for iteration in range(circuit_depth):\n",
    "        for qubit_index in range(num_of_qubits):\n",
    "            RY_theta_index = iteration*2*num_of_qubits + qubit_index\n",
    "            RZ_theta_index = RY_theta_index + num_of_qubits\n",
    "            \n",
    "            quantum_circuit.append(RYGate(thetas[RY_theta_index]), [quantum_register[qubit_index]])\n",
    "            quantum_circuit.append(RZGate(thetas[RZ_theta_index]), [quantum_register[qubit_index]])\n",
    "            \n",
    "        for qubit_index in range(num_of_qubits - 1):\n",
    "            quantum_circuit.append(CXGate(), [quantum_register[qubit_index], quantum_register[qubit_index + 1]])\n",
    "\n",
    "    for qubit_index in range(num_of_qubits):\n",
    "            RY_theta_index = 2*num_of_qubits*circuit_depth + qubit_index\n",
    "            RZ_theta_index = RY_theta_index + num_of_qubits\n",
    "            quantum_circuit.append(RYGate(thetas[RY_theta_index]), [quantum_register[qubit_index]])\n",
    "            quantum_circuit.append(RZGate(thetas[RZ_theta_index]), [quantum_register[qubit_index]])\n",
    "\n",
    "    return quantum_circuit"
   ]
  },
  {
   "cell_type": "code",
   "execution_count": 5,
   "id": "5dd32781",
   "metadata": {},
   "outputs": [],
   "source": [
    "def get_full_entangelment_ansatz(num_of_qubits, thetas, input_state, circuit_depth=3):\n",
    "    quantum_register = QuantumRegister(num_of_qubits, name=\"qubit\")\n",
    "    quantum_circuit = QuantumCircuit(quantum_register)\n",
    "    quantum_circuit.initialize(input_state)\n",
    "\n",
    "    for iteration in range(circuit_depth):\n",
    "        for qubit_index in range(num_of_qubits):\n",
    "            RY_theta_index = iteration*2*num_of_qubits + qubit_index\n",
    "            RZ_theta_index = RY_theta_index + num_of_qubits\n",
    "            \n",
    "            quantum_circuit.append(RYGate(thetas[RY_theta_index]), [quantum_register[qubit_index]])\n",
    "            quantum_circuit.append(RZGate(thetas[RZ_theta_index]), [quantum_register[qubit_index]])\n",
    "        for qubit_index in range(num_of_qubits - 1):\n",
    "            for target_qubit_index in range(qubit_index + 1, num_of_qubits):\n",
    "                quantum_circuit.append(CXGate(), [quantum_register[qubit_index], quantum_register[target_qubit_index]])\n",
    "\n",
    "    for qubit_index in range(num_of_qubits):\n",
    "            RY_theta_index = 2*num_of_qubits*circuit_depth + qubit_index\n",
    "            RZ_theta_index = RY_theta_index + num_of_qubits\n",
    "            \n",
    "            quantum_circuit.append(RYGate(thetas[RY_theta_index]), [quantum_register[qubit_index]])\n",
    "            quantum_circuit.append(RZGate(thetas[RZ_theta_index]), [quantum_register[qubit_index]])\n",
    "\n",
    "    return quantum_circuit"
   ]
  },
  {
   "cell_type": "code",
   "execution_count": 6,
   "id": "55d9e93e",
   "metadata": {},
   "outputs": [],
   "source": [
    "QUBITS_NUM = 2\n",
    "N = 2**QUBITS_NUM\n",
    "\n",
    "NUM_SHOTS = 1024\n",
    "NUM_ITERATIONS = 50\n",
    "\n",
    "CIRCUIT_DEPTH = 3\n",
    "PARAMS_NUM = 2*QUBITS_NUM*(CIRCUIT_DEPTH+1)"
   ]
  },
  {
   "cell_type": "markdown",
   "id": "9dcb2186",
   "metadata": {},
   "source": [
    "#### convert hamiltonian to pauli strings"
   ]
  },
  {
   "cell_type": "code",
   "execution_count": 7,
   "id": "7c43a40b",
   "metadata": {},
   "outputs": [],
   "source": [
    "from typing import Dict, Tuple, List"
   ]
  },
  {
   "cell_type": "code",
   "execution_count": 8,
   "id": "535bbb2f",
   "metadata": {},
   "outputs": [],
   "source": [
    "def transfrom_hamiltonian_into_pauli_strings(hamiltonian) -> List:\n",
    "    pauli_operators = hamiltonian.to_pauli_op().settings['oplist']\n",
    "    pauli_coeffs = list(map(lambda pauli_operator: pauli_operator.coeff, pauli_operators))\n",
    "    pauli_strings = list(map(lambda pauli_operator: pauli_operator.primitive, pauli_operators))\n",
    "    return pauli_coeffs, pauli_strings"
   ]
  },
  {
   "cell_type": "code",
   "execution_count": 9,
   "id": "dc445cf1",
   "metadata": {},
   "outputs": [],
   "source": [
    "reducing_to_pauli_z_mapping = {\n",
    "    'I': 'I',\n",
    "    'Z': 'Z',\n",
    "    'X': 'Z',\n",
    "    'Y': 'Z'\n",
    "} "
   ]
  },
  {
   "cell_type": "code",
   "execution_count": 10,
   "id": "98123375",
   "metadata": {},
   "outputs": [],
   "source": [
    "def reduce_pauli_matrixes_into_sigma_z(pauli_string) -> str:\n",
    "    reduced_pauli_string = \"\"\n",
    "    for matrix_index in range(QUBITS_NUM):\n",
    "        pauli_matrix = str(pauli_string[matrix_index])\n",
    "        reduced_pauli_matrix = reducing_to_pauli_z_mapping[pauli_matrix]\n",
    "        reduced_pauli_string = reduced_pauli_matrix + reduced_pauli_string\n",
    "    \n",
    "    return reduced_pauli_string"
   ]
  },
  {
   "cell_type": "code",
   "execution_count": 11,
   "id": "726d3839",
   "metadata": {},
   "outputs": [],
   "source": [
    "def add_layer_of_gates_for_reducing_paulis_to_sigma_z(pauli_string, quantum_circuit):\n",
    "    quantum_registers = QuantumRegister(QUBITS_NUM, name=\"qubit\")\n",
    "    additional_circuit_layer = QuantumCircuit(quantum_registers)\n",
    "    \n",
    "    for quantum_register_index, pauli_matrix in enumerate(pauli_string):\n",
    "        if pauli_matrix == \"X\":\n",
    "            additional_circuit_layer.append(HGate(), [quantum_registers[quantum_register_index]])\n",
    "        if pauli_string == \"Y\":\n",
    "            additional_circuit_layer.append(HGate(), [quantum_registers[quantum_register_index]])\n",
    "            additional_circuit_layer.append(SGate(), [quantum_registers[quantum_register_index]])\n",
    "                \n",
    "    extended_quantum_circuit = quantum_circuit.compose(additional_circuit_layer)\n",
    "    return extended_quantum_circuit"
   ]
  },
  {
   "cell_type": "markdown",
   "id": "1c30cfd5",
   "metadata": {},
   "source": [
    "#### probabilities distribution"
   ]
  },
  {
   "cell_type": "code",
   "execution_count": 12,
   "id": "86f1189e",
   "metadata": {},
   "outputs": [],
   "source": [
    "from qiskit import assemble, transpile"
   ]
  },
  {
   "cell_type": "code",
   "execution_count": 13,
   "id": "d61187be",
   "metadata": {},
   "outputs": [],
   "source": [
    "def get_probability_distribution(counts: Dict) -> Dict:\n",
    "    proba_distribution = {state: (count / NUM_SHOTS) for state, count in counts.items()}\n",
    "    return proba_distribution\n",
    "\n",
    "def calculate_probabilities_of_measurments_in_computational_basis(quantum_state_circuit) -> Dict:\n",
    "    quantum_state_circuit.measure_all()\n",
    "    \n",
    "    transpiled_quantum_state_circuit = transpile(quantum_state_circuit, simulator_backend) \n",
    "    Qobj = assemble(transpiled_quantum_state_circuit)\n",
    "    result = simulator_backend.run(Qobj).result()\n",
    "    counts = result.get_counts(quantum_state_circuit)\n",
    "    \n",
    "    return get_probability_distribution(counts)"
   ]
  },
  {
   "cell_type": "markdown",
   "id": "232e0503",
   "metadata": {},
   "source": [
    "#### Expectation value from probabilities"
   ]
  },
  {
   "cell_type": "code",
   "execution_count": 14,
   "id": "d463b826",
   "metadata": {},
   "outputs": [],
   "source": [
    "def sort_probas_dict_by_qubits_string_keys(proba_distribution: Dict) -> Dict:\n",
    "    return dict(sorted(proba_distribution.items()))\n",
    "\n",
    "def reset_power_of_minus_1(power_of_minus_1):\n",
    "    power_of_minus_1 = 0\n",
    "    return power_of_minus_1\n",
    "\n",
    "def convert_pauli_string_into_str(pauli_string) -> str:\n",
    "    return str(pauli_string)\n",
    "\n",
    "def calculate_expectation_value_of_pauli_string_by_measurments_probas(pauli_string, ansatz_circuit):\n",
    "    pauli_string_expectation_value = 0\n",
    "    power_of_minus_1 = 0\n",
    "    \n",
    "    pauli_string_str = convert_pauli_string_into_str(pauli_string)\n",
    "    extended_ansatz_circuit = add_layer_of_gates_for_reducing_paulis_to_sigma_z(pauli_string_str, ansatz_circuit)\n",
    "    probas_distribution = calculate_probabilities_of_measurments_in_computational_basis(extended_ansatz_circuit)\n",
    "    \n",
    "    reduced_pauli_string = reduce_pauli_matrixes_into_sigma_z(pauli_string)\n",
    "    sorted_probas_distribuition = sort_probas_dict_by_qubits_string_keys(probas_distribution)\n",
    "    for qubits_string, proba in sorted_probas_distribuition.items():\n",
    "        for string_index in range(QUBITS_NUM):\n",
    "            if(str(qubits_string[string_index])==\"1\" and str(reduced_pauli_string[string_index])==\"Z\"):\n",
    "                power_of_minus_1 += 1\n",
    "            \n",
    "        pauli_string_expectation_value += pow(-1, power_of_minus_1)*proba\n",
    "        power_of_minus_1 = reset_power_of_minus_1(power_of_minus_1)\n",
    "        \n",
    "    return pauli_string_expectation_value"
   ]
  },
  {
   "cell_type": "code",
   "execution_count": 15,
   "id": "9b47e3f6",
   "metadata": {},
   "outputs": [],
   "source": [
    "def get_expectation_value(ansatz_circuit, pauli_coeffs, pauli_strings):\n",
    "    total_expection_value = 0\n",
    "    \n",
    "    for pauli_coeff, pauli_string in zip(pauli_coeffs, pauli_strings):\n",
    "        total_expection_value += pauli_coeff*calculate_expectation_value_of_pauli_string_by_measurments_probas(\n",
    "                                                                                    pauli_string, ansatz_circuit)\n",
    "    \n",
    "    return total_expection_value"
   ]
  },
  {
   "cell_type": "markdown",
   "id": "ae112df4",
   "metadata": {},
   "source": [
    "## MUBs d=4"
   ]
  },
  {
   "cell_type": "code",
   "execution_count": 16,
   "id": "8e87cc05",
   "metadata": {},
   "outputs": [],
   "source": [
    "from typing import List\n",
    "\n",
    "class MUB:\n",
    "    def __init__(self, name: str, color: str, basis_vectors, dim: int):\n",
    "        self.name = name\n",
    "        self.color = color\n",
    "        self.basis_vectors = basis_vectors\n",
    "        self.results = []\n",
    "        \n",
    "    def add_result(self, result:int):\n",
    "        self.results.append(result)\n",
    "        \n",
    "    def restart_results(self):\n",
    "        self.results = []"
   ]
  },
  {
   "cell_type": "code",
   "execution_count": 17,
   "id": "2d873cbf",
   "metadata": {},
   "outputs": [],
   "source": [
    "M0_vectors = np.identity(N)\n",
    "\n",
    "M1_vectors = [np.vectorize(complex)([0.5,0.5,0.5,0.5]),\n",
    "      np.vectorize(complex)([0.5,0.5,-0.5,-0.5]),\n",
    "      np.vectorize(complex)([0.5,-0.5,-0.5,0.5]),\n",
    "      np.vectorize(complex)([0.5,-0.5,0.5,-0.5])]\n",
    "\n",
    "M2_vectors = [np.vectorize(complex)([0.5,0.5,0,0],[0,0,-0.5,-0.5]),\n",
    "      np.vectorize(complex)([0.5,-0.5,0,0],[0,0,0.5,0.5]),\n",
    "      np.vectorize(complex)([0.5,0.5,0,0],[0,0,0.5,-0.5]),\n",
    "      np.vectorize(complex)([0.5,0.5,0,0],[0,0,-0.5,0.5])]\n",
    "\n",
    "M3_vectors = [np.vectorize(complex)([0.5,0,0,-0.5],[0,-0.5,-0.5,-0]),\n",
    "      np.vectorize(complex)([0.5,0,0,0.5],[0,-0.5,0.5,0]),\n",
    "      np.vectorize(complex)([0.5,0,0,-0.5],[0,0.5,0.5,0]),\n",
    "      np.vectorize(complex)([0.5,0,0,0.5],[0,0.5,-0.5,0])]\n",
    "\n",
    "M4_vectors = [np.vectorize(complex)([0.5,0,-0.5,0],[0,-0.5,0,-0.5]),\n",
    "      np.vectorize(complex)([0.5,0,0.5,0],[0,-0.5,0,0.5]),\n",
    "      np.vectorize(complex)([0.5,0,-0.5,0],[0,0.5,0,0.5]),\n",
    "      np.vectorize(complex)([0.5,0,0.5,0],[0,0.5,0,-0.5])]"
   ]
  },
  {
   "cell_type": "code",
   "execution_count": 18,
   "id": "27fc0c32",
   "metadata": {},
   "outputs": [],
   "source": [
    "M0 = MUB(name='M0', color='b', basis_vectors=M0_vectors, dim=4)\n",
    "M1 = MUB(name='M1', color='c', basis_vectors=M1_vectors, dim=4)\n",
    "M2 = MUB(name='M2', color='y', basis_vectors=M2_vectors, dim=4)\n",
    "M3 = MUB(name='M3', color='m', basis_vectors=M3_vectors, dim=4)\n",
    "M4 = MUB(name='M4', color='r', basis_vectors=M4_vectors, dim=4)\n",
    "\n",
    "mubs_d_5 = [M0, M1, M2, M3, M4]"
   ]
  },
  {
   "cell_type": "markdown",
   "id": "e5f3dd26",
   "metadata": {},
   "source": [
    "### H2 Molecule 2 qubits"
   ]
  },
  {
   "cell_type": "code",
   "execution_count": 19,
   "id": "8d571b53",
   "metadata": {},
   "outputs": [],
   "source": [
    "from matplotlib import pyplot as plt"
   ]
  },
  {
   "cell_type": "code",
   "execution_count": 20,
   "id": "e1fd90aa",
   "metadata": {},
   "outputs": [],
   "source": [
    "from qiskit.opflow import X, Z, I\n",
    "\n",
    "H2_molecule_Hamiltonian_2_qubits = -0.5053051899926562*(I^I) + \\\n",
    "                            -0.3277380754984016*(Z^I) + \\\n",
    "                            0.15567463610622564*(Z^Z) + \\\n",
    "                            -0.3277380754984016*(I^Z)"
   ]
  },
  {
   "cell_type": "code",
   "execution_count": 21,
   "id": "55d6ae9e",
   "metadata": {},
   "outputs": [],
   "source": [
    "thetas = np.random.uniform(low=0, high=360, size=PARAMS_NUM)"
   ]
  },
  {
   "cell_type": "markdown",
   "id": "a12ec8dc",
   "metadata": {},
   "source": [
    "### full entangelment"
   ]
  },
  {
   "cell_type": "code",
   "execution_count": 30,
   "id": "dda98152",
   "metadata": {},
   "outputs": [],
   "source": [
    "for basis in mubs_d_5:\n",
    "    basis.restart_results()\n",
    "    for vector in basis.basis_vectors:\n",
    "        pauli_coeffs, pauli_strings = transfrom_hamiltonian_into_pauli_strings(H2_molecule_Hamiltonian_2_qubits)\n",
    "        ansatz_state = get_full_entangelment_ansatz(QUBITS_NUM, thetas, vector)\n",
    "\n",
    "        L = get_expectation_value(ansatz_state, pauli_coeffs, pauli_strings)\n",
    "        basis.add_result(L)"
   ]
  },
  {
   "cell_type": "code",
   "execution_count": 31,
   "id": "b346b118",
   "metadata": {},
   "outputs": [
    {
     "data": {
      "image/png": "[encoded data removed]",
      "text/plain": [
       "<Figure size 640x480 with 1 Axes>"
      ]
     },
     "metadata": {},
     "output_type": "display_data"
    }
   ],
   "source": [
    "M0_points = plt.scatter(x=range(1,5),y=M0.results, marker='x', color=M0.color)\n",
    "M1_points = plt.scatter(x=range(5,9),y=M1.results, marker='x', color=M1.color)\n",
    "M2_points = plt.scatter(x=range(10,14),y=M2.results, marker='x', color=M2.color)\n",
    "M3_points = plt.scatter(x=range(15,19),y=M3.results, marker='x', color=M3.color)\n",
    "M4_points = plt.scatter(x=range(20,24),y=M4.results, marker='x', color=M4.color)\n",
    "\n",
    "plt.legend((M0_points, M1_points, M2_points, M3_points, M4_points),\n",
    "           (M0.name, M1.name, M2.name, M3.name, M4.name),\n",
    "           scatterpoints=1,\n",
    "           loc='best',\n",
    "           ncol=3,\n",
    "           fontsize=8)\n",
    "\n",
    "plt.xlabel('iteration number')\n",
    "plt.ylabel('energy for specific vector from a mub')\n",
    "plt.title('H2 Energy Landscape')\n",
    "\n",
    "plt.show()"
   ]
  },
  {
   "cell_type": "code",
   "execution_count": null,
   "id": "ec5a0483",
   "metadata": {},
   "outputs": [],
   "source": [
    "v0 = M0_vectors[2]"
   ]
  },
  {
   "cell_type": "code",
   "execution_count": 25,
   "id": "eb3bad07",
   "metadata": {},
   "outputs": [],
   "source": [
    "v1 = np.vectorize(complex)([0,0,0,0],[0,0,1,0])"
   ]
  },
  {
   "cell_type": "code",
   "execution_count": 26,
   "id": "8f5cec9c",
   "metadata": {},
   "outputs": [
    {
     "name": "stdout",
     "output_type": "stream",
     "text": [
      "-0.48834251803032236\n"
     ]
    }
   ],
   "source": [
    "pauli_coeffs, pauli_strings = transfrom_hamiltonian_into_pauli_strings(H2_molecule_Hamiltonian_2_qubits)\n",
    "ansatz_state = get_full_entangelment_ansatz(QUBITS_NUM, thetas, v1)\n",
    "\n",
    "L = get_expectation_value(ansatz_state, pauli_coeffs, pauli_strings)\n",
    "print(L)"
   ]
  },
  {
   "cell_type": "markdown",
   "id": "ce91e859",
   "metadata": {},
   "source": [
    "## Transverse Ising Model 2 qubits"
   ]
  },
  {
   "cell_type": "code",
   "execution_count": 27,
   "id": "3bba1d3b",
   "metadata": {},
   "outputs": [],
   "source": [
    "transverse_ising_2_qubits = 0.13755727363376802 * (I^X) \\\n",
    "                            + 0.43305656297810435 * (X^I) \\\n",
    "                            + 0.8538597608997253 * (Z^Z)"
   ]
  },
  {
   "cell_type": "code",
   "execution_count": 28,
   "id": "3bcfb1f5",
   "metadata": {},
   "outputs": [],
   "source": [
    "for basis in mubs_d_5:\n",
    "    basis.restart_results()\n",
    "    for vector in basis.basis_vectors:\n",
    "        pauli_coeffs, pauli_strings = transfrom_hamiltonian_into_pauli_strings(transverse_ising_2_qubits)\n",
    "        ansatz_state = get_full_entangelment_ansatz(QUBITS_NUM, thetas, vector)\n",
    "\n",
    "        L = get_expectation_value(ansatz_state, pauli_coeffs, pauli_strings)\n",
    "        basis.add_result(L)"
   ]
  },
  {
   "cell_type": "code",
   "execution_count": 29,
   "id": "1aef45f0",
   "metadata": {},
   "outputs": [
    {
     "data": {
      "image/png": "[encoded data removed]",
      "text/plain": [
       "<Figure size 640x480 with 1 Axes>"
      ]
     },
     "metadata": {},
     "output_type": "display_data"
    }
   ],
   "source": [
    "M0_points = plt.scatter(x=range(1,5),y=M0.results, marker='x', color=M0.color)\n",
    "M1_points = plt.scatter(x=range(5,9),y=M1.results, marker='x', color=M1.color)\n",
    "M2_points = plt.scatter(x=range(10,14),y=M2.results, marker='x', color=M2.color)\n",
    "M3_points = plt.scatter(x=range(15,19),y=M3.results, marker='x', color=M3.color)\n",
    "M4_points = plt.scatter(x=range(20,24),y=M4.results, marker='x', color=M4.color)\n",
    "\n",
    "plt.legend((M0_points, M1_points, M2_points, M3_points, M4_points),\n",
    "           (M0.name, M1.name, M2.name, M3.name, M4.name),\n",
    "           scatterpoints=1,\n",
    "           loc='best',\n",
    "           ncol=3,\n",
    "           fontsize=8)\n",
    "\n",
    "plt.xlabel('iteration number')\n",
    "plt.ylabel('energy for specific vector from a mub')\n",
    "plt.title('Transverse Ising Model Energy Landscape')\n",
    "\n",
    "plt.show()"
   ]
  },
  {
   "cell_type": "code",
   "execution_count": null,
   "id": "94ac89ec",
   "metadata": {},
   "outputs": [],
   "source": []
  }
 ],
 "metadata": {
  "kernelspec": {
   "display_name": "Python (Mubsenv)",
   "language": "python",
   "name": "mubsenv"
  },
  "language_info": {
   "codemirror_mode": {
    "name": "ipython",
    "version": 3
   },
   "file_extension": ".py",
   "mimetype": "text/x-python",
   "name": "python",
   "nbconvert_exporter": "python",
   "pygments_lexer": "ipython3",
   "version": "3.8.15"
  }
 },
 "nbformat": 4,
 "nbformat_minor": 5
}
