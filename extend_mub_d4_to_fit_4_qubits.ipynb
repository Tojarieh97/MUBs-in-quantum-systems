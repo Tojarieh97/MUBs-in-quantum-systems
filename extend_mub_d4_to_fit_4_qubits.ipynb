{
 "cells": [
  {
   "cell_type": "code",
   "execution_count": 1,
   "id": "493a334d-2984-4d72-bb73-f58d0700ab70",
   "metadata": {},
   "outputs": [],
   "source": [
    "%load_ext autoreload\n",
    "%autoreload 2"
   ]
  },
  {
   "cell_type": "code",
   "execution_count": 2,
   "id": "d7e8e25a-573a-40cb-8026-99c8ebd27ee9",
   "metadata": {},
   "outputs": [],
   "source": [
    "import numpy as np"
   ]
  },
  {
   "cell_type": "code",
   "execution_count": 3,
   "id": "684ad1e0-7e8a-4c5d-99b7-4bf5665835bc",
   "metadata": {},
   "outputs": [],
   "source": [
    "QUBITS_NUM = 2\n",
    "N = 2**QUBITS_NUM"
   ]
  },
  {
   "cell_type": "code",
   "execution_count": 4,
   "id": "7833ce86-e1c1-4381-8964-1d6038cea6f1",
   "metadata": {},
   "outputs": [],
   "source": [
    "from typing import List\n",
    "\n",
    "class MUB:\n",
    "    def __init__(self, name: str, color: str, basis_vectors):\n",
    "        self.name = name\n",
    "        self.color = color\n",
    "        self.basis_vectors = basis_vectors\n",
    "        self.results = []\n",
    "        \n",
    "    def add_result(self, result:int):\n",
    "        self.results.append(result)\n",
    "        \n",
    "    def restart_results(self):\n",
    "        self.results = []"
   ]
  },
  {
   "cell_type": "code",
   "execution_count": 5,
   "id": "8df69c81-8873-4f18-9023-00ff7987121f",
   "metadata": {},
   "outputs": [],
   "source": [
    "M0_vectors = np.identity(N)\n",
    "\n",
    "M1_vectors = [np.vectorize(complex)([0.5,0.5,0.5,0.5]),\n",
    "      np.vectorize(complex)([0.5,0.5,-0.5,-0.5]),\n",
    "      np.vectorize(complex)([0.5,-0.5,-0.5,0.5]),\n",
    "      np.vectorize(complex)([0.5,-0.5,0.5,-0.5])]\n",
    "\n",
    "M2_vectors = [np.vectorize(complex)([0.5,0.5,0,0],[0,0,-0.5,-0.5]),\n",
    "      np.vectorize(complex)([0.5,-0.5,0,0],[0,0,0.5,0.5]),\n",
    "      np.vectorize(complex)([0.5,0.5,0,0],[0,0,0.5,-0.5]),\n",
    "      np.vectorize(complex)([0.5,0.5,0,0],[0,0,-0.5,0.5])]\n",
    "\n",
    "M3_vectors = [np.vectorize(complex)([0.5,0,0,-0.5],[0,-0.5,-0.5,-0]),\n",
    "      np.vectorize(complex)([0.5,0,0,0.5],[0,-0.5,0.5,0]),\n",
    "      np.vectorize(complex)([0.5,0,0,-0.5],[0,0.5,0.5,0]),\n",
    "      np.vectorize(complex)([0.5,0,0,0.5],[0,0.5,-0.5,0])]\n",
    "\n",
    "M4_vectors = [np.vectorize(complex)([0.5,0,-0.5,0],[0,-0.5,0,-0.5]),\n",
    "      np.vectorize(complex)([0.5,0,0.5,0],[0,-0.5,0,0.5]),\n",
    "      np.vectorize(complex)([0.5,0,-0.5,0],[0,0.5,0,0.5]),\n",
    "      np.vectorize(complex)([0.5,0,0.5,0],[0,0.5,0,-0.5])]"
   ]
  },
  {
   "cell_type": "code",
   "execution_count": 6,
   "id": "3319fa19-1c01-4118-bf8c-69561a592c2e",
   "metadata": {},
   "outputs": [],
   "source": [
    "M0 = MUB(name='M0', color='b', basis_vectors=M0_vectors)\n",
    "M1 = MUB(name='M1', color='c', basis_vectors=M1_vectors)\n",
    "M2 = MUB(name='M2', color='y', basis_vectors=M2_vectors)\n",
    "M3 = MUB(name='M3', color='m', basis_vectors=M3_vectors)\n",
    "M4 = MUB(name='M4', color='r', basis_vectors=M4_vectors)\n",
    "\n",
    "mubs_d_5 = [M0, M1, M2, M3, M4]"
   ]
  },
  {
   "cell_type": "code",
   "execution_count": 7,
   "id": "312b223c-7eca-40a0-8f2f-83bacd79f129",
   "metadata": {},
   "outputs": [],
   "source": [
    "v_00 = np.vectorize(complex)([1,0,0,0])"
   ]
  },
  {
   "cell_type": "code",
   "execution_count": 8,
   "id": "5ac6710c-96f8-45f7-9588-c09d635105c2",
   "metadata": {},
   "outputs": [],
   "source": [
    "def extend_each_vector_with_00_tensor_product():\n",
    "    for basis in mubs_d_5:\n",
    "        basis.basis_vectors = [np.kron(v_00, vector) for vector in basis.basis_vectors]"
   ]
  },
  {
   "cell_type": "code",
   "execution_count": 9,
   "id": "077b1a16-fb84-4a6b-a1dd-0e9b63b7f14f",
   "metadata": {},
   "outputs": [],
   "source": [
    "extend_each_vector_with_00_tensor_product()"
   ]
  }
 ],
 "metadata": {
  "kernelspec": {
   "display_name": "Python (Mubsenv)",
   "language": "python",
   "name": "mubsenv"
  },
  "language_info": {
   "codemirror_mode": {
    "name": "ipython",
    "version": 3
   },
   "file_extension": ".py",
   "mimetype": "text/x-python",
   "name": "python",
   "nbconvert_exporter": "python",
   "pygments_lexer": "ipython3",
   "version": "3.8.15"
  }
 },
 "nbformat": 4,
 "nbformat_minor": 5
}
