{
 "cells": [
  {
   "cell_type": "code",
   "execution_count": 1,
   "id": "213d256a",
   "metadata": {},
   "outputs": [],
   "source": [
    "%load_ext autoreload\n",
    "%autoreload 2"
   ]
  },
  {
   "cell_type": "markdown",
   "id": "c4c77734",
   "metadata": {},
   "source": [
    "### Basic Imports"
   ]
  },
  {
   "cell_type": "code",
   "execution_count": 2,
   "id": "9431f6b7",
   "metadata": {},
   "outputs": [],
   "source": [
    "import nbimporter\n",
    "from typing import Dict, Tuple, List\n",
    "import numpy as np\n",
    "from tqdm import tqdm\n",
    "from qiskit.opflow import X, Z, I, H, Y"
   ]
  },
  {
   "cell_type": "markdown",
   "id": "4ff98362",
   "metadata": {},
   "source": [
    "### Env Vars"
   ]
  },
  {
   "cell_type": "code",
   "execution_count": 3,
   "id": "9c7250c3",
   "metadata": {},
   "outputs": [],
   "source": [
    "QUBITS_NUM = 4 \n",
    "N = 2**QUBITS_NUM\n",
    "\n",
    "NUM_SHOTS = 1024\n",
    "NUM_ITERATIONS = 100\n",
    "\n",
    "CIRCUIT_DEPTH = 3\n",
    "PARAMS_NUM = 2*QUBITS_NUM*(CIRCUIT_DEPTH+1)\n",
    "RANDOM_INITIAL_THETAS = np.random.uniform(low=0, high=360, size=PARAMS_NUM)"
   ]
  },
  {
   "cell_type": "markdown",
   "id": "6dcb0625",
   "metadata": {},
   "source": [
    "### Simulator Backend"
   ]
  },
  {
   "cell_type": "code",
   "execution_count": 4,
   "id": "8e287170",
   "metadata": {},
   "outputs": [],
   "source": [
    "from qiskit import Aer\n",
    "from qiskit.utils import QuantumInstance, algorithm_globals\n",
    "\n",
    "seed = 50\n",
    "algorithm_globals.random_seed = seed\n",
    "\n",
    "simulator_backend = Aer.get_backend('qasm_simulator')"
   ]
  },
  {
   "cell_type": "markdown",
   "id": "5cc189d2",
   "metadata": {},
   "source": [
    "### BFGS Optimizer"
   ]
  },
  {
   "cell_type": "code",
   "execution_count": 5,
   "id": "aea5f838",
   "metadata": {},
   "outputs": [],
   "source": [
    "from scipy.optimize import minimize"
   ]
  },
  {
   "cell_type": "markdown",
   "id": "6681d9cf",
   "metadata": {},
   "source": [
    "### Ansatz State"
   ]
  },
  {
   "cell_type": "code",
   "execution_count": 6,
   "id": "ed679eb5",
   "metadata": {},
   "outputs": [],
   "source": [
    "from linear_entangelment_and_full_entangelment_ansatz_circuits import *"
   ]
  },
  {
   "cell_type": "code",
   "execution_count": 7,
   "id": "9ebdb4f8",
   "metadata": {},
   "outputs": [],
   "source": [
    "def get_ansatz_state(thetas, ansatz_entangelment, input_state):\n",
    "    if ansatz_entangelment==\"full\":\n",
    "        return get_full_entangelment_ansatz(QUBITS_NUM, thetas, input_state)\n",
    "    if ansatz_entangelment==\"linear\":\n",
    "        return get_linear_entangelment_ansatz(QUBITS_NUM, thetas, input_state)"
   ]
  },
  {
   "cell_type": "markdown",
   "id": "21777faa",
   "metadata": {},
   "source": [
    "## Expectation Value"
   ]
  },
  {
   "cell_type": "markdown",
   "id": "d320f1b6",
   "metadata": {},
   "source": [
    "### convert hamiltonian to pauli strings"
   ]
  },
  {
   "cell_type": "code",
   "execution_count": 8,
   "id": "56435355",
   "metadata": {},
   "outputs": [],
   "source": [
    "def transfrom_hamiltonian_into_pauli_strings(hamiltonian) -> List:\n",
    "    pauli_operators = hamiltonian.to_pauli_op().settings['oplist']\n",
    "    pauli_coeffs = list(map(lambda pauli_operator: pauli_operator.coeff, pauli_operators))\n",
    "    pauli_strings = list(map(lambda pauli_operator: pauli_operator.primitive, pauli_operators))\n",
    "    return pauli_coeffs, pauli_strings"
   ]
  },
  {
   "cell_type": "markdown",
   "id": "de5f75c3",
   "metadata": {},
   "source": [
    "### pauli string reduction to sigma_z's"
   ]
  },
  {
   "cell_type": "code",
   "execution_count": 9,
   "id": "347de6bb",
   "metadata": {},
   "outputs": [],
   "source": [
    "from qiskit.circuit.library.standard_gates import HGate, SGate\n",
    "from qiskit import QuantumCircuit, ClassicalRegister, QuantumRegister"
   ]
  },
  {
   "cell_type": "code",
   "execution_count": 10,
   "id": "dbbe79ef",
   "metadata": {},
   "outputs": [],
   "source": [
    "reducing_to_pauli_z_mapping = {\n",
    "    'I': 'I',\n",
    "    'Z': 'Z',\n",
    "    'X': 'Z',\n",
    "    'Y': 'Z'\n",
    "} "
   ]
  },
  {
   "cell_type": "code",
   "execution_count": 11,
   "id": "6f94927f",
   "metadata": {},
   "outputs": [],
   "source": [
    "def reduce_pauli_matrixes_into_sigma_z(pauli_string) -> str:\n",
    "    reduced_pauli_string = \"\"\n",
    "    for matrix_index in range(QUBITS_NUM):\n",
    "        pauli_matrix = str(pauli_string[matrix_index])\n",
    "        reduced_pauli_matrix = reducing_to_pauli_z_mapping[pauli_matrix]\n",
    "        reduced_pauli_string = reduced_pauli_matrix + reduced_pauli_string\n",
    "    \n",
    "    return reduced_pauli_string"
   ]
  },
  {
   "cell_type": "code",
   "execution_count": 12,
   "id": "e6f0562f",
   "metadata": {},
   "outputs": [],
   "source": [
    "def add_layer_of_gates_for_reducing_paulis_to_sigma_z(pauli_string, quantum_circuit):\n",
    "    quantum_registers = QuantumRegister(QUBITS_NUM, name=\"qubit\")\n",
    "    additional_circuit_layer = QuantumCircuit(quantum_registers)\n",
    "    \n",
    "    for quantum_register_index, pauli_matrix in enumerate(pauli_string):\n",
    "        if pauli_matrix == \"X\":\n",
    "            additional_circuit_layer.append(HGate(), [quantum_registers[quantum_register_index]])\n",
    "        if pauli_string == \"Y\":\n",
    "            additional_circuit_layer.append(HGate(), [quantum_registers[quantum_register_index]])\n",
    "            additional_circuit_layer.append(SGate(), [quantum_registers[quantum_register_index]])\n",
    "                \n",
    "    extended_quantum_circuit = quantum_circuit.compose(additional_circuit_layer)\n",
    "    return extended_quantum_circuit"
   ]
  },
  {
   "cell_type": "markdown",
   "id": "ce83fae9",
   "metadata": {},
   "source": [
    "### probabilities distribution"
   ]
  },
  {
   "cell_type": "code",
   "execution_count": 13,
   "id": "84e65e31",
   "metadata": {},
   "outputs": [],
   "source": [
    "def get_probability_distribution(counts: Dict) -> Dict:\n",
    "    proba_distribution = {state: (count / NUM_SHOTS) for state, count in counts.items()}\n",
    "    return proba_distribution\n",
    "\n",
    "def calculate_probabilities_of_measurments_in_computational_basis(quantum_state_circuit) -> Dict:\n",
    "    quantum_state_circuit.measure_all()\n",
    "    \n",
    "    transpiled_quantum_state_circuit = transpile(quantum_state_circuit, simulator_backend) \n",
    "    Qobj = assemble(transpiled_quantum_state_circuit)\n",
    "    result = simulator_backend.run(Qobj).result()\n",
    "    counts = result.get_counts(quantum_state_circuit)\n",
    "    \n",
    "    return get_probability_distribution(counts)"
   ]
  },
  {
   "cell_type": "markdown",
   "id": "b9286e5d",
   "metadata": {},
   "source": [
    "### Expectation value from probabilities"
   ]
  },
  {
   "cell_type": "code",
   "execution_count": 14,
   "id": "38a72356",
   "metadata": {},
   "outputs": [],
   "source": [
    "def sort_probas_dict_by_qubits_string_keys(proba_distribution: Dict) -> Dict:\n",
    "    return dict(sorted(proba_distribution.items()))\n",
    "\n",
    "def reset_power_of_minus_1(power_of_minus_1):\n",
    "    power_of_minus_1 = 0\n",
    "    return power_of_minus_1\n",
    "\n",
    "def convert_pauli_string_into_str(pauli_string) -> str:\n",
    "    return str(pauli_string)\n",
    "\n",
    "def calculate_expectation_value_of_pauli_string_by_measurments_probas(pauli_string, ansatz_circuit):\n",
    "    pauli_string_expectation_value = 0\n",
    "    power_of_minus_1 = 0\n",
    "    \n",
    "    pauli_string_str = convert_pauli_string_into_str(pauli_string)\n",
    "    extended_ansatz_circuit = add_layer_of_gates_for_reducing_paulis_to_sigma_z(pauli_string_str, ansatz_circuit)\n",
    "    probas_distribution = calculate_probabilities_of_measurments_in_computational_basis(extended_ansatz_circuit)\n",
    "    \n",
    "    reduced_pauli_string = reduce_pauli_matrixes_into_sigma_z(pauli_string)\n",
    "    sorted_probas_distribuition = sort_probas_dict_by_qubits_string_keys(probas_distribution)\n",
    "    for qubits_string, proba in sorted_probas_distribuition.items():\n",
    "        for string_index in range(QUBITS_NUM):\n",
    "            if(str(qubits_string[string_index])==\"1\" and str(reduced_pauli_string[string_index])==\"Z\"):\n",
    "                power_of_minus_1 += 1\n",
    "            \n",
    "        pauli_string_expectation_value += pow(-1, power_of_minus_1)*proba\n",
    "        power_of_minus_1 = reset_power_of_minus_1(power_of_minus_1)\n",
    "        \n",
    "    return pauli_string_expectation_value"
   ]
  },
  {
   "cell_type": "code",
   "execution_count": 15,
   "id": "c263be2b",
   "metadata": {},
   "outputs": [],
   "source": [
    "def get_expectation_value(ansatz_circuit, pauli_coeffs, pauli_strings):\n",
    "    total_expection_value = 0\n",
    "    \n",
    "    for pauli_coeff, pauli_string in tqdm(zip(pauli_coeffs, pauli_strings)):\n",
    "        total_expection_value += pauli_coeff*calculate_expectation_value_of_pauli_string_by_measurments_probas(\n",
    "                                                                                    pauli_string, ansatz_circuit)\n",
    "    \n",
    "    return total_expection_value"
   ]
  },
  {
   "cell_type": "markdown",
   "id": "a79fc302",
   "metadata": {},
   "source": [
    "## Objective Function"
   ]
  },
  {
   "cell_type": "code",
   "execution_count": 16,
   "id": "e3f4d330",
   "metadata": {},
   "outputs": [],
   "source": [
    "from qiskit import assemble, transpile\n",
    "\n",
    "def cost_function(thetas, hamiltonian, ansatz_entangelment, initial_quantum_state):\n",
    "    pauli_coeffs, pauli_strings = transfrom_hamiltonian_into_pauli_strings(hamiltonian)\n",
    "    ansatz_state = get_ansatz_state(thetas, ansatz_entangelment, initial_quantum_state)\n",
    "        \n",
    "    L = get_expectation_value(ansatz_state, pauli_coeffs, pauli_strings)\n",
    "    insert_approximated_energy_to_list_of_all_approximated_energies(L)\n",
    "        \n",
    "    return L"
   ]
  },
  {
   "cell_type": "markdown",
   "id": "a10b7fb2-c17f-4427-b994-13b5b148d76d",
   "metadata": {},
   "source": [
    "## MUB"
   ]
  },
  {
   "cell_type": "code",
   "execution_count": 17,
   "id": "52e840c1-93cd-4675-83ed-0198e97feb5e",
   "metadata": {},
   "outputs": [],
   "source": [
    "from typing import List\n",
    "import numpy as np\n",
    "\n",
    "class MUB:\n",
    "    def __init__(self, name: str, color: str, basis_vectors):\n",
    "        self.name = name\n",
    "        self.color = color\n",
    "        self.basis_vectors = basis_vectors\n",
    "        self.approximated_eigenvalue_results = {tuple(basis_vector): 0 for basis_vector in basis_vectors}\n",
    "        self.approximation_error_results = {tuple(basis_vector): 0 for basis_vector in basis_vectors}\n",
    "        self.iterations_number = {tuple(basis_vector): 0 for basis_vector in basis_vectors}\n",
    "        self.lists_of_approximated_energies_till_convergence = {tuple(basis_vector): [] for basis_vector in basis_vectors}\n",
    "        "
   ]
  },
  {
   "cell_type": "code",
   "execution_count": 18,
   "id": "854fb18d-453d-4566-bd1e-3cabd2513430",
   "metadata": {},
   "outputs": [],
   "source": [
    "M0_vectors = np.identity(4)\n",
    "\n",
    "M1_vectors = [np.vectorize(complex)([0.5,0.5,0.5,0.5]),\n",
    "      np.vectorize(complex)([0.5,0.5,-0.5,-0.5]),\n",
    "      np.vectorize(complex)([0.5,-0.5,-0.5,0.5]),\n",
    "      np.vectorize(complex)([0.5,-0.5,0.5,-0.5])]\n",
    "\n",
    "M2_vectors = [np.vectorize(complex)([0.5,0.5,0,0],[0,0,-0.5,-0.5]),\n",
    "      np.vectorize(complex)([0.5,-0.5,0,0],[0,0,0.5,0.5]),\n",
    "      np.vectorize(complex)([0.5,0.5,0,0],[0,0,0.5,-0.5]),\n",
    "      np.vectorize(complex)([0.5,0.5,0,0],[0,0,-0.5,0.5])]\n",
    "\n",
    "M3_vectors = [np.vectorize(complex)([0.5,0,0,-0.5],[0,-0.5,-0.5,-0]),\n",
    "      np.vectorize(complex)([0.5,0,0,0.5],[0,-0.5,0.5,0]),\n",
    "      np.vectorize(complex)([0.5,0,0,-0.5],[0,0.5,0.5,0]),\n",
    "      np.vectorize(complex)([0.5,0,0,0.5],[0,0.5,-0.5,0])]\n",
    "\n",
    "M4_vectors = [np.vectorize(complex)([0.5,0,-0.5,0],[0,-0.5,0,-0.5]),\n",
    "      np.vectorize(complex)([0.5,0,0.5,0],[0,-0.5,0,0.5]),\n",
    "      np.vectorize(complex)([0.5,0,-0.5,0],[0,0.5,0,0.5]),\n",
    "      np.vectorize(complex)([0.5,0,0.5,0],[0,0.5,0,-0.5])]"
   ]
  },
  {
   "cell_type": "code",
   "execution_count": 19,
   "id": "9f466e65-9703-4a4e-9987-bc141127547b",
   "metadata": {},
   "outputs": [],
   "source": [
    "v_00 = np.vectorize(complex)([1,0,0,0])\n",
    "\n",
    "def extend_vector_with_00_tensor_product(vector):\n",
    "    return np.kron(v_00, vector)"
   ]
  },
  {
   "cell_type": "code",
   "execution_count": 20,
   "id": "cacc3a67-7f25-45c1-8e6b-668437e12e6e",
   "metadata": {},
   "outputs": [],
   "source": [
    "M0 = MUB(name='M0', color='b', basis_vectors=[extend_vector_with_00_tensor_product(vector) for vector in M0_vectors])\n",
    "M1 = MUB(name='M1', color='c', basis_vectors=[extend_vector_with_00_tensor_product(vector) for vector in M1_vectors])\n",
    "M2 = MUB(name='M2', color='y', basis_vectors=[extend_vector_with_00_tensor_product(vector) for vector in M2_vectors])\n",
    "M3 = MUB(name='M3', color='m', basis_vectors=[extend_vector_with_00_tensor_product(vector) for vector in M3_vectors])\n",
    "M4 = MUB(name='M4', color='r', basis_vectors=[extend_vector_with_00_tensor_product(vector) for vector in M4_vectors])\n",
    "\n",
    "mubs_d_4 = [M0, M1, M2, M3, M4]"
   ]
  },
  {
   "cell_type": "markdown",
   "id": "e8ac20b3",
   "metadata": {},
   "source": [
    "## Optimization"
   ]
  },
  {
   "cell_type": "code",
   "execution_count": 21,
   "id": "9b2663d2",
   "metadata": {},
   "outputs": [],
   "source": [
    "def get_approximated_eigenvalue_of_hamiltonian(hamiltonian, ansatz_entangelment, initial_quantum_state):\n",
    "    optimizer_result = minimize(cost_function,\n",
    "                                x0=RANDOM_INITIAL_THETAS,\n",
    "                                args=(hamiltonian, ansatz_entangelment, initial_quantum_state),\n",
    "                                method=\"COBYLA\")\n",
    "    optimal_thetas = optimizer_result.x\n",
    "    approximated_eigenvalue = optimizer_result.fun\n",
    "     \n",
    "    return approximated_eigenvalue"
   ]
  },
  {
   "cell_type": "markdown",
   "id": "7b410988",
   "metadata": {},
   "source": [
    "## Comparsion"
   ]
  },
  {
   "cell_type": "code",
   "execution_count": 22,
   "id": "6cbe0758",
   "metadata": {},
   "outputs": [],
   "source": [
    "from numpy import linalg as LA\n",
    "\n",
    "def get_approximation_error(exact_eigenvalue, approximated_eigenvalue):\n",
    "    return abs(abs(exact_eigenvalue)-abs(approximated_eigenvalue))/abs(exact_eigenvalue)"
   ]
  },
  {
   "cell_type": "code",
   "execution_count": 23,
   "id": "28b63147",
   "metadata": {},
   "outputs": [],
   "source": [
    "def get_minimum_exact_eigenvalue_of_hamiltonian(hamiltonian):\n",
    "    eigen_values = LA.eigvals(hamiltonian.to_matrix())\n",
    "    \n",
    "    return min(sorted(eigen_values))"
   ]
  },
  {
   "cell_type": "code",
   "execution_count": 24,
   "id": "529a29d1",
   "metadata": {},
   "outputs": [],
   "source": [
    "def compare_exact_and_approximated_eigenvalue(hamiltonian, approximated_eigenvalue):\n",
    "    exact_eigenvalue = get_minimum_exact_eigenvalue_of_hamiltonian(hamiltonian)\n",
    "    print(\"Exact Eigenvalue:\")\n",
    "    print(exact_eigenvalue)\n",
    "    print(\"\\nApproximated Eigenvalue:\")\n",
    "    print(approximated_eigenvalue)\n",
    "\n",
    "    print(\"\\nApproximation Error\")\n",
    "    print(get_approximation_error(exact_eigenvalue, approximated_eigenvalue))\n",
    "    \n",
    "    plot_convergence_of_optimization_process(approximated_energies, exact_eigenvalue, margin=3)"
   ]
  },
  {
   "cell_type": "markdown",
   "id": "c1452964",
   "metadata": {},
   "source": [
    "## Visualization"
   ]
  },
  {
   "cell_type": "code",
   "execution_count": 25,
   "id": "75c3e505",
   "metadata": {},
   "outputs": [],
   "source": [
    "global approximated_energies\n",
    "approximated_energies = []"
   ]
  },
  {
   "cell_type": "code",
   "execution_count": 26,
   "id": "5c4331c6",
   "metadata": {},
   "outputs": [],
   "source": [
    "def insert_approximated_energy_to_list_of_all_approximated_energies(energy):\n",
    "    approximated_energies.append(energy)"
   ]
  },
  {
   "cell_type": "code",
   "execution_count": 27,
   "id": "26026bbb",
   "metadata": {},
   "outputs": [],
   "source": [
    "import matplotlib.pyplot as plt\n",
    "\n",
    "def plot_convergence_of_optimization_process(approximated_energies, exact_eigenvalue, margin):\n",
    "    plt.title(\"convergence of optimization process to the exact eigenvalue\")\n",
    "    plt.margins(0, margin)\n",
    "#     plt.plot(approximated_energies[-NUM_ITERATIONS:])\n",
    "    plt.plot(approximated_energies)\n",
    "    plt.axhline(y = exact_eigenvalue, color = 'r', linestyle = '-')\n",
    "    plt.grid()\n",
    "    plt.xlabel(\"# of iterations\")\n",
    "    plt.ylabel(\"Energy\")"
   ]
  },
  {
   "cell_type": "markdown",
   "id": "e9cc887a",
   "metadata": {},
   "source": [
    "## H2 Molecule 4 qubits"
   ]
  },
  {
   "cell_type": "code",
   "execution_count": 28,
   "id": "259df459",
   "metadata": {},
   "outputs": [],
   "source": [
    "H2_molecule_Hamiltonian_4_qubits =  -0.8105479805373279 * (I^I^I^I) \\\n",
    "                                    + 0.1721839326191554 * (I^I^I^Z) \\\n",
    "                                    - 0.22575349222402372 * (I^I^Z^I) \\\n",
    "                                    + 0.17218393261915543 * (I^Z^I^I) \\\n",
    "                                    - 0.2257534922240237 * (Z^I^I^I) \\\n",
    "                                    + 0.12091263261776627 * (I^I^Z^Z) \\\n",
    "                                    + 0.16892753870087907 * (I^Z^I^Z) \\\n",
    "                                    + 0.045232799946057826 * (Y^Y^Y^Y) \\\n",
    "                                    + 0.045232799946057826 * (X^X^Y^Y) \\\n",
    "                                    + 0.045232799946057826 * (Y^Y^X^X) \\\n",
    "                                    + 0.045232799946057826 * (X^X^X^X) \\\n",
    "                                    + 0.1661454325638241 * (Z^I^I^Z) \\\n",
    "                                    + 0.1661454325638241 * (I^Z^Z^I) \\\n",
    "                                    + 0.17464343068300453 * (Z^I^Z^I) \\\n",
    "                                    + 0.12091263261776627 * (Z^Z^I^I)"
   ]
  },
  {
   "cell_type": "markdown",
   "id": "fa5a1423",
   "metadata": {},
   "source": [
    "#### Linear Entangelment"
   ]
  },
  {
   "cell_type": "code",
   "execution_count": 29,
   "id": "3634f0d7",
   "metadata": {
    "tags": []
   },
   "outputs": [
    {
     "name": "stderr",
     "output_type": "stream",
     "text": [
      "15it [00:03,  4.55it/s]\n",
      "15it [00:01,  9.58it/s]\n",
      "15it [00:01,  9.14it/s]\n",
      "15it [00:01, 10.09it/s]\n",
      "15it [00:01, 10.38it/s]\n",
      "15it [00:01, 10.25it/s]\n",
      "15it [00:01, 10.44it/s]\n",
      "15it [00:01, 10.13it/s]\n",
      "15it [00:01, 10.48it/s]\n",
      "15it [00:01, 10.20it/s]\n",
      "15it [00:01, 10.65it/s]\n",
      "15it [00:01, 10.05it/s]\n",
      "15it [00:01,  9.45it/s]\n",
      "15it [00:01, 10.02it/s]\n",
      "15it [00:01, 10.14it/s]\n",
      "15it [00:01, 10.30it/s]\n",
      "15it [00:01,  9.50it/s]\n",
      "15it [00:01, 10.18it/s]\n",
      "15it [00:01,  9.78it/s]\n",
      "15it [00:01, 10.02it/s]\n",
      "15it [00:01, 10.20it/s]\n",
      "15it [00:01,  9.97it/s]\n",
      "15it [00:01,  9.98it/s]\n",
      "15it [00:01,  9.93it/s]\n",
      "15it [00:01,  9.96it/s]\n",
      "15it [00:01, 10.14it/s]\n",
      "15it [00:01,  9.70it/s]\n",
      "15it [00:01,  9.68it/s]\n",
      "15it [00:01,  9.70it/s]\n",
      "15it [00:01, 10.52it/s]\n",
      "15it [00:01, 10.00it/s]\n",
      "15it [00:01, 10.02it/s]\n",
      "15it [00:01, 10.27it/s]\n",
      "15it [00:01, 10.20it/s]\n",
      "15it [00:01,  8.98it/s]\n",
      "15it [00:01,  9.50it/s]\n",
      "15it [00:01,  9.52it/s]\n",
      "15it [00:01,  9.92it/s]\n",
      "15it [00:01,  7.73it/s]\n",
      "15it [00:01,  8.61it/s]\n",
      "15it [00:01,  8.95it/s]\n",
      "15it [00:01,  8.91it/s]\n",
      "15it [00:01,  8.58it/s]\n",
      "15it [00:01,  9.90it/s]\n",
      "15it [00:01,  9.66it/s]\n",
      "15it [00:01,  9.81it/s]\n",
      "15it [00:01,  9.47it/s]\n",
      "15it [00:01, 10.39it/s]\n",
      "15it [00:01,  9.64it/s]\n",
      "15it [00:01,  9.99it/s]\n",
      "15it [00:01, 10.03it/s]\n",
      "15it [00:01, 10.23it/s]\n",
      "15it [00:01,  9.95it/s]\n",
      "15it [00:01, 10.23it/s]\n",
      "15it [00:01,  9.67it/s]\n",
      "15it [00:01,  9.83it/s]\n",
      "15it [00:01, 10.54it/s]\n",
      "15it [00:01, 10.06it/s]\n",
      "15it [00:01,  9.58it/s]\n",
      "15it [00:01, 10.10it/s]\n",
      "15it [00:01,  9.43it/s]\n",
      "15it [00:01, 10.06it/s]\n",
      "15it [00:01,  9.45it/s]\n",
      "15it [00:01, 10.63it/s]\n",
      "15it [00:01,  9.74it/s]\n",
      "15it [00:01, 10.00it/s]\n",
      "15it [00:01,  9.97it/s]\n",
      "15it [00:01,  9.72it/s]\n",
      "15it [00:01,  9.73it/s]\n",
      "15it [00:01,  9.46it/s]\n",
      "15it [00:01, 10.02it/s]\n",
      "15it [00:01, 10.71it/s]\n",
      "15it [00:01, 10.99it/s]\n",
      "15it [00:01, 11.00it/s]\n",
      "15it [00:01, 10.74it/s]\n",
      "15it [00:01, 10.43it/s]\n",
      "15it [00:01,  9.51it/s]\n",
      "15it [00:01,  9.40it/s]\n",
      "15it [00:01,  9.97it/s]\n",
      "15it [00:01, 10.23it/s]\n",
      "15it [00:01,  9.82it/s]\n",
      "15it [00:01, 10.52it/s]\n",
      "15it [00:01,  9.78it/s]\n",
      "15it [00:01,  9.92it/s]\n",
      "15it [00:01, 10.05it/s]\n",
      "15it [00:01, 10.57it/s]\n",
      "15it [00:00, 15.62it/s]\n",
      "15it [00:01, 11.33it/s]\n",
      "15it [00:01, 10.82it/s]\n",
      "15it [00:01,  8.45it/s]\n",
      "15it [00:01,  7.59it/s]\n",
      "15it [00:02,  7.38it/s]\n",
      "15it [00:01,  7.86it/s]\n",
      "15it [00:01,  8.20it/s]\n",
      "15it [00:01,  9.16it/s]\n",
      "15it [00:01,  9.48it/s]\n",
      "15it [00:01,  9.31it/s]\n",
      "15it [00:01,  9.24it/s]\n",
      "15it [00:01, 10.28it/s]\n",
      "15it [00:01,  9.28it/s]\n",
      "15it [00:01,  9.01it/s]\n",
      "15it [00:01,  8.75it/s]\n",
      "15it [00:01,  9.84it/s]\n",
      "15it [00:01,  8.40it/s]\n",
      "15it [00:01,  9.14it/s]\n",
      "15it [00:01,  8.72it/s]\n",
      "15it [00:01,  8.92it/s]\n",
      "15it [00:01,  9.09it/s]\n",
      "15it [00:01, 10.86it/s]\n",
      "15it [00:01, 10.84it/s]\n",
      "15it [00:01, 10.45it/s]\n",
      "15it [00:01, 10.32it/s]\n",
      "15it [00:01,  9.95it/s]\n",
      "15it [00:01,  9.50it/s]\n",
      "15it [00:01,  9.24it/s]\n",
      "15it [00:01,  9.16it/s]\n",
      "15it [00:01, 10.07it/s]\n",
      "15it [00:01,  9.94it/s]\n",
      "15it [00:01,  9.52it/s]\n",
      "15it [00:01,  9.91it/s]\n",
      "15it [00:01, 10.18it/s]\n",
      "15it [00:01, 10.31it/s]\n",
      "15it [00:01,  9.57it/s]\n",
      "15it [00:01, 10.84it/s]\n",
      "15it [00:01, 10.64it/s]\n",
      "15it [00:01, 10.80it/s]\n",
      "15it [00:01,  9.31it/s]\n",
      "15it [00:01,  9.64it/s]\n",
      "15it [00:01, 10.31it/s]\n",
      "15it [00:01,  9.92it/s]\n",
      "15it [00:01, 10.29it/s]\n",
      "15it [00:01, 10.15it/s]\n",
      "15it [00:01,  9.69it/s]\n",
      "15it [00:01, 10.00it/s]\n",
      "15it [00:01, 10.11it/s]\n",
      "15it [00:01, 10.46it/s]\n",
      "15it [00:01, 10.05it/s]\n",
      "15it [00:01,  9.03it/s]\n",
      "15it [00:01, 10.39it/s]\n",
      "15it [00:01, 10.21it/s]\n",
      "15it [00:01, 10.11it/s]\n",
      "15it [00:01, 10.40it/s]\n",
      "15it [00:01,  9.99it/s]\n",
      "15it [00:01, 10.09it/s]\n",
      "15it [00:01, 10.29it/s]\n",
      "15it [00:01,  9.68it/s]\n",
      "15it [00:01, 10.23it/s]\n",
      "15it [00:01, 10.12it/s]\n",
      "15it [00:02,  6.98it/s]\n",
      "15it [00:01,  9.45it/s]\n",
      "15it [00:01, 10.53it/s]\n",
      "15it [00:01, 10.79it/s]\n",
      "15it [00:01,  9.28it/s]\n",
      "15it [00:01,  9.95it/s]\n",
      "15it [00:01, 10.20it/s]\n",
      "15it [00:01,  9.49it/s]\n",
      "15it [00:01,  9.87it/s]\n",
      "15it [00:01,  9.75it/s]\n",
      "15it [00:01, 10.24it/s]\n",
      "15it [00:01, 10.40it/s]\n",
      "15it [00:01,  9.88it/s]\n",
      "15it [00:01,  9.60it/s]\n",
      "15it [00:01, 10.50it/s]\n",
      "15it [00:01, 10.37it/s]\n",
      "15it [00:01, 10.79it/s]\n",
      "15it [00:01,  9.90it/s]\n",
      "15it [00:01,  9.95it/s]\n",
      "15it [00:01,  9.82it/s]\n",
      "15it [00:01,  9.80it/s]\n",
      "15it [00:01,  9.89it/s]\n",
      "15it [00:01,  9.71it/s]\n",
      "15it [00:01,  9.27it/s]\n",
      "15it [00:01,  9.95it/s]\n",
      "15it [00:01, 10.82it/s]\n",
      "15it [00:01,  9.53it/s]\n",
      "15it [00:01,  9.65it/s]\n",
      "15it [00:01, 10.51it/s]\n",
      "15it [00:01,  9.75it/s]\n",
      "15it [00:01,  9.62it/s]\n",
      "15it [00:01, 10.33it/s]\n",
      "15it [00:01,  9.76it/s]\n",
      "15it [00:01, 10.02it/s]\n",
      "15it [00:01,  9.68it/s]\n",
      "15it [00:01, 10.09it/s]\n",
      "15it [00:01,  9.97it/s]\n",
      "15it [00:01, 10.20it/s]\n",
      "15it [00:01,  9.71it/s]\n",
      "15it [00:01,  9.95it/s]\n",
      "15it [00:01, 10.60it/s]\n",
      "15it [00:01, 10.20it/s]\n",
      "15it [00:01,  9.97it/s]\n",
      "15it [00:01, 10.47it/s]\n",
      "15it [00:01,  9.80it/s]\n",
      "15it [00:01,  9.81it/s]\n",
      "15it [00:01,  9.56it/s]\n",
      "15it [00:01,  9.61it/s]\n",
      "15it [00:01, 10.36it/s]\n",
      "15it [00:01,  9.73it/s]\n",
      "15it [00:01, 10.29it/s]\n",
      "15it [00:01,  9.59it/s]\n",
      "15it [00:01, 10.19it/s]\n",
      "15it [00:01, 10.58it/s]\n",
      "15it [00:01, 10.04it/s]\n",
      "15it [00:01, 10.41it/s]\n",
      "15it [00:01, 10.15it/s]\n",
      "15it [00:01,  9.03it/s]\n",
      "15it [00:01,  9.87it/s]\n",
      "15it [00:01, 10.23it/s]\n",
      "15it [00:01,  9.83it/s]\n",
      "15it [00:01, 10.29it/s]\n",
      "15it [00:01, 10.04it/s]\n",
      "15it [00:01,  9.48it/s]\n",
      "15it [00:01, 10.18it/s]\n",
      "15it [00:01, 10.09it/s]\n",
      "15it [00:01, 10.01it/s]\n",
      "15it [00:01,  9.95it/s]\n",
      "15it [00:01,  9.20it/s]\n",
      "15it [00:01, 10.08it/s]\n",
      "15it [00:01, 10.15it/s]\n",
      "15it [00:01, 10.14it/s]\n",
      "15it [00:01, 10.29it/s]\n",
      "15it [00:01, 10.24it/s]\n",
      "15it [00:01, 10.10it/s]\n",
      "15it [00:01, 10.37it/s]\n",
      "15it [00:01,  9.80it/s]\n",
      "15it [00:01,  9.18it/s]\n",
      "15it [00:01, 10.38it/s]\n",
      "15it [00:01, 10.20it/s]\n",
      "15it [00:01, 10.30it/s]\n",
      "15it [00:01,  9.70it/s]\n",
      "15it [00:01,  9.45it/s]\n",
      "15it [00:01,  9.37it/s]\n",
      "15it [00:01,  9.95it/s]\n",
      "15it [00:01,  9.38it/s]\n",
      "15it [00:01,  9.91it/s]\n",
      "15it [00:01,  9.42it/s]\n",
      "15it [00:01, 10.26it/s]\n",
      "15it [00:01,  9.12it/s]\n",
      "15it [00:01,  9.84it/s]\n",
      "15it [00:01,  9.96it/s]\n",
      "15it [00:01, 10.07it/s]\n",
      "15it [00:01,  9.64it/s]\n",
      "15it [00:01, 10.34it/s]\n",
      "15it [00:01,  9.78it/s]\n",
      "15it [00:01, 10.00it/s]\n",
      "15it [00:01, 10.32it/s]\n",
      "15it [00:01,  9.26it/s]\n",
      "15it [00:01,  9.82it/s]\n",
      "15it [00:01,  9.61it/s]\n",
      "15it [00:01,  9.46it/s]\n",
      "15it [00:01, 10.00it/s]\n",
      "15it [00:01, 10.29it/s]\n",
      "15it [00:01, 10.19it/s]\n",
      "15it [00:01,  9.90it/s]\n",
      "15it [00:01,  9.70it/s]\n",
      "15it [00:01,  9.71it/s]\n",
      "15it [00:01,  9.40it/s]\n",
      "15it [00:01,  9.82it/s]\n",
      "15it [00:01,  9.60it/s]\n",
      "15it [00:01, 10.12it/s]\n",
      "15it [00:01, 10.21it/s]\n",
      "15it [00:01,  9.58it/s]\n",
      "15it [00:01, 10.01it/s]\n",
      "15it [00:01,  9.52it/s]\n",
      "15it [00:01,  9.74it/s]\n",
      "15it [00:01, 10.32it/s]\n",
      "15it [00:01,  9.82it/s]\n",
      "15it [00:01,  9.95it/s]\n",
      "15it [00:01, 10.17it/s]\n",
      "15it [00:01,  9.68it/s]\n",
      "15it [00:01, 10.64it/s]\n",
      "15it [00:01,  9.81it/s]\n",
      "15it [00:01,  9.52it/s]\n",
      "15it [00:01,  9.63it/s]\n",
      "15it [00:01,  9.50it/s]\n",
      "15it [00:01, 10.72it/s]\n",
      "15it [00:01,  9.78it/s]\n",
      "15it [00:01,  9.68it/s]\n",
      "15it [00:01, 10.22it/s]\n",
      "15it [00:01,  9.55it/s]\n",
      "15it [00:01,  9.92it/s]\n",
      "15it [00:01, 10.43it/s]\n",
      "15it [00:01, 10.08it/s]\n",
      "15it [00:01,  9.62it/s]\n",
      "15it [00:01,  9.68it/s]\n",
      "15it [00:01,  9.98it/s]\n",
      "15it [00:01,  9.83it/s]\n",
      "15it [00:01,  9.43it/s]\n"
     ]
    },
    {
     "name": "stdout",
     "output_type": "stream",
     "text": [
      "number of iter is 288\n"
     ]
    },
    {
     "ename": "NameError",
     "evalue": "name 'qunatum_state' is not defined",
     "output_type": "error",
     "traceback": [
      "\u001b[1;31m---------------------------------------------------------------------------\u001b[0m",
      "\u001b[1;31mNameError\u001b[0m                                 Traceback (most recent call last)",
      "Input \u001b[1;32mIn [29]\u001b[0m, in \u001b[0;36m<cell line: 2>\u001b[1;34m()\u001b[0m\n\u001b[0;32m      7\u001b[0m \u001b[38;5;28mprint\u001b[39m(\u001b[38;5;124m\"\u001b[39m\u001b[38;5;124mnumber of iter is \u001b[39m\u001b[38;5;132;01m{0}\u001b[39;00m\u001b[38;5;124m\"\u001b[39m\u001b[38;5;241m.\u001b[39mformat(iterations_num))\n\u001b[0;32m      8\u001b[0m basis\u001b[38;5;241m.\u001b[39miterations_number[\u001b[38;5;28mtuple\u001b[39m(quantum_state)] \u001b[38;5;241m=\u001b[39m iterations_num\n\u001b[1;32m----> 9\u001b[0m basis\u001b[38;5;241m.\u001b[39mlists_of_approximated_energies_till_convergence[(\u001b[38;5;28mtuple\u001b[39m(\u001b[43mqunatum_state\u001b[49m))]\u001b[38;5;241m.\u001b[39mappend(approximated_energies)\n\u001b[0;32m     11\u001b[0m exact_eigenvalue \u001b[38;5;241m=\u001b[39m get_minimum_exact_eigenvalue_of_hamiltonian(H2_molecule_Hamiltonian_4_qubits)\n\u001b[0;32m     12\u001b[0m basis\u001b[38;5;241m.\u001b[39mapproximation_error_results[(\u001b[38;5;28mtuple\u001b[39m(quantum_state))] \u001b[38;5;241m=\u001b[39m get_approximation_error(exact_eigenvalue, H2_approximated_eigenvalue)\n",
      "\u001b[1;31mNameError\u001b[0m: name 'qunatum_state' is not defined"
     ]
    }
   ],
   "source": [
    "# %%time\n",
    "for basis in mubs_d_4:\n",
    "    for quantum_state in basis.basis_vectors:\n",
    "        H2_approximated_eigenvalue = get_approximated_eigenvalue_of_hamiltonian(H2_molecule_Hamiltonian_4_qubits, \"linear\", quantum_state)\n",
    "        basis.approximated_eigenvalue_results[tuple(quantum_state)] = H2_approximated_eigenvalue\n",
    "        iterations_num = len(approximated_energies)\n",
    "        print(\"number of iter is {0}\".format(iterations_num))\n",
    "        basis.iterations_number[tuple(quantum_state)] = iterations_num\n",
    "        basis.lists_of_approximated_energies_till_convergence[(tuple(quantum_state))].append(approximated_energies)\n",
    "        \n",
    "        exact_eigenvalue = get_minimum_exact_eigenvalue_of_hamiltonian(H2_molecule_Hamiltonian_4_qubits)\n",
    "        basis.approximation_error_results[(tuple(quantum_state))] = get_approximation_error(exact_eigenvalue, H2_approximated_eigenvalue)\n",
    "        \n",
    "        x_values = range(1, iterations_num + 1)\n",
    "        plt.plot(x_values, approximated_energies, label='Quantum Vector {0}'.format(str(quantum_state)), marker='o')  # Added markers for clarity\n",
    "        approximated_energies = []\n",
    "\n",
    "# Adding labels and legend\n",
    "plt.xlabel('Number of Iterations till Convergence')\n",
    "plt.ylabel('Approximated Energies')\n",
    "plt.title('Approximated Energies vs. Number of Iterations')\n",
    "plt.legend()\n",
    "\n",
    "# Display the plot\n",
    "plt.show()"
   ]
  },
  {
   "cell_type": "code",
   "execution_count": null,
   "id": "ab920fa2-07c9-4917-a568-a616defe9592",
   "metadata": {},
   "outputs": [],
   "source": [
    "def generate_approximation_errors(hamiltonian):\n",
    "    for basis in mubs_d_4:\n",
    "        for vector, approx_val in basis.approximated_eigenvalue_results.items():\n",
    "            exact_eigenvalue = get_minimum_exact_eigenvalue_of_hamiltonian(hamiltonian)\n",
    "            basis.approximation_error_results[vector] = get_approximation_error(exact_eigenvalue, approx_val)"
   ]
  },
  {
   "cell_type": "code",
   "execution_count": null,
   "id": "a3b57232-ba9e-419f-add6-4557aad4e19b",
   "metadata": {},
   "outputs": [],
   "source": [
    "generate_approximation_errors(H2_molecule_Hamiltonian_4_qubits)"
   ]
  },
  {
   "cell_type": "code",
   "execution_count": null,
   "id": "c0da4765-2cf1-4439-9aaf-795ad81b1b8d",
   "metadata": {},
   "outputs": [],
   "source": [
    "import statistics\n",
    "\n",
    "values = []\n",
    "for basis in mubs_d_4:\n",
    "    for value in basis.approximated_eigenvalue_results.values():\n",
    "        values.append(value)\n",
    "\n",
    "# Calculating the mean and median\n",
    "mean_value = statistics.mean(values)\n",
    "median_value = statistics.median(values)\n",
    "\n",
    "print(f\"Mean: {mean_value}\")\n",
    "print(f\"Median: {median_value}\")\n"
   ]
  },
  {
   "cell_type": "code",
   "execution_count": null,
   "id": "32464b78-076c-4dc1-b7d9-94a41d0a7466",
   "metadata": {},
   "outputs": [],
   "source": [
    "import matplotlib.pyplot as plt\n",
    "import numpy as np\n",
    "\n",
    "# Number of series\n",
    "num_series = 5\n",
    "\n",
    "# Plotting each series of energies generated within the loop\n",
    "for i in range(num_series):\n",
    "    # Generate a series of approximated energies with varying lengths\n",
    "    # For demonstration, let's create a list of energies with increasing length and varying values\n",
    "    energy_series = np.random.rand(i + 3) * 10  # Random energies, length varies in each iteration\n",
    "    \n",
    "    # The x-values are the number of iterations till convergence, which is just the index of each energy value\n",
    "    x_values = range(1, len(energy_series) + 1)\n",
    "    \n",
    "    # Plotting the series on the same graph\n",
    "    plt.plot(x_values, energy_series, label=f'Series {i + 1}', marker='o')  # Added markers for clarity\n",
    "\n",
    "# Adding labels and legend\n",
    "plt.xlabel('Number of Iterations till Convergence')\n",
    "plt.ylabel('Approximated Energies')\n",
    "plt.title('Approximated Energies vs. Number of Iterations')\n",
    "plt.legend()\n",
    "\n",
    "# Display the plot\n",
    "plt.show()\n"
   ]
  },
  {
   "cell_type": "code",
   "execution_count": null,
   "id": "5b96cc5e",
   "metadata": {},
   "outputs": [],
   "source": [
    "compare_exact_and_approximated_eigenvalue(H2_molecule_Hamiltonian_4_qubits, H2_approximated_eigenvalue)"
   ]
  },
  {
   "cell_type": "markdown",
   "id": "72f299b7",
   "metadata": {},
   "source": [
    "#### Full Entangelment"
   ]
  },
  {
   "cell_type": "code",
   "execution_count": null,
   "id": "51d29e0c",
   "metadata": {
    "tags": []
   },
   "outputs": [],
   "source": [
    "%%time\n",
    "H2_approximated_eigenvalue = get_approximated_eigenvalue_of_hamiltonian(H2_molecule_Hamiltonian_4_qubits, \"full\")"
   ]
  },
  {
   "cell_type": "code",
   "execution_count": null,
   "id": "b3b3d512",
   "metadata": {},
   "outputs": [],
   "source": [
    "compare_exact_and_approximated_eigenvalue(H2_molecule_Hamiltonian_4_qubits, H2_approximated_eigenvalue)"
   ]
  },
  {
   "cell_type": "markdown",
   "id": "394c3bee",
   "metadata": {},
   "source": [
    "##  Transverse Ising Model 4 qubits"
   ]
  },
  {
   "cell_type": "code",
   "execution_count": null,
   "id": "8dab0ec4",
   "metadata": {},
   "outputs": [],
   "source": [
    "transverse_ising_4_qubits = 0.0 * (I^I^I^I) \\\n",
    "    + 0.8398088405253477 * (X^I^I^I) \\\n",
    "    + 0.7989496312070936 * (I^X^I^I) \\\n",
    "    + 0.38189710487113193 * (Z^Z^I^I) \\\n",
    "    + 0.057753122422666725 * (I^I^X^I) \\\n",
    "    + 0.5633292636970458 * (Z^I^Z^I) \\\n",
    "    + 0.3152740621483513 * (I^Z^Z^I) \\\n",
    "    + 0.07209487981989715 * (I^I^I^X) \\\n",
    "    + 0.17892334004292654 * (Z^I^I^Z) \\\n",
    "    + 0.2273896497668042 * (I^Z^I^Z) \\\n",
    "    + 0.09762902934216211 * (I^I^Z^Z)"
   ]
  },
  {
   "cell_type": "markdown",
   "id": "c82bd1cb",
   "metadata": {},
   "source": [
    "#### Linear Entangelment"
   ]
  },
  {
   "cell_type": "code",
   "execution_count": null,
   "id": "ac7514ba",
   "metadata": {
    "tags": []
   },
   "outputs": [],
   "source": [
    "%%time\n",
    "TI_approximated_eigenvalue = get_approximated_eigenvalue_of_hamiltonian(transverse_ising_4_qubits, \"linear\")"
   ]
  },
  {
   "cell_type": "code",
   "execution_count": null,
   "id": "ecd81c72",
   "metadata": {},
   "outputs": [],
   "source": [
    "compare_exact_and_approximated_eigenvalue(transverse_ising_4_qubits, TI_approximated_eigenvalue)"
   ]
  },
  {
   "cell_type": "markdown",
   "id": "b13fdb69",
   "metadata": {},
   "source": [
    "#### Full Entangelment"
   ]
  },
  {
   "cell_type": "code",
   "execution_count": null,
   "id": "defdd66a",
   "metadata": {},
   "outputs": [],
   "source": [
    "%%time\n",
    "TI_approximated_eigenvalue = get_approximated_eigenvalue_of_hamiltonian(transverse_ising_4_qubits, \"full\")"
   ]
  },
  {
   "cell_type": "code",
   "execution_count": null,
   "id": "2f902eaa",
   "metadata": {},
   "outputs": [],
   "source": [
    "compare_exact_and_approximated_eigenvalue(transverse_ising_4_qubits, TI_approximated_eigenvalue)"
   ]
  },
  {
   "cell_type": "markdown",
   "id": "cbf062b7",
   "metadata": {},
   "source": [
    "##  Transverse Ising Model 3 qubits"
   ]
  },
  {
   "cell_type": "code",
   "execution_count": null,
   "id": "ff246ff1",
   "metadata": {},
   "outputs": [],
   "source": [
    "QUBITS_NUM = 3 \n",
    "N = 2**QUBITS_NUM\n",
    "\n",
    "NUM_SHOTS = 1024\n",
    "NUM_ITERATIONS = 100\n",
    "\n",
    "CIRCUIT_DEPTH = 3\n",
    "PARAMS_NUM = 2*QUBITS_NUM*(CIRCUIT_DEPTH+1)"
   ]
  },
  {
   "cell_type": "code",
   "execution_count": null,
   "id": "8dd976ef",
   "metadata": {},
   "outputs": [],
   "source": [
    "from qiskit.opflow import X, Z, I\n",
    "\n",
    "transverse_ising_3_qubits = 0.0 * (I^I^I) \\\n",
    "                    + 0.012764169333459807 * (X^I^I) \\\n",
    "                    + 0.7691573729160869 * (I^X^I) \\\n",
    "                    + 0.398094746026449 * (Z^Z^I) \\\n",
    "                    + 0.15250261906586637 * (I^I^X) \\\n",
    "                    + 0.2094051920882264 * (Z^I^Z) \\\n",
    "                    + 0.5131291860752999 * (I^Z^Z)"
   ]
  },
  {
   "cell_type": "markdown",
   "id": "e37dd875",
   "metadata": {},
   "source": [
    "#### Linear Entangelment"
   ]
  },
  {
   "cell_type": "code",
   "execution_count": null,
   "id": "7ffc0e36",
   "metadata": {},
   "outputs": [],
   "source": [
    "%%time\n",
    "TI_approximated_eigenvalue = get_approximated_eigenvalue_of_hamiltonian(transverse_ising_3_qubits, \"linear\")"
   ]
  },
  {
   "cell_type": "code",
   "execution_count": null,
   "id": "400315d0",
   "metadata": {},
   "outputs": [],
   "source": [
    "compare_exact_and_approximated_eigenvalue(transverse_ising_3_qubits, TI_approximated_eigenvalue)"
   ]
  },
  {
   "cell_type": "markdown",
   "id": "91d5d284",
   "metadata": {},
   "source": [
    "#### Full Entangelment"
   ]
  },
  {
   "cell_type": "code",
   "execution_count": null,
   "id": "d43a0eb0",
   "metadata": {},
   "outputs": [],
   "source": [
    "%%time\n",
    "TI_approximated_eigenvalue = get_approximated_eigenvalue_of_hamiltonian(transverse_ising_3_qubits, \"full\")"
   ]
  },
  {
   "cell_type": "code",
   "execution_count": null,
   "id": "39bdc045",
   "metadata": {},
   "outputs": [],
   "source": [
    "compare_exact_and_approximated_eigenvalue(transverse_ising_3_qubits, TI_approximated_eigenvalue)"
   ]
  },
  {
   "cell_type": "markdown",
   "id": "09be5f46",
   "metadata": {},
   "source": [
    "##  Transverse Ising Model 2 qubits"
   ]
  },
  {
   "cell_type": "code",
   "execution_count": null,
   "id": "d8a0c4e6",
   "metadata": {},
   "outputs": [],
   "source": [
    "QUBITS_NUM = 2 \n",
    "N = 2**QUBITS_NUM\n",
    "\n",
    "NUM_SHOTS = 1024\n",
    "NUM_ITERATIONS = 100\n",
    "\n",
    "CIRCUIT_DEPTH = 3\n",
    "PARAMS_NUM = 2*QUBITS_NUM*(CIRCUIT_DEPTH+1)"
   ]
  },
  {
   "cell_type": "code",
   "execution_count": null,
   "id": "58136107",
   "metadata": {},
   "outputs": [],
   "source": [
    "transverse_ising_2_qubits = 0.13755727363376802 * (I^X) \\\n",
    "                            + 0.43305656297810435 * (X^I) \\\n",
    "                            + 0.8538597608997253 * (Z^Z)"
   ]
  },
  {
   "cell_type": "markdown",
   "id": "6428a32d",
   "metadata": {},
   "source": [
    "#### Linear Entangelment"
   ]
  },
  {
   "cell_type": "code",
   "execution_count": null,
   "id": "d9154eaa",
   "metadata": {},
   "outputs": [],
   "source": [
    "%%time\n",
    "TI_approximated_eigenvalue = get_approximated_eigenvalue_of_hamiltonian(transverse_ising_2_qubits, \"linear\")"
   ]
  },
  {
   "cell_type": "code",
   "execution_count": null,
   "id": "88b56e14",
   "metadata": {},
   "outputs": [],
   "source": [
    "compare_exact_and_approximated_eigenvalue(transverse_ising_2_qubits, TI_approximated_eigenvalue)"
   ]
  },
  {
   "cell_type": "markdown",
   "id": "49bb4028",
   "metadata": {},
   "source": [
    "#### Full Entangelment"
   ]
  },
  {
   "cell_type": "code",
   "execution_count": null,
   "id": "c06487da",
   "metadata": {},
   "outputs": [],
   "source": [
    "%%time\n",
    "TI_approximated_eigenvalue = get_approximated_eigenvalue_of_hamiltonian(transverse_ising_2_qubits, \"full\")"
   ]
  },
  {
   "cell_type": "code",
   "execution_count": null,
   "id": "65ad38bc",
   "metadata": {},
   "outputs": [],
   "source": [
    "compare_exact_and_approximated_eigenvalue(transverse_ising_2_qubits, TI_approximated_eigenvalue)"
   ]
  },
  {
   "cell_type": "markdown",
   "id": "e9cf7ccb",
   "metadata": {},
   "source": [
    "## H2 Molecule 2 qubits"
   ]
  },
  {
   "cell_type": "code",
   "execution_count": null,
   "id": "2909cd68",
   "metadata": {},
   "outputs": [],
   "source": [
    "from qiskit.opflow import X, Z, I\n",
    "\n",
    "H2_molecule_Hamiltonian_2_qubits = -0.5053051899926562*(I^I) + \\\n",
    "                            -0.3277380754984016*(Z^I) + \\\n",
    "                            0.15567463610622564*(Z^Z) + \\\n",
    "                            -0.3277380754984016*(I^Z)"
   ]
  },
  {
   "cell_type": "markdown",
   "id": "a3af5292",
   "metadata": {},
   "source": [
    "#### Linear Entangelment"
   ]
  },
  {
   "cell_type": "code",
   "execution_count": null,
   "id": "6fe25ff3",
   "metadata": {},
   "outputs": [],
   "source": [
    "%%time\n",
    "H2_approximated_eigenvalue = get_approximated_eigenvalue_of_hamiltonian(H2_molecule_Hamiltonian_2_qubits, \"linear\")"
   ]
  },
  {
   "cell_type": "code",
   "execution_count": null,
   "id": "692be58b",
   "metadata": {},
   "outputs": [],
   "source": [
    "compare_exact_and_approximated_eigenvalue(H2_molecule_Hamiltonian_2_qubits, H2_approximated_eigenvalue)"
   ]
  },
  {
   "cell_type": "markdown",
   "id": "46aa3a97",
   "metadata": {},
   "source": [
    "#### Full Entangelment"
   ]
  },
  {
   "cell_type": "code",
   "execution_count": null,
   "id": "c027435b",
   "metadata": {},
   "outputs": [],
   "source": [
    "%%time\n",
    "H2_approximated_eigenvalue = get_approximated_eigenvalue_of_hamiltonian(H2_molecule_Hamiltonian_2_qubits, \"full\")"
   ]
  },
  {
   "cell_type": "code",
   "execution_count": null,
   "id": "d45ad4e5",
   "metadata": {},
   "outputs": [],
   "source": [
    "compare_exact_and_approximated_eigenvalue(H2_molecule_Hamiltonian_2_qubits, H2_approximated_eigenvalue)"
   ]
  }
 ],
 "metadata": {
  "kernelspec": {
   "display_name": "Qiskitenv",
   "language": "python",
   "name": "qiskitenv"
  },
  "language_info": {
   "codemirror_mode": {
    "name": "ipython",
    "version": 3
   },
   "file_extension": ".py",
   "mimetype": "text/x-python",
   "name": "python",
   "nbconvert_exporter": "python",
   "pygments_lexer": "ipython3",
   "version": "3.8.13"
  }
 },
 "nbformat": 4,
 "nbformat_minor": 5
}
