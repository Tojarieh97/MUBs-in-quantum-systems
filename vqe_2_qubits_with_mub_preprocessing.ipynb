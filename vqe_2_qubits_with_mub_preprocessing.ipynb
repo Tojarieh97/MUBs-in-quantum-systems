{
 "cells": [
  {
   "cell_type": "markdown",
   "id": "c4c77734",
   "metadata": {},
   "source": [
    "### Basic Imports"
   ]
  },
  {
   "cell_type": "code",
   "execution_count": 149,
   "id": "9431f6b7",
   "metadata": {},
   "outputs": [],
   "source": [
    "import nbimporter\n",
    "from typing import Dict, Tuple, List\n",
    "import numpy as np\n",
    "from tqdm import tqdm"
   ]
  },
  {
   "cell_type": "markdown",
   "id": "4ff98362",
   "metadata": {},
   "source": [
    "### Env Vars"
   ]
  },
  {
   "cell_type": "code",
   "execution_count": 150,
   "id": "9c7250c3",
   "metadata": {},
   "outputs": [],
   "source": [
    "QUBITS_NUM = 2 \n",
    "N = 2**QUBITS_NUM\n",
    "\n",
    "NUM_SHOTS = 1024\n",
    "NUM_ITERATIONS = 50\n",
    "\n",
    "CIRCUIT_DEPTH = 3\n",
    "PARAMS_NUM = 2*QUBITS_NUM*(CIRCUIT_DEPTH+1)"
   ]
  },
  {
   "cell_type": "markdown",
   "id": "6dcb0625",
   "metadata": {},
   "source": [
    "### Simulator Backend"
   ]
  },
  {
   "cell_type": "code",
   "execution_count": 151,
   "id": "8e287170",
   "metadata": {},
   "outputs": [],
   "source": [
    "from qiskit import Aer\n",
    "from qiskit.utils import QuantumInstance, algorithm_globals\n",
    "\n",
    "seed = 50\n",
    "algorithm_globals.random_seed = seed\n",
    "\n",
    "simulator_backend = Aer.get_backend('qasm_simulator')"
   ]
  },
  {
   "cell_type": "markdown",
   "id": "5cc189d2",
   "metadata": {},
   "source": [
    "### Optimizer"
   ]
  },
  {
   "cell_type": "code",
   "execution_count": 152,
   "id": "aea5f838",
   "metadata": {},
   "outputs": [],
   "source": [
    "from scipy.optimize import minimize"
   ]
  },
  {
   "cell_type": "markdown",
   "id": "6681d9cf",
   "metadata": {},
   "source": [
    "### Ansatz State"
   ]
  },
  {
   "cell_type": "code",
   "execution_count": 153,
   "id": "ed679eb5",
   "metadata": {},
   "outputs": [],
   "source": [
    "from linear_entangelment_and_full_entangelment_ansatz_circuits import *"
   ]
  },
  {
   "cell_type": "code",
   "execution_count": 154,
   "id": "9ebdb4f8",
   "metadata": {},
   "outputs": [],
   "source": [
    "def get_ansatz_state(thetas, input_state, ansatz_entangelment=\"full\"):\n",
    "    if ansatz_entangelment==\"full\":\n",
    "        return get_full_entangelment_ansatz(QUBITS_NUM, thetas, input_state)\n",
    "    if ansatz_entangelment==\"linear\":\n",
    "        return get_linear_entangelment_ansatz(QUBITS_NUM, thetas, input_state)"
   ]
  },
  {
   "cell_type": "markdown",
   "id": "21777faa",
   "metadata": {},
   "source": [
    "## Expectation Value"
   ]
  },
  {
   "cell_type": "markdown",
   "id": "d320f1b6",
   "metadata": {},
   "source": [
    "### convert hamiltonian to pauli strings"
   ]
  },
  {
   "cell_type": "code",
   "execution_count": 155,
   "id": "56435355",
   "metadata": {},
   "outputs": [],
   "source": [
    "def transfrom_hamiltonian_into_pauli_strings(hamiltonian) -> List:\n",
    "    pauli_operators = hamiltonian.to_pauli_op().settings['oplist']\n",
    "    pauli_coeffs = list(map(lambda pauli_operator: pauli_operator.coeff, pauli_operators))\n",
    "    pauli_strings = list(map(lambda pauli_operator: pauli_operator.primitive, pauli_operators))\n",
    "    return pauli_coeffs, pauli_strings"
   ]
  },
  {
   "cell_type": "markdown",
   "id": "de5f75c3",
   "metadata": {},
   "source": [
    "### pauli string reduction to sigma_z's"
   ]
  },
  {
   "cell_type": "code",
   "execution_count": 156,
   "id": "347de6bb",
   "metadata": {},
   "outputs": [],
   "source": [
    "from qiskit.circuit.library.standard_gates import HGate, SGate\n",
    "from qiskit import QuantumCircuit, ClassicalRegister, QuantumRegister"
   ]
  },
  {
   "cell_type": "code",
   "execution_count": 157,
   "id": "dbbe79ef",
   "metadata": {},
   "outputs": [],
   "source": [
    "reducing_to_pauli_z_mapping = {\n",
    "    'I': 'I',\n",
    "    'Z': 'Z',\n",
    "    'X': 'Z',\n",
    "    'Y': 'Z'\n",
    "} "
   ]
  },
  {
   "cell_type": "code",
   "execution_count": 158,
   "id": "6f94927f",
   "metadata": {},
   "outputs": [],
   "source": [
    "def reduce_pauli_matrixes_into_sigma_z(pauli_string) -> str:\n",
    "    reduced_pauli_string = \"\"\n",
    "    for matrix_index in range(QUBITS_NUM):\n",
    "        pauli_matrix = str(pauli_string[matrix_index])\n",
    "        reduced_pauli_matrix = reducing_to_pauli_z_mapping[pauli_matrix]\n",
    "        reduced_pauli_string = reduced_pauli_matrix + reduced_pauli_string\n",
    "    \n",
    "    return reduced_pauli_string"
   ]
  },
  {
   "cell_type": "code",
   "execution_count": 159,
   "id": "e6f0562f",
   "metadata": {},
   "outputs": [],
   "source": [
    "def add_layer_of_gates_for_reducing_paulis_to_sigma_z(pauli_string, quantum_circuit):\n",
    "    quantum_registers = QuantumRegister(QUBITS_NUM, name=\"qubit\")\n",
    "    additional_circuit_layer = QuantumCircuit(quantum_registers)\n",
    "    \n",
    "    for quantum_register_index, pauli_matrix in enumerate(pauli_string):\n",
    "        if pauli_matrix == \"X\":\n",
    "            additional_circuit_layer.append(HGate(), [quantum_registers[quantum_register_index]])\n",
    "        if pauli_string == \"Y\":\n",
    "            additional_circuit_layer.append(HGate(), [quantum_registers[quantum_register_index]])\n",
    "            additional_circuit_layer.append(SGate(), [quantum_registers[quantum_register_index]])\n",
    "                \n",
    "    extended_quantum_circuit = quantum_circuit.compose(additional_circuit_layer)\n",
    "    return extended_quantum_circuit"
   ]
  },
  {
   "cell_type": "markdown",
   "id": "ce83fae9",
   "metadata": {},
   "source": [
    "### probabilities distribution"
   ]
  },
  {
   "cell_type": "code",
   "execution_count": 160,
   "id": "84e65e31",
   "metadata": {},
   "outputs": [],
   "source": [
    "def get_probability_distribution(counts: Dict) -> Dict:\n",
    "    proba_distribution = {state: (count / NUM_SHOTS) for state, count in counts.items()}\n",
    "    return proba_distribution\n",
    "\n",
    "def calculate_probabilities_of_measurments_in_computational_basis(quantum_state_circuit) -> Dict:\n",
    "    quantum_state_circuit.measure_all()\n",
    "    \n",
    "    transpiled_quantum_state_circuit = transpile(quantum_state_circuit, simulator_backend) \n",
    "    Qobj = assemble(transpiled_quantum_state_circuit)\n",
    "    result = simulator_backend.run(Qobj).result()\n",
    "    counts = result.get_counts(quantum_state_circuit)\n",
    "    \n",
    "    return get_probability_distribution(counts)"
   ]
  },
  {
   "cell_type": "markdown",
   "id": "b9286e5d",
   "metadata": {},
   "source": [
    "### Expectation value from probabilities"
   ]
  },
  {
   "cell_type": "code",
   "execution_count": 161,
   "id": "38a72356",
   "metadata": {},
   "outputs": [],
   "source": [
    "def sort_probas_dict_by_qubits_string_keys(proba_distribution: Dict) -> Dict:\n",
    "    return dict(sorted(proba_distribution.items()))\n",
    "\n",
    "def reset_power_of_minus_1(power_of_minus_1):\n",
    "    power_of_minus_1 = 0\n",
    "    return power_of_minus_1\n",
    "\n",
    "def convert_pauli_string_into_str(pauli_string) -> str:\n",
    "    return str(pauli_string)\n",
    "\n",
    "def calculate_expectation_value_of_pauli_string_by_measurments_probas(pauli_string, ansatz_circuit):\n",
    "    pauli_string_expectation_value = 0\n",
    "    power_of_minus_1 = 0\n",
    "    \n",
    "    pauli_string_str = convert_pauli_string_into_str(pauli_string)\n",
    "    extended_ansatz_circuit = add_layer_of_gates_for_reducing_paulis_to_sigma_z(pauli_string_str, ansatz_circuit)\n",
    "    probas_distribution = calculate_probabilities_of_measurments_in_computational_basis(extended_ansatz_circuit)\n",
    "    \n",
    "    reduced_pauli_string = reduce_pauli_matrixes_into_sigma_z(pauli_string)\n",
    "    sorted_probas_distribuition = sort_probas_dict_by_qubits_string_keys(probas_distribution)\n",
    "    for qubits_string, proba in sorted_probas_distribuition.items():\n",
    "        for string_index in range(QUBITS_NUM):\n",
    "            if(str(qubits_string[string_index])==\"1\" and str(reduced_pauli_string[string_index])==\"Z\"):\n",
    "                power_of_minus_1 += 1\n",
    "            \n",
    "        pauli_string_expectation_value += pow(-1, power_of_minus_1)*proba\n",
    "        power_of_minus_1 = reset_power_of_minus_1(power_of_minus_1)\n",
    "        \n",
    "    return pauli_string_expectation_value"
   ]
  },
  {
   "cell_type": "code",
   "execution_count": 162,
   "id": "c263be2b",
   "metadata": {},
   "outputs": [],
   "source": [
    "def get_expectation_value(ansatz_circuit, pauli_coeffs, pauli_strings):\n",
    "    total_expection_value = 0\n",
    "    \n",
    "    for pauli_coeff, pauli_string in tqdm(zip(pauli_coeffs, pauli_strings)):\n",
    "        total_expection_value += pauli_coeff*calculate_expectation_value_of_pauli_string_by_measurments_probas(\n",
    "                                                                                    pauli_string, ansatz_circuit)\n",
    "    \n",
    "    return total_expection_value"
   ]
  },
  {
   "cell_type": "markdown",
   "id": "a79fc302",
   "metadata": {},
   "source": [
    "## Objective Function"
   ]
  },
  {
   "cell_type": "code",
   "execution_count": 163,
   "id": "e3f4d330",
   "metadata": {},
   "outputs": [],
   "source": [
    "from qiskit import assemble, transpile\n",
    "import random\n",
    "\n",
    "def cost_function(thetas, hamiltonian, initial_eigenvector):    \n",
    "    pauli_coeffs, pauli_strings = transfrom_hamiltonian_into_pauli_strings(hamiltonian)\n",
    "    ansatz_state = get_ansatz_state(thetas, initial_eigenvector)\n",
    "        \n",
    "    L = get_expectation_value(ansatz_state, pauli_coeffs, pauli_strings)\n",
    "    insert_approximated_energy_to_list_of_all_approximated_energies(L)\n",
    "        \n",
    "    return L"
   ]
  },
  {
   "cell_type": "markdown",
   "id": "e8ac20b3",
   "metadata": {},
   "source": [
    "## Optimization"
   ]
  },
  {
   "cell_type": "code",
   "execution_count": 164,
   "id": "9b2663d2",
   "metadata": {},
   "outputs": [],
   "source": [
    "def get_optimal_thetas_of_ansatz_circuit_for_hamiltonian(hamiltonian, post_processing_eigenvector, post_processing_thetas):\n",
    "    optimizer_result = minimize(cost_function,\n",
    "                                x0=post_processing_thetas,\n",
    "                                args=(hamiltonian, post_processing_eigenvector),\n",
    "                                method=\"COBYLA\",\n",
    "                                options={\"maxiter\":NUM_ITERATIONS,\n",
    "                                        \"disp\": True})\n",
    "    optimal_thetas = optimizer_result.x\n",
    "    \n",
    "    return optimal_thetas"
   ]
  },
  {
   "cell_type": "code",
   "execution_count": 165,
   "id": "80c13445",
   "metadata": {},
   "outputs": [],
   "source": [
    "def get_approximated_eigenvalue_of_hamiltonian(hamiltonian, post_processing_eigenvector, post_processing_thetas):    \n",
    "    optimal_thetas = get_optimal_thetas_of_ansatz_circuit_for_hamiltonian(hamiltonian, post_processing_eigenvector, post_processing_thetas)\n",
    "    optimal_ansatz_state = get_ansatz_state(optimal_thetas, post_processing_eigenvector)\n",
    "    \n",
    "    pauli_coeffs, pauli_strings = transfrom_hamiltonian_into_pauli_strings(hamiltonian)\n",
    "    approximated_eigenvalue = get_expectation_value(optimal_ansatz_state, pauli_coeffs, pauli_strings)\n",
    "\n",
    "    return approximated_eigenvalue"
   ]
  },
  {
   "cell_type": "markdown",
   "id": "7b410988",
   "metadata": {},
   "source": [
    "## Comparsion"
   ]
  },
  {
   "cell_type": "code",
   "execution_count": 166,
   "id": "6cbe0758",
   "metadata": {},
   "outputs": [],
   "source": [
    "from numpy import linalg as LA\n",
    "\n",
    "def get_approximation_error(exact_eigenvalue, approximated_eigenvalue):\n",
    "    return abs(abs(exact_eigenvalue)-abs(approximated_eigenvalue))/abs(exact_eigenvalue)"
   ]
  },
  {
   "cell_type": "code",
   "execution_count": 167,
   "id": "28b63147",
   "metadata": {},
   "outputs": [],
   "source": [
    "def get_minimum_exact_eigenvalue_of_hamiltonian(hamiltonian):\n",
    "    eigen_values = LA.eigvals(hamiltonian.to_matrix())\n",
    "    \n",
    "    return min(sorted(eigen_values))"
   ]
  },
  {
   "cell_type": "code",
   "execution_count": 168,
   "id": "529a29d1",
   "metadata": {},
   "outputs": [],
   "source": [
    "def compare_exact_and_approximated_eigenvalue(hamiltonian, approximated_eigenvalue):\n",
    "    exact_eigenvalue = get_minimum_exact_eigenvalue_of_hamiltonian(hamiltonian)\n",
    "    print(\"Exact Eigenvalue:\")\n",
    "    print(exact_eigenvalue)\n",
    "    print(\"\\nApproximated Eigenvalue:\")\n",
    "    print(approximated_eigenvalue)\n",
    "\n",
    "    print(\"\\nApproximation Error\")\n",
    "    print(get_approximation_error(exact_eigenvalue, approximated_eigenvalue))\n",
    "    \n",
    "    plot_convergence_of_optimization_process(exact_eigenvalue, margin=3)"
   ]
  },
  {
   "cell_type": "markdown",
   "id": "c1452964",
   "metadata": {},
   "source": [
    "## Visualization"
   ]
  },
  {
   "cell_type": "code",
   "execution_count": 169,
   "id": "75c3e505",
   "metadata": {},
   "outputs": [],
   "source": [
    "approximated_energies = []"
   ]
  },
  {
   "cell_type": "code",
   "execution_count": 170,
   "id": "5c4331c6",
   "metadata": {},
   "outputs": [],
   "source": [
    "def insert_approximated_energy_to_list_of_all_approximated_energies(energy):\n",
    "    approximated_energies.append(energy)"
   ]
  },
  {
   "cell_type": "code",
   "execution_count": 171,
   "id": "26026bbb",
   "metadata": {},
   "outputs": [],
   "source": [
    "import matplotlib.pyplot as plt\n",
    "\n",
    "def plot_convergence_of_optimization_process(exact_eigenvalue, margin):\n",
    "    plt.title(\"convergence of optimization process to the exact eigenvalue\")\n",
    "    plt.margins(0, margin)\n",
    "    plt.plot(approximated_energies[-NUM_ITERATIONS:])\n",
    "    plt.axhline(y = exact_eigenvalue, color = 'r', linestyle = '-')\n",
    "    plt.grid()\n",
    "    plt.xlabel(\"# of iterations\")\n",
    "    plt.ylabel(\"Energy\")\n",
    "    \n",
    "def plot_fidelity():\n",
    "    plt.plot(LiH_approximated_energies)\n",
    "    plt.xlabel(\"# of iterations\")\n",
    "    plt.ylabel(\"Energy\")"
   ]
  },
  {
   "cell_type": "markdown",
   "id": "4917dde6",
   "metadata": {},
   "source": [
    "## MUBs d=4"
   ]
  },
  {
   "cell_type": "code",
   "execution_count": 172,
   "id": "a67587a8",
   "metadata": {},
   "outputs": [],
   "source": [
    "from typing import List\n",
    "\n",
    "class MUB:\n",
    "    def __init__(self, name: str, color: str, basis_vectors, dim: int):\n",
    "        self.name = name\n",
    "        self.color = color\n",
    "        self.basis_vectors = basis_vectors\n",
    "        self.results = []\n",
    "        \n",
    "    def add_result(self, result:int):\n",
    "        self.results.append(result)\n",
    "        \n",
    "    def restart_results(self):\n",
    "        self.results = []"
   ]
  },
  {
   "cell_type": "code",
   "execution_count": 173,
   "id": "08a792c8",
   "metadata": {},
   "outputs": [],
   "source": [
    "M0_vectors = np.identity(N)\n",
    "\n",
    "M1_vectors = [np.vectorize(complex)([0.5,0.5,0.5,0.5]),\n",
    "      np.vectorize(complex)([0.5,0.5,-0.5,-0.5]),\n",
    "      np.vectorize(complex)([0.5,-0.5,-0.5,0.5]),\n",
    "      np.vectorize(complex)([0.5,-0.5,0.5,-0.5])]\n",
    "\n",
    "M2_vectors = [np.vectorize(complex)([0.5,0.5,0,0],[0,0,-0.5,-0.5]),\n",
    "      np.vectorize(complex)([0.5,-0.5,0,0],[0,0,0.5,0.5]),\n",
    "      np.vectorize(complex)([0.5,0.5,0,0],[0,0,0.5,-0.5]),\n",
    "      np.vectorize(complex)([0.5,0.5,0,0],[0,0,-0.5,0.5])]\n",
    "\n",
    "M3_vectors = [np.vectorize(complex)([0.5,0,0,-0.5],[0,-0.5,-0.5,-0]),\n",
    "      np.vectorize(complex)([0.5,0,0,0.5],[0,-0.5,0.5,0]),\n",
    "      np.vectorize(complex)([0.5,0,0,-0.5],[0,0.5,0.5,0]),\n",
    "      np.vectorize(complex)([0.5,0,0,0.5],[0,0.5,-0.5,0])]\n",
    "\n",
    "M4_vectors = [np.vectorize(complex)([0.5,0,-0.5,0],[0,-0.5,0,-0.5]),\n",
    "      np.vectorize(complex)([0.5,0,0.5,0],[0,-0.5,0,0.5]),\n",
    "      np.vectorize(complex)([0.5,0,-0.5,0],[0,0.5,0,0.5]),\n",
    "      np.vectorize(complex)([0.5,0,0.5,0],[0,0.5,0,-0.5])]"
   ]
  },
  {
   "cell_type": "code",
   "execution_count": 174,
   "id": "33844424",
   "metadata": {},
   "outputs": [],
   "source": [
    "M0 = MUB(name='M0', color='b', basis_vectors=M0_vectors, dim=4)\n",
    "M1 = MUB(name='M1', color='c', basis_vectors=M1_vectors, dim=4)\n",
    "M2 = MUB(name='M2', color='y', basis_vectors=M2_vectors, dim=4)\n",
    "M3 = MUB(name='M3', color='m', basis_vectors=M3_vectors, dim=4)\n",
    "M4 = MUB(name='M4', color='r', basis_vectors=M4_vectors, dim=4)\n",
    "\n",
    "mubs_d_5 = [M0, M1, M2, M3, M4]"
   ]
  },
  {
   "cell_type": "markdown",
   "id": "68892c33",
   "metadata": {},
   "source": [
    "## Transverse Ising Model 2 qubits"
   ]
  },
  {
   "cell_type": "markdown",
   "id": "a0488deb",
   "metadata": {},
   "source": [
    "### pre-processing"
   ]
  },
  {
   "cell_type": "code",
   "execution_count": 175,
   "id": "d8a0c4e6",
   "metadata": {},
   "outputs": [],
   "source": [
    "from qiskit.opflow import X, Z, I"
   ]
  },
  {
   "cell_type": "code",
   "execution_count": 176,
   "id": "58136107",
   "metadata": {},
   "outputs": [],
   "source": [
    "transverse_ising_2_qubits = 0.13755727363376802 * (I^X) \\\n",
    "                            + 0.43305656297810435 * (X^I) \\\n",
    "                            + 0.8538597608997253 * (Z^Z)"
   ]
  },
  {
   "cell_type": "code",
   "execution_count": 177,
   "id": "dc8df67b",
   "metadata": {},
   "outputs": [],
   "source": [
    "thetas = np.random.uniform(low=0, high=360, size=PARAMS_NUM)"
   ]
  },
  {
   "cell_type": "code",
   "execution_count": 178,
   "id": "136d1e8b",
   "metadata": {
    "scrolled": true
   },
   "outputs": [
    {
     "name": "stderr",
     "output_type": "stream",
     "text": [
      "3it [00:00,  7.16it/s]\n",
      "3it [00:00, 19.03it/s]\n",
      "3it [00:00, 11.54it/s]\n",
      "3it [00:00, 16.66it/s]\n",
      "3it [00:00, 19.69it/s]\n",
      "3it [00:00, 18.69it/s]\n",
      "3it [00:00, 13.46it/s]\n",
      "3it [00:00, 20.69it/s]\n",
      "3it [00:00, 18.09it/s]\n",
      "3it [00:00, 11.00it/s]\n",
      "3it [00:00, 15.87it/s]\n",
      "3it [00:00, 15.75it/s]\n",
      "3it [00:00, 13.77it/s]\n",
      "3it [00:00, 11.29it/s]\n",
      "3it [00:00, 18.24it/s]\n",
      "3it [00:00, 19.29it/s]\n",
      "3it [00:00, 10.80it/s]\n",
      "3it [00:00, 16.65it/s]\n",
      "3it [00:00, 18.93it/s]\n",
      "3it [00:00, 16.84it/s]\n"
     ]
    }
   ],
   "source": [
    "for basis in mubs_d_5:\n",
    "    basis.restart_results()\n",
    "    for vector in basis.basis_vectors:\n",
    "        pauli_coeffs, pauli_strings = transfrom_hamiltonian_into_pauli_strings(transverse_ising_2_qubits)\n",
    "        ansatz_state = get_full_entangelment_ansatz(QUBITS_NUM, thetas, vector)\n",
    "\n",
    "        L = get_expectation_value(ansatz_state, pauli_coeffs, pauli_strings)\n",
    "        basis.add_result(L)"
   ]
  },
  {
   "cell_type": "code",
   "execution_count": 179,
   "id": "81344ada",
   "metadata": {},
   "outputs": [
    {
     "data": {
      "image/png": "[encoded data removed]",
      "text/plain": [
       "<Figure size 432x288 with 1 Axes>"
      ]
     },
     "metadata": {
      "needs_background": "light"
     },
     "output_type": "display_data"
    }
   ],
   "source": [
    "M0_points = plt.scatter(x=range(1,5),y=M0.results, marker='x', color=M0.color)\n",
    "M1_points = plt.scatter(x=range(5,9),y=M1.results, marker='x', color=M1.color)\n",
    "M2_points = plt.scatter(x=range(10,14),y=M2.results, marker='x', color=M2.color)\n",
    "M3_points = plt.scatter(x=range(15,19),y=M3.results, marker='x', color=M3.color)\n",
    "M4_points = plt.scatter(x=range(20,24),y=M4.results, marker='x', color=M4.color)\n",
    "\n",
    "plt.legend((M0_points, M1_points, M2_points, M3_points, M4_points),\n",
    "           (M0.name, M1.name, M2.name, M3.name, M4.name),\n",
    "           scatterpoints=1,\n",
    "           loc='best',\n",
    "           ncol=3,\n",
    "           fontsize=8)\n",
    "\n",
    "plt.xlabel('iteration number')\n",
    "plt.ylabel('energy for specific vector from a mub')\n",
    "plt.title('TIM Energy Landscape')\n",
    "\n",
    "plt.show()"
   ]
  },
  {
   "cell_type": "code",
   "execution_count": 186,
   "id": "33073d29",
   "metadata": {},
   "outputs": [],
   "source": [
    "initial_quantum_state = M2_vectors[0]"
   ]
  },
  {
   "cell_type": "markdown",
   "id": "e6f8e68b",
   "metadata": {},
   "source": [
    "### find the minimum eigenvalue"
   ]
  },
  {
   "cell_type": "code",
   "execution_count": 187,
   "id": "c06487da",
   "metadata": {},
   "outputs": [
    {
     "name": "stderr",
     "output_type": "stream",
     "text": [
      "3it [00:00, 16.41it/s]\n",
      "3it [00:00, 20.83it/s]\n",
      "3it [00:00, 16.65it/s]\n",
      "3it [00:00, 15.31it/s]\n",
      "3it [00:00, 18.90it/s]\n",
      "3it [00:00, 19.01it/s]\n",
      "3it [00:00, 10.27it/s]\n",
      "3it [00:00, 20.69it/s]\n",
      "3it [00:00, 17.60it/s]\n",
      "3it [00:00, 11.73it/s]\n",
      "3it [00:00, 20.36it/s]\n",
      "3it [00:00, 20.74it/s]\n",
      "3it [00:00, 11.37it/s]\n",
      "3it [00:00, 13.62it/s]\n",
      "3it [00:00, 18.78it/s]\n",
      "3it [00:00, 17.38it/s]\n",
      "3it [00:00, 12.51it/s]\n",
      "3it [00:00, 18.75it/s]\n",
      "3it [00:00, 19.93it/s]\n",
      "3it [00:00, 12.00it/s]\n",
      "3it [00:00, 14.19it/s]\n",
      "3it [00:00, 20.49it/s]\n",
      "3it [00:00, 20.84it/s]\n",
      "3it [00:00, 10.76it/s]\n",
      "3it [00:00, 17.09it/s]\n",
      "3it [00:00, 17.86it/s]\n",
      "3it [00:00, 14.52it/s]\n",
      "3it [00:00, 12.25it/s]\n",
      "3it [00:00, 21.13it/s]\n",
      "3it [00:00, 18.52it/s]\n",
      "3it [00:00, 13.04it/s]\n",
      "3it [00:00, 15.23it/s]\n",
      "3it [00:00, 19.29it/s]\n",
      "3it [00:00, 13.19it/s]\n",
      "3it [00:00, 15.17it/s]\n",
      "3it [00:00, 20.20it/s]\n",
      "3it [00:00, 14.93it/s]\n",
      "3it [00:00, 12.06it/s]\n",
      "3it [00:00, 15.83it/s]\n",
      "3it [00:00, 16.62it/s]\n",
      "3it [00:00, 11.28it/s]\n",
      "3it [00:00, 20.85it/s]\n",
      "3it [00:00, 18.73it/s]\n",
      "3it [00:00, 15.76it/s]\n",
      "3it [00:00, 12.25it/s]\n",
      "3it [00:00, 18.75it/s]\n",
      "3it [00:00, 18.52it/s]\n",
      "3it [00:00, 11.96it/s]\n",
      "3it [00:00, 15.26it/s]\n",
      "3it [00:00, 20.91it/s]\n",
      "3it [00:00, 14.68it/s]"
     ]
    },
    {
     "name": "stdout",
     "output_type": "stream",
     "text": [
      "CPU times: total: 8.89 s\n",
      "Wall time: 10.3 s\n"
     ]
    },
    {
     "name": "stderr",
     "output_type": "stream",
     "text": [
      "\n"
     ]
    }
   ],
   "source": [
    "%%time\n",
    "TI_approximated_eigenvalue = get_approximated_eigenvalue_of_hamiltonian(transverse_ising_2_qubits, initial_quantum_state, post_processing_thetas=thetas)"
   ]
  },
  {
   "cell_type": "code",
   "execution_count": 188,
   "id": "65ad38bc",
   "metadata": {},
   "outputs": [
    {
     "name": "stdout",
     "output_type": "stream",
     "text": [
      "Exact Eigenvalue:\n",
      "(-1.0269745088446245+0j)\n",
      "\n",
      "Approximated Eigenvalue:\n",
      "-1.1328210754754098\n",
      "\n",
      "Approximation Error\n",
      "0.10306640108318334\n"
     ]
    },
    {
     "data": {
      "image/png": "[encoded data removed]",
      "text/plain": [
       "<Figure size 432x288 with 1 Axes>"
      ]
     },
     "metadata": {
      "needs_background": "light"
     },
     "output_type": "display_data"
    }
   ],
   "source": [
    "compare_exact_and_approximated_eigenvalue(transverse_ising_2_qubits, TI_approximated_eigenvalue)"
   ]
  },
  {
   "cell_type": "markdown",
   "id": "e9cf7ccb",
   "metadata": {},
   "source": [
    "## H2 Molecule 2 qubits"
   ]
  },
  {
   "cell_type": "code",
   "execution_count": 189,
   "id": "2909cd68",
   "metadata": {},
   "outputs": [],
   "source": [
    "from qiskit.opflow import X, Z, I\n",
    "\n",
    "H2_molecule_Hamiltonian_2_qubits = -0.5053051899926562*(I^I) + \\\n",
    "                            -0.3277380754984016*(Z^I) + \\\n",
    "                            0.15567463610622564*(Z^Z) + \\\n",
    "                            -0.3277380754984016*(I^Z)"
   ]
  },
  {
   "cell_type": "markdown",
   "id": "acceb1c3",
   "metadata": {},
   "source": [
    "### pre-processing"
   ]
  },
  {
   "cell_type": "code",
   "execution_count": 190,
   "id": "674b5b27",
   "metadata": {},
   "outputs": [],
   "source": [
    "thetas = np.random.uniform(low=0, high=360, size=PARAMS_NUM)"
   ]
  },
  {
   "cell_type": "code",
   "execution_count": 191,
   "id": "79bd2e1c",
   "metadata": {},
   "outputs": [
    {
     "name": "stderr",
     "output_type": "stream",
     "text": [
      "4it [00:00, 16.56it/s]\n",
      "4it [00:00, 19.95it/s]\n",
      "4it [00:00, 11.61it/s]\n",
      "4it [00:00, 21.00it/s]\n",
      "4it [00:00, 12.54it/s]\n",
      "4it [00:00, 14.11it/s]\n",
      "4it [00:00, 18.14it/s]\n",
      "4it [00:00, 11.18it/s]\n",
      "4it [00:00, 18.07it/s]\n",
      "4it [00:00, 18.78it/s]\n",
      "4it [00:00, 11.56it/s]\n",
      "4it [00:00, 16.19it/s]\n",
      "4it [00:00, 16.77it/s]\n",
      "4it [00:00, 11.68it/s]\n",
      "4it [00:00, 19.09it/s]\n",
      "4it [00:00, 10.43it/s]\n",
      "4it [00:00, 19.46it/s]\n",
      "4it [00:00, 15.84it/s]\n",
      "4it [00:00, 12.24it/s]\n",
      "4it [00:00, 19.97it/s]\n"
     ]
    }
   ],
   "source": [
    "for basis in mubs_d_5:\n",
    "    basis.restart_results()\n",
    "    for vector in basis.basis_vectors:\n",
    "        pauli_coeffs, pauli_strings = transfrom_hamiltonian_into_pauli_strings(H2_molecule_Hamiltonian_2_qubits)\n",
    "        ansatz_state = get_full_entangelment_ansatz(QUBITS_NUM, thetas, vector)\n",
    "\n",
    "        L = get_expectation_value(ansatz_state, pauli_coeffs, pauli_strings)\n",
    "        basis.add_result(L)"
   ]
  },
  {
   "cell_type": "code",
   "execution_count": 192,
   "id": "04186308",
   "metadata": {},
   "outputs": [
    {
     "data": {
      "image/png": "[encoded data removed]",
      "text/plain": [
       "<Figure size 432x288 with 1 Axes>"
      ]
     },
     "metadata": {
      "needs_background": "light"
     },
     "output_type": "display_data"
    }
   ],
   "source": [
    "M0_points = plt.scatter(x=range(1,5),y=M0.results, marker='x', color=M0.color)\n",
    "M1_points = plt.scatter(x=range(5,9),y=M1.results, marker='x', color=M1.color)\n",
    "M2_points = plt.scatter(x=range(10,14),y=M2.results, marker='x', color=M2.color)\n",
    "M3_points = plt.scatter(x=range(15,19),y=M3.results, marker='x', color=M3.color)\n",
    "M4_points = plt.scatter(x=range(20,24),y=M4.results, marker='x', color=M4.color)\n",
    "\n",
    "plt.legend((M0_points, M1_points, M2_points, M3_points, M4_points),\n",
    "           (M0.name, M1.name, M2.name, M3.name, M4.name),\n",
    "           scatterpoints=1,\n",
    "           loc='best',\n",
    "           ncol=3,\n",
    "           fontsize=8)\n",
    "\n",
    "plt.xlabel('iteration number')\n",
    "plt.ylabel('energy for specific vector from a mub')\n",
    "plt.title('H2 Energy Landscape')\n",
    "\n",
    "plt.show()"
   ]
  },
  {
   "cell_type": "code",
   "execution_count": 193,
   "id": "4ba11a43",
   "metadata": {},
   "outputs": [],
   "source": [
    "initial_quantum_state = M1_vectors[1]"
   ]
  },
  {
   "cell_type": "code",
   "execution_count": 194,
   "id": "c027435b",
   "metadata": {},
   "outputs": [
    {
     "name": "stderr",
     "output_type": "stream",
     "text": [
      "4it [00:00, 15.66it/s]\n",
      "4it [00:00, 20.10it/s]\n",
      "4it [00:00, 17.02it/s]\n",
      "4it [00:00, 15.38it/s]\n",
      "4it [00:00, 18.96it/s]\n",
      "4it [00:00, 14.14it/s]\n",
      "4it [00:00, 13.64it/s]\n",
      "4it [00:00, 19.95it/s]\n",
      "4it [00:00, 12.43it/s]\n",
      "4it [00:00, 17.56it/s]\n",
      "4it [00:00, 19.21it/s]\n",
      "4it [00:00, 14.65it/s]\n",
      "4it [00:00, 20.03it/s]\n",
      "4it [00:00, 13.65it/s]\n",
      "4it [00:00, 15.80it/s]\n",
      "4it [00:00, 19.03it/s]\n",
      "4it [00:00, 13.46it/s]\n",
      "4it [00:00, 19.56it/s]\n",
      "4it [00:00, 18.00it/s]\n",
      "4it [00:00, 19.95it/s]\n",
      "4it [00:00, 20.73it/s]\n",
      "4it [00:00, 15.07it/s]\n",
      "4it [00:00, 15.01it/s]\n",
      "4it [00:00, 19.75it/s]\n",
      "4it [00:00, 18.06it/s]\n",
      "4it [00:00, 14.90it/s]\n",
      "4it [00:00, 20.51it/s]\n",
      "4it [00:00, 17.54it/s]\n",
      "4it [00:00, 14.81it/s]\n",
      "4it [00:00, 19.85it/s]\n",
      "4it [00:00, 13.96it/s]\n",
      "4it [00:00, 17.98it/s]\n",
      "4it [00:00, 19.05it/s]\n",
      "4it [00:00, 12.50it/s]\n",
      "4it [00:00, 19.66it/s]\n",
      "4it [00:00, 18.60it/s]\n",
      "4it [00:00, 18.16it/s]\n",
      "4it [00:00, 20.67it/s]\n",
      "4it [00:00, 20.79it/s]\n",
      "4it [00:00, 13.81it/s]\n",
      "4it [00:00, 20.73it/s]\n",
      "4it [00:00, 18.87it/s]\n",
      "4it [00:00, 13.49it/s]\n",
      "4it [00:00, 17.43it/s]\n",
      "4it [00:00, 18.96it/s]\n",
      "4it [00:00, 14.84it/s]\n",
      "4it [00:00, 14.59it/s]\n",
      "4it [00:00, 20.73it/s]\n",
      "4it [00:00, 12.43it/s]\n",
      "4it [00:00, 10.87it/s]\n",
      "4it [00:00, 12.26it/s]"
     ]
    },
    {
     "name": "stdout",
     "output_type": "stream",
     "text": [
      "CPU times: total: 11.2 s\n",
      "Wall time: 12.9 s\n"
     ]
    },
    {
     "name": "stderr",
     "output_type": "stream",
     "text": [
      "\n"
     ]
    }
   ],
   "source": [
    "%%time\n",
    "H2_approximated_eigenvalue = get_approximated_eigenvalue_of_hamiltonian(H2_molecule_Hamiltonian_2_qubits, initial_quantum_state, post_processing_thetas=thetas)"
   ]
  },
  {
   "cell_type": "code",
   "execution_count": 195,
   "id": "d45ad4e5",
   "metadata": {},
   "outputs": [
    {
     "name": "stdout",
     "output_type": "stream",
     "text": [
      "Exact Eigenvalue:\n",
      "(-1.0051067048832336+0j)\n",
      "\n",
      "Approximated Eigenvalue:\n",
      "-1.001922105330579\n",
      "\n",
      "Approximation Error\n",
      "0.003168419369985871\n"
     ]
    },
    {
     "name": "stderr",
     "output_type": "stream",
     "text": [
      "C:\\Users\\hadar\\anaconda3\\envs\\Qiskitenv\\lib\\site-packages\\matplotlib\\cbook\\__init__.py:1317: ComplexWarning: Casting complex values to real discards the imaginary part\n",
      "  return np.asarray(x, float)\n"
     ]
    },
    {
     "data": {
      "image/png": "[encoded data removed]",
      "text/plain": [
       "<Figure size 432x288 with 1 Axes>"
      ]
     },
     "metadata": {
      "needs_background": "light"
     },
     "output_type": "display_data"
    }
   ],
   "source": [
    "compare_exact_and_approximated_eigenvalue(H2_molecule_Hamiltonian_2_qubits, H2_approximated_eigenvalue)"
   ]
  },
  {
   "cell_type": "code",
   "execution_count": null,
   "id": "f59e51ae",
   "metadata": {},
   "outputs": [],
   "source": []
  }
 ],
 "metadata": {
  "kernelspec": {
   "display_name": "Qiskitenv",
   "language": "python",
   "name": "qiskitenv"
  },
  "language_info": {
   "codemirror_mode": {
    "name": "ipython",
    "version": 3
   },
   "file_extension": ".py",
   "mimetype": "text/x-python",
   "name": "python",
   "nbconvert_exporter": "python",
   "pygments_lexer": "ipython3",
   "version": "3.8.13"
  }
 },
 "nbformat": 4,
 "nbformat_minor": 5
}
