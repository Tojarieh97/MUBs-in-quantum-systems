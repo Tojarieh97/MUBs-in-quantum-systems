{
 "cells": [
  {
   "cell_type": "markdown",
   "id": "c4c77734",
   "metadata": {},
   "source": [
    "### Basic Imports"
   ]
  },
  {
   "cell_type": "code",
   "execution_count": 2,
   "id": "9431f6b7",
   "metadata": {},
   "outputs": [],
   "source": [
    "import nbimporter\n",
    "from typing import Dict, Tuple, List\n",
    "import numpy as np\n",
    "from tqdm import tqdm"
   ]
  },
  {
   "cell_type": "markdown",
   "id": "4ff98362",
   "metadata": {},
   "source": [
    "### Env Vars"
   ]
  },
  {
   "cell_type": "code",
   "execution_count": 3,
   "id": "9c7250c3",
   "metadata": {},
   "outputs": [],
   "source": [
    "QUBITS_NUM = 2 \n",
    "N = 2**QUBITS_NUM\n",
    "\n",
    "NUM_SHOTS = 1024\n",
    "NUM_ITERATIONS = 50\n",
    "\n",
    "CIRCUIT_DEPTH = 3\n",
    "PARAMS_NUM = 2*QUBITS_NUM*(CIRCUIT_DEPTH+1)"
   ]
  },
  {
   "cell_type": "markdown",
   "id": "6dcb0625",
   "metadata": {},
   "source": [
    "### Simulator Backend"
   ]
  },
  {
   "cell_type": "code",
   "execution_count": 4,
   "id": "8e287170",
   "metadata": {},
   "outputs": [],
   "source": [
    "from qiskit import Aer\n",
    "from qiskit.utils import QuantumInstance, algorithm_globals\n",
    "\n",
    "seed = 50\n",
    "algorithm_globals.random_seed = seed\n",
    "\n",
    "simulator_backend = Aer.get_backend('qasm_simulator')"
   ]
  },
  {
   "cell_type": "markdown",
   "id": "5cc189d2",
   "metadata": {},
   "source": [
    "### Optimizer"
   ]
  },
  {
   "cell_type": "code",
   "execution_count": 5,
   "id": "aea5f838",
   "metadata": {},
   "outputs": [],
   "source": [
    "from scipy.optimize import minimize"
   ]
  },
  {
   "cell_type": "markdown",
   "id": "6681d9cf",
   "metadata": {},
   "source": [
    "### Ansatz State"
   ]
  },
  {
   "cell_type": "code",
   "execution_count": 6,
   "id": "ed679eb5",
   "metadata": {},
   "outputs": [],
   "source": [
    "from linear_entangelment_and_full_entangelment_ansatz_circuits import *"
   ]
  },
  {
   "cell_type": "code",
   "execution_count": 7,
   "id": "9ebdb4f8",
   "metadata": {},
   "outputs": [],
   "source": [
    "def get_ansatz_state(thetas, input_state, ansatz_entangelment=\"full\"):\n",
    "    if ansatz_entangelment==\"full\":\n",
    "        return get_full_entangelment_ansatz(QUBITS_NUM, thetas, input_state)\n",
    "    if ansatz_entangelment==\"linear\":\n",
    "        return get_linear_entangelment_ansatz(QUBITS_NUM, thetas, input_state)"
   ]
  },
  {
   "cell_type": "markdown",
   "id": "21777faa",
   "metadata": {},
   "source": [
    "## Expectation Value"
   ]
  },
  {
   "cell_type": "markdown",
   "id": "d320f1b6",
   "metadata": {},
   "source": [
    "### convert hamiltonian to pauli strings"
   ]
  },
  {
   "cell_type": "code",
   "execution_count": 8,
   "id": "56435355",
   "metadata": {},
   "outputs": [],
   "source": [
    "def transfrom_hamiltonian_into_pauli_strings(hamiltonian) -> List:\n",
    "    pauli_operators = hamiltonian.to_pauli_op().settings['oplist']\n",
    "    pauli_coeffs = list(map(lambda pauli_operator: pauli_operator.coeff, pauli_operators))\n",
    "    pauli_strings = list(map(lambda pauli_operator: pauli_operator.primitive, pauli_operators))\n",
    "    return pauli_coeffs, pauli_strings"
   ]
  },
  {
   "cell_type": "markdown",
   "id": "de5f75c3",
   "metadata": {},
   "source": [
    "### pauli string reduction to sigma_z's"
   ]
  },
  {
   "cell_type": "code",
   "execution_count": 9,
   "id": "347de6bb",
   "metadata": {},
   "outputs": [],
   "source": [
    "from qiskit.circuit.library.standard_gates import HGate, SGate\n",
    "from qiskit import QuantumCircuit, ClassicalRegister, QuantumRegister"
   ]
  },
  {
   "cell_type": "code",
   "execution_count": 10,
   "id": "dbbe79ef",
   "metadata": {},
   "outputs": [],
   "source": [
    "reducing_to_pauli_z_mapping = {\n",
    "    'I': 'I',\n",
    "    'Z': 'Z',\n",
    "    'X': 'Z',\n",
    "    'Y': 'Z'\n",
    "} "
   ]
  },
  {
   "cell_type": "code",
   "execution_count": 11,
   "id": "6f94927f",
   "metadata": {},
   "outputs": [],
   "source": [
    "def reduce_pauli_matrixes_into_sigma_z(pauli_string) -> str:\n",
    "    reduced_pauli_string = \"\"\n",
    "    for matrix_index in range(QUBITS_NUM):\n",
    "        pauli_matrix = str(pauli_string[matrix_index])\n",
    "        reduced_pauli_matrix = reducing_to_pauli_z_mapping[pauli_matrix]\n",
    "        reduced_pauli_string = reduced_pauli_matrix + reduced_pauli_string\n",
    "    \n",
    "    return reduced_pauli_string"
   ]
  },
  {
   "cell_type": "code",
   "execution_count": 12,
   "id": "e6f0562f",
   "metadata": {},
   "outputs": [],
   "source": [
    "def add_layer_of_gates_for_reducing_paulis_to_sigma_z(pauli_string, quantum_circuit):\n",
    "    quantum_registers = QuantumRegister(QUBITS_NUM, name=\"qubit\")\n",
    "    additional_circuit_layer = QuantumCircuit(quantum_registers)\n",
    "    \n",
    "    for quantum_register_index, pauli_matrix in enumerate(pauli_string):\n",
    "        if pauli_matrix == \"X\":\n",
    "            additional_circuit_layer.append(HGate(), [quantum_registers[quantum_register_index]])\n",
    "        if pauli_string == \"Y\":\n",
    "            additional_circuit_layer.append(HGate(), [quantum_registers[quantum_register_index]])\n",
    "            additional_circuit_layer.append(SGate(), [quantum_registers[quantum_register_index]])\n",
    "                \n",
    "    extended_quantum_circuit = quantum_circuit.compose(additional_circuit_layer)\n",
    "    return extended_quantum_circuit"
   ]
  },
  {
   "cell_type": "markdown",
   "id": "ce83fae9",
   "metadata": {},
   "source": [
    "### probabilities distribution"
   ]
  },
  {
   "cell_type": "code",
   "execution_count": 13,
   "id": "84e65e31",
   "metadata": {},
   "outputs": [],
   "source": [
    "def get_probability_distribution(counts: Dict) -> Dict:\n",
    "    proba_distribution = {state: (count / NUM_SHOTS) for state, count in counts.items()}\n",
    "    return proba_distribution\n",
    "\n",
    "def calculate_probabilities_of_measurments_in_computational_basis(quantum_state_circuit) -> Dict:\n",
    "    quantum_state_circuit.measure_all()\n",
    "    \n",
    "    transpiled_quantum_state_circuit = transpile(quantum_state_circuit, simulator_backend) \n",
    "    Qobj = assemble(transpiled_quantum_state_circuit)\n",
    "    result = simulator_backend.run(Qobj).result()\n",
    "    counts = result.get_counts(quantum_state_circuit)\n",
    "    \n",
    "    return get_probability_distribution(counts)"
   ]
  },
  {
   "cell_type": "markdown",
   "id": "b9286e5d",
   "metadata": {},
   "source": [
    "### Expectation value from probabilities"
   ]
  },
  {
   "cell_type": "code",
   "execution_count": 14,
   "id": "38a72356",
   "metadata": {},
   "outputs": [],
   "source": [
    "def sort_probas_dict_by_qubits_string_keys(proba_distribution: Dict) -> Dict:\n",
    "    return dict(sorted(proba_distribution.items()))\n",
    "\n",
    "def reset_power_of_minus_1(power_of_minus_1):\n",
    "    power_of_minus_1 = 0\n",
    "    return power_of_minus_1\n",
    "\n",
    "def convert_pauli_string_into_str(pauli_string) -> str:\n",
    "    return str(pauli_string)\n",
    "\n",
    "def calculate_expectation_value_of_pauli_string_by_measurments_probas(pauli_string, ansatz_circuit):\n",
    "    pauli_string_expectation_value = 0\n",
    "    power_of_minus_1 = 0\n",
    "    \n",
    "    pauli_string_str = convert_pauli_string_into_str(pauli_string)\n",
    "    extended_ansatz_circuit = add_layer_of_gates_for_reducing_paulis_to_sigma_z(pauli_string_str, ansatz_circuit)\n",
    "    probas_distribution = calculate_probabilities_of_measurments_in_computational_basis(extended_ansatz_circuit)\n",
    "    \n",
    "    reduced_pauli_string = reduce_pauli_matrixes_into_sigma_z(pauli_string)\n",
    "    sorted_probas_distribuition = sort_probas_dict_by_qubits_string_keys(probas_distribution)\n",
    "    for qubits_string, proba in sorted_probas_distribuition.items():\n",
    "        for string_index in range(QUBITS_NUM):\n",
    "            if(str(qubits_string[string_index])==\"1\" and str(reduced_pauli_string[string_index])==\"Z\"):\n",
    "                power_of_minus_1 += 1\n",
    "            \n",
    "        pauli_string_expectation_value += pow(-1, power_of_minus_1)*proba\n",
    "        power_of_minus_1 = reset_power_of_minus_1(power_of_minus_1)\n",
    "        \n",
    "    return pauli_string_expectation_value"
   ]
  },
  {
   "cell_type": "code",
   "execution_count": 15,
   "id": "c263be2b",
   "metadata": {},
   "outputs": [],
   "source": [
    "def get_expectation_value(ansatz_circuit, pauli_coeffs, pauli_strings):\n",
    "    total_expection_value = 0\n",
    "    \n",
    "    for pauli_coeff, pauli_string in tqdm(zip(pauli_coeffs, pauli_strings)):\n",
    "        total_expection_value += pauli_coeff*calculate_expectation_value_of_pauli_string_by_measurments_probas(\n",
    "                                                                                    pauli_string, ansatz_circuit)\n",
    "    \n",
    "    return total_expection_value"
   ]
  },
  {
   "cell_type": "markdown",
   "id": "a79fc302",
   "metadata": {},
   "source": [
    "## Objective Function"
   ]
  },
  {
   "cell_type": "code",
   "execution_count": 16,
   "id": "e3f4d330",
   "metadata": {},
   "outputs": [],
   "source": [
    "from qiskit import assemble, transpile\n",
    "import random\n",
    "\n",
    "def cost_function(thetas, hamiltonian, initial_eigenvector):    \n",
    "    pauli_coeffs, pauli_strings = transfrom_hamiltonian_into_pauli_strings(hamiltonian)\n",
    "    ansatz_state = get_ansatz_state(thetas, initial_eigenvector)\n",
    "        \n",
    "    L = get_expectation_value(ansatz_state, pauli_coeffs, pauli_strings)\n",
    "    insert_approximated_energy_to_list_of_all_approximated_energies(L)\n",
    "        \n",
    "    return L"
   ]
  },
  {
   "cell_type": "markdown",
   "id": "e8ac20b3",
   "metadata": {},
   "source": [
    "## Optimization"
   ]
  },
  {
   "cell_type": "code",
   "execution_count": 17,
   "id": "9b2663d2",
   "metadata": {},
   "outputs": [],
   "source": [
    "def get_optimal_thetas_of_ansatz_circuit_for_hamiltonian(hamiltonian, post_processing_eigenvector, post_processing_thetas):\n",
    "    optimizer_result = minimize(cost_function,\n",
    "                                x0=post_processing_thetas,\n",
    "                                args=(hamiltonian, post_processing_eigenvector),\n",
    "                                method=\"COBYLA\",\n",
    "                                options={\"maxiter\":NUM_ITERATIONS,\n",
    "                                        \"disp\": True})\n",
    "    optimal_thetas = optimizer_result.x\n",
    "    \n",
    "    return optimal_thetas"
   ]
  },
  {
   "cell_type": "code",
   "execution_count": 18,
   "id": "80c13445",
   "metadata": {},
   "outputs": [],
   "source": [
    "def get_approximated_eigenvalue_of_hamiltonian(hamiltonian, post_processing_eigenvector, post_processing_thetas):    \n",
    "    optimal_thetas = get_optimal_thetas_of_ansatz_circuit_for_hamiltonian(hamiltonian, post_processing_eigenvector, post_processing_thetas)\n",
    "    optimal_ansatz_state = get_ansatz_state(optimal_thetas, post_processing_eigenvector)\n",
    "    \n",
    "    pauli_coeffs, pauli_strings = transfrom_hamiltonian_into_pauli_strings(hamiltonian)\n",
    "    approximated_eigenvalue = get_expectation_value(optimal_ansatz_state, pauli_coeffs, pauli_strings)\n",
    "\n",
    "    return approximated_eigenvalue"
   ]
  },
  {
   "cell_type": "markdown",
   "id": "7b410988",
   "metadata": {},
   "source": [
    "## Comparsion"
   ]
  },
  {
   "cell_type": "code",
   "execution_count": 19,
   "id": "6cbe0758",
   "metadata": {},
   "outputs": [],
   "source": [
    "from numpy import linalg as LA\n",
    "\n",
    "def get_approximation_error(exact_eigenvalue, approximated_eigenvalue):\n",
    "    return abs(abs(exact_eigenvalue)-abs(approximated_eigenvalue))/abs(exact_eigenvalue)"
   ]
  },
  {
   "cell_type": "code",
   "execution_count": 20,
   "id": "28b63147",
   "metadata": {},
   "outputs": [],
   "source": [
    "def get_minimum_exact_eigenvalue_of_hamiltonian(hamiltonian):\n",
    "    eigen_values = LA.eigvals(hamiltonian.to_matrix())\n",
    "    \n",
    "    return min(sorted(eigen_values))"
   ]
  },
  {
   "cell_type": "code",
   "execution_count": 21,
   "id": "529a29d1",
   "metadata": {},
   "outputs": [],
   "source": [
    "def compare_exact_and_approximated_eigenvalue(hamiltonian, approximated_eigenvalue):\n",
    "    exact_eigenvalue = get_minimum_exact_eigenvalue_of_hamiltonian(hamiltonian)\n",
    "    print(\"Exact Eigenvalue:\")\n",
    "    print(exact_eigenvalue)\n",
    "    print(\"\\nApproximated Eigenvalue:\")\n",
    "    print(approximated_eigenvalue)\n",
    "\n",
    "    print(\"\\nApproximation Error\")\n",
    "    print(get_approximation_error(exact_eigenvalue, approximated_eigenvalue))\n",
    "    \n",
    "    plot_convergence_of_optimization_process(exact_eigenvalue, margin=3)"
   ]
  },
  {
   "cell_type": "markdown",
   "id": "c1452964",
   "metadata": {},
   "source": [
    "## Visualization"
   ]
  },
  {
   "cell_type": "code",
   "execution_count": 22,
   "id": "75c3e505",
   "metadata": {},
   "outputs": [],
   "source": [
    "approximated_energies = []"
   ]
  },
  {
   "cell_type": "code",
   "execution_count": 23,
   "id": "5c4331c6",
   "metadata": {},
   "outputs": [],
   "source": [
    "def insert_approximated_energy_to_list_of_all_approximated_energies(energy):\n",
    "    approximated_energies.append(energy)"
   ]
  },
  {
   "cell_type": "code",
   "execution_count": 24,
   "id": "26026bbb",
   "metadata": {},
   "outputs": [],
   "source": [
    "import matplotlib.pyplot as plt\n",
    "\n",
    "def plot_convergence_of_optimization_process(exact_eigenvalue, margin):\n",
    "    plt.title(\"convergence of optimization process to the exact eigenvalue\")\n",
    "    plt.margins(0, margin)\n",
    "    plt.plot(approximated_energies[-NUM_ITERATIONS:])\n",
    "    plt.axhline(y = exact_eigenvalue, color = 'r', linestyle = '-')\n",
    "    plt.grid()\n",
    "    plt.xlabel(\"# of iterations\")\n",
    "    plt.ylabel(\"Energy\")\n",
    "    \n",
    "def plot_fidelity():\n",
    "    plt.plot(LiH_approximated_energies)\n",
    "    plt.xlabel(\"# of iterations\")\n",
    "    plt.ylabel(\"Energy\")"
   ]
  },
  {
   "cell_type": "markdown",
   "id": "4917dde6",
   "metadata": {},
   "source": [
    "## MUBs d=4"
   ]
  },
  {
   "cell_type": "code",
   "execution_count": 25,
   "id": "a67587a8",
   "metadata": {},
   "outputs": [],
   "source": [
    "from typing import List\n",
    "\n",
    "class MUB:\n",
    "    def __init__(self, name: str, color: str, basis_vectors, dim: int):\n",
    "        self.name = name\n",
    "        self.color = color\n",
    "        self.basis_vectors = basis_vectors\n",
    "        self.results = []\n",
    "        \n",
    "    def add_result(self, result:int):\n",
    "        self.results.append(result)\n",
    "        \n",
    "    def restart_results(self):\n",
    "        self.results = []"
   ]
  },
  {
   "cell_type": "code",
   "execution_count": 26,
   "id": "08a792c8",
   "metadata": {},
   "outputs": [],
   "source": [
    "M0_vectors = np.identity(N)\n",
    "\n",
    "M1_vectors = [np.vectorize(complex)([0.5,0.5,0.5,0.5]),\n",
    "      np.vectorize(complex)([0.5,0.5,-0.5,-0.5]),\n",
    "      np.vectorize(complex)([0.5,-0.5,-0.5,0.5]),\n",
    "      np.vectorize(complex)([0.5,-0.5,0.5,-0.5])]\n",
    "\n",
    "M2_vectors = [np.vectorize(complex)([0.5,0.5,0,0],[0,0,-0.5,-0.5]),\n",
    "      np.vectorize(complex)([0.5,-0.5,0,0],[0,0,0.5,0.5]),\n",
    "      np.vectorize(complex)([0.5,0.5,0,0],[0,0,0.5,-0.5]),\n",
    "      np.vectorize(complex)([0.5,0.5,0,0],[0,0,-0.5,0.5])]\n",
    "\n",
    "M3_vectors = [np.vectorize(complex)([0.5,0,0,-0.5],[0,-0.5,-0.5,-0]),\n",
    "      np.vectorize(complex)([0.5,0,0,0.5],[0,-0.5,0.5,0]),\n",
    "      np.vectorize(complex)([0.5,0,0,-0.5],[0,0.5,0.5,0]),\n",
    "      np.vectorize(complex)([0.5,0,0,0.5],[0,0.5,-0.5,0])]\n",
    "\n",
    "M4_vectors = [np.vectorize(complex)([0.5,0,-0.5,0],[0,-0.5,0,-0.5]),\n",
    "      np.vectorize(complex)([0.5,0,0.5,0],[0,-0.5,0,0.5]),\n",
    "      np.vectorize(complex)([0.5,0,-0.5,0],[0,0.5,0,0.5]),\n",
    "      np.vectorize(complex)([0.5,0,0.5,0],[0,0.5,0,-0.5])]"
   ]
  },
  {
   "cell_type": "code",
   "execution_count": 28,
   "id": "55e5db96-9075-441b-b2b0-bba77fd3d9fa",
   "metadata": {},
   "outputs": [
    {
     "name": "stdout",
     "output_type": "stream",
     "text": [
      "[array([0.5+0.j, 0.5+0.j, 0.5+0.j, 0.5+0.j]), array([ 0.5+0.j,  0.5+0.j, -0.5+0.j, -0.5+0.j]), array([ 0.5+0.j, -0.5+0.j, -0.5+0.j,  0.5+0.j]), array([ 0.5+0.j, -0.5+0.j,  0.5+0.j, -0.5+0.j])]\n"
     ]
    }
   ],
   "source": [
    "print(M2_vectors)"
   ]
  },
  {
   "cell_type": "code",
   "execution_count": 29,
   "id": "33844424",
   "metadata": {},
   "outputs": [],
   "source": [
    "M0 = MUB(name='M0', color='b', basis_vectors=M0_vectors, dim=4)\n",
    "M1 = MUB(name='M1', color='g', basis_vectors=M1_vectors, dim=4)\n",
    "M2 = MUB(name='M2', color='y', basis_vectors=M2_vectors, dim=4)\n",
    "M3 = MUB(name='M3', color='k', basis_vectors=M3_vectors, dim=4)\n",
    "M4 = MUB(name='M4', color='r', basis_vectors=M4_vectors, dim=4)\n",
    "\n",
    "mubs_d_5 = [M0, M1, M2, M3, M4]"
   ]
  },
  {
   "cell_type": "markdown",
   "id": "68892c33",
   "metadata": {},
   "source": [
    "## Transverse Ising Model 2 qubits"
   ]
  },
  {
   "cell_type": "markdown",
   "id": "a0488deb",
   "metadata": {},
   "source": [
    "### pre-processing"
   ]
  },
  {
   "cell_type": "code",
   "execution_count": 30,
   "id": "d8a0c4e6",
   "metadata": {},
   "outputs": [],
   "source": [
    "from qiskit.opflow import X, Z, I"
   ]
  },
  {
   "cell_type": "code",
   "execution_count": 31,
   "id": "58136107",
   "metadata": {},
   "outputs": [],
   "source": [
    "transverse_ising_2_qubits = 0.13755727363376802 * (I^X) \\\n",
    "                            + 0.43305656297810435 * (X^I) \\\n",
    "                            + 0.8538597608997253 * (Z^Z)"
   ]
  },
  {
   "cell_type": "code",
   "execution_count": 32,
   "id": "dc8df67b",
   "metadata": {
    "tags": []
   },
   "outputs": [],
   "source": [
    "np.random.seed(0)\n",
    "thetas = np.random.uniform(low=0, high=360, size=PARAMS_NUM)"
   ]
  },
  {
   "cell_type": "code",
   "execution_count": 33,
   "id": "136d1e8b",
   "metadata": {
    "scrolled": true,
    "tags": []
   },
   "outputs": [
    {
     "name": "stderr",
     "output_type": "stream",
     "text": [
      "3it [00:02,  1.39it/s]\n",
      "3it [00:00, 19.14it/s]\n",
      "3it [00:00, 14.48it/s]\n",
      "3it [00:00, 18.64it/s]\n",
      "3it [00:00, 19.80it/s]\n",
      "3it [00:00, 20.01it/s]\n",
      "3it [00:00, 13.39it/s]\n",
      "3it [00:00, 19.16it/s]\n",
      "3it [00:00, 20.06it/s]\n",
      "3it [00:00, 16.26it/s]\n",
      "3it [00:00, 16.71it/s]\n",
      "3it [00:00, 18.22it/s]\n",
      "3it [00:00, 20.21it/s]\n",
      "3it [00:00, 13.74it/s]\n",
      "3it [00:00, 19.10it/s]\n",
      "3it [00:00, 18.25it/s]\n",
      "3it [00:00, 20.98it/s]\n",
      "3it [00:00, 13.97it/s]\n",
      "3it [00:00, 18.98it/s]\n",
      "3it [00:00, 21.52it/s]\n"
     ]
    }
   ],
   "source": [
    "for basis in mubs_d_5:\n",
    "    basis.restart_results()\n",
    "    for vector in basis.basis_vectors:\n",
    "        pauli_coeffs, pauli_strings = transfrom_hamiltonian_into_pauli_strings(transverse_ising_2_qubits)\n",
    "        ansatz_state = get_full_entangelment_ansatz(QUBITS_NUM, thetas, vector)\n",
    "\n",
    "        L = get_expectation_value(ansatz_state, pauli_coeffs, pauli_strings)\n",
    "        basis.add_result(L)"
   ]
  },
  {
   "cell_type": "code",
   "execution_count": 34,
   "id": "81344ada",
   "metadata": {},
   "outputs": [
    {
     "data": {
      "image/png": "[encoded data removed]",
      "text/plain": [
       "<Figure size 432x288 with 1 Axes>"
      ]
     },
     "metadata": {
      "needs_background": "light"
     },
     "output_type": "display_data"
    }
   ],
   "source": [
    "M0_points = plt.scatter(x=range(1,5),y=M0.results, marker='x', color=M0.color)\n",
    "M1_points = plt.scatter(x=range(5,9),y=M1.results, marker='x', color=M1.color)\n",
    "M2_points = plt.scatter(x=range(10,14),y=M2.results, marker='x', color=M2.color)\n",
    "M3_points = plt.scatter(x=range(15,19),y=M3.results, marker='x', color=M3.color)\n",
    "M4_points = plt.scatter(x=range(20,24),y=M4.results, marker='x', color=M4.color)\n",
    "\n",
    "plt.legend((M0_points, M1_points, M2_points, M3_points, M4_points),\n",
    "           (M0.name, M1.name, M2.name, M3.name, M4.name),\n",
    "           scatterpoints=1,\n",
    "           loc='best',\n",
    "           ncol=3,\n",
    "           fontsize=8)\n",
    "\n",
    "plt.xlabel('iteration number')\n",
    "plt.ylabel('energy for specific vector from a mub')\n",
    "plt.title('Transverse Ising Model Energy Landscape')\n",
    "plt.grid()\n",
    "plt.show()"
   ]
  },
  {
   "cell_type": "code",
   "execution_count": 38,
   "id": "33073d29",
   "metadata": {},
   "outputs": [
    {
     "name": "stdout",
     "output_type": "stream",
     "text": [
      "[0.5+0.j  0.5+0.j  0. +0.5j 0. -0.5j]\n"
     ]
    }
   ],
   "source": [
    "initial_quantum_state = M2_vectors[2]\n",
    "print(initial_quantum_state)"
   ]
  },
  {
   "cell_type": "code",
   "execution_count": 39,
   "id": "09235c00-c1fc-48cb-bc8a-2a88bb987e08",
   "metadata": {},
   "outputs": [],
   "source": [
    "new_intial_quantum_state = np.vectorize(complex)([0.5,0.5,0,0],[0,0,0.5,-0.5])"
   ]
  },
  {
   "cell_type": "markdown",
   "id": "e6f8e68b",
   "metadata": {},
   "source": [
    "### find the minimum eigenvalue"
   ]
  },
  {
   "cell_type": "code",
   "execution_count": 41,
   "id": "c06487da",
   "metadata": {
    "collapsed": true,
    "jupyter": {
     "outputs_hidden": true
    },
    "tags": []
   },
   "outputs": [
    {
     "ename": "QiskitError",
     "evalue": "'Sum of amplitudes-squared does not equal one.'",
     "output_type": "error",
     "traceback": [
      "\u001b[1;31m---------------------------------------------------------------------------\u001b[0m",
      "\u001b[1;31mQiskitError\u001b[0m                               Traceback (most recent call last)",
      "File \u001b[1;32m<timed exec>:1\u001b[0m, in \u001b[0;36m<module>\u001b[1;34m\u001b[0m\n",
      "Input \u001b[1;32mIn [18]\u001b[0m, in \u001b[0;36mget_approximated_eigenvalue_of_hamiltonian\u001b[1;34m(hamiltonian, post_processing_eigenvector, post_processing_thetas)\u001b[0m\n\u001b[0;32m      1\u001b[0m \u001b[38;5;28;01mdef\u001b[39;00m \u001b[38;5;21mget_approximated_eigenvalue_of_hamiltonian\u001b[39m(hamiltonian, post_processing_eigenvector, post_processing_thetas):    \n\u001b[1;32m----> 2\u001b[0m     optimal_thetas \u001b[38;5;241m=\u001b[39m \u001b[43mget_optimal_thetas_of_ansatz_circuit_for_hamiltonian\u001b[49m\u001b[43m(\u001b[49m\u001b[43mhamiltonian\u001b[49m\u001b[43m,\u001b[49m\u001b[43m \u001b[49m\u001b[43mpost_processing_eigenvector\u001b[49m\u001b[43m,\u001b[49m\u001b[43m \u001b[49m\u001b[43mpost_processing_thetas\u001b[49m\u001b[43m)\u001b[49m\n\u001b[0;32m      3\u001b[0m     optimal_ansatz_state \u001b[38;5;241m=\u001b[39m get_ansatz_state(optimal_thetas, post_processing_eigenvector)\n\u001b[0;32m      5\u001b[0m     pauli_coeffs, pauli_strings \u001b[38;5;241m=\u001b[39m transfrom_hamiltonian_into_pauli_strings(hamiltonian)\n",
      "Input \u001b[1;32mIn [17]\u001b[0m, in \u001b[0;36mget_optimal_thetas_of_ansatz_circuit_for_hamiltonian\u001b[1;34m(hamiltonian, post_processing_eigenvector, post_processing_thetas)\u001b[0m\n\u001b[0;32m      1\u001b[0m \u001b[38;5;28;01mdef\u001b[39;00m \u001b[38;5;21mget_optimal_thetas_of_ansatz_circuit_for_hamiltonian\u001b[39m(hamiltonian, post_processing_eigenvector, post_processing_thetas):\n\u001b[1;32m----> 2\u001b[0m     optimizer_result \u001b[38;5;241m=\u001b[39m \u001b[43mminimize\u001b[49m\u001b[43m(\u001b[49m\u001b[43mcost_function\u001b[49m\u001b[43m,\u001b[49m\n\u001b[0;32m      3\u001b[0m \u001b[43m                                \u001b[49m\u001b[43mx0\u001b[49m\u001b[38;5;241;43m=\u001b[39;49m\u001b[43mpost_processing_thetas\u001b[49m\u001b[43m,\u001b[49m\n\u001b[0;32m      4\u001b[0m \u001b[43m                                \u001b[49m\u001b[43margs\u001b[49m\u001b[38;5;241;43m=\u001b[39;49m\u001b[43m(\u001b[49m\u001b[43mhamiltonian\u001b[49m\u001b[43m,\u001b[49m\u001b[43m \u001b[49m\u001b[43mpost_processing_eigenvector\u001b[49m\u001b[43m)\u001b[49m\u001b[43m,\u001b[49m\n\u001b[0;32m      5\u001b[0m \u001b[43m                                \u001b[49m\u001b[43mmethod\u001b[49m\u001b[38;5;241;43m=\u001b[39;49m\u001b[38;5;124;43m\"\u001b[39;49m\u001b[38;5;124;43mCOBYLA\u001b[39;49m\u001b[38;5;124;43m\"\u001b[39;49m\u001b[43m,\u001b[49m\n\u001b[0;32m      6\u001b[0m \u001b[43m                                \u001b[49m\u001b[43moptions\u001b[49m\u001b[38;5;241;43m=\u001b[39;49m\u001b[43m{\u001b[49m\u001b[38;5;124;43m\"\u001b[39;49m\u001b[38;5;124;43mmaxiter\u001b[39;49m\u001b[38;5;124;43m\"\u001b[39;49m\u001b[43m:\u001b[49m\u001b[43mNUM_ITERATIONS\u001b[49m\u001b[43m,\u001b[49m\n\u001b[0;32m      7\u001b[0m \u001b[43m                                        \u001b[49m\u001b[38;5;124;43m\"\u001b[39;49m\u001b[38;5;124;43mdisp\u001b[39;49m\u001b[38;5;124;43m\"\u001b[39;49m\u001b[43m:\u001b[49m\u001b[43m \u001b[49m\u001b[38;5;28;43;01mTrue\u001b[39;49;00m\u001b[43m}\u001b[49m\u001b[43m)\u001b[49m\n\u001b[0;32m      8\u001b[0m     optimal_thetas \u001b[38;5;241m=\u001b[39m optimizer_result\u001b[38;5;241m.\u001b[39mx\n\u001b[0;32m     10\u001b[0m     \u001b[38;5;28;01mreturn\u001b[39;00m optimal_thetas\n",
      "File \u001b[1;32m~\\anaconda3\\envs\\Qiskitenv\\lib\\site-packages\\scipy\\optimize\\_minimize.py:698\u001b[0m, in \u001b[0;36mminimize\u001b[1;34m(fun, x0, args, method, jac, hess, hessp, bounds, constraints, tol, callback, options)\u001b[0m\n\u001b[0;32m    695\u001b[0m     res \u001b[38;5;241m=\u001b[39m _minimize_tnc(fun, x0, args, jac, bounds, callback\u001b[38;5;241m=\u001b[39mcallback,\n\u001b[0;32m    696\u001b[0m                         \u001b[38;5;241m*\u001b[39m\u001b[38;5;241m*\u001b[39moptions)\n\u001b[0;32m    697\u001b[0m \u001b[38;5;28;01melif\u001b[39;00m meth \u001b[38;5;241m==\u001b[39m \u001b[38;5;124m'\u001b[39m\u001b[38;5;124mcobyla\u001b[39m\u001b[38;5;124m'\u001b[39m:\n\u001b[1;32m--> 698\u001b[0m     res \u001b[38;5;241m=\u001b[39m \u001b[43m_minimize_cobyla\u001b[49m\u001b[43m(\u001b[49m\u001b[43mfun\u001b[49m\u001b[43m,\u001b[49m\u001b[43m \u001b[49m\u001b[43mx0\u001b[49m\u001b[43m,\u001b[49m\u001b[43m \u001b[49m\u001b[43margs\u001b[49m\u001b[43m,\u001b[49m\u001b[43m \u001b[49m\u001b[43mconstraints\u001b[49m\u001b[43m,\u001b[49m\u001b[43m \u001b[49m\u001b[43mcallback\u001b[49m\u001b[38;5;241;43m=\u001b[39;49m\u001b[43mcallback\u001b[49m\u001b[43m,\u001b[49m\n\u001b[0;32m    699\u001b[0m \u001b[43m                            \u001b[49m\u001b[38;5;241;43m*\u001b[39;49m\u001b[38;5;241;43m*\u001b[39;49m\u001b[43moptions\u001b[49m\u001b[43m)\u001b[49m\n\u001b[0;32m    700\u001b[0m \u001b[38;5;28;01melif\u001b[39;00m meth \u001b[38;5;241m==\u001b[39m \u001b[38;5;124m'\u001b[39m\u001b[38;5;124mslsqp\u001b[39m\u001b[38;5;124m'\u001b[39m:\n\u001b[0;32m    701\u001b[0m     res \u001b[38;5;241m=\u001b[39m _minimize_slsqp(fun, x0, args, jac, bounds,\n\u001b[0;32m    702\u001b[0m                           constraints, callback\u001b[38;5;241m=\u001b[39mcallback, \u001b[38;5;241m*\u001b[39m\u001b[38;5;241m*\u001b[39moptions)\n",
      "File \u001b[1;32m~\\anaconda3\\envs\\Qiskitenv\\lib\\site-packages\\scipy\\optimize\\_cobyla_py.py:34\u001b[0m, in \u001b[0;36msynchronized.<locals>.wrapper\u001b[1;34m(*args, **kwargs)\u001b[0m\n\u001b[0;32m     31\u001b[0m \u001b[38;5;129m@functools\u001b[39m\u001b[38;5;241m.\u001b[39mwraps(func)\n\u001b[0;32m     32\u001b[0m \u001b[38;5;28;01mdef\u001b[39;00m \u001b[38;5;21mwrapper\u001b[39m(\u001b[38;5;241m*\u001b[39margs, \u001b[38;5;241m*\u001b[39m\u001b[38;5;241m*\u001b[39mkwargs):\n\u001b[0;32m     33\u001b[0m     \u001b[38;5;28;01mwith\u001b[39;00m _module_lock:\n\u001b[1;32m---> 34\u001b[0m         \u001b[38;5;28;01mreturn\u001b[39;00m \u001b[43mfunc\u001b[49m\u001b[43m(\u001b[49m\u001b[38;5;241;43m*\u001b[39;49m\u001b[43margs\u001b[49m\u001b[43m,\u001b[49m\u001b[43m \u001b[49m\u001b[38;5;241;43m*\u001b[39;49m\u001b[38;5;241;43m*\u001b[39;49m\u001b[43mkwargs\u001b[49m\u001b[43m)\u001b[49m\n",
      "File \u001b[1;32m~\\anaconda3\\envs\\Qiskitenv\\lib\\site-packages\\scipy\\optimize\\_cobyla_py.py:273\u001b[0m, in \u001b[0;36m_minimize_cobyla\u001b[1;34m(fun, x0, args, constraints, rhobeg, tol, maxiter, disp, catol, callback, **unknown_options)\u001b[0m\n\u001b[0;32m    270\u001b[0m         callback(np\u001b[38;5;241m.\u001b[39mcopy(x))\n\u001b[0;32m    272\u001b[0m info \u001b[38;5;241m=\u001b[39m np\u001b[38;5;241m.\u001b[39mzeros(\u001b[38;5;241m4\u001b[39m, np\u001b[38;5;241m.\u001b[39mfloat64)\n\u001b[1;32m--> 273\u001b[0m xopt, info \u001b[38;5;241m=\u001b[39m \u001b[43mcobyla\u001b[49m\u001b[38;5;241;43m.\u001b[39;49m\u001b[43mminimize\u001b[49m\u001b[43m(\u001b[49m\u001b[43mcalcfc\u001b[49m\u001b[43m,\u001b[49m\u001b[43m \u001b[49m\u001b[43mm\u001b[49m\u001b[38;5;241;43m=\u001b[39;49m\u001b[43mm\u001b[49m\u001b[43m,\u001b[49m\u001b[43m \u001b[49m\u001b[43mx\u001b[49m\u001b[38;5;241;43m=\u001b[39;49m\u001b[43mnp\u001b[49m\u001b[38;5;241;43m.\u001b[39;49m\u001b[43mcopy\u001b[49m\u001b[43m(\u001b[49m\u001b[43mx0\u001b[49m\u001b[43m)\u001b[49m\u001b[43m,\u001b[49m\u001b[43m \u001b[49m\u001b[43mrhobeg\u001b[49m\u001b[38;5;241;43m=\u001b[39;49m\u001b[43mrhobeg\u001b[49m\u001b[43m,\u001b[49m\n\u001b[0;32m    274\u001b[0m \u001b[43m                              \u001b[49m\u001b[43mrhoend\u001b[49m\u001b[38;5;241;43m=\u001b[39;49m\u001b[43mrhoend\u001b[49m\u001b[43m,\u001b[49m\u001b[43m \u001b[49m\u001b[43miprint\u001b[49m\u001b[38;5;241;43m=\u001b[39;49m\u001b[43miprint\u001b[49m\u001b[43m,\u001b[49m\u001b[43m \u001b[49m\u001b[43mmaxfun\u001b[49m\u001b[38;5;241;43m=\u001b[39;49m\u001b[43mmaxfun\u001b[49m\u001b[43m,\u001b[49m\n\u001b[0;32m    275\u001b[0m \u001b[43m                              \u001b[49m\u001b[43mdinfo\u001b[49m\u001b[38;5;241;43m=\u001b[39;49m\u001b[43minfo\u001b[49m\u001b[43m,\u001b[49m\u001b[43m \u001b[49m\u001b[43mcallback\u001b[49m\u001b[38;5;241;43m=\u001b[39;49m\u001b[43mwrapped_callback\u001b[49m\u001b[43m)\u001b[49m\n\u001b[0;32m    277\u001b[0m \u001b[38;5;28;01mif\u001b[39;00m info[\u001b[38;5;241m3\u001b[39m] \u001b[38;5;241m>\u001b[39m catol:\n\u001b[0;32m    278\u001b[0m     \u001b[38;5;66;03m# Check constraint violation\u001b[39;00m\n\u001b[0;32m    279\u001b[0m     info[\u001b[38;5;241m0\u001b[39m] \u001b[38;5;241m=\u001b[39m \u001b[38;5;241m4\u001b[39m\n",
      "File \u001b[1;32m~\\anaconda3\\envs\\Qiskitenv\\lib\\site-packages\\scipy\\optimize\\_cobyla_py.py:261\u001b[0m, in \u001b[0;36m_minimize_cobyla.<locals>.calcfc\u001b[1;34m(x, con)\u001b[0m\n\u001b[0;32m    260\u001b[0m \u001b[38;5;28;01mdef\u001b[39;00m \u001b[38;5;21mcalcfc\u001b[39m(x, con):\n\u001b[1;32m--> 261\u001b[0m     f \u001b[38;5;241m=\u001b[39m \u001b[43mfun\u001b[49m\u001b[43m(\u001b[49m\u001b[43mnp\u001b[49m\u001b[38;5;241;43m.\u001b[39;49m\u001b[43mcopy\u001b[49m\u001b[43m(\u001b[49m\u001b[43mx\u001b[49m\u001b[43m)\u001b[49m\u001b[43m,\u001b[49m\u001b[43m \u001b[49m\u001b[38;5;241;43m*\u001b[39;49m\u001b[43margs\u001b[49m\u001b[43m)\u001b[49m\n\u001b[0;32m    262\u001b[0m     i \u001b[38;5;241m=\u001b[39m \u001b[38;5;241m0\u001b[39m\n\u001b[0;32m    263\u001b[0m     \u001b[38;5;28;01mfor\u001b[39;00m size, c \u001b[38;5;129;01min\u001b[39;00m izip(cons_lengths, constraints):\n",
      "Input \u001b[1;32mIn [16]\u001b[0m, in \u001b[0;36mcost_function\u001b[1;34m(thetas, hamiltonian, initial_eigenvector)\u001b[0m\n\u001b[0;32m      4\u001b[0m \u001b[38;5;28;01mdef\u001b[39;00m \u001b[38;5;21mcost_function\u001b[39m(thetas, hamiltonian, initial_eigenvector):    \n\u001b[0;32m      5\u001b[0m     pauli_coeffs, pauli_strings \u001b[38;5;241m=\u001b[39m transfrom_hamiltonian_into_pauli_strings(hamiltonian)\n\u001b[1;32m----> 6\u001b[0m     ansatz_state \u001b[38;5;241m=\u001b[39m \u001b[43mget_ansatz_state\u001b[49m\u001b[43m(\u001b[49m\u001b[43mthetas\u001b[49m\u001b[43m,\u001b[49m\u001b[43m \u001b[49m\u001b[43minitial_eigenvector\u001b[49m\u001b[43m)\u001b[49m\n\u001b[0;32m      8\u001b[0m     L \u001b[38;5;241m=\u001b[39m get_expectation_value(ansatz_state, pauli_coeffs, pauli_strings)\n\u001b[0;32m      9\u001b[0m     insert_approximated_energy_to_list_of_all_approximated_energies(L)\n",
      "Input \u001b[1;32mIn [7]\u001b[0m, in \u001b[0;36mget_ansatz_state\u001b[1;34m(thetas, input_state, ansatz_entangelment)\u001b[0m\n\u001b[0;32m      1\u001b[0m \u001b[38;5;28;01mdef\u001b[39;00m \u001b[38;5;21mget_ansatz_state\u001b[39m(thetas, input_state, ansatz_entangelment\u001b[38;5;241m=\u001b[39m\u001b[38;5;124m\"\u001b[39m\u001b[38;5;124mfull\u001b[39m\u001b[38;5;124m\"\u001b[39m):\n\u001b[0;32m      2\u001b[0m     \u001b[38;5;28;01mif\u001b[39;00m ansatz_entangelment\u001b[38;5;241m==\u001b[39m\u001b[38;5;124m\"\u001b[39m\u001b[38;5;124mfull\u001b[39m\u001b[38;5;124m\"\u001b[39m:\n\u001b[1;32m----> 3\u001b[0m         \u001b[38;5;28;01mreturn\u001b[39;00m \u001b[43mget_full_entangelment_ansatz\u001b[49m\u001b[43m(\u001b[49m\u001b[43mQUBITS_NUM\u001b[49m\u001b[43m,\u001b[49m\u001b[43m \u001b[49m\u001b[43mthetas\u001b[49m\u001b[43m,\u001b[49m\u001b[43m \u001b[49m\u001b[43minput_state\u001b[49m\u001b[43m)\u001b[49m\n\u001b[0;32m      4\u001b[0m     \u001b[38;5;28;01mif\u001b[39;00m ansatz_entangelment\u001b[38;5;241m==\u001b[39m\u001b[38;5;124m\"\u001b[39m\u001b[38;5;124mlinear\u001b[39m\u001b[38;5;124m\"\u001b[39m:\n\u001b[0;32m      5\u001b[0m         \u001b[38;5;28;01mreturn\u001b[39;00m get_linear_entangelment_ansatz(QUBITS_NUM, thetas, input_state)\n",
      "File \u001b[1;32m~\\my-projects\\MUBs-in-quantum-systems\\linear_entangelment_and_full_entangelment_ansatz_circuits.ipynb:4\u001b[0m, in \u001b[0;36mget_full_entangelment_ansatz\u001b[1;34m(num_of_qubits, thetas, input_state, circuit_depth)\u001b[0m\n\u001b[0;32m      1\u001b[0m {\n\u001b[0;32m      2\u001b[0m  \u001b[38;5;124m\"\u001b[39m\u001b[38;5;124mcells\u001b[39m\u001b[38;5;124m\"\u001b[39m: [\n\u001b[0;32m      3\u001b[0m   {\n\u001b[1;32m----> 4\u001b[0m    \u001b[38;5;124m\"\u001b[39m\u001b[38;5;124mcell_type\u001b[39m\u001b[38;5;124m\"\u001b[39m: \u001b[38;5;124m\"\u001b[39m\u001b[38;5;124mcode\u001b[39m\u001b[38;5;124m\"\u001b[39m,\n\u001b[0;32m      5\u001b[0m    \u001b[38;5;124m\"\u001b[39m\u001b[38;5;124mexecution_count\u001b[39m\u001b[38;5;124m\"\u001b[39m: \u001b[38;5;241m1\u001b[39m,\n\u001b[0;32m      6\u001b[0m    \u001b[38;5;124m\"\u001b[39m\u001b[38;5;124mid\u001b[39m\u001b[38;5;124m\"\u001b[39m: \u001b[38;5;124m\"\u001b[39m\u001b[38;5;124m1ab129c5\u001b[39m\u001b[38;5;124m\"\u001b[39m,\n\u001b[0;32m      7\u001b[0m    \u001b[38;5;124m\"\u001b[39m\u001b[38;5;124mmetadata\u001b[39m\u001b[38;5;124m\"\u001b[39m: {},\n\u001b[0;32m      8\u001b[0m    \u001b[38;5;124m\"\u001b[39m\u001b[38;5;124moutputs\u001b[39m\u001b[38;5;124m\"\u001b[39m: [],\n\u001b[0;32m      9\u001b[0m    \u001b[38;5;124m\"\u001b[39m\u001b[38;5;124msource\u001b[39m\u001b[38;5;124m\"\u001b[39m: [\n\u001b[0;32m     10\u001b[0m     \u001b[38;5;124m\"\u001b[39m\u001b[38;5;132;01m%lo\u001b[39;00m\u001b[38;5;124mad_ext autoreload\u001b[39m\u001b[38;5;130;01m\\n\u001b[39;00m\u001b[38;5;124m\"\u001b[39m,\n\u001b[0;32m     11\u001b[0m     \u001b[38;5;124m\"\u001b[39m\u001b[38;5;132;01m%a\u001b[39;00m\u001b[38;5;124mutoreload 2\u001b[39m\u001b[38;5;124m\"\u001b[39m\n\u001b[0;32m     12\u001b[0m    ]\n\u001b[0;32m     13\u001b[0m   },\n\u001b[0;32m     14\u001b[0m   {\n\u001b[0;32m     15\u001b[0m    \u001b[38;5;124m\"\u001b[39m\u001b[38;5;124mcell_type\u001b[39m\u001b[38;5;124m\"\u001b[39m: \u001b[38;5;124m\"\u001b[39m\u001b[38;5;124mcode\u001b[39m\u001b[38;5;124m\"\u001b[39m,\n\u001b[0;32m     16\u001b[0m    \u001b[38;5;124m\"\u001b[39m\u001b[38;5;124mexecution_count\u001b[39m\u001b[38;5;124m\"\u001b[39m: \u001b[38;5;241m2\u001b[39m,\n\u001b[0;32m     17\u001b[0m    \u001b[38;5;124m\"\u001b[39m\u001b[38;5;124mid\u001b[39m\u001b[38;5;124m\"\u001b[39m: \u001b[38;5;124m\"\u001b[39m\u001b[38;5;124m7df1bd0f\u001b[39m\u001b[38;5;124m\"\u001b[39m,\n\u001b[0;32m     18\u001b[0m    \u001b[38;5;124m\"\u001b[39m\u001b[38;5;124mmetadata\u001b[39m\u001b[38;5;124m\"\u001b[39m: {},\n\u001b[0;32m     19\u001b[0m    \u001b[38;5;124m\"\u001b[39m\u001b[38;5;124moutputs\u001b[39m\u001b[38;5;124m\"\u001b[39m: [],\n\u001b[0;32m     20\u001b[0m    \u001b[38;5;124m\"\u001b[39m\u001b[38;5;124msource\u001b[39m\u001b[38;5;124m\"\u001b[39m: [\n\u001b[0;32m     21\u001b[0m     \u001b[38;5;124m\"\u001b[39m\u001b[38;5;124mfrom qiskit.circuit.library.standard_gates import RXGate, RZGate, RYGate, CXGate, CZGate, SGate, HGate\u001b[39m\u001b[38;5;130;01m\\n\u001b[39;00m\u001b[38;5;124m\"\u001b[39m,\n\u001b[0;32m     22\u001b[0m     \u001b[38;5;124m\"\u001b[39m\u001b[38;5;124mfrom qiskit import QuantumCircuit, ClassicalRegister, QuantumRegister\u001b[39m\u001b[38;5;130;01m\\n\u001b[39;00m\u001b[38;5;124m\"\u001b[39m,\n\u001b[0;32m     23\u001b[0m     \u001b[38;5;124m\"\u001b[39m\u001b[38;5;130;01m\\n\u001b[39;00m\u001b[38;5;124m\"\u001b[39m,\n\u001b[0;32m     24\u001b[0m     \u001b[38;5;124m\"\u001b[39m\u001b[38;5;124mimport numpy as np\u001b[39m\u001b[38;5;124m\"\u001b[39m\n\u001b[0;32m     25\u001b[0m    ]\n\u001b[0;32m     26\u001b[0m   },\n\u001b[0;32m     27\u001b[0m   {\n\u001b[0;32m     28\u001b[0m    \u001b[38;5;124m\"\u001b[39m\u001b[38;5;124mcell_type\u001b[39m\u001b[38;5;124m\"\u001b[39m: \u001b[38;5;124m\"\u001b[39m\u001b[38;5;124mcode\u001b[39m\u001b[38;5;124m\"\u001b[39m,\n\u001b[0;32m     29\u001b[0m    \u001b[38;5;124m\"\u001b[39m\u001b[38;5;124mexecution_count\u001b[39m\u001b[38;5;124m\"\u001b[39m: \u001b[38;5;241m3\u001b[39m,\n\u001b[0;32m     30\u001b[0m    \u001b[38;5;124m\"\u001b[39m\u001b[38;5;124mid\u001b[39m\u001b[38;5;124m\"\u001b[39m: \u001b[38;5;124m\"\u001b[39m\u001b[38;5;124m30dc72a4\u001b[39m\u001b[38;5;124m\"\u001b[39m,\n\u001b[0;32m     31\u001b[0m    \u001b[38;5;124m\"\u001b[39m\u001b[38;5;124mmetadata\u001b[39m\u001b[38;5;124m\"\u001b[39m: {},\n\u001b[0;32m     32\u001b[0m    \u001b[38;5;124m\"\u001b[39m\u001b[38;5;124moutputs\u001b[39m\u001b[38;5;124m\"\u001b[39m: [],\n\u001b[0;32m     33\u001b[0m    \u001b[38;5;124m\"\u001b[39m\u001b[38;5;124msource\u001b[39m\u001b[38;5;124m\"\u001b[39m: [\n\u001b[0;32m     34\u001b[0m     \u001b[38;5;124m\"\u001b[39m\u001b[38;5;124mdef get_linear_entangelment_ansatz(num_of_qubits, thetas, input_state, circuit_depth=3):\u001b[39m\u001b[38;5;130;01m\\n\u001b[39;00m\u001b[38;5;124m\"\u001b[39m,\n\u001b[0;32m     35\u001b[0m     \u001b[38;5;124m\"\u001b[39m\u001b[38;5;124m    quantum_register = QuantumRegister(num_of_qubits, name=\u001b[39m\u001b[38;5;130;01m\\\"\u001b[39;00m\u001b[38;5;124mqubit\u001b[39m\u001b[38;5;130;01m\\\"\u001b[39;00m\u001b[38;5;124m)\u001b[39m\u001b[38;5;130;01m\\n\u001b[39;00m\u001b[38;5;124m\"\u001b[39m,\n\u001b[0;32m     36\u001b[0m     \u001b[38;5;124m\"\u001b[39m\u001b[38;5;124m    quantum_circuit = QuantumCircuit(quantum_register)\u001b[39m\u001b[38;5;130;01m\\n\u001b[39;00m\u001b[38;5;124m\"\u001b[39m,\n\u001b[0;32m     37\u001b[0m     \u001b[38;5;124m\"\u001b[39m\u001b[38;5;124m    quantum_circuit.initialize(input_state)\u001b[39m\u001b[38;5;130;01m\\n\u001b[39;00m\u001b[38;5;124m\"\u001b[39m,\n\u001b[0;32m     38\u001b[0m     \u001b[38;5;124m\"\u001b[39m\u001b[38;5;130;01m\\n\u001b[39;00m\u001b[38;5;124m\"\u001b[39m,\n\u001b[0;32m     39\u001b[0m     \u001b[38;5;124m\"\u001b[39m\u001b[38;5;124m    for iteration in range(circuit_depth):\u001b[39m\u001b[38;5;130;01m\\n\u001b[39;00m\u001b[38;5;124m\"\u001b[39m,\n\u001b[0;32m     40\u001b[0m     \u001b[38;5;124m\"\u001b[39m\u001b[38;5;124m        for qubit_index in range(num_of_qubits):\u001b[39m\u001b[38;5;130;01m\\n\u001b[39;00m\u001b[38;5;124m\"\u001b[39m,\n\u001b[0;32m     41\u001b[0m     \u001b[38;5;124m\"\u001b[39m\u001b[38;5;124m            RY_theta_index = iteration*2*num_of_qubits + qubit_index\u001b[39m\u001b[38;5;130;01m\\n\u001b[39;00m\u001b[38;5;124m\"\u001b[39m,\n\u001b[0;32m     42\u001b[0m     \u001b[38;5;124m\"\u001b[39m\u001b[38;5;124m            RZ_theta_index = RY_theta_index + num_of_qubits\u001b[39m\u001b[38;5;130;01m\\n\u001b[39;00m\u001b[38;5;124m\"\u001b[39m,\n\u001b[0;32m     43\u001b[0m     \u001b[38;5;124m\"\u001b[39m\u001b[38;5;124m            \u001b[39m\u001b[38;5;130;01m\\n\u001b[39;00m\u001b[38;5;124m\"\u001b[39m,\n\u001b[0;32m     44\u001b[0m     \u001b[38;5;124m\"\u001b[39m\u001b[38;5;124m            quantum_circuit.append(RYGate(thetas[RY_theta_index]), [quantum_register[qubit_index]])\u001b[39m\u001b[38;5;130;01m\\n\u001b[39;00m\u001b[38;5;124m\"\u001b[39m,\n\u001b[0;32m     45\u001b[0m     \u001b[38;5;124m\"\u001b[39m\u001b[38;5;124m            quantum_circuit.append(RZGate(thetas[RZ_theta_index]), [quantum_register[qubit_index]])\u001b[39m\u001b[38;5;130;01m\\n\u001b[39;00m\u001b[38;5;124m\"\u001b[39m,\n\u001b[0;32m     46\u001b[0m     \u001b[38;5;124m\"\u001b[39m\u001b[38;5;124m            \u001b[39m\u001b[38;5;130;01m\\n\u001b[39;00m\u001b[38;5;124m\"\u001b[39m,\n\u001b[0;32m     47\u001b[0m     \u001b[38;5;124m\"\u001b[39m\u001b[38;5;124m        for qubit_index in range(num_of_qubits - 1):\u001b[39m\u001b[38;5;130;01m\\n\u001b[39;00m\u001b[38;5;124m\"\u001b[39m,\n\u001b[0;32m     48\u001b[0m     \u001b[38;5;124m\"\u001b[39m\u001b[38;5;124m            quantum_circuit.append(CXGate(), [quantum_register[qubit_index], quantum_register[qubit_index + 1]])\u001b[39m\u001b[38;5;130;01m\\n\u001b[39;00m\u001b[38;5;124m\"\u001b[39m,\n\u001b[0;32m     49\u001b[0m     \u001b[38;5;124m\"\u001b[39m\u001b[38;5;130;01m\\n\u001b[39;00m\u001b[38;5;124m\"\u001b[39m,\n\u001b[0;32m     50\u001b[0m     \u001b[38;5;124m\"\u001b[39m\u001b[38;5;124m    for qubit_index in range(num_of_qubits):\u001b[39m\u001b[38;5;130;01m\\n\u001b[39;00m\u001b[38;5;124m\"\u001b[39m,\n\u001b[0;32m     51\u001b[0m     \u001b[38;5;124m\"\u001b[39m\u001b[38;5;124m            RY_theta_index = 2*num_of_qubits*circuit_depth + qubit_index\u001b[39m\u001b[38;5;130;01m\\n\u001b[39;00m\u001b[38;5;124m\"\u001b[39m,\n\u001b[0;32m     52\u001b[0m     \u001b[38;5;124m\"\u001b[39m\u001b[38;5;124m            RZ_theta_index = RY_theta_index + num_of_qubits\u001b[39m\u001b[38;5;130;01m\\n\u001b[39;00m\u001b[38;5;124m\"\u001b[39m,\n\u001b[0;32m     53\u001b[0m     \u001b[38;5;124m\"\u001b[39m\u001b[38;5;124m            quantum_circuit.append(RYGate(thetas[RY_theta_index]), [quantum_register[qubit_index]])\u001b[39m\u001b[38;5;130;01m\\n\u001b[39;00m\u001b[38;5;124m\"\u001b[39m,\n\u001b[0;32m     54\u001b[0m     \u001b[38;5;124m\"\u001b[39m\u001b[38;5;124m            quantum_circuit.append(RZGate(thetas[RZ_theta_index]), [quantum_register[qubit_index]])\u001b[39m\u001b[38;5;130;01m\\n\u001b[39;00m\u001b[38;5;124m\"\u001b[39m,\n\u001b[0;32m     55\u001b[0m     \u001b[38;5;124m\"\u001b[39m\u001b[38;5;130;01m\\n\u001b[39;00m\u001b[38;5;124m\"\u001b[39m,\n\u001b[0;32m     56\u001b[0m     \u001b[38;5;124m\"\u001b[39m\u001b[38;5;124m    return quantum_circuit\u001b[39m\u001b[38;5;124m\"\u001b[39m\n\u001b[0;32m     57\u001b[0m    ]\n\u001b[0;32m     58\u001b[0m   },\n\u001b[0;32m     59\u001b[0m   {\n\u001b[0;32m     60\u001b[0m    \u001b[38;5;124m\"\u001b[39m\u001b[38;5;124mcell_type\u001b[39m\u001b[38;5;124m\"\u001b[39m: \u001b[38;5;124m\"\u001b[39m\u001b[38;5;124mcode\u001b[39m\u001b[38;5;124m\"\u001b[39m,\n\u001b[0;32m     61\u001b[0m    \u001b[38;5;124m\"\u001b[39m\u001b[38;5;124mexecution_count\u001b[39m\u001b[38;5;124m\"\u001b[39m: \u001b[38;5;241m4\u001b[39m,\n\u001b[0;32m     62\u001b[0m    \u001b[38;5;124m\"\u001b[39m\u001b[38;5;124mid\u001b[39m\u001b[38;5;124m\"\u001b[39m: \u001b[38;5;124m\"\u001b[39m\u001b[38;5;124m8e40efc3\u001b[39m\u001b[38;5;124m\"\u001b[39m,\n\u001b[0;32m     63\u001b[0m    \u001b[38;5;124m\"\u001b[39m\u001b[38;5;124mmetadata\u001b[39m\u001b[38;5;124m\"\u001b[39m: {},\n\u001b[0;32m     64\u001b[0m    \u001b[38;5;124m\"\u001b[39m\u001b[38;5;124moutputs\u001b[39m\u001b[38;5;124m\"\u001b[39m: [],\n\u001b[0;32m     65\u001b[0m    \u001b[38;5;124m\"\u001b[39m\u001b[38;5;124msource\u001b[39m\u001b[38;5;124m\"\u001b[39m: [\n\u001b[0;32m     66\u001b[0m     \u001b[38;5;124m\"\u001b[39m\u001b[38;5;124mdef get_full_entangelment_ansatz(num_of_qubits, thetas, input_state, circuit_depth=3):\u001b[39m\u001b[38;5;130;01m\\n\u001b[39;00m\u001b[38;5;124m\"\u001b[39m,\n\u001b[0;32m     67\u001b[0m     \u001b[38;5;124m\"\u001b[39m\u001b[38;5;124m    quantum_register = QuantumRegister(num_of_qubits, name=\u001b[39m\u001b[38;5;130;01m\\\"\u001b[39;00m\u001b[38;5;124mqubit\u001b[39m\u001b[38;5;130;01m\\\"\u001b[39;00m\u001b[38;5;124m)\u001b[39m\u001b[38;5;130;01m\\n\u001b[39;00m\u001b[38;5;124m\"\u001b[39m,\n\u001b[0;32m     68\u001b[0m     \u001b[38;5;124m\"\u001b[39m\u001b[38;5;124m    quantum_circuit = QuantumCircuit(quantum_register)\u001b[39m\u001b[38;5;130;01m\\n\u001b[39;00m\u001b[38;5;124m\"\u001b[39m,\n\u001b[0;32m     69\u001b[0m     \u001b[38;5;124m\"\u001b[39m\u001b[38;5;124m    quantum_circuit.initialize(input_state)\u001b[39m\u001b[38;5;130;01m\\n\u001b[39;00m\u001b[38;5;124m\"\u001b[39m,\n\u001b[0;32m     70\u001b[0m     \u001b[38;5;124m\"\u001b[39m\u001b[38;5;130;01m\\n\u001b[39;00m\u001b[38;5;124m\"\u001b[39m,\n\u001b[0;32m     71\u001b[0m     \u001b[38;5;124m\"\u001b[39m\u001b[38;5;124m    for iteration in range(circuit_depth):\u001b[39m\u001b[38;5;130;01m\\n\u001b[39;00m\u001b[38;5;124m\"\u001b[39m,\n\u001b[0;32m     72\u001b[0m     \u001b[38;5;124m\"\u001b[39m\u001b[38;5;124m        for qubit_index in range(num_of_qubits):\u001b[39m\u001b[38;5;130;01m\\n\u001b[39;00m\u001b[38;5;124m\"\u001b[39m,\n\u001b[0;32m     73\u001b[0m     \u001b[38;5;124m\"\u001b[39m\u001b[38;5;124m            RY_theta_index = iteration*2*num_of_qubits + qubit_index\u001b[39m\u001b[38;5;130;01m\\n\u001b[39;00m\u001b[38;5;124m\"\u001b[39m,\n\u001b[0;32m     74\u001b[0m     \u001b[38;5;124m\"\u001b[39m\u001b[38;5;124m            RZ_theta_index = RY_theta_index + num_of_qubits\u001b[39m\u001b[38;5;130;01m\\n\u001b[39;00m\u001b[38;5;124m\"\u001b[39m,\n\u001b[0;32m     75\u001b[0m     \u001b[38;5;124m\"\u001b[39m\u001b[38;5;124m            \u001b[39m\u001b[38;5;130;01m\\n\u001b[39;00m\u001b[38;5;124m\"\u001b[39m,\n\u001b[0;32m     76\u001b[0m     \u001b[38;5;124m\"\u001b[39m\u001b[38;5;124m            quantum_circuit.append(RYGate(thetas[RY_theta_index]), [quantum_register[qubit_index]])\u001b[39m\u001b[38;5;130;01m\\n\u001b[39;00m\u001b[38;5;124m\"\u001b[39m,\n\u001b[0;32m     77\u001b[0m     \u001b[38;5;124m\"\u001b[39m\u001b[38;5;124m            quantum_circuit.append(RZGate(thetas[RZ_theta_index]), [quantum_register[qubit_index]])\u001b[39m\u001b[38;5;130;01m\\n\u001b[39;00m\u001b[38;5;124m\"\u001b[39m,\n\u001b[0;32m     78\u001b[0m     \u001b[38;5;124m\"\u001b[39m\u001b[38;5;124m        for qubit_index in range(num_of_qubits - 1):\u001b[39m\u001b[38;5;130;01m\\n\u001b[39;00m\u001b[38;5;124m\"\u001b[39m,\n\u001b[0;32m     79\u001b[0m     \u001b[38;5;124m\"\u001b[39m\u001b[38;5;124m            for target_qubit_index in range(qubit_index + 1, num_of_qubits):\u001b[39m\u001b[38;5;130;01m\\n\u001b[39;00m\u001b[38;5;124m\"\u001b[39m,\n\u001b[0;32m     80\u001b[0m     \u001b[38;5;124m\"\u001b[39m\u001b[38;5;124m                quantum_circuit.append(CXGate(), [quantum_register[qubit_index], quantum_register[target_qubit_index]])\u001b[39m\u001b[38;5;130;01m\\n\u001b[39;00m\u001b[38;5;124m\"\u001b[39m,\n\u001b[0;32m     81\u001b[0m     \u001b[38;5;124m\"\u001b[39m\u001b[38;5;130;01m\\n\u001b[39;00m\u001b[38;5;124m\"\u001b[39m,\n\u001b[0;32m     82\u001b[0m     \u001b[38;5;124m\"\u001b[39m\u001b[38;5;124m    for qubit_index in range(num_of_qubits):\u001b[39m\u001b[38;5;130;01m\\n\u001b[39;00m\u001b[38;5;124m\"\u001b[39m,\n\u001b[0;32m     83\u001b[0m     \u001b[38;5;124m\"\u001b[39m\u001b[38;5;124m            RY_theta_index = 2*num_of_qubits*circuit_depth + qubit_index\u001b[39m\u001b[38;5;130;01m\\n\u001b[39;00m\u001b[38;5;124m\"\u001b[39m,\n\u001b[0;32m     84\u001b[0m     \u001b[38;5;124m\"\u001b[39m\u001b[38;5;124m            RZ_theta_index = RY_theta_index + num_of_qubits\u001b[39m\u001b[38;5;130;01m\\n\u001b[39;00m\u001b[38;5;124m\"\u001b[39m,\n\u001b[0;32m     85\u001b[0m     \u001b[38;5;124m\"\u001b[39m\u001b[38;5;124m            \u001b[39m\u001b[38;5;130;01m\\n\u001b[39;00m\u001b[38;5;124m\"\u001b[39m,\n\u001b[0;32m     86\u001b[0m     \u001b[38;5;124m\"\u001b[39m\u001b[38;5;124m            quantum_circuit.append(RYGate(thetas[RY_theta_index]), [quantum_register[qubit_index]])\u001b[39m\u001b[38;5;130;01m\\n\u001b[39;00m\u001b[38;5;124m\"\u001b[39m,\n\u001b[0;32m     87\u001b[0m     \u001b[38;5;124m\"\u001b[39m\u001b[38;5;124m            quantum_circuit.append(RZGate(thetas[RZ_theta_index]), [quantum_register[qubit_index]])\u001b[39m\u001b[38;5;130;01m\\n\u001b[39;00m\u001b[38;5;124m\"\u001b[39m,\n\u001b[0;32m     88\u001b[0m     \u001b[38;5;124m\"\u001b[39m\u001b[38;5;130;01m\\n\u001b[39;00m\u001b[38;5;124m\"\u001b[39m,\n\u001b[0;32m     89\u001b[0m     \u001b[38;5;124m\"\u001b[39m\u001b[38;5;124m    return quantum_circuit\u001b[39m\u001b[38;5;124m\"\u001b[39m\n\u001b[0;32m     90\u001b[0m    ]\n\u001b[0;32m     91\u001b[0m   },\n\u001b[0;32m     92\u001b[0m   {\n\u001b[0;32m     93\u001b[0m    \u001b[38;5;124m\"\u001b[39m\u001b[38;5;124mcell_type\u001b[39m\u001b[38;5;124m\"\u001b[39m: \u001b[38;5;124m\"\u001b[39m\u001b[38;5;124mmarkdown\u001b[39m\u001b[38;5;124m\"\u001b[39m,\n\u001b[0;32m     94\u001b[0m    \u001b[38;5;124m\"\u001b[39m\u001b[38;5;124mid\u001b[39m\u001b[38;5;124m\"\u001b[39m: \u001b[38;5;124m\"\u001b[39m\u001b[38;5;124m57b537b7\u001b[39m\u001b[38;5;124m\"\u001b[39m,\n\u001b[0;32m     95\u001b[0m    \u001b[38;5;124m\"\u001b[39m\u001b[38;5;124mmetadata\u001b[39m\u001b[38;5;124m\"\u001b[39m: {},\n\u001b[0;32m     96\u001b[0m    \u001b[38;5;124m\"\u001b[39m\u001b[38;5;124msource\u001b[39m\u001b[38;5;124m\"\u001b[39m: [\n\u001b[0;32m     97\u001b[0m     \u001b[38;5;124m\"\u001b[39m\u001b[38;5;124m## Linear entangelment ansatz\u001b[39m\u001b[38;5;124m\"\u001b[39m\n\u001b[0;32m     98\u001b[0m    ]\n\u001b[0;32m     99\u001b[0m   },\n\u001b[0;32m    100\u001b[0m   {\n\u001b[0;32m    101\u001b[0m    \u001b[38;5;124m\"\u001b[39m\u001b[38;5;124mcell_type\u001b[39m\u001b[38;5;124m\"\u001b[39m: \u001b[38;5;124m\"\u001b[39m\u001b[38;5;124mcode\u001b[39m\u001b[38;5;124m\"\u001b[39m,\n\u001b[0;32m    102\u001b[0m    \u001b[38;5;124m\"\u001b[39m\u001b[38;5;124mexecution_count\u001b[39m\u001b[38;5;124m\"\u001b[39m: \u001b[38;5;241m5\u001b[39m,\n\u001b[0;32m    103\u001b[0m    \u001b[38;5;124m\"\u001b[39m\u001b[38;5;124mid\u001b[39m\u001b[38;5;124m\"\u001b[39m: \u001b[38;5;124m\"\u001b[39m\u001b[38;5;124m702b6973\u001b[39m\u001b[38;5;124m\"\u001b[39m,\n\u001b[0;32m    104\u001b[0m    \u001b[38;5;124m\"\u001b[39m\u001b[38;5;124mmetadata\u001b[39m\u001b[38;5;124m\"\u001b[39m: {},\n\u001b[0;32m    105\u001b[0m    \u001b[38;5;124m\"\u001b[39m\u001b[38;5;124moutputs\u001b[39m\u001b[38;5;124m\"\u001b[39m: [\n\u001b[0;32m    106\u001b[0m     {\n\u001b[0;32m    107\u001b[0m      \u001b[38;5;124m\"\u001b[39m\u001b[38;5;124mname\u001b[39m\u001b[38;5;124m\"\u001b[39m: \u001b[38;5;124m\"\u001b[39m\u001b[38;5;124mstdout\u001b[39m\u001b[38;5;124m\"\u001b[39m,\n\u001b[0;32m    108\u001b[0m      \u001b[38;5;124m\"\u001b[39m\u001b[38;5;124moutput_type\u001b[39m\u001b[38;5;124m\"\u001b[39m: \u001b[38;5;124m\"\u001b[39m\u001b[38;5;124mstream\u001b[39m\u001b[38;5;124m\"\u001b[39m,\n\u001b[0;32m    109\u001b[0m      \u001b[38;5;124m\"\u001b[39m\u001b[38;5;124mtext\u001b[39m\u001b[38;5;124m\"\u001b[39m: [\n\u001b[0;32m    110\u001b[0m       \u001b[38;5;124m\"\u001b[39m\u001b[38;5;124m         ┌────────────────┐┌────────────┐ ┌─────────┐       ┌────────────┐»\u001b[39m\u001b[38;5;130;01m\\n\u001b[39;00m\u001b[38;5;124m\"\u001b[39m,\n\u001b[0;32m    111\u001b[0m       \u001b[38;5;124m\"\u001b[39m\u001b[38;5;124mqubit_0: ┤0               ├┤ Ry(224.73) ├─┤ Rz(203) ├────■──┤ Ry(23.197) ├»\u001b[39m\u001b[38;5;130;01m\\n\u001b[39;00m\u001b[38;5;124m\"\u001b[39m,\n\u001b[0;32m    112\u001b[0m       \u001b[38;5;124m\"\u001b[39m\u001b[38;5;124m         │                │├───────────┬┘┌┴─────────┴─┐┌─┴─┐└────────────┘»\u001b[39m\u001b[38;5;130;01m\\n\u001b[39;00m\u001b[38;5;124m\"\u001b[39m,\n\u001b[0;32m    113\u001b[0m       \u001b[38;5;124m\"\u001b[39m\u001b[38;5;124mqubit_1: ┤1               ├┤ Ry(324.1) ├─┤ Rz(173.94) ├┤ X ├──────■───────»\u001b[39m\u001b[38;5;130;01m\\n\u001b[39;00m\u001b[38;5;124m\"\u001b[39m,\n\u001b[0;32m    114\u001b[0m       \u001b[38;5;124m\"\u001b[39m\u001b[38;5;124m         │  Initialize(3) │├───────────┴┐├────────────┤└───┘    ┌─┴─┐     »\u001b[39m\u001b[38;5;130;01m\\n\u001b[39;00m\u001b[38;5;124m\"\u001b[39m,\n\u001b[0;32m    115\u001b[0m       \u001b[38;5;124m\"\u001b[39m\u001b[38;5;124mqubit_2: ┤2               ├┤ Ry(122.99) ├┤ Rz(207.45) ├─────────┤ X ├─────»\u001b[39m\u001b[38;5;130;01m\\n\u001b[39;00m\u001b[38;5;124m\"\u001b[39m,\n\u001b[0;32m    116\u001b[0m       \u001b[38;5;124m\"\u001b[39m\u001b[38;5;124m         │                │├───────────┬┘├────────────┤         └───┘     »\u001b[39m\u001b[38;5;130;01m\\n\u001b[39;00m\u001b[38;5;124m\"\u001b[39m,\n\u001b[0;32m    117\u001b[0m       \u001b[38;5;124m\"\u001b[39m\u001b[38;5;124mqubit_3: ┤3               ├┤ Ry(24.76) ├─┤ Rz(279.09) ├───────────────────»\u001b[39m\u001b[38;5;130;01m\\n\u001b[39;00m\u001b[38;5;124m\"\u001b[39m,\n\u001b[0;32m    118\u001b[0m       \u001b[38;5;124m\"\u001b[39m\u001b[38;5;124m         └────────────────┘└───────────┘ └────────────┘                   »\u001b[39m\u001b[38;5;130;01m\\n\u001b[39;00m\u001b[38;5;124m\"\u001b[39m,\n\u001b[0;32m    119\u001b[0m       \u001b[38;5;124m\"\u001b[39m\u001b[38;5;124m«         ┌────────────┐                            ┌────────────┐»\u001b[39m\u001b[38;5;130;01m\\n\u001b[39;00m\u001b[38;5;124m\"\u001b[39m,\n\u001b[0;32m    120\u001b[0m       \u001b[38;5;124m\"\u001b[39m\u001b[38;5;124m«qubit_0: ┤ Rz(118.29) ├────────────────────■───────┤ Ry(111.57) ├»\u001b[39m\u001b[38;5;130;01m\\n\u001b[39;00m\u001b[38;5;124m\"\u001b[39m,\n\u001b[0;32m    121\u001b[0m       \u001b[38;5;124m\"\u001b[39m\u001b[38;5;124m«         ├───────────┬┘┌────────────┐    ┌─┴─┐     └────────────┘»\u001b[39m\u001b[38;5;130;01m\\n\u001b[39;00m\u001b[38;5;124m\"\u001b[39m,\n\u001b[0;32m    122\u001b[0m       \u001b[38;5;124m\"\u001b[39m\u001b[38;5;124m«qubit_1: ┤ Ry(205.1) ├─┤ Rz(318.52) ├────┤ X ├───────────■───────»\u001b[39m\u001b[38;5;130;01m\\n\u001b[39;00m\u001b[38;5;124m\"\u001b[39m,\n\u001b[0;32m    123\u001b[0m       \u001b[38;5;124m\"\u001b[39m\u001b[38;5;124m«         └───────────┘ ├────────────┤┌───┴───┴────┐    ┌─┴─┐     »\u001b[39m\u001b[38;5;130;01m\\n\u001b[39;00m\u001b[38;5;124m\"\u001b[39m,\n\u001b[0;32m    124\u001b[0m       \u001b[38;5;124m\"\u001b[39m\u001b[38;5;124m«qubit_2: ──────■───────┤ Ry(306.91) ├┤ Rz(199.94) ├────┤ X ├─────»\u001b[39m\u001b[38;5;130;01m\\n\u001b[39;00m\u001b[38;5;124m\"\u001b[39m,\n\u001b[0;32m    125\u001b[0m       \u001b[38;5;124m\"\u001b[39m\u001b[38;5;124m«             ┌─┴─┐     ├────────────┤├────────────┤    └───┘     »\u001b[39m\u001b[38;5;130;01m\\n\u001b[39;00m\u001b[38;5;124m\"\u001b[39m,\n\u001b[0;32m    126\u001b[0m       \u001b[38;5;124m\"\u001b[39m\u001b[38;5;124m«qubit_3: ────┤ X ├─────┤ Ry(359.08) ├┤ Rz(286.16) ├──────────────»\u001b[39m\u001b[38;5;130;01m\\n\u001b[39;00m\u001b[38;5;124m\"\u001b[39m,\n\u001b[0;32m    127\u001b[0m       \u001b[38;5;124m\"\u001b[39m\u001b[38;5;124m«             └───┘     └────────────┘└────────────┘              »\u001b[39m\u001b[38;5;130;01m\\n\u001b[39;00m\u001b[38;5;124m\"\u001b[39m,\n\u001b[0;32m    128\u001b[0m       \u001b[38;5;124m\"\u001b[39m\u001b[38;5;124m«         ┌────────────┐                            ┌────────────┐»\u001b[39m\u001b[38;5;130;01m\\n\u001b[39;00m\u001b[38;5;124m\"\u001b[39m,\n\u001b[0;32m    129\u001b[0m       \u001b[38;5;124m\"\u001b[39m\u001b[38;5;124m«qubit_0: ┤ Rz(134.67) ├────────────────────■───────┤ Ry(359.27) ├»\u001b[39m\u001b[38;5;130;01m\\n\u001b[39;00m\u001b[38;5;124m\"\u001b[39m,\n\u001b[0;32m    130\u001b[0m       \u001b[38;5;124m\"\u001b[39m\u001b[38;5;124m«         ├────────────┤┌────────────┐    ┌─┴─┐     └────────────┘»\u001b[39m\u001b[38;5;130;01m\\n\u001b[39;00m\u001b[38;5;124m\"\u001b[39m,\n\u001b[0;32m    131\u001b[0m       \u001b[38;5;124m\"\u001b[39m\u001b[38;5;124m«qubit_1: ┤ Ry(331.84) ├┤ Rz(103.23) ├────┤ X ├───────────■───────»\u001b[39m\u001b[38;5;130;01m\\n\u001b[39;00m\u001b[38;5;124m\"\u001b[39m,\n\u001b[0;32m    132\u001b[0m       \u001b[38;5;124m\"\u001b[39m\u001b[38;5;124m«         └────────────┘├────────────┤┌───┴───┴───┐     ┌─┴─┐     »\u001b[39m\u001b[38;5;130;01m\\n\u001b[39;00m\u001b[38;5;124m\"\u001b[39m,\n\u001b[0;32m    133\u001b[0m       \u001b[38;5;124m\"\u001b[39m\u001b[38;5;124m«qubit_2: ──────■───────┤ Ry(242.54) ├┤ Rz(118.2) ├─────┤ X ├─────»\u001b[39m\u001b[38;5;130;01m\\n\u001b[39;00m\u001b[38;5;124m\"\u001b[39m,\n\u001b[0;32m    134\u001b[0m       \u001b[38;5;124m\"\u001b[39m\u001b[38;5;124m«             ┌─┴─┐     ├────────────┤├───────────┴┐    └───┘     »\u001b[39m\u001b[38;5;130;01m\\n\u001b[39;00m\u001b[38;5;124m\"\u001b[39m,\n\u001b[0;32m    135\u001b[0m       \u001b[38;5;124m\"\u001b[39m\u001b[38;5;124m«qubit_3: ────┤ X ├─────┤ Ry(299.22) ├┤ Rz(151.72) ├──────────────»\u001b[39m\u001b[38;5;130;01m\\n\u001b[39;00m\u001b[38;5;124m\"\u001b[39m,\n\u001b[0;32m    136\u001b[0m       \u001b[38;5;124m\"\u001b[39m\u001b[38;5;124m«             └───┘     └────────────┘└────────────┘              »\u001b[39m\u001b[38;5;130;01m\\n\u001b[39;00m\u001b[38;5;124m\"\u001b[39m,\n\u001b[0;32m    137\u001b[0m       \u001b[38;5;124m\"\u001b[39m\u001b[38;5;124m«         ┌────────────┐                            \u001b[39m\u001b[38;5;130;01m\\n\u001b[39;00m\u001b[38;5;124m\"\u001b[39m,\n\u001b[0;32m    138\u001b[0m       \u001b[38;5;124m\"\u001b[39m\u001b[38;5;124m«qubit_0: ┤ Rz(31.456) ├────────────────────────────\u001b[39m\u001b[38;5;130;01m\\n\u001b[39;00m\u001b[38;5;124m\"\u001b[39m,\n\u001b[0;32m    139\u001b[0m       \u001b[38;5;124m\"\u001b[39m\u001b[38;5;124m«         ├────────────┤┌────────────┐              \u001b[39m\u001b[38;5;130;01m\\n\u001b[39;00m\u001b[38;5;124m\"\u001b[39m,\n\u001b[0;32m    140\u001b[0m       \u001b[38;5;124m\"\u001b[39m\u001b[38;5;124m«qubit_1: ┤ Ry(257.84) ├┤ Rz(21.426) ├──────────────\u001b[39m\u001b[38;5;130;01m\\n\u001b[39;00m\u001b[38;5;124m\"\u001b[39m,\n\u001b[0;32m    141\u001b[0m       \u001b[38;5;124m\"\u001b[39m\u001b[38;5;124m«         └────────────┘├────────────┤┌────────────┐\u001b[39m\u001b[38;5;130;01m\\n\u001b[39;00m\u001b[38;5;124m\"\u001b[39m,\n\u001b[0;32m    142\u001b[0m       \u001b[38;5;124m\"\u001b[39m\u001b[38;5;124m«qubit_2: ──────■───────┤ Ry(57.445) ├┤ Rz(165.55) ├\u001b[39m\u001b[38;5;130;01m\\n\u001b[39;00m\u001b[38;5;124m\"\u001b[39m,\n\u001b[0;32m    143\u001b[0m       \u001b[38;5;124m\"\u001b[39m\u001b[38;5;124m«             ┌─┴─┐     ├────────────┤├────────────┤\u001b[39m\u001b[38;5;130;01m\\n\u001b[39;00m\u001b[38;5;124m\"\u001b[39m,\n\u001b[0;32m    144\u001b[0m       \u001b[38;5;124m\"\u001b[39m\u001b[38;5;124m«qubit_3: ────┤ X ├─────┤ Ry(44.049) ├┤ Rz(163.29) ├\u001b[39m\u001b[38;5;130;01m\\n\u001b[39;00m\u001b[38;5;124m\"\u001b[39m,\n\u001b[0;32m    145\u001b[0m       \u001b[38;5;124m\"\u001b[39m\u001b[38;5;124m«             └───┘     └────────────┘└────────────┘\u001b[39m\u001b[38;5;130;01m\\n\u001b[39;00m\u001b[38;5;124m\"\u001b[39m\n\u001b[0;32m    146\u001b[0m      ]\n\u001b[0;32m    147\u001b[0m     }\n\u001b[0;32m    148\u001b[0m    ],\n\u001b[0;32m    149\u001b[0m    \u001b[38;5;124m\"\u001b[39m\u001b[38;5;124msource\u001b[39m\u001b[38;5;124m\"\u001b[39m: [\n\u001b[0;32m    150\u001b[0m     \u001b[38;5;124m\"\u001b[39m\u001b[38;5;124minitial_thetas = np.random.uniform(low=0, high=360, size=32)\u001b[39m\u001b[38;5;130;01m\\n\u001b[39;00m\u001b[38;5;124m\"\u001b[39m,\n\u001b[0;32m    151\u001b[0m     \u001b[38;5;124m\"\u001b[39m\u001b[38;5;124minitial_eigenvector = np.identity(16)[0]\u001b[39m\u001b[38;5;130;01m\\n\u001b[39;00m\u001b[38;5;124m\"\u001b[39m,\n\u001b[0;32m    152\u001b[0m     \u001b[38;5;124m\"\u001b[39m\u001b[38;5;124mprint(get_linear_entangelment_ansatz(4, initial_thetas, 3))\u001b[39m\u001b[38;5;124m\"\u001b[39m\n\u001b[0;32m    153\u001b[0m    ]\n\u001b[0;32m    154\u001b[0m   },\n\u001b[0;32m    155\u001b[0m   {\n\u001b[0;32m    156\u001b[0m    \u001b[38;5;124m\"\u001b[39m\u001b[38;5;124mcell_type\u001b[39m\u001b[38;5;124m\"\u001b[39m: \u001b[38;5;124m\"\u001b[39m\u001b[38;5;124mcode\u001b[39m\u001b[38;5;124m\"\u001b[39m,\n\u001b[0;32m    157\u001b[0m    \u001b[38;5;124m\"\u001b[39m\u001b[38;5;124mexecution_count\u001b[39m\u001b[38;5;124m\"\u001b[39m: \u001b[38;5;241m6\u001b[39m,\n\u001b[0;32m    158\u001b[0m    \u001b[38;5;124m\"\u001b[39m\u001b[38;5;124mid\u001b[39m\u001b[38;5;124m\"\u001b[39m: \u001b[38;5;124m\"\u001b[39m\u001b[38;5;124m0ae0050c\u001b[39m\u001b[38;5;124m\"\u001b[39m,\n\u001b[0;32m    159\u001b[0m    \u001b[38;5;124m\"\u001b[39m\u001b[38;5;124mmetadata\u001b[39m\u001b[38;5;124m\"\u001b[39m: {},\n\u001b[0;32m    160\u001b[0m    \u001b[38;5;124m\"\u001b[39m\u001b[38;5;124moutputs\u001b[39m\u001b[38;5;124m\"\u001b[39m: [\n\u001b[0;32m    161\u001b[0m     {\n\u001b[0;32m    162\u001b[0m      \u001b[38;5;124m\"\u001b[39m\u001b[38;5;124mname\u001b[39m\u001b[38;5;124m\"\u001b[39m: \u001b[38;5;124m\"\u001b[39m\u001b[38;5;124mstdout\u001b[39m\u001b[38;5;124m\"\u001b[39m,\n\u001b[0;32m    163\u001b[0m      \u001b[38;5;124m\"\u001b[39m\u001b[38;5;124moutput_type\u001b[39m\u001b[38;5;124m\"\u001b[39m: \u001b[38;5;124m\"\u001b[39m\u001b[38;5;124mstream\u001b[39m\u001b[38;5;124m\"\u001b[39m,\n\u001b[0;32m    164\u001b[0m      \u001b[38;5;124m\"\u001b[39m\u001b[38;5;124mtext\u001b[39m\u001b[38;5;124m\"\u001b[39m: [\n\u001b[0;32m    165\u001b[0m       \u001b[38;5;124m\"\u001b[39m\u001b[38;5;124m         ┌────────────────┐ ┌────────────┐ ┌────────────┐     ┌────────────┐»\u001b[39m\u001b[38;5;130;01m\\n\u001b[39;00m\u001b[38;5;124m\"\u001b[39m,\n\u001b[0;32m    166\u001b[0m       \u001b[38;5;124m\"\u001b[39m\u001b[38;5;124mqubit_0: ┤0               ├─┤ Ry(4.7365) ├─┤ Rz(2.6133) ├──■──┤ Ry(3.0644) ├»\u001b[39m\u001b[38;5;130;01m\\n\u001b[39;00m\u001b[38;5;124m\"\u001b[39m,\n\u001b[0;32m    167\u001b[0m       \u001b[38;5;124m\"\u001b[39m\u001b[38;5;124m         │                │┌┴────────────┤┌┴────────────┤┌─┴─┐└────────────┘»\u001b[39m\u001b[38;5;130;01m\\n\u001b[39;00m\u001b[38;5;124m\"\u001b[39m,\n\u001b[0;32m    168\u001b[0m       \u001b[38;5;124m\"\u001b[39m\u001b[38;5;124mqubit_1: ┤1 Initialize(3) ├┤ Ry(0.37922) ├┤ Rz(0.97179) ├┤ X ├──────■───────»\u001b[39m\u001b[38;5;130;01m\\n\u001b[39;00m\u001b[38;5;124m\"\u001b[39m,\n\u001b[0;32m    169\u001b[0m       \u001b[38;5;124m\"\u001b[39m\u001b[38;5;124m         │                │└┬────────────┤└┬────────────┤└───┘    ┌─┴─┐     »\u001b[39m\u001b[38;5;130;01m\\n\u001b[39;00m\u001b[38;5;124m\"\u001b[39m,\n\u001b[0;32m    170\u001b[0m       \u001b[38;5;124m\"\u001b[39m\u001b[38;5;124mqubit_2: ┤2               ├─┤ Ry(4.7539) ├─┤ Rz(2.6994) ├─────────┤ X ├─────»\u001b[39m\u001b[38;5;130;01m\\n\u001b[39;00m\u001b[38;5;124m\"\u001b[39m,\n\u001b[0;32m    171\u001b[0m       \u001b[38;5;124m\"\u001b[39m\u001b[38;5;124m         └────────────────┘ └────────────┘ └────────────┘         └───┘     »\u001b[39m\u001b[38;5;130;01m\\n\u001b[39;00m\u001b[38;5;124m\"\u001b[39m,\n\u001b[0;32m    172\u001b[0m       \u001b[38;5;124m\"\u001b[39m\u001b[38;5;124m«         ┌────────────┐                   ┌────────────┐┌────────────┐»\u001b[39m\u001b[38;5;130;01m\\n\u001b[39;00m\u001b[38;5;124m\"\u001b[39m,\n\u001b[0;32m    173\u001b[0m       \u001b[38;5;124m\"\u001b[39m\u001b[38;5;124m«qubit_0: ┤ Rz(5.7441) ├────────────────■──┤ Ry(4.0801) ├┤ Rz(3.0293) ├»\u001b[39m\u001b[38;5;130;01m\\n\u001b[39;00m\u001b[38;5;124m\"\u001b[39m,\n\u001b[0;32m    174\u001b[0m       \u001b[38;5;124m\"\u001b[39m\u001b[38;5;124m«         ├────────────┤┌────────────┐┌─┴─┐└────────────┘├────────────┤»\u001b[39m\u001b[38;5;130;01m\\n\u001b[39;00m\u001b[38;5;124m\"\u001b[39m,\n\u001b[0;32m    175\u001b[0m       \u001b[38;5;124m\"\u001b[39m\u001b[38;5;124m«qubit_1: ┤ Ry(4.2136) ├┤ Rz(3.5615) ├┤ X ├──────■───────┤ Ry(5.7047) ├»\u001b[39m\u001b[38;5;130;01m\\n\u001b[39;00m\u001b[38;5;124m\"\u001b[39m,\n\u001b[0;32m    176\u001b[0m       \u001b[38;5;124m\"\u001b[39m\u001b[38;5;124m«         ├────────────┤├────────────┤└───┘    ┌─┴─┐     ├────────────┤»\u001b[39m\u001b[38;5;130;01m\\n\u001b[39;00m\u001b[38;5;124m\"\u001b[39m,\n\u001b[0;32m    177\u001b[0m       \u001b[38;5;124m\"\u001b[39m\u001b[38;5;124m«qubit_2: ┤ Ry(3.9104) ├┤ Rz(5.2879) ├─────────┤ X ├─────┤ Ry(5.2453) ├»\u001b[39m\u001b[38;5;130;01m\\n\u001b[39;00m\u001b[38;5;124m\"\u001b[39m,\n\u001b[0;32m    178\u001b[0m       \u001b[38;5;124m\"\u001b[39m\u001b[38;5;124m«         └────────────┘└────────────┘         └───┘     └────────────┘»\u001b[39m\u001b[38;5;130;01m\\n\u001b[39;00m\u001b[38;5;124m\"\u001b[39m,\n\u001b[0;32m    179\u001b[0m       \u001b[38;5;124m\"\u001b[39m\u001b[38;5;124m«                            ┌─────────────┐┌─────────────┐              \u001b[39m\u001b[38;5;130;01m\\n\u001b[39;00m\u001b[38;5;124m\"\u001b[39m,\n\u001b[0;32m    180\u001b[0m       \u001b[38;5;124m\"\u001b[39m\u001b[38;5;124m«qubit_0: ────────────────■──┤ Ry(0.31981) ├┤ Rz(0.28885) ├──────────────\u001b[39m\u001b[38;5;130;01m\\n\u001b[39;00m\u001b[38;5;124m\"\u001b[39m,\n\u001b[0;32m    181\u001b[0m       \u001b[38;5;124m\"\u001b[39m\u001b[38;5;124m«         ┌────────────┐┌─┴─┐└─────────────┘└┬────────────┤┌────────────┐\u001b[39m\u001b[38;5;130;01m\\n\u001b[39;00m\u001b[38;5;124m\"\u001b[39m,\n\u001b[0;32m    182\u001b[0m       \u001b[38;5;124m\"\u001b[39m\u001b[38;5;124m«qubit_1: ┤ Rz(5.0546) ├┤ X ├───────■────────┤ Ry(0.5237) ├┤ Rz(4.2873) ├\u001b[39m\u001b[38;5;130;01m\\n\u001b[39;00m\u001b[38;5;124m\"\u001b[39m,\n\u001b[0;32m    183\u001b[0m       \u001b[38;5;124m\"\u001b[39m\u001b[38;5;124m«         ├────────────┤└───┘     ┌─┴─┐      ├────────────┤├────────────┤\u001b[39m\u001b[38;5;130;01m\\n\u001b[39;00m\u001b[38;5;124m\"\u001b[39m,\n\u001b[0;32m    184\u001b[0m       \u001b[38;5;124m\"\u001b[39m\u001b[38;5;124m«qubit_2: ┤ Rz(4.5824) ├──────────┤ X ├──────┤ Ry(1.8158) ├┤ Rz(1.9601) ├\u001b[39m\u001b[38;5;130;01m\\n\u001b[39;00m\u001b[38;5;124m\"\u001b[39m,\n\u001b[0;32m    185\u001b[0m       \u001b[38;5;124m\"\u001b[39m\u001b[38;5;124m«         └────────────┘          └───┘      └────────────┘└────────────┘\u001b[39m\u001b[38;5;130;01m\\n\u001b[39;00m\u001b[38;5;124m\"\u001b[39m\n\u001b[0;32m    186\u001b[0m      ]\n\u001b[0;32m    187\u001b[0m     }\n\u001b[0;32m    188\u001b[0m    ],\n\u001b[0;32m    189\u001b[0m    \u001b[38;5;124m\"\u001b[39m\u001b[38;5;124msource\u001b[39m\u001b[38;5;124m\"\u001b[39m: [\n\u001b[0;32m    190\u001b[0m     \u001b[38;5;124m\"\u001b[39m\u001b[38;5;124minitial_thetas = np.random.uniform(low=0, high=2*np.pi, size=24)\u001b[39m\u001b[38;5;130;01m\\n\u001b[39;00m\u001b[38;5;124m\"\u001b[39m,\n\u001b[0;32m    191\u001b[0m     \u001b[38;5;124m\"\u001b[39m\u001b[38;5;124minitial_eigenvector = np.identity(8)[0]\u001b[39m\u001b[38;5;130;01m\\n\u001b[39;00m\u001b[38;5;124m\"\u001b[39m,\n\u001b[0;32m    192\u001b[0m     \u001b[38;5;124m\"\u001b[39m\u001b[38;5;124mprint(get_linear_entangelment_ansatz(3, initial_thetas, 3))\u001b[39m\u001b[38;5;124m\"\u001b[39m\n\u001b[0;32m    193\u001b[0m    ]\n\u001b[0;32m    194\u001b[0m   },\n\u001b[0;32m    195\u001b[0m   {\n\u001b[0;32m    196\u001b[0m    \u001b[38;5;124m\"\u001b[39m\u001b[38;5;124mcell_type\u001b[39m\u001b[38;5;124m\"\u001b[39m: \u001b[38;5;124m\"\u001b[39m\u001b[38;5;124mcode\u001b[39m\u001b[38;5;124m\"\u001b[39m,\n\u001b[0;32m    197\u001b[0m    \u001b[38;5;124m\"\u001b[39m\u001b[38;5;124mexecution_count\u001b[39m\u001b[38;5;124m\"\u001b[39m: \u001b[38;5;241m7\u001b[39m,\n\u001b[0;32m    198\u001b[0m    \u001b[38;5;124m\"\u001b[39m\u001b[38;5;124mid\u001b[39m\u001b[38;5;124m\"\u001b[39m: \u001b[38;5;124m\"\u001b[39m\u001b[38;5;124mbbf16cfc\u001b[39m\u001b[38;5;124m\"\u001b[39m,\n\u001b[0;32m    199\u001b[0m    \u001b[38;5;124m\"\u001b[39m\u001b[38;5;124mmetadata\u001b[39m\u001b[38;5;124m\"\u001b[39m: {},\n\u001b[0;32m    200\u001b[0m    \u001b[38;5;124m\"\u001b[39m\u001b[38;5;124moutputs\u001b[39m\u001b[38;5;124m\"\u001b[39m: [\n\u001b[0;32m    201\u001b[0m     {\n\u001b[0;32m    202\u001b[0m      \u001b[38;5;124m\"\u001b[39m\u001b[38;5;124mname\u001b[39m\u001b[38;5;124m\"\u001b[39m: \u001b[38;5;124m\"\u001b[39m\u001b[38;5;124mstdout\u001b[39m\u001b[38;5;124m\"\u001b[39m,\n\u001b[0;32m    203\u001b[0m      \u001b[38;5;124m\"\u001b[39m\u001b[38;5;124moutput_type\u001b[39m\u001b[38;5;124m\"\u001b[39m: \u001b[38;5;124m\"\u001b[39m\u001b[38;5;124mstream\u001b[39m\u001b[38;5;124m\"\u001b[39m,\n\u001b[0;32m    204\u001b[0m      \u001b[38;5;124m\"\u001b[39m\u001b[38;5;124mtext\u001b[39m\u001b[38;5;124m\"\u001b[39m: [\n\u001b[0;32m    205\u001b[0m       \u001b[38;5;124m\"\u001b[39m\u001b[38;5;124m         ┌────────────────┐ ┌────────────┐┌────────────┐     ┌─────────────┐»\u001b[39m\u001b[38;5;130;01m\\n\u001b[39;00m\u001b[38;5;124m\"\u001b[39m,\n\u001b[0;32m    206\u001b[0m       \u001b[38;5;124m\"\u001b[39m\u001b[38;5;124mqubit_0: ┤0               ├─┤ Ry(3.2007) ├┤ Rz(6.2109) ├──■──┤ Ry(0.98935) ├»\u001b[39m\u001b[38;5;130;01m\\n\u001b[39;00m\u001b[38;5;124m\"\u001b[39m,\n\u001b[0;32m    207\u001b[0m       \u001b[38;5;124m\"\u001b[39m\u001b[38;5;124m         │  Initialize(3) │┌┴────────────┤├────────────┤┌─┴─┐└┬────────────┤»\u001b[39m\u001b[38;5;130;01m\\n\u001b[39;00m\u001b[38;5;124m\"\u001b[39m,\n\u001b[0;32m    208\u001b[0m       \u001b[38;5;124m\"\u001b[39m\u001b[38;5;124mqubit_1: ┤1               ├┤ Ry(0.47116) ├┤ Rz(1.4293) ├┤ X ├─┤ Ry(2.1767) ├»\u001b[39m\u001b[38;5;130;01m\\n\u001b[39;00m\u001b[38;5;124m\"\u001b[39m,\n\u001b[0;32m    209\u001b[0m       \u001b[38;5;124m\"\u001b[39m\u001b[38;5;124m         └────────────────┘└─────────────┘└────────────┘└───┘ └────────────┘»\u001b[39m\u001b[38;5;130;01m\\n\u001b[39;00m\u001b[38;5;124m\"\u001b[39m,\n\u001b[0;32m    210\u001b[0m       \u001b[38;5;124m\"\u001b[39m\u001b[38;5;124m«         ┌────────────┐     ┌────────────┐ ┌────────────┐     ┌────────────┐»\u001b[39m\u001b[38;5;130;01m\\n\u001b[39;00m\u001b[38;5;124m\"\u001b[39m,\n\u001b[0;32m    211\u001b[0m       \u001b[38;5;124m\"\u001b[39m\u001b[38;5;124m«qubit_0: ┤ Rz(2.3647) ├──■──┤ Ry(6.1192) ├─┤ Rz(4.7531) ├──■──┤ Ry(4.3212) ├»\u001b[39m\u001b[38;5;130;01m\\n\u001b[39;00m\u001b[38;5;124m\"\u001b[39m,\n\u001b[0;32m    212\u001b[0m       \u001b[38;5;124m\"\u001b[39m\u001b[38;5;124m«         ├────────────┤┌─┴─┐├────────────┤┌┴────────────┤┌─┴─┐├────────────┤»\u001b[39m\u001b[38;5;130;01m\\n\u001b[39;00m\u001b[38;5;124m\"\u001b[39m,\n\u001b[0;32m    213\u001b[0m       \u001b[38;5;124m\"\u001b[39m\u001b[38;5;124m«qubit_1: ┤ Rz(1.7455) ├┤ X ├┤ Ry(1.9402) ├┤ Rz(0.15783) ├┤ X ├┤ Ry(6.0535) ├»\u001b[39m\u001b[38;5;130;01m\\n\u001b[39;00m\u001b[38;5;124m\"\u001b[39m,\n\u001b[0;32m    214\u001b[0m       \u001b[38;5;124m\"\u001b[39m\u001b[38;5;124m«         └────────────┘└───┘└────────────┘└─────────────┘└───┘└────────────┘»\u001b[39m\u001b[38;5;130;01m\\n\u001b[39;00m\u001b[38;5;124m\"\u001b[39m,\n\u001b[0;32m    215\u001b[0m       \u001b[38;5;124m\"\u001b[39m\u001b[38;5;124m«          ┌────────────┐\u001b[39m\u001b[38;5;130;01m\\n\u001b[39;00m\u001b[38;5;124m\"\u001b[39m,\n\u001b[0;32m    216\u001b[0m       \u001b[38;5;124m\"\u001b[39m\u001b[38;5;124m«qubit_0: ─┤ Rz(1.6645) ├\u001b[39m\u001b[38;5;130;01m\\n\u001b[39;00m\u001b[38;5;124m\"\u001b[39m,\n\u001b[0;32m    217\u001b[0m       \u001b[38;5;124m\"\u001b[39m\u001b[38;5;124m«         ┌┴────────────┤\u001b[39m\u001b[38;5;130;01m\\n\u001b[39;00m\u001b[38;5;124m\"\u001b[39m,\n\u001b[0;32m    218\u001b[0m       \u001b[38;5;124m\"\u001b[39m\u001b[38;5;124m«qubit_1: ┤ Rz(0.42372) ├\u001b[39m\u001b[38;5;130;01m\\n\u001b[39;00m\u001b[38;5;124m\"\u001b[39m,\n\u001b[0;32m    219\u001b[0m       \u001b[38;5;124m\"\u001b[39m\u001b[38;5;124m«         └─────────────┘\u001b[39m\u001b[38;5;130;01m\\n\u001b[39;00m\u001b[38;5;124m\"\u001b[39m\n\u001b[0;32m    220\u001b[0m      ]\n\u001b[0;32m    221\u001b[0m     }\n\u001b[0;32m    222\u001b[0m    ],\n\u001b[0;32m    223\u001b[0m    \u001b[38;5;124m\"\u001b[39m\u001b[38;5;124msource\u001b[39m\u001b[38;5;124m\"\u001b[39m: [\n\u001b[0;32m    224\u001b[0m     \u001b[38;5;124m\"\u001b[39m\u001b[38;5;124minitial_thetas = np.random.uniform(low=0, high=2*np.pi, size=16)\u001b[39m\u001b[38;5;130;01m\\n\u001b[39;00m\u001b[38;5;124m\"\u001b[39m,\n\u001b[0;32m    225\u001b[0m     \u001b[38;5;124m\"\u001b[39m\u001b[38;5;124minitial_eigenvector = np.identity(4)[0]\u001b[39m\u001b[38;5;130;01m\\n\u001b[39;00m\u001b[38;5;124m\"\u001b[39m,\n\u001b[0;32m    226\u001b[0m     \u001b[38;5;124m\"\u001b[39m\u001b[38;5;124mprint(get_linear_entangelment_ansatz(2, initial_thetas, 3))\u001b[39m\u001b[38;5;124m\"\u001b[39m\n\u001b[0;32m    227\u001b[0m    ]\n\u001b[0;32m    228\u001b[0m   },\n\u001b[0;32m    229\u001b[0m   {\n\u001b[0;32m    230\u001b[0m    \u001b[38;5;124m\"\u001b[39m\u001b[38;5;124mcell_type\u001b[39m\u001b[38;5;124m\"\u001b[39m: \u001b[38;5;124m\"\u001b[39m\u001b[38;5;124mmarkdown\u001b[39m\u001b[38;5;124m\"\u001b[39m,\n\u001b[0;32m    231\u001b[0m    \u001b[38;5;124m\"\u001b[39m\u001b[38;5;124mid\u001b[39m\u001b[38;5;124m\"\u001b[39m: \u001b[38;5;124m\"\u001b[39m\u001b[38;5;124m4cea9905\u001b[39m\u001b[38;5;124m\"\u001b[39m,\n\u001b[0;32m    232\u001b[0m    \u001b[38;5;124m\"\u001b[39m\u001b[38;5;124mmetadata\u001b[39m\u001b[38;5;124m\"\u001b[39m: {},\n\u001b[0;32m    233\u001b[0m    \u001b[38;5;124m\"\u001b[39m\u001b[38;5;124msource\u001b[39m\u001b[38;5;124m\"\u001b[39m: [\n\u001b[0;32m    234\u001b[0m     \u001b[38;5;124m\"\u001b[39m\u001b[38;5;124m## Full entangelment ansatz\u001b[39m\u001b[38;5;124m\"\u001b[39m\n\u001b[0;32m    235\u001b[0m    ]\n\u001b[0;32m    236\u001b[0m   },\n\u001b[0;32m    237\u001b[0m   {\n\u001b[0;32m    238\u001b[0m    \u001b[38;5;124m\"\u001b[39m\u001b[38;5;124mcell_type\u001b[39m\u001b[38;5;124m\"\u001b[39m: \u001b[38;5;124m\"\u001b[39m\u001b[38;5;124mcode\u001b[39m\u001b[38;5;124m\"\u001b[39m,\n\u001b[0;32m    239\u001b[0m    \u001b[38;5;124m\"\u001b[39m\u001b[38;5;124mexecution_count\u001b[39m\u001b[38;5;124m\"\u001b[39m: \u001b[38;5;241m8\u001b[39m,\n\u001b[0;32m    240\u001b[0m    \u001b[38;5;124m\"\u001b[39m\u001b[38;5;124mid\u001b[39m\u001b[38;5;124m\"\u001b[39m: \u001b[38;5;124m\"\u001b[39m\u001b[38;5;124mf96a2f3b\u001b[39m\u001b[38;5;124m\"\u001b[39m,\n\u001b[0;32m    241\u001b[0m    \u001b[38;5;124m\"\u001b[39m\u001b[38;5;124mmetadata\u001b[39m\u001b[38;5;124m\"\u001b[39m: {},\n\u001b[0;32m    242\u001b[0m    \u001b[38;5;124m\"\u001b[39m\u001b[38;5;124moutputs\u001b[39m\u001b[38;5;124m\"\u001b[39m: [\n\u001b[0;32m    243\u001b[0m     {\n\u001b[0;32m    244\u001b[0m      \u001b[38;5;124m\"\u001b[39m\u001b[38;5;124mname\u001b[39m\u001b[38;5;124m\"\u001b[39m: \u001b[38;5;124m\"\u001b[39m\u001b[38;5;124mstdout\u001b[39m\u001b[38;5;124m\"\u001b[39m,\n\u001b[0;32m    245\u001b[0m      \u001b[38;5;124m\"\u001b[39m\u001b[38;5;124moutput_type\u001b[39m\u001b[38;5;124m\"\u001b[39m: \u001b[38;5;124m\"\u001b[39m\u001b[38;5;124mstream\u001b[39m\u001b[38;5;124m\"\u001b[39m,\n\u001b[0;32m    246\u001b[0m      \u001b[38;5;124m\"\u001b[39m\u001b[38;5;124mtext\u001b[39m\u001b[38;5;124m\"\u001b[39m: [\n\u001b[0;32m    247\u001b[0m       \u001b[38;5;124m\"\u001b[39m\u001b[38;5;124m         ┌────────────────┐ ┌────────────┐┌────────────┐               »\u001b[39m\u001b[38;5;130;01m\\n\u001b[39;00m\u001b[38;5;124m\"\u001b[39m,\n\u001b[0;32m    248\u001b[0m       \u001b[38;5;124m\"\u001b[39m\u001b[38;5;124mqubit_0: ┤0               ├─┤ Ry(4.7757) ├┤ Rz(5.5463) ├──■────■────■──»\u001b[39m\u001b[38;5;130;01m\\n\u001b[39;00m\u001b[38;5;124m\"\u001b[39m,\n\u001b[0;32m    249\u001b[0m       \u001b[38;5;124m\"\u001b[39m\u001b[38;5;124m         │                │ ├────────────┤├────────────┤┌─┴─┐  │    │  »\u001b[39m\u001b[38;5;130;01m\\n\u001b[39;00m\u001b[38;5;124m\"\u001b[39m,\n\u001b[0;32m    250\u001b[0m       \u001b[38;5;124m\"\u001b[39m\u001b[38;5;124mqubit_1: ┤1               ├─┤ Ry(4.8503) ├┤ Rz(0.7906) ├┤ X ├──┼────┼──»\u001b[39m\u001b[38;5;130;01m\\n\u001b[39;00m\u001b[38;5;124m\"\u001b[39m,\n\u001b[0;32m    251\u001b[0m       \u001b[38;5;124m\"\u001b[39m\u001b[38;5;124m         │  Initialize(3) │┌┴────────────┤├───────────┬┘└───┘┌─┴─┐  │  »\u001b[39m\u001b[38;5;130;01m\\n\u001b[39;00m\u001b[38;5;124m\"\u001b[39m,\n\u001b[0;32m    252\u001b[0m       \u001b[38;5;124m\"\u001b[39m\u001b[38;5;124mqubit_2: ┤2               ├┤ Ry(0.96564) ├┤ Rz(1.683) ├──────┤ X ├──┼──»\u001b[39m\u001b[38;5;130;01m\\n\u001b[39;00m\u001b[38;5;124m\"\u001b[39m,\n\u001b[0;32m    253\u001b[0m       \u001b[38;5;124m\"\u001b[39m\u001b[38;5;124m         │                │└┬────────────┤├───────────┤      └───┘┌─┴─┐»\u001b[39m\u001b[38;5;130;01m\\n\u001b[39;00m\u001b[38;5;124m\"\u001b[39m,\n\u001b[0;32m    254\u001b[0m       \u001b[38;5;124m\"\u001b[39m\u001b[38;5;124mqubit_3: ┤3               ├─┤ Ry(1.5927) ├┤ Rz(1.551) ├───────────┤ X ├»\u001b[39m\u001b[38;5;130;01m\\n\u001b[39;00m\u001b[38;5;124m\"\u001b[39m,\n\u001b[0;32m    255\u001b[0m       \u001b[38;5;124m\"\u001b[39m\u001b[38;5;124m         └────────────────┘ └────────────┘└───────────┘           └───┘»\u001b[39m\u001b[38;5;130;01m\\n\u001b[39;00m\u001b[38;5;124m\"\u001b[39m,\n\u001b[0;32m    256\u001b[0m       \u001b[38;5;124m\"\u001b[39m\u001b[38;5;124m«         ┌────────────┐┌─────────────┐                             »\u001b[39m\u001b[38;5;130;01m\\n\u001b[39;00m\u001b[38;5;124m\"\u001b[39m,\n\u001b[0;32m    257\u001b[0m       \u001b[38;5;124m\"\u001b[39m\u001b[38;5;124m«qubit_0: ┤ Ry(2.6514) ├┤ Rz(0.86981) ├─────────────────────────────»\u001b[39m\u001b[38;5;130;01m\\n\u001b[39;00m\u001b[38;5;124m\"\u001b[39m,\n\u001b[0;32m    258\u001b[0m       \u001b[38;5;124m\"\u001b[39m\u001b[38;5;124m«         └────────────┘└─────────────┘┌────────────┐┌─────────────┐»\u001b[39m\u001b[38;5;130;01m\\n\u001b[39;00m\u001b[38;5;124m\"\u001b[39m,\n\u001b[0;32m    259\u001b[0m       \u001b[38;5;124m\"\u001b[39m\u001b[38;5;124m«qubit_1: ──────■──────────────■───────┤ Ry(5.7825) ├┤ Rz(0.87181) ├»\u001b[39m\u001b[38;5;130;01m\\n\u001b[39;00m\u001b[38;5;124m\"\u001b[39m,\n\u001b[0;32m    260\u001b[0m       \u001b[38;5;124m\"\u001b[39m\u001b[38;5;124m«             ┌─┴─┐            │       └────────────┘└┬────────────┤»\u001b[39m\u001b[38;5;130;01m\\n\u001b[39;00m\u001b[38;5;124m\"\u001b[39m,\n\u001b[0;32m    261\u001b[0m       \u001b[38;5;124m\"\u001b[39m\u001b[38;5;124m«qubit_2: ────┤ X ├────────────┼─────────────■────────┤ Ry(3.1491) ├»\u001b[39m\u001b[38;5;130;01m\\n\u001b[39;00m\u001b[38;5;124m\"\u001b[39m,\n\u001b[0;32m    262\u001b[0m       \u001b[38;5;124m\"\u001b[39m\u001b[38;5;124m«             └───┘          ┌─┴─┐         ┌─┴─┐      ├────────────┤»\u001b[39m\u001b[38;5;130;01m\\n\u001b[39;00m\u001b[38;5;124m\"\u001b[39m,\n\u001b[0;32m    263\u001b[0m       \u001b[38;5;124m\"\u001b[39m\u001b[38;5;124m«qubit_3: ───────────────────┤ X ├─────────┤ X ├──────┤ Ry(5.7398) ├»\u001b[39m\u001b[38;5;130;01m\\n\u001b[39;00m\u001b[38;5;124m\"\u001b[39m,\n\u001b[0;32m    264\u001b[0m       \u001b[38;5;124m\"\u001b[39m\u001b[38;5;124m«                            └───┘         └───┘      └────────────┘»\u001b[39m\u001b[38;5;130;01m\\n\u001b[39;00m\u001b[38;5;124m\"\u001b[39m,\n\u001b[0;32m    265\u001b[0m       \u001b[38;5;124m\"\u001b[39m\u001b[38;5;124m«                                  ┌────────────┐┌────────────┐              »\u001b[39m\u001b[38;5;130;01m\\n\u001b[39;00m\u001b[38;5;124m\"\u001b[39m,\n\u001b[0;32m    266\u001b[0m       \u001b[38;5;124m\"\u001b[39m\u001b[38;5;124m«qubit_0: ───────■─────────■────■──┤ Ry(5.2526) ├┤ Rz(2.0469) ├──────────────»\u001b[39m\u001b[38;5;130;01m\\n\u001b[39;00m\u001b[38;5;124m\"\u001b[39m,\n\u001b[0;32m    267\u001b[0m       \u001b[38;5;124m\"\u001b[39m\u001b[38;5;124m«              ┌─┴─┐       │    │  └────────────┘└────────────┘┌────────────┐»\u001b[39m\u001b[38;5;130;01m\\n\u001b[39;00m\u001b[38;5;124m\"\u001b[39m,\n\u001b[0;32m    268\u001b[0m       \u001b[38;5;124m\"\u001b[39m\u001b[38;5;124m«qubit_1: ─────┤ X ├───────┼────┼────────■─────────────■───────┤ Ry(6.2046) ├»\u001b[39m\u001b[38;5;130;01m\\n\u001b[39;00m\u001b[38;5;124m\"\u001b[39m,\n\u001b[0;32m    269\u001b[0m       \u001b[38;5;124m\"\u001b[39m\u001b[38;5;124m«         ┌────┴───┴────┐┌─┴─┐  │      ┌─┴─┐           │       └────────────┘»\u001b[39m\u001b[38;5;130;01m\\n\u001b[39;00m\u001b[38;5;124m\"\u001b[39m,\n\u001b[0;32m    270\u001b[0m       \u001b[38;5;124m\"\u001b[39m\u001b[38;5;124m«qubit_2: ┤ Rz(0.63857) ├┤ X ├──┼──────┤ X ├───────────┼─────────────■───────»\u001b[39m\u001b[38;5;130;01m\\n\u001b[39;00m\u001b[38;5;124m\"\u001b[39m,\n\u001b[0;32m    271\u001b[0m       \u001b[38;5;124m\"\u001b[39m\u001b[38;5;124m«         └┬────────────┤└───┘┌─┴─┐    └───┘         ┌─┴─┐         ┌─┴─┐     »\u001b[39m\u001b[38;5;130;01m\\n\u001b[39;00m\u001b[38;5;124m\"\u001b[39m,\n\u001b[0;32m    272\u001b[0m       \u001b[38;5;124m\"\u001b[39m\u001b[38;5;124m«qubit_3: ─┤ Rz(3.2903) ├─────┤ X ├──────────────────┤ X ├─────────┤ X ├─────»\u001b[39m\u001b[38;5;130;01m\\n\u001b[39;00m\u001b[38;5;124m\"\u001b[39m,\n\u001b[0;32m    273\u001b[0m       \u001b[38;5;124m\"\u001b[39m\u001b[38;5;124m«          └────────────┘     └───┘                  └───┘         └───┘     »\u001b[39m\u001b[38;5;130;01m\\n\u001b[39;00m\u001b[38;5;124m\"\u001b[39m,\n\u001b[0;32m    274\u001b[0m       \u001b[38;5;124m\"\u001b[39m\u001b[38;5;124m«                                                ┌───────────┐┌────────────┐»\u001b[39m\u001b[38;5;130;01m\\n\u001b[39;00m\u001b[38;5;124m\"\u001b[39m,\n\u001b[0;32m    275\u001b[0m       \u001b[38;5;124m\"\u001b[39m\u001b[38;5;124m«qubit_0: ─────────────────────■─────────■────■──┤ Ry(2.638) ├┤ Rz(4.1107) ├»\u001b[39m\u001b[38;5;130;01m\\n\u001b[39;00m\u001b[38;5;124m\"\u001b[39m,\n\u001b[0;32m    276\u001b[0m       \u001b[38;5;124m\"\u001b[39m\u001b[38;5;124m«         ┌─────────────┐    ┌─┴─┐       │    │  └───────────┘└────────────┘»\u001b[39m\u001b[38;5;130;01m\\n\u001b[39;00m\u001b[38;5;124m\"\u001b[39m,\n\u001b[0;32m    277\u001b[0m       \u001b[38;5;124m\"\u001b[39m\u001b[38;5;124m«qubit_1: ┤ Rz(0.36205) ├────┤ X ├───────┼────┼────────■────────────■───────»\u001b[39m\u001b[38;5;130;01m\\n\u001b[39;00m\u001b[38;5;124m\"\u001b[39m,\n\u001b[0;32m    278\u001b[0m       \u001b[38;5;124m\"\u001b[39m\u001b[38;5;124m«         └┬────────────┤┌───┴───┴────┐┌─┴─┐  │      ┌─┴─┐          │       »\u001b[39m\u001b[38;5;130;01m\\n\u001b[39;00m\u001b[38;5;124m\"\u001b[39m,\n\u001b[0;32m    279\u001b[0m       \u001b[38;5;124m\"\u001b[39m\u001b[38;5;124m«qubit_2: ─┤ Ry(1.4789) ├┤ Rz(3.4335) ├┤ X ├──┼──────┤ X ├──────────┼───────»\u001b[39m\u001b[38;5;130;01m\\n\u001b[39;00m\u001b[38;5;124m\"\u001b[39m,\n\u001b[0;32m    280\u001b[0m       \u001b[38;5;124m\"\u001b[39m\u001b[38;5;124m«          ├────────────┤├────────────┤└───┘┌─┴─┐    └───┘        ┌─┴─┐     »\u001b[39m\u001b[38;5;130;01m\\n\u001b[39;00m\u001b[38;5;124m\"\u001b[39m,\n\u001b[0;32m    281\u001b[0m       \u001b[38;5;124m\"\u001b[39m\u001b[38;5;124m«qubit_3: ─┤ Ry(1.4685) ├┤ Rz(2.3717) ├─────┤ X ├─────────────────┤ X ├─────»\u001b[39m\u001b[38;5;130;01m\\n\u001b[39;00m\u001b[38;5;124m\"\u001b[39m,\n\u001b[0;32m    282\u001b[0m       \u001b[38;5;124m\"\u001b[39m\u001b[38;5;124m«          └────────────┘└────────────┘     └───┘                 └───┘     »\u001b[39m\u001b[38;5;130;01m\\n\u001b[39;00m\u001b[38;5;124m\"\u001b[39m,\n\u001b[0;32m    283\u001b[0m       \u001b[38;5;124m\"\u001b[39m\u001b[38;5;124m«                                                   \u001b[39m\u001b[38;5;130;01m\\n\u001b[39;00m\u001b[38;5;124m\"\u001b[39m,\n\u001b[0;32m    284\u001b[0m       \u001b[38;5;124m\"\u001b[39m\u001b[38;5;124m«qubit_0: ──────────────────────────────────────────\u001b[39m\u001b[38;5;130;01m\\n\u001b[39;00m\u001b[38;5;124m\"\u001b[39m,\n\u001b[0;32m    285\u001b[0m       \u001b[38;5;124m\"\u001b[39m\u001b[38;5;124m«         ┌────────────┐┌────────────┐              \u001b[39m\u001b[38;5;130;01m\\n\u001b[39;00m\u001b[38;5;124m\"\u001b[39m,\n\u001b[0;32m    286\u001b[0m       \u001b[38;5;124m\"\u001b[39m\u001b[38;5;124m«qubit_1: ┤ Ry(2.1445) ├┤ Rz(5.2287) ├──────────────\u001b[39m\u001b[38;5;130;01m\\n\u001b[39;00m\u001b[38;5;124m\"\u001b[39m,\n\u001b[0;32m    287\u001b[0m       \u001b[38;5;124m\"\u001b[39m\u001b[38;5;124m«         └────────────┘├────────────┤┌────────────┐\u001b[39m\u001b[38;5;130;01m\\n\u001b[39;00m\u001b[38;5;124m\"\u001b[39m,\n\u001b[0;32m    288\u001b[0m       \u001b[38;5;124m\"\u001b[39m\u001b[38;5;124m«qubit_2: ──────■───────┤ Ry(5.4448) ├┤ Rz(3.7511) ├\u001b[39m\u001b[38;5;130;01m\\n\u001b[39;00m\u001b[38;5;124m\"\u001b[39m,\n\u001b[0;32m    289\u001b[0m       \u001b[38;5;124m\"\u001b[39m\u001b[38;5;124m«             ┌─┴─┐     ├───────────┬┘├────────────┤\u001b[39m\u001b[38;5;130;01m\\n\u001b[39;00m\u001b[38;5;124m\"\u001b[39m,\n\u001b[0;32m    290\u001b[0m       \u001b[38;5;124m\"\u001b[39m\u001b[38;5;124m«qubit_3: ────┤ X ├─────┤ Ry(5.207) ├─┤ Rz(2.9452) ├\u001b[39m\u001b[38;5;130;01m\\n\u001b[39;00m\u001b[38;5;124m\"\u001b[39m,\n\u001b[0;32m    291\u001b[0m       \u001b[38;5;124m\"\u001b[39m\u001b[38;5;124m«             └───┘     └───────────┘ └────────────┘\u001b[39m\u001b[38;5;130;01m\\n\u001b[39;00m\u001b[38;5;124m\"\u001b[39m\n\u001b[0;32m    292\u001b[0m      ]\n\u001b[0;32m    293\u001b[0m     }\n\u001b[0;32m    294\u001b[0m    ],\n\u001b[0;32m    295\u001b[0m    \u001b[38;5;124m\"\u001b[39m\u001b[38;5;124msource\u001b[39m\u001b[38;5;124m\"\u001b[39m: [\n\u001b[0;32m    296\u001b[0m     \u001b[38;5;124m\"\u001b[39m\u001b[38;5;124minitial_thetas = np.random.uniform(low=0, high=2*np.pi, size=32)\u001b[39m\u001b[38;5;130;01m\\n\u001b[39;00m\u001b[38;5;124m\"\u001b[39m,\n\u001b[0;32m    297\u001b[0m     \u001b[38;5;124m\"\u001b[39m\u001b[38;5;124minitial_eigenvector = np.identity(16)[0]\u001b[39m\u001b[38;5;130;01m\\n\u001b[39;00m\u001b[38;5;124m\"\u001b[39m,\n\u001b[0;32m    298\u001b[0m     \u001b[38;5;124m\"\u001b[39m\u001b[38;5;124mprint(get_full_entangelment_ansatz(4, initial_thetas, 3))\u001b[39m\u001b[38;5;124m\"\u001b[39m\n\u001b[0;32m    299\u001b[0m    ]\n\u001b[0;32m    300\u001b[0m   },\n\u001b[0;32m    301\u001b[0m   {\n\u001b[0;32m    302\u001b[0m    \u001b[38;5;124m\"\u001b[39m\u001b[38;5;124mcell_type\u001b[39m\u001b[38;5;124m\"\u001b[39m: \u001b[38;5;124m\"\u001b[39m\u001b[38;5;124mcode\u001b[39m\u001b[38;5;124m\"\u001b[39m,\n\u001b[0;32m    303\u001b[0m    \u001b[38;5;124m\"\u001b[39m\u001b[38;5;124mexecution_count\u001b[39m\u001b[38;5;124m\"\u001b[39m: \u001b[38;5;241m9\u001b[39m,\n\u001b[0;32m    304\u001b[0m    \u001b[38;5;124m\"\u001b[39m\u001b[38;5;124mid\u001b[39m\u001b[38;5;124m\"\u001b[39m: \u001b[38;5;124m\"\u001b[39m\u001b[38;5;124m846a93ea\u001b[39m\u001b[38;5;124m\"\u001b[39m,\n\u001b[0;32m    305\u001b[0m    \u001b[38;5;124m\"\u001b[39m\u001b[38;5;124mmetadata\u001b[39m\u001b[38;5;124m\"\u001b[39m: {},\n\u001b[0;32m    306\u001b[0m    \u001b[38;5;124m\"\u001b[39m\u001b[38;5;124moutputs\u001b[39m\u001b[38;5;124m\"\u001b[39m: [\n\u001b[0;32m    307\u001b[0m     {\n\u001b[0;32m    308\u001b[0m      \u001b[38;5;124m\"\u001b[39m\u001b[38;5;124mname\u001b[39m\u001b[38;5;124m\"\u001b[39m: \u001b[38;5;124m\"\u001b[39m\u001b[38;5;124mstdout\u001b[39m\u001b[38;5;124m\"\u001b[39m,\n\u001b[0;32m    309\u001b[0m      \u001b[38;5;124m\"\u001b[39m\u001b[38;5;124moutput_type\u001b[39m\u001b[38;5;124m\"\u001b[39m: \u001b[38;5;124m\"\u001b[39m\u001b[38;5;124mstream\u001b[39m\u001b[38;5;124m\"\u001b[39m,\n\u001b[0;32m    310\u001b[0m      \u001b[38;5;124m\"\u001b[39m\u001b[38;5;124mtext\u001b[39m\u001b[38;5;124m\"\u001b[39m: [\n\u001b[0;32m    311\u001b[0m       \u001b[38;5;124m\"\u001b[39m\u001b[38;5;124m         ┌────────────────┐┌─────────────┐┌────────────┐          »\u001b[39m\u001b[38;5;130;01m\\n\u001b[39;00m\u001b[38;5;124m\"\u001b[39m,\n\u001b[0;32m    312\u001b[0m       \u001b[38;5;124m\"\u001b[39m\u001b[38;5;124mqubit_0: ┤0               ├┤ Ry(0.38159) ├┤ Rz(0.2804) ├──■────■──»\u001b[39m\u001b[38;5;130;01m\\n\u001b[39;00m\u001b[38;5;124m\"\u001b[39m,\n\u001b[0;32m    313\u001b[0m       \u001b[38;5;124m\"\u001b[39m\u001b[38;5;124m         │                │└┬────────────┤├────────────┤┌─┴─┐  │  »\u001b[39m\u001b[38;5;130;01m\\n\u001b[39;00m\u001b[38;5;124m\"\u001b[39m,\n\u001b[0;32m    314\u001b[0m       \u001b[38;5;124m\"\u001b[39m\u001b[38;5;124mqubit_1: ┤1 Initialize(3) ├─┤ Ry(3.8785) ├┤ Rz(5.0571) ├┤ X ├──┼──»\u001b[39m\u001b[38;5;130;01m\\n\u001b[39;00m\u001b[38;5;124m\"\u001b[39m,\n\u001b[0;32m    315\u001b[0m       \u001b[38;5;124m\"\u001b[39m\u001b[38;5;124m         │                │ ├───────────┬┘├────────────┤└───┘┌─┴─┐»\u001b[39m\u001b[38;5;130;01m\\n\u001b[39;00m\u001b[38;5;124m\"\u001b[39m,\n\u001b[0;32m    316\u001b[0m       \u001b[38;5;124m\"\u001b[39m\u001b[38;5;124mqubit_2: ┤2               ├─┤ Ry(3.393) ├─┤ Rz(3.5364) ├─────┤ X ├»\u001b[39m\u001b[38;5;130;01m\\n\u001b[39;00m\u001b[38;5;124m\"\u001b[39m,\n\u001b[0;32m    317\u001b[0m       \u001b[38;5;124m\"\u001b[39m\u001b[38;5;124m         └────────────────┘ └───────────┘ └────────────┘     └───┘»\u001b[39m\u001b[38;5;130;01m\\n\u001b[39;00m\u001b[38;5;124m\"\u001b[39m,\n\u001b[0;32m    318\u001b[0m       \u001b[38;5;124m\"\u001b[39m\u001b[38;5;124m«         ┌────────────┐ ┌────────────┐                         ┌────────────┐»\u001b[39m\u001b[38;5;130;01m\\n\u001b[39;00m\u001b[38;5;124m\"\u001b[39m,\n\u001b[0;32m    319\u001b[0m       \u001b[38;5;124m\"\u001b[39m\u001b[38;5;124m«qubit_0: ┤ Ry(1.5353) ├─┤ Rz(5.5166) ├─────────────────■────■──┤ Ry(1.2206) ├»\u001b[39m\u001b[38;5;130;01m\\n\u001b[39;00m\u001b[38;5;124m\"\u001b[39m,\n\u001b[0;32m    320\u001b[0m       \u001b[38;5;124m\"\u001b[39m\u001b[38;5;124m«         └────────────┘┌┴────────────┤┌─────────────┐┌─┴─┐  │  └────────────┘»\u001b[39m\u001b[38;5;130;01m\\n\u001b[39;00m\u001b[38;5;124m\"\u001b[39m,\n\u001b[0;32m    321\u001b[0m       \u001b[38;5;124m\"\u001b[39m\u001b[38;5;124m«qubit_1: ──────■───────┤ Ry(0.78391) ├┤ Rz(0.71301) ├┤ X ├──┼────────■───────»\u001b[39m\u001b[38;5;130;01m\\n\u001b[39;00m\u001b[38;5;124m\"\u001b[39m,\n\u001b[0;32m    322\u001b[0m       \u001b[38;5;124m\"\u001b[39m\u001b[38;5;124m«             ┌─┴─┐     └┬───────────┬┘├─────────────┤└───┘┌─┴─┐    ┌─┴─┐     »\u001b[39m\u001b[38;5;130;01m\\n\u001b[39;00m\u001b[38;5;124m\"\u001b[39m,\n\u001b[0;32m    323\u001b[0m       \u001b[38;5;124m\"\u001b[39m\u001b[38;5;124m«qubit_2: ────┤ X ├──────┤ Ry(4.806) ├─┤ Rz(0.48249) ├─────┤ X ├────┤ X ├─────»\u001b[39m\u001b[38;5;130;01m\\n\u001b[39;00m\u001b[38;5;124m\"\u001b[39m,\n\u001b[0;32m    324\u001b[0m       \u001b[38;5;124m\"\u001b[39m\u001b[38;5;124m«             └───┘      └───────────┘ └─────────────┘     └───┘    └───┘     »\u001b[39m\u001b[38;5;130;01m\\n\u001b[39;00m\u001b[38;5;124m\"\u001b[39m,\n\u001b[0;32m    325\u001b[0m       \u001b[38;5;124m\"\u001b[39m\u001b[38;5;124m«          ┌────────────┐                         ┌────────────┐┌────────────┐»\u001b[39m\u001b[38;5;130;01m\\n\u001b[39;00m\u001b[38;5;124m\"\u001b[39m,\n\u001b[0;32m    326\u001b[0m       \u001b[38;5;124m\"\u001b[39m\u001b[38;5;124m«qubit_0: ─┤ Rz(2.3495) ├─────────────────■────■──┤ Ry(3.0384) ├┤ Rz(5.3841) ├»\u001b[39m\u001b[38;5;130;01m\\n\u001b[39;00m\u001b[38;5;124m\"\u001b[39m,\n\u001b[0;32m    327\u001b[0m       \u001b[38;5;124m\"\u001b[39m\u001b[38;5;124m«         ┌┴────────────┤┌─────────────┐┌─┴─┐  │  └────────────┘├────────────┤»\u001b[39m\u001b[38;5;130;01m\\n\u001b[39;00m\u001b[38;5;124m\"\u001b[39m,\n\u001b[0;32m    328\u001b[0m       \u001b[38;5;124m\"\u001b[39m\u001b[38;5;124m«qubit_1: ┤ Ry(0.22274) ├┤ Rz(0.61315) ├┤ X ├──┼────────■───────┤ Ry(2.7676) ├»\u001b[39m\u001b[38;5;130;01m\\n\u001b[39;00m\u001b[38;5;124m\"\u001b[39m,\n\u001b[0;32m    329\u001b[0m       \u001b[38;5;124m\"\u001b[39m\u001b[38;5;124m«         └┬────────────┤└┬────────────┤└───┘┌─┴─┐    ┌─┴─┐     ├────────────┤»\u001b[39m\u001b[38;5;130;01m\\n\u001b[39;00m\u001b[38;5;124m\"\u001b[39m,\n\u001b[0;32m    330\u001b[0m       \u001b[38;5;124m\"\u001b[39m\u001b[38;5;124m«qubit_2: ─┤ Ry(4.3132) ├─┤ Rz(1.4372) ├─────┤ X ├────┤ X ├─────┤ Ry(3.7898) ├»\u001b[39m\u001b[38;5;130;01m\\n\u001b[39;00m\u001b[38;5;124m\"\u001b[39m,\n\u001b[0;32m    331\u001b[0m       \u001b[38;5;124m\"\u001b[39m\u001b[38;5;124m«          └────────────┘ └────────────┘     └───┘    └───┘     └────────────┘»\u001b[39m\u001b[38;5;130;01m\\n\u001b[39;00m\u001b[38;5;124m\"\u001b[39m,\n\u001b[0;32m    332\u001b[0m       \u001b[38;5;124m\"\u001b[39m\u001b[38;5;124m«                       \u001b[39m\u001b[38;5;130;01m\\n\u001b[39;00m\u001b[38;5;124m\"\u001b[39m,\n\u001b[0;32m    333\u001b[0m       \u001b[38;5;124m\"\u001b[39m\u001b[38;5;124m«qubit_0: ──────────────\u001b[39m\u001b[38;5;130;01m\\n\u001b[39;00m\u001b[38;5;124m\"\u001b[39m,\n\u001b[0;32m    334\u001b[0m       \u001b[38;5;124m\"\u001b[39m\u001b[38;5;124m«         ┌────────────┐\u001b[39m\u001b[38;5;130;01m\\n\u001b[39;00m\u001b[38;5;124m\"\u001b[39m,\n\u001b[0;32m    335\u001b[0m       \u001b[38;5;124m\"\u001b[39m\u001b[38;5;124m«qubit_1: ┤ Rz(5.3751) ├\u001b[39m\u001b[38;5;130;01m\\n\u001b[39;00m\u001b[38;5;124m\"\u001b[39m,\n\u001b[0;32m    336\u001b[0m       \u001b[38;5;124m\"\u001b[39m\u001b[38;5;124m«         ├────────────┤\u001b[39m\u001b[38;5;130;01m\\n\u001b[39;00m\u001b[38;5;124m\"\u001b[39m,\n\u001b[0;32m    337\u001b[0m       \u001b[38;5;124m\"\u001b[39m\u001b[38;5;124m«qubit_2: ┤ Rz(5.4746) ├\u001b[39m\u001b[38;5;130;01m\\n\u001b[39;00m\u001b[38;5;124m\"\u001b[39m,\n\u001b[0;32m    338\u001b[0m       \u001b[38;5;124m\"\u001b[39m\u001b[38;5;124m«         └────────────┘\u001b[39m\u001b[38;5;130;01m\\n\u001b[39;00m\u001b[38;5;124m\"\u001b[39m\n\u001b[0;32m    339\u001b[0m      ]\n\u001b[0;32m    340\u001b[0m     }\n\u001b[0;32m    341\u001b[0m    ],\n\u001b[0;32m    342\u001b[0m    \u001b[38;5;124m\"\u001b[39m\u001b[38;5;124msource\u001b[39m\u001b[38;5;124m\"\u001b[39m: [\n\u001b[0;32m    343\u001b[0m     \u001b[38;5;124m\"\u001b[39m\u001b[38;5;124minitial_thetas = np.random.uniform(low=0, high=2*np.pi, size=24)\u001b[39m\u001b[38;5;130;01m\\n\u001b[39;00m\u001b[38;5;124m\"\u001b[39m,\n\u001b[0;32m    344\u001b[0m     \u001b[38;5;124m\"\u001b[39m\u001b[38;5;124minitial_eigenvector = np.identity(8)[0]\u001b[39m\u001b[38;5;130;01m\\n\u001b[39;00m\u001b[38;5;124m\"\u001b[39m,\n\u001b[0;32m    345\u001b[0m     \u001b[38;5;124m\"\u001b[39m\u001b[38;5;124mprint(get_full_entangelment_ansatz(3, initial_thetas, 3))\u001b[39m\u001b[38;5;124m\"\u001b[39m\n\u001b[0;32m    346\u001b[0m    ]\n\u001b[0;32m    347\u001b[0m   },\n\u001b[0;32m    348\u001b[0m   {\n\u001b[0;32m    349\u001b[0m    \u001b[38;5;124m\"\u001b[39m\u001b[38;5;124mcell_type\u001b[39m\u001b[38;5;124m\"\u001b[39m: \u001b[38;5;124m\"\u001b[39m\u001b[38;5;124mcode\u001b[39m\u001b[38;5;124m\"\u001b[39m,\n\u001b[0;32m    350\u001b[0m    \u001b[38;5;124m\"\u001b[39m\u001b[38;5;124mexecution_count\u001b[39m\u001b[38;5;124m\"\u001b[39m: \u001b[38;5;241m10\u001b[39m,\n\u001b[0;32m    351\u001b[0m    \u001b[38;5;124m\"\u001b[39m\u001b[38;5;124mid\u001b[39m\u001b[38;5;124m\"\u001b[39m: \u001b[38;5;124m\"\u001b[39m\u001b[38;5;124m0defef4c\u001b[39m\u001b[38;5;124m\"\u001b[39m,\n\u001b[0;32m    352\u001b[0m    \u001b[38;5;124m\"\u001b[39m\u001b[38;5;124mmetadata\u001b[39m\u001b[38;5;124m\"\u001b[39m: {},\n\u001b[0;32m    353\u001b[0m    \u001b[38;5;124m\"\u001b[39m\u001b[38;5;124moutputs\u001b[39m\u001b[38;5;124m\"\u001b[39m: [\n\u001b[0;32m    354\u001b[0m     {\n\u001b[0;32m    355\u001b[0m      \u001b[38;5;124m\"\u001b[39m\u001b[38;5;124mname\u001b[39m\u001b[38;5;124m\"\u001b[39m: \u001b[38;5;124m\"\u001b[39m\u001b[38;5;124mstdout\u001b[39m\u001b[38;5;124m\"\u001b[39m,\n\u001b[0;32m    356\u001b[0m      \u001b[38;5;124m\"\u001b[39m\u001b[38;5;124moutput_type\u001b[39m\u001b[38;5;124m\"\u001b[39m: \u001b[38;5;124m\"\u001b[39m\u001b[38;5;124mstream\u001b[39m\u001b[38;5;124m\"\u001b[39m,\n\u001b[0;32m    357\u001b[0m      \u001b[38;5;124m\"\u001b[39m\u001b[38;5;124mtext\u001b[39m\u001b[38;5;124m\"\u001b[39m: [\n\u001b[0;32m    358\u001b[0m       \u001b[38;5;124m\"\u001b[39m\u001b[38;5;124m         ┌────────────────┐┌────────────┐┌─────────────┐     ┌────────────┐»\u001b[39m\u001b[38;5;130;01m\\n\u001b[39;00m\u001b[38;5;124m\"\u001b[39m,\n\u001b[0;32m    359\u001b[0m       \u001b[38;5;124m\"\u001b[39m\u001b[38;5;124mqubit_0: ┤0               ├┤ Ry(3.0783) ├┤ Rz(0.25354) ├──■──┤ Ry(5.1894) ├»\u001b[39m\u001b[38;5;130;01m\\n\u001b[39;00m\u001b[38;5;124m\"\u001b[39m,\n\u001b[0;32m    360\u001b[0m       \u001b[38;5;124m\"\u001b[39m\u001b[38;5;124m         │  Initialize(3) │├────────────┤└┬────────────┤┌─┴─┐├────────────┤»\u001b[39m\u001b[38;5;130;01m\\n\u001b[39;00m\u001b[38;5;124m\"\u001b[39m,\n\u001b[0;32m    361\u001b[0m       \u001b[38;5;124m\"\u001b[39m\u001b[38;5;124mqubit_1: ┤1               ├┤ Ry(4.4499) ├─┤ Rz(2.4406) ├┤ X ├┤ Ry(4.7037) ├»\u001b[39m\u001b[38;5;130;01m\\n\u001b[39;00m\u001b[38;5;124m\"\u001b[39m,\n\u001b[0;32m    362\u001b[0m       \u001b[38;5;124m\"\u001b[39m\u001b[38;5;124m         └────────────────┘└────────────┘ └────────────┘└───┘└────────────┘»\u001b[39m\u001b[38;5;130;01m\\n\u001b[39;00m\u001b[38;5;124m\"\u001b[39m,\n\u001b[0;32m    363\u001b[0m       \u001b[38;5;124m\"\u001b[39m\u001b[38;5;124m«         ┌─────────────┐     ┌────────────┐ ┌────────────┐     ┌────────────┐»\u001b[39m\u001b[38;5;130;01m\\n\u001b[39;00m\u001b[38;5;124m\"\u001b[39m,\n\u001b[0;32m    364\u001b[0m       \u001b[38;5;124m\"\u001b[39m\u001b[38;5;124m«qubit_0: ┤ Rz(0.87777) ├──■──┤ Ry(4.5983) ├─┤ Rz(1.4957) ├──■──┤ Ry(3.6191) ├»\u001b[39m\u001b[38;5;130;01m\\n\u001b[39;00m\u001b[38;5;124m\"\u001b[39m,\n\u001b[0;32m    365\u001b[0m       \u001b[38;5;124m\"\u001b[39m\u001b[38;5;124m«         └┬────────────┤┌─┴─┐├────────────┤┌┴────────────┤┌─┴─┐├────────────┤»\u001b[39m\u001b[38;5;130;01m\\n\u001b[39;00m\u001b[38;5;124m\"\u001b[39m,\n\u001b[0;32m    366\u001b[0m       \u001b[38;5;124m\"\u001b[39m\u001b[38;5;124m«qubit_1: ─┤ Rz(3.0728) ├┤ X ├┤ Ry(6.0018) ├┤ Rz(0.73668) ├┤ X ├┤ Ry(5.7226) ├»\u001b[39m\u001b[38;5;130;01m\\n\u001b[39;00m\u001b[38;5;124m\"\u001b[39m,\n\u001b[0;32m    367\u001b[0m       \u001b[38;5;124m\"\u001b[39m\u001b[38;5;124m«          └────────────┘└───┘└────────────┘└─────────────┘└───┘└────────────┘»\u001b[39m\u001b[38;5;130;01m\\n\u001b[39;00m\u001b[38;5;124m\"\u001b[39m,\n\u001b[0;32m    368\u001b[0m       \u001b[38;5;124m\"\u001b[39m\u001b[38;5;124m«         ┌───────────┐ \u001b[39m\u001b[38;5;130;01m\\n\u001b[39;00m\u001b[38;5;124m\"\u001b[39m,\n\u001b[0;32m    369\u001b[0m       \u001b[38;5;124m\"\u001b[39m\u001b[38;5;124m«qubit_0: ┤ Rz(2.313) ├─\u001b[39m\u001b[38;5;130;01m\\n\u001b[39;00m\u001b[38;5;124m\"\u001b[39m,\n\u001b[0;32m    370\u001b[0m       \u001b[38;5;124m\"\u001b[39m\u001b[38;5;124m«         ├───────────┴┐\u001b[39m\u001b[38;5;130;01m\\n\u001b[39;00m\u001b[38;5;124m\"\u001b[39m,\n\u001b[0;32m    371\u001b[0m       \u001b[38;5;124m\"\u001b[39m\u001b[38;5;124m«qubit_1: ┤ Rz(5.6642) ├\u001b[39m\u001b[38;5;130;01m\\n\u001b[39;00m\u001b[38;5;124m\"\u001b[39m,\n\u001b[0;32m    372\u001b[0m       \u001b[38;5;124m\"\u001b[39m\u001b[38;5;124m«         └────────────┘\u001b[39m\u001b[38;5;130;01m\\n\u001b[39;00m\u001b[38;5;124m\"\u001b[39m\n\u001b[0;32m    373\u001b[0m      ]\n\u001b[0;32m    374\u001b[0m     }\n\u001b[0;32m    375\u001b[0m    ],\n\u001b[0;32m    376\u001b[0m    \u001b[38;5;124m\"\u001b[39m\u001b[38;5;124msource\u001b[39m\u001b[38;5;124m\"\u001b[39m: [\n\u001b[0;32m    377\u001b[0m     \u001b[38;5;124m\"\u001b[39m\u001b[38;5;124minitial_thetas = np.random.uniform(low=0, high=2*np.pi, size=16)\u001b[39m\u001b[38;5;130;01m\\n\u001b[39;00m\u001b[38;5;124m\"\u001b[39m,\n\u001b[0;32m    378\u001b[0m     \u001b[38;5;124m\"\u001b[39m\u001b[38;5;124minitial_eigenvector = np.identity(4)[0]\u001b[39m\u001b[38;5;130;01m\\n\u001b[39;00m\u001b[38;5;124m\"\u001b[39m,\n\u001b[0;32m    379\u001b[0m     \u001b[38;5;124m\"\u001b[39m\u001b[38;5;124mprint(get_full_entangelment_ansatz(2, initial_thetas, 3))\u001b[39m\u001b[38;5;124m\"\u001b[39m\n\u001b[0;32m    380\u001b[0m    ]\n\u001b[0;32m    381\u001b[0m   },\n\u001b[0;32m    382\u001b[0m   {\n\u001b[0;32m    383\u001b[0m    \u001b[38;5;124m\"\u001b[39m\u001b[38;5;124mcell_type\u001b[39m\u001b[38;5;124m\"\u001b[39m: \u001b[38;5;124m\"\u001b[39m\u001b[38;5;124mcode\u001b[39m\u001b[38;5;124m\"\u001b[39m,\n\u001b[0;32m    384\u001b[0m    \u001b[38;5;124m\"\u001b[39m\u001b[38;5;124mexecution_count\u001b[39m\u001b[38;5;124m\"\u001b[39m: null,\n\u001b[0;32m    385\u001b[0m    \u001b[38;5;124m\"\u001b[39m\u001b[38;5;124mid\u001b[39m\u001b[38;5;124m\"\u001b[39m: \u001b[38;5;124m\"\u001b[39m\u001b[38;5;124m1362e1e3\u001b[39m\u001b[38;5;124m\"\u001b[39m,\n\u001b[0;32m    386\u001b[0m    \u001b[38;5;124m\"\u001b[39m\u001b[38;5;124mmetadata\u001b[39m\u001b[38;5;124m\"\u001b[39m: {},\n\u001b[0;32m    387\u001b[0m    \u001b[38;5;124m\"\u001b[39m\u001b[38;5;124moutputs\u001b[39m\u001b[38;5;124m\"\u001b[39m: [],\n\u001b[0;32m    388\u001b[0m    \u001b[38;5;124m\"\u001b[39m\u001b[38;5;124msource\u001b[39m\u001b[38;5;124m\"\u001b[39m: []\n\u001b[0;32m    389\u001b[0m   }\n\u001b[0;32m    390\u001b[0m  ],\n\u001b[0;32m    391\u001b[0m  \u001b[38;5;124m\"\u001b[39m\u001b[38;5;124mmetadata\u001b[39m\u001b[38;5;124m\"\u001b[39m: {\n\u001b[0;32m    392\u001b[0m   \u001b[38;5;124m\"\u001b[39m\u001b[38;5;124mkernelspec\u001b[39m\u001b[38;5;124m\"\u001b[39m: {\n\u001b[0;32m    393\u001b[0m    \u001b[38;5;124m\"\u001b[39m\u001b[38;5;124mdisplay_name\u001b[39m\u001b[38;5;124m\"\u001b[39m: \u001b[38;5;124m\"\u001b[39m\u001b[38;5;124mQiskitenv\u001b[39m\u001b[38;5;124m\"\u001b[39m,\n\u001b[0;32m    394\u001b[0m    \u001b[38;5;124m\"\u001b[39m\u001b[38;5;124mlanguage\u001b[39m\u001b[38;5;124m\"\u001b[39m: \u001b[38;5;124m\"\u001b[39m\u001b[38;5;124mpython\u001b[39m\u001b[38;5;124m\"\u001b[39m,\n\u001b[0;32m    395\u001b[0m    \u001b[38;5;124m\"\u001b[39m\u001b[38;5;124mname\u001b[39m\u001b[38;5;124m\"\u001b[39m: \u001b[38;5;124m\"\u001b[39m\u001b[38;5;124mqiskitenv\u001b[39m\u001b[38;5;124m\"\u001b[39m\n\u001b[0;32m    396\u001b[0m   },\n\u001b[0;32m    397\u001b[0m   \u001b[38;5;124m\"\u001b[39m\u001b[38;5;124mlanguage_info\u001b[39m\u001b[38;5;124m\"\u001b[39m: {\n\u001b[0;32m    398\u001b[0m    \u001b[38;5;124m\"\u001b[39m\u001b[38;5;124mcodemirror_mode\u001b[39m\u001b[38;5;124m\"\u001b[39m: {\n\u001b[0;32m    399\u001b[0m     \u001b[38;5;124m\"\u001b[39m\u001b[38;5;124mname\u001b[39m\u001b[38;5;124m\"\u001b[39m: \u001b[38;5;124m\"\u001b[39m\u001b[38;5;124mipython\u001b[39m\u001b[38;5;124m\"\u001b[39m,\n\u001b[0;32m    400\u001b[0m     \u001b[38;5;124m\"\u001b[39m\u001b[38;5;124mversion\u001b[39m\u001b[38;5;124m\"\u001b[39m: \u001b[38;5;241m3\u001b[39m\n\u001b[0;32m    401\u001b[0m    },\n\u001b[0;32m    402\u001b[0m    \u001b[38;5;124m\"\u001b[39m\u001b[38;5;124mfile_extension\u001b[39m\u001b[38;5;124m\"\u001b[39m: \u001b[38;5;124m\"\u001b[39m\u001b[38;5;124m.py\u001b[39m\u001b[38;5;124m\"\u001b[39m,\n\u001b[0;32m    403\u001b[0m    \u001b[38;5;124m\"\u001b[39m\u001b[38;5;124mmimetype\u001b[39m\u001b[38;5;124m\"\u001b[39m: \u001b[38;5;124m\"\u001b[39m\u001b[38;5;124mtext/x-python\u001b[39m\u001b[38;5;124m\"\u001b[39m,\n\u001b[0;32m    404\u001b[0m    \u001b[38;5;124m\"\u001b[39m\u001b[38;5;124mname\u001b[39m\u001b[38;5;124m\"\u001b[39m: \u001b[38;5;124m\"\u001b[39m\u001b[38;5;124mpython\u001b[39m\u001b[38;5;124m\"\u001b[39m,\n\u001b[0;32m    405\u001b[0m    \u001b[38;5;124m\"\u001b[39m\u001b[38;5;124mnbconvert_exporter\u001b[39m\u001b[38;5;124m\"\u001b[39m: \u001b[38;5;124m\"\u001b[39m\u001b[38;5;124mpython\u001b[39m\u001b[38;5;124m\"\u001b[39m,\n\u001b[0;32m    406\u001b[0m    \u001b[38;5;124m\"\u001b[39m\u001b[38;5;124mpygments_lexer\u001b[39m\u001b[38;5;124m\"\u001b[39m: \u001b[38;5;124m\"\u001b[39m\u001b[38;5;124mipython3\u001b[39m\u001b[38;5;124m\"\u001b[39m,\n\u001b[0;32m    407\u001b[0m    \u001b[38;5;124m\"\u001b[39m\u001b[38;5;124mversion\u001b[39m\u001b[38;5;124m\"\u001b[39m: \u001b[38;5;124m\"\u001b[39m\u001b[38;5;124m3.8.13\u001b[39m\u001b[38;5;124m\"\u001b[39m\n\u001b[0;32m    408\u001b[0m   }\n\u001b[0;32m    409\u001b[0m  },\n\u001b[0;32m    410\u001b[0m  \u001b[38;5;124m\"\u001b[39m\u001b[38;5;124mnbformat\u001b[39m\u001b[38;5;124m\"\u001b[39m: \u001b[38;5;241m4\u001b[39m,\n\u001b[0;32m    411\u001b[0m  \u001b[38;5;124m\"\u001b[39m\u001b[38;5;124mnbformat_minor\u001b[39m\u001b[38;5;124m\"\u001b[39m: \u001b[38;5;241m5\u001b[39m\n\u001b[0;32m    412\u001b[0m }\n",
      "File \u001b[1;32m~\\anaconda3\\envs\\Qiskitenv\\lib\\site-packages\\qiskit\\extensions\\quantum_initializer\\initializer.py:188\u001b[0m, in \u001b[0;36minitialize\u001b[1;34m(self, params, qubits)\u001b[0m\n\u001b[0;32m    185\u001b[0m     qubits \u001b[38;5;241m=\u001b[39m [qubits]\n\u001b[0;32m    186\u001b[0m num_qubits \u001b[38;5;241m=\u001b[39m \u001b[38;5;28mlen\u001b[39m(qubits) \u001b[38;5;28;01mif\u001b[39;00m \u001b[38;5;28misinstance\u001b[39m(params, \u001b[38;5;28mint\u001b[39m) \u001b[38;5;28;01melse\u001b[39;00m \u001b[38;5;28;01mNone\u001b[39;00m\n\u001b[1;32m--> 188\u001b[0m \u001b[38;5;28;01mreturn\u001b[39;00m \u001b[38;5;28mself\u001b[39m\u001b[38;5;241m.\u001b[39mappend(\u001b[43mInitialize\u001b[49m\u001b[43m(\u001b[49m\u001b[43mparams\u001b[49m\u001b[43m,\u001b[49m\u001b[43m \u001b[49m\u001b[43mnum_qubits\u001b[49m\u001b[43m)\u001b[49m, qubits)\n",
      "File \u001b[1;32m~\\anaconda3\\envs\\Qiskitenv\\lib\\site-packages\\qiskit\\extensions\\quantum_initializer\\initializer.py:56\u001b[0m, in \u001b[0;36mInitialize.__init__\u001b[1;34m(self, params, num_qubits)\u001b[0m\n\u001b[0;32m     35\u001b[0m \u001b[38;5;28;01mdef\u001b[39;00m \u001b[38;5;21m__init__\u001b[39m(\u001b[38;5;28mself\u001b[39m, params, num_qubits\u001b[38;5;241m=\u001b[39m\u001b[38;5;28;01mNone\u001b[39;00m):\n\u001b[0;32m     36\u001b[0m     \u001b[38;5;124mr\u001b[39m\u001b[38;5;124;03m\"\"\"Create new initialize composite.\u001b[39;00m\n\u001b[0;32m     37\u001b[0m \n\u001b[0;32m     38\u001b[0m \u001b[38;5;124;03m    Args:\u001b[39;00m\n\u001b[1;32m   (...)\u001b[0m\n\u001b[0;32m     54\u001b[0m \u001b[38;5;124;03m            and the remaining 3 qubits to be initialized to :math:`|0\\rangle`.\u001b[39;00m\n\u001b[0;32m     55\u001b[0m \u001b[38;5;124;03m    \"\"\"\u001b[39;00m\n\u001b[1;32m---> 56\u001b[0m     \u001b[38;5;28mself\u001b[39m\u001b[38;5;241m.\u001b[39m_stateprep \u001b[38;5;241m=\u001b[39m \u001b[43mStatePreparation\u001b[49m\u001b[43m(\u001b[49m\u001b[43mparams\u001b[49m\u001b[43m,\u001b[49m\u001b[43m \u001b[49m\u001b[43mnum_qubits\u001b[49m\u001b[43m)\u001b[49m\n\u001b[0;32m     58\u001b[0m     \u001b[38;5;28msuper\u001b[39m()\u001b[38;5;241m.\u001b[39m\u001b[38;5;21m__init__\u001b[39m(\u001b[38;5;124m\"\u001b[39m\u001b[38;5;124minitialize\u001b[39m\u001b[38;5;124m\"\u001b[39m, \u001b[38;5;28mself\u001b[39m\u001b[38;5;241m.\u001b[39m_stateprep\u001b[38;5;241m.\u001b[39mnum_qubits, \u001b[38;5;241m0\u001b[39m, \u001b[38;5;28mself\u001b[39m\u001b[38;5;241m.\u001b[39m_stateprep\u001b[38;5;241m.\u001b[39mparams)\n",
      "File \u001b[1;32m~\\anaconda3\\envs\\Qiskitenv\\lib\\site-packages\\qiskit\\circuit\\library\\data_preparation\\state_preparation.py:99\u001b[0m, in \u001b[0;36mStatePreparation.__init__\u001b[1;34m(self, params, num_qubits, inverse, label)\u001b[0m\n\u001b[0;32m     96\u001b[0m \u001b[38;5;28mself\u001b[39m\u001b[38;5;241m.\u001b[39m_from_label \u001b[38;5;241m=\u001b[39m \u001b[38;5;28misinstance\u001b[39m(params, \u001b[38;5;28mstr\u001b[39m)\n\u001b[0;32m     97\u001b[0m \u001b[38;5;28mself\u001b[39m\u001b[38;5;241m.\u001b[39m_from_int \u001b[38;5;241m=\u001b[39m \u001b[38;5;28misinstance\u001b[39m(params, \u001b[38;5;28mint\u001b[39m)\n\u001b[1;32m---> 99\u001b[0m num_qubits \u001b[38;5;241m=\u001b[39m \u001b[38;5;28;43mself\u001b[39;49m\u001b[38;5;241;43m.\u001b[39;49m\u001b[43m_get_num_qubits\u001b[49m\u001b[43m(\u001b[49m\u001b[43mnum_qubits\u001b[49m\u001b[43m,\u001b[49m\u001b[43m \u001b[49m\u001b[43mparams\u001b[49m\u001b[43m)\u001b[49m\n\u001b[0;32m    101\u001b[0m params \u001b[38;5;241m=\u001b[39m [params] \u001b[38;5;28;01mif\u001b[39;00m \u001b[38;5;28misinstance\u001b[39m(params, \u001b[38;5;28mint\u001b[39m) \u001b[38;5;28;01melse\u001b[39;00m params\n\u001b[0;32m    103\u001b[0m \u001b[38;5;28msuper\u001b[39m()\u001b[38;5;241m.\u001b[39m\u001b[38;5;21m__init__\u001b[39m(\u001b[38;5;28mself\u001b[39m\u001b[38;5;241m.\u001b[39m_name, num_qubits, params, label\u001b[38;5;241m=\u001b[39m\u001b[38;5;28mself\u001b[39m\u001b[38;5;241m.\u001b[39m_label)\n",
      "File \u001b[1;32m~\\anaconda3\\envs\\Qiskitenv\\lib\\site-packages\\qiskit\\circuit\\library\\data_preparation\\state_preparation.py:202\u001b[0m, in \u001b[0;36mStatePreparation._get_num_qubits\u001b[1;34m(self, num_qubits, params)\u001b[0m\n\u001b[0;32m    200\u001b[0m     \u001b[38;5;66;03m# Check if probabilities (amplitudes squared) sum to 1\u001b[39;00m\n\u001b[0;32m    201\u001b[0m     \u001b[38;5;28;01mif\u001b[39;00m \u001b[38;5;129;01mnot\u001b[39;00m math\u001b[38;5;241m.\u001b[39misclose(\u001b[38;5;28msum\u001b[39m(np\u001b[38;5;241m.\u001b[39mabsolute(params) \u001b[38;5;241m*\u001b[39m\u001b[38;5;241m*\u001b[39m \u001b[38;5;241m2\u001b[39m), \u001b[38;5;241m1.0\u001b[39m, abs_tol\u001b[38;5;241m=\u001b[39m_EPS):\n\u001b[1;32m--> 202\u001b[0m         \u001b[38;5;28;01mraise\u001b[39;00m QiskitError(\u001b[38;5;124m\"\u001b[39m\u001b[38;5;124mSum of amplitudes-squared does not equal one.\u001b[39m\u001b[38;5;124m\"\u001b[39m)\n\u001b[0;32m    204\u001b[0m     num_qubits \u001b[38;5;241m=\u001b[39m \u001b[38;5;28mint\u001b[39m(num_qubits)\n\u001b[0;32m    205\u001b[0m \u001b[38;5;28;01mreturn\u001b[39;00m num_qubits\n",
      "\u001b[1;31mQiskitError\u001b[0m: 'Sum of amplitudes-squared does not equal one.'"
     ]
    }
   ],
   "source": [
    "%%time\n",
    "TI_approximated_eigenvalue = get_approximated_eigenvalue_of_hamiltonian(transverse_ising_2_qubits, new_intial_quantum_state, post_processing_thetas=thetas)"
   ]
  },
  {
   "cell_type": "code",
   "execution_count": 37,
   "id": "65ad38bc",
   "metadata": {},
   "outputs": [
    {
     "name": "stdout",
     "output_type": "stream",
     "text": [
      "Exact Eigenvalue:\n",
      "(-1.0269745088446245+0j)\n",
      "\n",
      "Approximated Eigenvalue:\n",
      "-1.1197377123258552\n",
      "\n",
      "Approximation Error\n",
      "0.09032668550419223\n"
     ]
    },
    {
     "name": "stderr",
     "output_type": "stream",
     "text": [
      "C:\\Users\\hadar\\anaconda3\\envs\\Qiskitenv\\lib\\site-packages\\matplotlib\\cbook\\__init__.py:1317: ComplexWarning: Casting complex values to real discards the imaginary part\n",
      "  return np.asarray(x, float)\n"
     ]
    },
    {
     "data": {
      "image/png": "[encoded data removed]",
      "text/plain": [
       "<Figure size 432x288 with 1 Axes>"
      ]
     },
     "metadata": {
      "needs_background": "light"
     },
     "output_type": "display_data"
    }
   ],
   "source": [
    "compare_exact_and_approximated_eigenvalue(transverse_ising_2_qubits, TI_approximated_eigenvalue)"
   ]
  },
  {
   "cell_type": "markdown",
   "id": "e9cf7ccb",
   "metadata": {},
   "source": [
    "## H2 Molecule 2 qubits"
   ]
  },
  {
   "cell_type": "code",
   "execution_count": 35,
   "id": "2909cd68",
   "metadata": {},
   "outputs": [],
   "source": [
    "from qiskit.opflow import X, Z, I\n",
    "\n",
    "H2_molecule_Hamiltonian_2_qubits = -0.5053051899926562*(I^I) + \\\n",
    "                            -0.3277380754984016*(Z^I) + \\\n",
    "                            0.15567463610622564*(Z^Z) + \\\n",
    "                            -0.3277380754984016*(I^Z)"
   ]
  },
  {
   "cell_type": "markdown",
   "id": "acceb1c3",
   "metadata": {},
   "source": [
    "### pre-processing"
   ]
  },
  {
   "cell_type": "code",
   "execution_count": 36,
   "id": "674b5b27",
   "metadata": {},
   "outputs": [],
   "source": [
    "thetas = np.random.uniform(low=0, high=360, size=PARAMS_NUM)"
   ]
  },
  {
   "cell_type": "code",
   "execution_count": 37,
   "id": "79bd2e1c",
   "metadata": {
    "tags": []
   },
   "outputs": [
    {
     "name": "stderr",
     "output_type": "stream",
     "text": [
      "4it [00:00, 13.82it/s]\n",
      "4it [00:00, 13.42it/s]\n",
      "4it [00:00, 13.25it/s]\n",
      "4it [00:00, 12.72it/s]\n",
      "4it [00:00, 12.32it/s]\n",
      "4it [00:00, 11.29it/s]\n",
      "4it [00:00, 12.90it/s]\n",
      "4it [00:00, 13.13it/s]\n",
      "4it [00:00, 15.22it/s]\n",
      "4it [00:00, 17.60it/s]\n",
      "4it [00:00, 12.39it/s]\n",
      "4it [00:00, 13.06it/s]\n",
      "4it [00:00, 13.95it/s]\n",
      "4it [00:00, 15.72it/s]\n",
      "4it [00:00, 17.68it/s]\n",
      "4it [00:00, 17.33it/s]\n",
      "4it [00:00, 14.08it/s]\n",
      "4it [00:00, 12.83it/s]\n",
      "4it [00:00, 13.31it/s]\n",
      "4it [00:00, 16.23it/s]\n"
     ]
    }
   ],
   "source": [
    "for basis in mubs_d_5:\n",
    "    basis.restart_results()\n",
    "    for vector in basis.basis_vectors:\n",
    "        pauli_coeffs, pauli_strings = transfrom_hamiltonian_into_pauli_strings(H2_molecule_Hamiltonian_2_qubits)\n",
    "        ansatz_state = get_full_entangelment_ansatz(QUBITS_NUM, thetas, vector)\n",
    "\n",
    "        L = get_expectation_value(ansatz_state, pauli_coeffs, pauli_strings)\n",
    "        basis.add_result(L)"
   ]
  },
  {
   "cell_type": "code",
   "execution_count": 38,
   "id": "04186308",
   "metadata": {},
   "outputs": [
    {
     "data": {
      "image/png": "[encoded data removed]",
      "text/plain": [
       "<Figure size 432x288 with 1 Axes>"
      ]
     },
     "metadata": {
      "needs_background": "light"
     },
     "output_type": "display_data"
    }
   ],
   "source": [
    "M0_points = plt.scatter(x=range(1,5),y=M0.results, marker='x', color=M0.color)\n",
    "M1_points = plt.scatter(x=range(5,9),y=M1.results, marker='x', color=M1.color)\n",
    "M2_points = plt.scatter(x=range(10,14),y=M2.results, marker='x', color=M2.color)\n",
    "M3_points = plt.scatter(x=range(15,19),y=M3.results, marker='x', color=M3.color)\n",
    "M4_points = plt.scatter(x=range(20,24),y=M4.results, marker='x', color=M4.color)\n",
    "\n",
    "plt.legend((M0_points, M1_points, M2_points, M3_points, M4_points),\n",
    "           (M0.name, M1.name, M2.name, M3.name, M4.name),\n",
    "           scatterpoints=1,\n",
    "           loc='best',\n",
    "           ncol=3,\n",
    "           fontsize=8)\n",
    "\n",
    "plt.xlabel('iteration number')\n",
    "plt.ylabel('energy for specific vector from a mub')\n",
    "plt.title('H2 Energy Landscape')\n",
    "plt.grid()\n",
    "plt.show()"
   ]
  },
  {
   "cell_type": "code",
   "execution_count": 64,
   "id": "4ba11a43",
   "metadata": {},
   "outputs": [],
   "source": [
    "initial_quantum_state = M1_vectors[2]"
   ]
  },
  {
   "cell_type": "code",
   "execution_count": 65,
   "id": "c027435b",
   "metadata": {
    "tags": []
   },
   "outputs": [
    {
     "name": "stderr",
     "output_type": "stream",
     "text": [
      "4it [00:00, 11.64it/s]\n",
      "4it [00:00, 10.47it/s]\n",
      "4it [00:00, 10.02it/s]\n",
      "4it [00:00, 11.38it/s]\n",
      "4it [00:00,  9.74it/s]\n",
      "4it [00:00,  9.17it/s]\n",
      "4it [00:00, 10.94it/s]\n",
      "4it [00:00, 11.18it/s]\n",
      "4it [00:00, 10.95it/s]\n",
      "4it [00:00, 11.64it/s]\n",
      "4it [00:00, 11.47it/s]\n",
      "4it [00:00, 11.05it/s]\n",
      "4it [00:00,  9.84it/s]\n",
      "4it [00:00, 10.65it/s]\n",
      "4it [00:00,  8.29it/s]\n",
      "4it [00:00,  8.30it/s]\n",
      "4it [00:00,  9.64it/s]\n",
      "4it [00:00,  8.03it/s]\n",
      "4it [00:00,  9.51it/s]\n",
      "4it [00:00,  9.08it/s]\n",
      "4it [00:00,  9.81it/s]\n",
      "4it [00:00, 10.36it/s]\n",
      "4it [00:00,  9.74it/s]\n",
      "4it [00:00, 10.57it/s]\n",
      "4it [00:00, 10.89it/s]\n",
      "4it [00:00,  8.06it/s]\n",
      "4it [00:00,  9.38it/s]\n",
      "4it [00:00, 10.24it/s]\n",
      "4it [00:00, 10.67it/s]\n",
      "4it [00:00, 10.66it/s]\n",
      "4it [00:00,  9.96it/s]\n",
      "4it [00:00, 11.49it/s]\n",
      "4it [00:00, 12.49it/s]\n",
      "4it [00:00, 11.78it/s]\n",
      "4it [00:00, 11.26it/s]\n",
      "4it [00:00, 11.46it/s]\n",
      "4it [00:00, 11.01it/s]\n",
      "4it [00:00, 10.80it/s]\n",
      "4it [00:00, 10.86it/s]\n",
      "4it [00:00, 11.19it/s]\n",
      "4it [00:00, 10.53it/s]\n",
      "4it [00:00, 10.44it/s]\n",
      "4it [00:00, 12.95it/s]\n",
      "4it [00:00, 11.87it/s]\n",
      "4it [00:00, 11.09it/s]\n",
      "4it [00:00, 11.22it/s]\n",
      "4it [00:00, 12.14it/s]\n",
      "4it [00:00, 10.55it/s]\n",
      "4it [00:00,  9.75it/s]\n",
      "4it [00:00, 10.59it/s]\n",
      "4it [00:00, 10.24it/s]"
     ]
    },
    {
     "name": "stdout",
     "output_type": "stream",
     "text": [
      "CPU times: total: 18.3 s\n",
      "Wall time: 20.1 s\n"
     ]
    },
    {
     "name": "stderr",
     "output_type": "stream",
     "text": [
      "\n"
     ]
    }
   ],
   "source": [
    "%%time\n",
    "H2_approximated_eigenvalue = get_approximated_eigenvalue_of_hamiltonian(H2_molecule_Hamiltonian_2_qubits, initial_quantum_state, post_processing_thetas=thetas)"
   ]
  },
  {
   "cell_type": "code",
   "execution_count": 66,
   "id": "d45ad4e5",
   "metadata": {},
   "outputs": [
    {
     "name": "stdout",
     "output_type": "stream",
     "text": [
      "Exact Eigenvalue:\n",
      "(-1.0051067048832336+0j)\n",
      "\n",
      "Approximated Eigenvalue:\n",
      "-0.9867833745118667\n",
      "\n",
      "Approximation Error\n",
      "0.018230233946649063\n"
     ]
    },
    {
     "data": {
      "image/png": "[encoded data removed]",
      "text/plain": [
       "<Figure size 432x288 with 1 Axes>"
      ]
     },
     "metadata": {
      "needs_background": "light"
     },
     "output_type": "display_data"
    }
   ],
   "source": [
    "compare_exact_and_approximated_eigenvalue(H2_molecule_Hamiltonian_2_qubits, H2_approximated_eigenvalue)"
   ]
  },
  {
   "cell_type": "code",
   "execution_count": null,
   "id": "f59e51ae",
   "metadata": {},
   "outputs": [],
   "source": []
  }
 ],
 "metadata": {
  "kernelspec": {
   "display_name": "Qiskitenv",
   "language": "python",
   "name": "qiskitenv"
  },
  "language_info": {
   "codemirror_mode": {
    "name": "ipython",
    "version": 3
   },
   "file_extension": ".py",
   "mimetype": "text/x-python",
   "name": "python",
   "nbconvert_exporter": "python",
   "pygments_lexer": "ipython3",
   "version": "3.8.13"
  }
 },
 "nbformat": 4,
 "nbformat_minor": 5
}
